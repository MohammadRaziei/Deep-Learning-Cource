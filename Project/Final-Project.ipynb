{
  "nbformat": 4,
  "nbformat_minor": 0,
  "metadata": {
    "kernelspec": {
      "display_name": "Python 3",
      "language": "python",
      "name": "python3"
    },
    "language_info": {
      "codemirror_mode": {
        "name": "ipython",
        "version": 3
      },
      "file_extension": ".py",
      "mimetype": "text/x-python",
      "name": "python",
      "nbconvert_exporter": "python",
      "pygments_lexer": "ipython3",
      "version": "3.7.6"
    },
    "varInspector": {
      "cols": {
        "lenName": 16,
        "lenType": 16,
        "lenVar": 40
      },
      "kernels_config": {
        "python": {
          "delete_cmd_postfix": "",
          "delete_cmd_prefix": "del ",
          "library": "var_list.py",
          "varRefreshCmd": "print(var_dic_list())"
        },
        "r": {
          "delete_cmd_postfix": ") ",
          "delete_cmd_prefix": "rm(",
          "library": "var_list.r",
          "varRefreshCmd": "cat(var_dic_list()) "
        }
      },
      "types_to_exclude": [
        "module",
        "function",
        "builtin_function_or_method",
        "instance",
        "_Feature"
      ],
      "window_display": false
    },
    "colab": {
      "name": "Final-Project.ipynb",
      "provenance": []
    },
    "widgets": {
      "application/vnd.jupyter.widget-state+json": {
        "c06db0a34044492b8ccefb0ef6d93863": {
          "model_module": "@jupyter-widgets/controls",
          "model_name": "HBoxModel",
          "state": {
            "_view_name": "HBoxView",
            "_dom_classes": [],
            "_model_name": "HBoxModel",
            "_view_module": "@jupyter-widgets/controls",
            "_model_module_version": "1.5.0",
            "_view_count": null,
            "_view_module_version": "1.5.0",
            "box_style": "",
            "layout": "IPY_MODEL_2daa84bb1d3e4c8e858c00a2da4b2e8d",
            "_model_module": "@jupyter-widgets/controls",
            "children": [
              "IPY_MODEL_a3dd6142e4cb460584e14948472ecb67",
              "IPY_MODEL_3303fb5a812a47468dd50f8ecc13aaf8"
            ]
          }
        },
        "2daa84bb1d3e4c8e858c00a2da4b2e8d": {
          "model_module": "@jupyter-widgets/base",
          "model_name": "LayoutModel",
          "state": {
            "_view_name": "LayoutView",
            "grid_template_rows": null,
            "right": null,
            "justify_content": null,
            "_view_module": "@jupyter-widgets/base",
            "overflow": null,
            "_model_module_version": "1.2.0",
            "_view_count": null,
            "flex_flow": null,
            "width": null,
            "min_width": null,
            "border": null,
            "align_items": null,
            "bottom": null,
            "_model_module": "@jupyter-widgets/base",
            "top": null,
            "grid_column": null,
            "overflow_y": null,
            "overflow_x": null,
            "grid_auto_flow": null,
            "grid_area": null,
            "grid_template_columns": null,
            "flex": null,
            "_model_name": "LayoutModel",
            "justify_items": null,
            "grid_row": null,
            "max_height": null,
            "align_content": null,
            "visibility": null,
            "align_self": null,
            "height": null,
            "min_height": null,
            "padding": null,
            "grid_auto_rows": null,
            "grid_gap": null,
            "max_width": null,
            "order": null,
            "_view_module_version": "1.2.0",
            "grid_template_areas": null,
            "object_position": null,
            "object_fit": null,
            "grid_auto_columns": null,
            "margin": null,
            "display": null,
            "left": null
          }
        },
        "a3dd6142e4cb460584e14948472ecb67": {
          "model_module": "@jupyter-widgets/controls",
          "model_name": "FloatProgressModel",
          "state": {
            "_view_name": "ProgressView",
            "style": "IPY_MODEL_a910aa12501d4c9a8fd3e63002f6a985",
            "_dom_classes": [],
            "description": "100%",
            "_model_name": "FloatProgressModel",
            "bar_style": "success",
            "max": 16,
            "_view_module": "@jupyter-widgets/controls",
            "_model_module_version": "1.5.0",
            "value": 16,
            "_view_count": null,
            "_view_module_version": "1.5.0",
            "orientation": "horizontal",
            "min": 0,
            "description_tooltip": null,
            "_model_module": "@jupyter-widgets/controls",
            "layout": "IPY_MODEL_9c4d73c0272b4b0f812f7df1e644295b"
          }
        },
        "3303fb5a812a47468dd50f8ecc13aaf8": {
          "model_module": "@jupyter-widgets/controls",
          "model_name": "HTMLModel",
          "state": {
            "_view_name": "HTMLView",
            "style": "IPY_MODEL_2d2c6bf68d72457fbe1482d4811604d3",
            "_dom_classes": [],
            "description": "",
            "_model_name": "HTMLModel",
            "placeholder": "​",
            "_view_module": "@jupyter-widgets/controls",
            "_model_module_version": "1.5.0",
            "value": " 16/16 [11:08&lt;00:00, 41.79s/it]",
            "_view_count": null,
            "_view_module_version": "1.5.0",
            "description_tooltip": null,
            "_model_module": "@jupyter-widgets/controls",
            "layout": "IPY_MODEL_4ca832562bd940718b5dd935f6d41348"
          }
        },
        "a910aa12501d4c9a8fd3e63002f6a985": {
          "model_module": "@jupyter-widgets/controls",
          "model_name": "ProgressStyleModel",
          "state": {
            "_view_name": "StyleView",
            "_model_name": "ProgressStyleModel",
            "description_width": "initial",
            "_view_module": "@jupyter-widgets/base",
            "_model_module_version": "1.5.0",
            "_view_count": null,
            "_view_module_version": "1.2.0",
            "bar_color": null,
            "_model_module": "@jupyter-widgets/controls"
          }
        },
        "9c4d73c0272b4b0f812f7df1e644295b": {
          "model_module": "@jupyter-widgets/base",
          "model_name": "LayoutModel",
          "state": {
            "_view_name": "LayoutView",
            "grid_template_rows": null,
            "right": null,
            "justify_content": null,
            "_view_module": "@jupyter-widgets/base",
            "overflow": null,
            "_model_module_version": "1.2.0",
            "_view_count": null,
            "flex_flow": null,
            "width": null,
            "min_width": null,
            "border": null,
            "align_items": null,
            "bottom": null,
            "_model_module": "@jupyter-widgets/base",
            "top": null,
            "grid_column": null,
            "overflow_y": null,
            "overflow_x": null,
            "grid_auto_flow": null,
            "grid_area": null,
            "grid_template_columns": null,
            "flex": null,
            "_model_name": "LayoutModel",
            "justify_items": null,
            "grid_row": null,
            "max_height": null,
            "align_content": null,
            "visibility": null,
            "align_self": null,
            "height": null,
            "min_height": null,
            "padding": null,
            "grid_auto_rows": null,
            "grid_gap": null,
            "max_width": null,
            "order": null,
            "_view_module_version": "1.2.0",
            "grid_template_areas": null,
            "object_position": null,
            "object_fit": null,
            "grid_auto_columns": null,
            "margin": null,
            "display": null,
            "left": null
          }
        },
        "2d2c6bf68d72457fbe1482d4811604d3": {
          "model_module": "@jupyter-widgets/controls",
          "model_name": "DescriptionStyleModel",
          "state": {
            "_view_name": "StyleView",
            "_model_name": "DescriptionStyleModel",
            "description_width": "",
            "_view_module": "@jupyter-widgets/base",
            "_model_module_version": "1.5.0",
            "_view_count": null,
            "_view_module_version": "1.2.0",
            "_model_module": "@jupyter-widgets/controls"
          }
        },
        "4ca832562bd940718b5dd935f6d41348": {
          "model_module": "@jupyter-widgets/base",
          "model_name": "LayoutModel",
          "state": {
            "_view_name": "LayoutView",
            "grid_template_rows": null,
            "right": null,
            "justify_content": null,
            "_view_module": "@jupyter-widgets/base",
            "overflow": null,
            "_model_module_version": "1.2.0",
            "_view_count": null,
            "flex_flow": null,
            "width": null,
            "min_width": null,
            "border": null,
            "align_items": null,
            "bottom": null,
            "_model_module": "@jupyter-widgets/base",
            "top": null,
            "grid_column": null,
            "overflow_y": null,
            "overflow_x": null,
            "grid_auto_flow": null,
            "grid_area": null,
            "grid_template_columns": null,
            "flex": null,
            "_model_name": "LayoutModel",
            "justify_items": null,
            "grid_row": null,
            "max_height": null,
            "align_content": null,
            "visibility": null,
            "align_self": null,
            "height": null,
            "min_height": null,
            "padding": null,
            "grid_auto_rows": null,
            "grid_gap": null,
            "max_width": null,
            "order": null,
            "_view_module_version": "1.2.0",
            "grid_template_areas": null,
            "object_position": null,
            "object_fit": null,
            "grid_auto_columns": null,
            "margin": null,
            "display": null,
            "left": null
          }
        }
      }
    }
  },
  "cells": [
    {
      "cell_type": "markdown",
      "metadata": {
        "id": "K_Z52fhDbIQk"
      },
      "source": [
        "# Cassava Leaf Disease Classification\r\n",
        "Details: [kaggle.com](https://www.kaggle.com/c/cassava-leaf-disease-classification)"
      ]
    },
    {
      "cell_type": "markdown",
      "metadata": {
        "id": "ecS7WBkEbvoa"
      },
      "source": [
        "## Prepare kaggle dataset"
      ]
    },
    {
      "cell_type": "code",
      "metadata": {
        "colab": {
          "base_uri": "https://localhost:8080/"
        },
        "id": "ovYm7IpH9min",
        "outputId": "f8ec0bb4-7f86-4055-cb0f-b1ec1a0b40e0"
      },
      "source": [
        "!pip install -q kaggle\r\n",
        "!wget -q https://github.com/MohammadRaziei/Deep-Learning-Course/raw/master/Project/kaggle/key/kaggle.json -O ~/.kaggle/kaggle.json\r\n",
        "!chmod 600 ~/.kaggle/kaggle.json\r\n",
        "!kaggle datasets list"
      ],
      "execution_count": 1,
      "outputs": [
        {
          "output_type": "stream",
          "text": [
            "Warning: Looks like you're using an outdated API Version, please consider updating (server 1.5.10 / client 1.5.4)\n",
            "ref                                                    title                                                size  lastUpdated          downloadCount  \n",
            "-----------------------------------------------------  --------------------------------------------------  -----  -------------------  -------------  \n",
            "gpreda/covid-world-vaccination-progress                COVID-19 World Vaccination Progress                  41KB  2021-02-01 08:48:19           5222  \n",
            "ayushggarg/all-trumps-twitter-insults-20152021         All Trump's Twitter insults (2015-2021)             581KB  2021-01-20 16:51:05           1054  \n",
            "sevgisarac/temperature-change                          Temperature change                                  778KB  2020-12-24 20:06:36           1146  \n",
            "jorgesandoval/wind-power-generation                    Wind Power Generation Data                          245KB  2021-01-07 18:45:08            459  \n",
            "cdminix/us-drought-meteorological-data                 US Drought & Meteorological Data                    748MB  2021-01-20 21:48:02            165  \n",
            "fedesoriano/cern-electron-collision-data               CERN electron collision data                          6MB  2020-12-25 19:04:17            192  \n",
            "google/android-smartphones-high-accuracy-datasets      Android smartphones high accuracy GNSS datasets       1GB  2020-12-23 01:51:11            737  \n",
            "tapakah68/segmentation-full-body-mads-dataset          Segmentation Full Body MADS Dataset                 474MB  2021-01-20 18:43:02             69  \n",
            "sakshigoyal7/credit-card-customers                     Credit Card customers                               379KB  2020-11-19 07:38:44          21874  \n",
            "utkarshxy/who-worldhealth-statistics-2020-complete     World Health Statistics 2020|Complete|Geo-Analysis    1MB  2021-01-25 06:11:19           6780  \n",
            "yamaerenay/spotify-dataset-19212020-160k-tracks        Spotify Dataset 1921-2020, 160k+ Tracks              17MB  2021-01-24 23:46:53          18691  \n",
            "gpreda/pfizer-vaccine-tweets                           Pfizer Vaccine Tweets                               813KB  2021-02-01 08:46:52           3759  \n",
            "sootersaalu/amazon-top-50-bestselling-books-2009-2019  Amazon Top 50 Bestselling Books 2009 - 2019          15KB  2020-10-13 09:39:21          15861  \n",
            "arashnic/hr-analytics-job-change-of-data-scientists    HR Analytics: Job Change of Data Scientists         295KB  2020-12-07 00:25:10           5573  \n",
            "arashnic/covid19-case-surveillance-public-use-dataset  Covid-19 Case Surveillance Public Use Dataset        46MB  2020-12-21 02:24:21           3163  \n",
            "datasnaek/youtube-new                                  Trending YouTube Video Statistics                   201MB  2019-06-03 00:56:47         125647  \n",
            "google/tinyquickdraw                                   QuickDraw Sketches                                   11GB  2018-04-18 19:38:04           2789  \n",
            "zynicide/wine-reviews                                  Wine Reviews                                         51MB  2017-11-27 17:08:04         126983  \n",
            "rtatman/188-million-us-wildfires                       1.88 Million US Wildfires                           168MB  2020-05-12 21:03:49          12875  \n",
            "datasnaek/chess                                        Chess Game Dataset (Lichess)                          3MB  2017-09-04 03:09:09          14261  \n"
          ],
          "name": "stdout"
        }
      ]
    },
    {
      "cell_type": "code",
      "metadata": {
        "colab": {
          "base_uri": "https://localhost:8080/"
        },
        "id": "N0Iglk_g90PC",
        "outputId": "01014da6-66e2-4431-aad8-66e328acc499"
      },
      "source": [
        "!mkdir -p Dataset\r\n",
        "!kaggle competitions download -c cassava-leaf-disease-classification --path Dataset"
      ],
      "execution_count": 24,
      "outputs": [
        {
          "output_type": "stream",
          "text": [
            "Warning: Looks like you're using an outdated API Version, please consider updating (server 1.5.10 / client 1.5.4)\n",
            "Downloading 2216849948.jpg to Dataset\n",
            "  0% 0.00/141k [00:00<?, ?B/s]\n",
            "100% 141k/141k [00:00<00:00, 40.2MB/s]\n",
            "Downloading ld_train00-1338.tfrec.zip to Dataset\n",
            " 97% 211M/217M [00:08<00:00, 17.2MB/s]\n",
            "100% 217M/217M [00:08<00:00, 25.7MB/s]\n",
            "Downloading ld_train11-1338.tfrec.zip to Dataset\n",
            " 98% 214M/218M [00:08<00:00, 29.7MB/s]\n",
            "100% 218M/218M [00:09<00:00, 23.3MB/s]\n",
            "Downloading ld_train12-1338.tfrec.zip to Dataset\n",
            " 95% 205M/216M [00:01<00:00, 152MB/s]\n",
            "100% 216M/216M [00:01<00:00, 156MB/s]\n",
            "Downloading ld_train03-1338.tfrec.zip to Dataset\n",
            " 90% 196M/217M [00:01<00:00, 147MB/s]\n",
            "100% 217M/217M [00:01<00:00, 154MB/s]\n",
            "Downloading ld_train06-1338.tfrec.zip to Dataset\n",
            " 92% 198M/216M [00:01<00:00, 119MB/s] \n",
            "100% 216M/216M [00:01<00:00, 128MB/s]\n",
            "Downloading ld_train10-1338.tfrec.zip to Dataset\n",
            " 96% 209M/217M [00:09<00:00, 17.9MB/s]\n",
            "100% 217M/217M [00:09<00:00, 23.8MB/s]\n",
            "Downloading ld_train05-1338.tfrec.zip to Dataset\n",
            " 96% 205M/214M [00:09<00:00, 15.8MB/s]\n",
            "100% 214M/214M [00:09<00:00, 24.1MB/s]\n",
            "Downloading ld_train07-1338.tfrec.zip to Dataset\n",
            " 94% 202M/216M [00:01<00:00, 117MB/s] \n",
            "100% 216M/216M [00:01<00:00, 124MB/s]\n",
            "Downloading ld_train08-1338.tfrec.zip to Dataset\n",
            " 96% 209M/217M [00:08<00:00, 20.8MB/s]\n",
            "100% 217M/217M [00:08<00:00, 27.4MB/s]\n",
            "Downloading ld_train13-1338.tfrec.zip to Dataset\n",
            " 99% 214M/217M [00:08<00:00, 29.0MB/s]\n",
            "100% 217M/217M [00:08<00:00, 26.2MB/s]\n",
            "Downloading ld_train02-1338.tfrec.zip to Dataset\n",
            " 97% 209M/216M [00:08<00:00, 16.8MB/s]\n",
            "100% 216M/216M [00:08<00:00, 25.4MB/s]\n",
            "Downloading ld_train09-1338.tfrec.zip to Dataset\n",
            " 91% 196M/216M [00:01<00:00, 96.5MB/s]\n",
            "100% 216M/216M [00:01<00:00, 115MB/s] \n",
            "Downloading ld_train04-1338.tfrec.zip to Dataset\n",
            " 94% 203M/216M [00:01<00:00, 152MB/s]\n",
            "100% 216M/216M [00:01<00:00, 163MB/s]\n",
            "Downloading ld_train01-1338.tfrec.zip to Dataset\n",
            "100% 215M/215M [00:09<00:00, 24.6MB/s]\n",
            "\n",
            "Downloading ld_train14-1338.tfrec.zip to Dataset\n",
            " 98% 211M/215M [00:02<00:00, 81.0MB/s]\n",
            "100% 215M/215M [00:02<00:00, 81.1MB/s]\n",
            "Downloading ld_train15-1327.tfrec.zip to Dataset\n",
            " 94% 201M/214M [00:08<00:00, 25.4MB/s]\n",
            "100% 214M/214M [00:08<00:00, 26.2MB/s]\n",
            "Downloading 1000201771.jpg to Dataset\n",
            "  0% 0.00/158k [00:00<?, ?B/s]\n",
            "100% 158k/158k [00:00<00:00, 185MB/s]\n",
            "Downloading 1002394761.jpg to Dataset\n",
            "  0% 0.00/101k [00:00<?, ?B/s]\n",
            "100% 101k/101k [00:00<00:00, 102MB/s]\n",
            "Downloading 1001320321.jpg to Dataset\n",
            "  0% 0.00/82.3k [00:00<?, ?B/s]\n",
            "100% 82.3k/82.3k [00:00<00:00, 27.0MB/s]\n",
            "Downloading 1001742395.jpg to Dataset\n",
            "  0% 0.00/99.7k [00:00<?, ?B/s]\n",
            "100% 99.7k/99.7k [00:00<00:00, 101MB/s]\n",
            "Downloading 1000812911.jpg to Dataset\n",
            "  0% 0.00/79.1k [00:00<?, ?B/s]\n",
            "100% 79.1k/79.1k [00:00<00:00, 47.5MB/s]\n",
            "Downloading 1001749118.jpg to Dataset\n",
            "  0% 0.00/135k [00:00<?, ?B/s]\n",
            "100% 135k/135k [00:00<00:00, 66.6MB/s]\n",
            "Downloading 1002255315.jpg to Dataset\n",
            "  0% 0.00/150k [00:00<?, ?B/s]\n",
            "100% 150k/150k [00:00<00:00, 47.7MB/s]\n",
            "Downloading 1003888281.jpg to Dataset\n",
            "  0% 0.00/110k [00:00<?, ?B/s]\n",
            "100% 110k/110k [00:00<00:00, 35.0MB/s]\n",
            "Downloading 1000015157.jpg to Dataset\n",
            "  0% 0.00/136k [00:00<?, ?B/s]\n",
            "100% 136k/136k [00:00<00:00, 43.3MB/s]\n",
            "Downloading 1000723321.jpg to Dataset\n",
            "  0% 0.00/119k [00:00<?, ?B/s]\n",
            "100% 119k/119k [00:00<00:00, 111MB/s]\n",
            "Downloading 1001723730.jpg to Dataset\n",
            "  0% 0.00/83.5k [00:00<?, ?B/s]\n",
            "100% 83.5k/83.5k [00:00<00:00, 79.8MB/s]\n",
            "Downloading 1000837476.jpg to Dataset\n",
            "  0% 0.00/104k [00:00<?, ?B/s]\n",
            "100% 104k/104k [00:00<00:00, 93.9MB/s]\n",
            "Downloading 100204014.jpg to Dataset\n",
            "  0% 0.00/170k [00:00<?, ?B/s]\n",
            "100% 170k/170k [00:00<00:00, 93.1MB/s]\n",
            "Downloading 1003298598.jpg to Dataset\n",
            "  0% 0.00/142k [00:00<?, ?B/s]\n",
            "100% 142k/142k [00:00<00:00, 46.4MB/s]\n",
            "Downloading 1002088496.jpg to Dataset\n",
            "  0% 0.00/131k [00:00<?, ?B/s]\n",
            "100% 131k/131k [00:00<00:00, 43.1MB/s]\n",
            "Downloading 100042118.jpg to Dataset\n",
            "  0% 0.00/72.8k [00:00<?, ?B/s]\n",
            "100% 72.8k/72.8k [00:00<00:00, 71.1MB/s]\n",
            "Downloading 1003442061.jpg to Dataset\n",
            "  0% 0.00/101k [00:00<?, ?B/s]\n",
            "100% 101k/101k [00:00<00:00, 33.8MB/s]\n",
            "Downloading 1003218714.jpg to Dataset\n",
            "  0% 0.00/127k [00:00<?, ?B/s]\n",
            "100% 127k/127k [00:00<00:00, 113MB/s]\n",
            "Downloading 1003987001.jpg to Dataset\n",
            "  0% 0.00/101k [00:00<?, ?B/s]\n",
            "100% 101k/101k [00:00<00:00, 80.8MB/s]\n",
            "Downloading 1000910826.jpg to Dataset\n",
            "  0% 0.00/100k [00:00<?, ?B/s]\n",
            "100% 100k/100k [00:00<00:00, 101MB/s]\n",
            "Downloading ld_test00-1.tfrec to Dataset\n",
            "  0% 0.00/191k [00:00<?, ?B/s]\n",
            "100% 191k/191k [00:00<00:00, 61.4MB/s]\n",
            "Downloading label_num_to_disease_map.json to Dataset\n",
            "  0% 0.00/172 [00:00<?, ?B/s]\n",
            "100% 172/172 [00:00<00:00, 142kB/s]\n",
            "Downloading sample_submission.csv to Dataset\n",
            "  0% 0.00/32.0 [00:00<?, ?B/s]\n",
            "100% 32.0/32.0 [00:00<00:00, 27.0kB/s]\n",
            "Downloading train.csv to Dataset\n",
            "  0% 0.00/350k [00:00<?, ?B/s]\n",
            "100% 350k/350k [00:00<00:00, 46.4MB/s]\n"
          ],
          "name": "stdout"
        }
      ]
    },
    {
      "cell_type": "code",
      "metadata": {
        "id": "jgzIIQ_mPh-U"
      },
      "source": [
        "files= glob.glob('./*zip')+ glob.glob('./*.jpg')+glob.glob('./*.csv')\r\n",
        "remove_path()"
      ],
      "execution_count": null,
      "outputs": []
    },
    {
      "cell_type": "code",
      "metadata": {
        "id": "x4LTLnf0GeVn"
      },
      "source": [
        "import zipfile\r\n",
        "import shutil, pathlib\r\n",
        "from tqdm.auto import tqdm\r\n",
        "\r\n",
        "def unzip_file(filename, target_path='.'):\r\n",
        "  zf = zipfile.ZipFile(filename, 'r')\r\n",
        "  zf.extractall(target_path)\r\n",
        "  zf.close()\r\n",
        "\r\n",
        "def unzip_files(filename_list, target_path='.'):\r\n",
        "  for filename in tqdm(zip_files):\r\n",
        "    unzip_file(filename, target_path)\r\n",
        "\r\n",
        "def create_path(path):\r\n",
        "  pathlib.Path(path).mkdir(parents=True, exist_ok=True)\r\n",
        "\r\n",
        "def remove_path(path):\r\n",
        "  shutil.rmtree(path, ignore_errors=True)\r\n",
        "\r\n",
        "def recreate_path(path):\r\n",
        "  remove_path(path)\r\n",
        "  create_path(path)"
      ],
      "execution_count": 17,
      "outputs": []
    },
    {
      "cell_type": "code",
      "metadata": {
        "id": "ECGhVAlAL2Pj",
        "outputId": "74075045-a5ed-444e-bbda-b5e1253802a9",
        "colab": {
          "base_uri": "https://localhost:8080/",
          "height": 65,
          "referenced_widgets": [
            "c06db0a34044492b8ccefb0ef6d93863",
            "2daa84bb1d3e4c8e858c00a2da4b2e8d",
            "a3dd6142e4cb460584e14948472ecb67",
            "3303fb5a812a47468dd50f8ecc13aaf8",
            "a910aa12501d4c9a8fd3e63002f6a985",
            "9c4d73c0272b4b0f812f7df1e644295b",
            "2d2c6bf68d72457fbe1482d4811604d3",
            "4ca832562bd940718b5dd935f6d41348"
          ]
        }
      },
      "source": [
        "import glob\r\n",
        "zip_files = glob.glob('Dataset/*.zip')\r\n",
        "unzip_files(zip_files, target_path='Dataset')"
      ],
      "execution_count": 23,
      "outputs": [
        {
          "output_type": "display_data",
          "data": {
            "application/vnd.jupyter.widget-view+json": {
              "model_id": "c06db0a34044492b8ccefb0ef6d93863",
              "version_minor": 0,
              "version_major": 2
            },
            "text/plain": [
              "HBox(children=(FloatProgress(value=0.0, max=16.0), HTML(value='')))"
            ]
          },
          "metadata": {
            "tags": []
          }
        },
        {
          "output_type": "stream",
          "text": [
            "\n"
          ],
          "name": "stdout"
        }
      ]
    },
    {
      "cell_type": "markdown",
      "metadata": {
        "id": "JW_NipMabHDk"
      },
      "source": [
        ""
      ]
    },
    {
      "cell_type": "code",
      "metadata": {
        "id": "iCnutxIdMWPZ"
      },
      "source": [
        "import numpy as np\r\n",
        "from tensorflow.keras.preprocessing.image import ImageDataGenerator\r\n",
        "import matplotlib.pyplot as plt\r\n",
        "from tqdm import tqdm\r\n",
        "from PIL import Image\r\n",
        "\r\n",
        "\r\n",
        "def resize_image(image, target_size=(100,100)):\r\n",
        "    img = Image.fromarray(image)\r\n",
        "    img = img.resize(target_size, Image.ANTIALIAS)\r\n",
        "    img = np.asarray(img)\r\n",
        "    return img\r\n",
        "\r\n",
        "\"\"\" \r\n",
        "I recommend to see following websites:\r\n",
        "  * https://stepup.ai/exploring_data_augmentation_keras/\r\n",
        "  * https://machinelearningmastery.com/how-to-load-large-datasets-from-directories-for-deep-learning-with-keras/\r\n",
        "\"\"\"\r\n",
        "# create generator\r\n",
        "datagen = ImageDataGenerator()\r\n",
        "train_it = datagen.flow_from_directory('data/train/', class_mode='binary')\r\n",
        "val_it = datagen.flow_from_directory('data/validation/', class_mode='binary')\r\n",
        "test_it = datagen.flow_from_directory('data/test/', class_mode='binary')\r\n",
        "\r\n"
      ],
      "execution_count": 5,
      "outputs": []
    },
    {
      "cell_type": "code",
      "metadata": {
        "id": "nQpu7G7AFrgm"
      },
      "source": [
        "tf.data.TFRecordDataset(filenames = ['ld_train00-1338.tfrec.zip'])"
      ],
      "execution_count": null,
      "outputs": []
    }
  ]
}
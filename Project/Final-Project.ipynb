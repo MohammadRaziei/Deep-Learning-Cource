{
  "nbformat": 4,
  "nbformat_minor": 0,
  "metadata": {
    "kernelspec": {
      "display_name": "Python 3",
      "language": "python",
      "name": "python3"
    },
    "language_info": {
      "codemirror_mode": {
        "name": "ipython",
        "version": 3
      },
      "file_extension": ".py",
      "mimetype": "text/x-python",
      "name": "python",
      "nbconvert_exporter": "python",
      "pygments_lexer": "ipython3",
      "version": "3.7.6"
    },
    "varInspector": {
      "cols": {
        "lenName": 16,
        "lenType": 16,
        "lenVar": 40
      },
      "kernels_config": {
        "python": {
          "delete_cmd_postfix": "",
          "delete_cmd_prefix": "del ",
          "library": "var_list.py",
          "varRefreshCmd": "print(var_dic_list())"
        },
        "r": {
          "delete_cmd_postfix": ") ",
          "delete_cmd_prefix": "rm(",
          "library": "var_list.r",
          "varRefreshCmd": "cat(var_dic_list()) "
        }
      },
      "types_to_exclude": [
        "module",
        "function",
        "builtin_function_or_method",
        "instance",
        "_Feature"
      ],
      "window_display": false
    },
    "colab": {
      "name": "Final-Project.ipynb",
      "provenance": []
    }
  },
  "cells": [
    {
      "cell_type": "markdown",
      "metadata": {
        "id": "K_Z52fhDbIQk"
      },
      "source": [
        "# Cassava Leaf Disease Classification\r\n",
        "Details: [kaggle.com](https://www.kaggle.com/c/cassava-leaf-disease-classification)"
      ]
    },
    {
      "cell_type": "markdown",
      "metadata": {
        "id": "ecS7WBkEbvoa"
      },
      "source": [
        "## Prepare kaggle dataset"
      ]
    },
    {
      "cell_type": "code",
      "metadata": {
        "id": "ovYm7IpH9min",
        "outputId": "f8ec0bb4-7f86-4055-cb0f-b1ec1a0b40e0",
        "colab": {
          "base_uri": "https://localhost:8080/"
        }
      },
      "source": [
        "!pip install -q kaggle\r\n",
        "!wget -q https://github.com/MohammadRaziei/Deep-Learning-Course/raw/master/Project/kaggle/key/kaggle.json -O ~/.kaggle/kaggle.json\r\n",
        "!chmod 600 ~/.kaggle/kaggle.json\r\n",
        "!kaggle datasets list"
      ],
      "execution_count": 1,
      "outputs": [
        {
          "output_type": "stream",
          "text": [
            "Warning: Looks like you're using an outdated API Version, please consider updating (server 1.5.10 / client 1.5.4)\n",
            "ref                                                    title                                                size  lastUpdated          downloadCount  \n",
            "-----------------------------------------------------  --------------------------------------------------  -----  -------------------  -------------  \n",
            "gpreda/covid-world-vaccination-progress                COVID-19 World Vaccination Progress                  41KB  2021-02-01 08:48:19           5222  \n",
            "ayushggarg/all-trumps-twitter-insults-20152021         All Trump's Twitter insults (2015-2021)             581KB  2021-01-20 16:51:05           1054  \n",
            "sevgisarac/temperature-change                          Temperature change                                  778KB  2020-12-24 20:06:36           1146  \n",
            "jorgesandoval/wind-power-generation                    Wind Power Generation Data                          245KB  2021-01-07 18:45:08            459  \n",
            "cdminix/us-drought-meteorological-data                 US Drought & Meteorological Data                    748MB  2021-01-20 21:48:02            165  \n",
            "fedesoriano/cern-electron-collision-data               CERN electron collision data                          6MB  2020-12-25 19:04:17            192  \n",
            "google/android-smartphones-high-accuracy-datasets      Android smartphones high accuracy GNSS datasets       1GB  2020-12-23 01:51:11            737  \n",
            "tapakah68/segmentation-full-body-mads-dataset          Segmentation Full Body MADS Dataset                 474MB  2021-01-20 18:43:02             69  \n",
            "sakshigoyal7/credit-card-customers                     Credit Card customers                               379KB  2020-11-19 07:38:44          21874  \n",
            "utkarshxy/who-worldhealth-statistics-2020-complete     World Health Statistics 2020|Complete|Geo-Analysis    1MB  2021-01-25 06:11:19           6780  \n",
            "yamaerenay/spotify-dataset-19212020-160k-tracks        Spotify Dataset 1921-2020, 160k+ Tracks              17MB  2021-01-24 23:46:53          18691  \n",
            "gpreda/pfizer-vaccine-tweets                           Pfizer Vaccine Tweets                               813KB  2021-02-01 08:46:52           3759  \n",
            "sootersaalu/amazon-top-50-bestselling-books-2009-2019  Amazon Top 50 Bestselling Books 2009 - 2019          15KB  2020-10-13 09:39:21          15861  \n",
            "arashnic/hr-analytics-job-change-of-data-scientists    HR Analytics: Job Change of Data Scientists         295KB  2020-12-07 00:25:10           5573  \n",
            "arashnic/covid19-case-surveillance-public-use-dataset  Covid-19 Case Surveillance Public Use Dataset        46MB  2020-12-21 02:24:21           3163  \n",
            "datasnaek/youtube-new                                  Trending YouTube Video Statistics                   201MB  2019-06-03 00:56:47         125647  \n",
            "google/tinyquickdraw                                   QuickDraw Sketches                                   11GB  2018-04-18 19:38:04           2789  \n",
            "zynicide/wine-reviews                                  Wine Reviews                                         51MB  2017-11-27 17:08:04         126983  \n",
            "rtatman/188-million-us-wildfires                       1.88 Million US Wildfires                           168MB  2020-05-12 21:03:49          12875  \n",
            "datasnaek/chess                                        Chess Game Dataset (Lichess)                          3MB  2017-09-04 03:09:09          14261  \n"
          ],
          "name": "stdout"
        }
      ]
    },
    {
      "cell_type": "code",
      "metadata": {
        "id": "N0Iglk_g90PC",
        "outputId": "ef0009e3-a2b2-4aa5-88c9-39c257842153",
        "colab": {
          "base_uri": "https://localhost:8080/"
        }
      },
      "source": [
        "!kaggle competitions download -c cassava-leaf-disease-classification"
      ],
      "execution_count": 18,
      "outputs": [
        {
          "output_type": "stream",
          "text": [
            "Warning: Looks like you're using an outdated API Version, please consider updating (server 1.5.10 / client 1.5.4)\n",
            "Downloading ld_train13-1338.tfrec.zip to /content\n",
            " 98% 212M/217M [00:09<00:00, 15.9MB/s]\n",
            "100% 217M/217M [00:09<00:00, 23.6MB/s]\n",
            "Downloading ld_train02-1338.tfrec.zip to /content\n",
            " 93% 201M/216M [00:07<00:01, 15.9MB/s]\n",
            "100% 216M/216M [00:07<00:00, 30.1MB/s]\n",
            "Downloading ld_train01-1338.tfrec.zip to /content\n",
            " 98% 210M/215M [00:10<00:00, 25.9MB/s]\n",
            "100% 215M/215M [00:10<00:00, 21.8MB/s]\n",
            "Downloading ld_train03-1338.tfrec.zip to /content\n",
            " 60% 129M/217M [00:08<00:06, 13.4MB/s]Downloading ld_train05-1338.tfrec.zip to /content\n",
            " 96% 205M/214M [00:07<00:00, 14.9MB/s]\n",
            "100% 214M/214M [00:07<00:00, 28.5MB/s]\n",
            "Downloading ld_train04-1338.tfrec.zip to /content\n",
            " 96% 207M/216M [00:08<00:00, 24.4MB/s]\n",
            "100% 216M/216M [00:08<00:00, 26.6MB/s]\n",
            "Downloading ld_train06-1338.tfrec.zip to /content\n",
            " 95% 205M/216M [00:09<00:00, 16.0MB/s]\n",
            "100% 216M/216M [00:09<00:00, 24.6MB/s]\n",
            "ld_train09-1338.tfrec.zip: Skipping, found more recently modified local copy (use --force to force download)\n",
            "ld_train08-1338.tfrec.zip: Skipping, found more recently modified local copy (use --force to force download)\n",
            "Downloading ld_train10-1338.tfrec.zip to /content\n",
            " 97% 211M/217M [00:09<00:00, 21.4MB/s]\n",
            "100% 217M/217M [00:09<00:00, 23.3MB/s]\n",
            "Downloading ld_train00-1338.tfrec.zip to /content\n",
            " 93% 202M/217M [00:08<00:00, 20.9MB/s]\n",
            "100% 217M/217M [00:08<00:00, 26.9MB/s]\n",
            "Downloading ld_train14-1338.tfrec.zip to /content\n",
            " 94% 201M/215M [00:10<00:00, 18.6MB/s]\n",
            "100% 215M/215M [00:10<00:00, 20.9MB/s]\n",
            "Downloading ld_train12-1338.tfrec.zip to /content\n",
            " 98% 212M/216M [00:08<00:00, 29.0MB/s]\n",
            "100% 216M/216M [00:08<00:00, 25.3MB/s]\n",
            "Downloading ld_train11-1338.tfrec.zip to /content\n",
            " 95% 208M/218M [00:08<00:00, 24.2MB/s]\n",
            "100% 218M/218M [00:09<00:00, 23.8MB/s]\n",
            "ld_train15-1327.tfrec.zip: Skipping, found more recently modified local copy (use --force to force download)\n",
            "Downloading ld_train07-1338.tfrec.zip to /content\n",
            " 93% 201M/216M [00:10<00:00, 24.9MB/s]\n",
            "100% 216M/216M [00:10<00:00, 20.6MB/s]\n",
            "Downloading 1003218714.jpg to /content\n",
            "  0% 0.00/127k [00:00<?, ?B/s]\n",
            "100% 127k/127k [00:00<00:00, 109MB/s]\n",
            "Downloading 1000201771.jpg to /content\n",
            "  0% 0.00/158k [00:00<?, ?B/s]\n",
            "100% 158k/158k [00:00<00:00, 129MB/s]\n",
            "Downloading 1000812911.jpg to /content\n",
            "  0% 0.00/79.1k [00:00<?, ?B/s]\n",
            "100% 79.1k/79.1k [00:00<00:00, 83.6MB/s]\n",
            "Downloading 1002088496.jpg to /content\n",
            "  0% 0.00/131k [00:00<?, ?B/s]\n",
            "100% 131k/131k [00:00<00:00, 105MB/s]\n",
            "Downloading 1000723321.jpg to /content\n",
            "  0% 0.00/119k [00:00<?, ?B/s]\n",
            "100% 119k/119k [00:00<00:00, 37.6MB/s]\n",
            "Downloading 100204014.jpg to /content\n",
            "  0% 0.00/170k [00:00<?, ?B/s]\n",
            "100% 170k/170k [00:00<00:00, 65.0MB/s]\n",
            "Downloading 1003888281.jpg to /content\n",
            "  0% 0.00/110k [00:00<?, ?B/s]\n",
            "100% 110k/110k [00:00<00:00, 85.8MB/s]\n",
            "Downloading 1001742395.jpg to /content\n",
            "  0% 0.00/99.7k [00:00<?, ?B/s]\n",
            "100% 99.7k/99.7k [00:00<00:00, 6.69MB/s]\n",
            "Downloading 1003298598.jpg to /content\n",
            "  0% 0.00/142k [00:00<?, ?B/s]\n",
            "100% 142k/142k [00:00<00:00, 45.6MB/s]\n",
            "Downloading 1003442061.jpg to /content\n",
            "  0% 0.00/101k [00:00<?, ?B/s]\n",
            "100% 101k/101k [00:00<00:00, 79.2MB/s]\n",
            "Downloading 1001723730.jpg to /content\n",
            "  0% 0.00/83.5k [00:00<?, ?B/s]\n",
            "100% 83.5k/83.5k [00:00<00:00, 80.4MB/s]\n",
            "Downloading 100042118.jpg to /content\n",
            "  0% 0.00/72.8k [00:00<?, ?B/s]\n",
            "100% 72.8k/72.8k [00:00<00:00, 69.6MB/s]\n",
            "Downloading 1000015157.jpg to /content\n",
            "  0% 0.00/136k [00:00<?, ?B/s]\n",
            "100% 136k/136k [00:00<00:00, 44.2MB/s]\n",
            "Downloading 1002394761.jpg to /content\n",
            "  0% 0.00/101k [00:00<?, ?B/s]\n",
            "100% 101k/101k [00:00<00:00, 87.5MB/s]\n",
            "Downloading 1000837476.jpg to /content\n",
            "  0% 0.00/104k [00:00<?, ?B/s]\n",
            "100% 104k/104k [00:00<00:00, 91.3MB/s]\n",
            "Downloading 1001749118.jpg to /content\n",
            "  0% 0.00/135k [00:00<?, ?B/s]\n",
            "100% 135k/135k [00:00<00:00, 43.3MB/s]\n",
            "Downloading 1002255315.jpg to /content\n",
            "  0% 0.00/150k [00:00<?, ?B/s]\n",
            "100% 150k/150k [00:00<00:00, 48.7MB/s]\n",
            "Downloading 1003987001.jpg to /content\n",
            "  0% 0.00/101k [00:00<?, ?B/s]\n",
            "100% 101k/101k [00:00<00:00, 99.3MB/s]\n",
            "Downloading 1000910826.jpg to /content\n",
            "  0% 0.00/100k [00:00<?, ?B/s]\n",
            "100% 100k/100k [00:00<00:00, 103MB/s]\n",
            "Downloading 1001320321.jpg to /content\n",
            "  0% 0.00/82.3k [00:00<?, ?B/s]\n",
            "100% 82.3k/82.3k [00:00<00:00, 41.5MB/s]\n",
            "ld_test00-1.tfrec: Skipping, found more recently modified local copy (use --force to force download)\n",
            "Downloading 2216849948.jpg to /content\n",
            "  0% 0.00/141k [00:00<?, ?B/s]\n",
            "100% 141k/141k [00:00<00:00, 44.4MB/s]\n",
            "Downloading label_num_to_disease_map.json to /content\n",
            "  0% 0.00/172 [00:00<?, ?B/s]\n",
            "100% 172/172 [00:00<00:00, 155kB/s]\n",
            "Downloading train.csv to /content\n",
            "  0% 0.00/350k [00:00<?, ?B/s]\n",
            "100% 350k/350k [00:00<00:00, 114MB/s]\n",
            "Downloading sample_submission.csv to /content\n",
            "  0% 0.00/32.0 [00:00<?, ?B/s]\n",
            "100% 32.0/32.0 [00:00<00:00, 32.6kB/s]\n"
          ],
          "name": "stdout"
        }
      ]
    },
    {
      "cell_type": "markdown",
      "metadata": {
        "id": "JW_NipMabHDk"
      },
      "source": [
        ""
      ]
    },
    {
      "cell_type": "code",
      "metadata": {
        "id": "iCnutxIdMWPZ"
      },
      "source": [
        ""
      ],
      "execution_count": null,
      "outputs": []
    }
  ]
}
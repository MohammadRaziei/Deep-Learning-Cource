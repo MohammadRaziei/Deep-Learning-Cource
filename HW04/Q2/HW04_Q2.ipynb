{
  "nbformat": 4,
  "nbformat_minor": 0,
  "metadata": {
    "kernelspec": {
      "display_name": "Python 3",
      "language": "python",
      "name": "python3"
    },
    "language_info": {
      "codemirror_mode": {
        "name": "ipython",
        "version": 3
      },
      "file_extension": ".py",
      "mimetype": "text/x-python",
      "name": "python",
      "nbconvert_exporter": "python",
      "pygments_lexer": "ipython3",
      "version": "3.7.6"
    },
    "varInspector": {
      "cols": {
        "lenName": 16,
        "lenType": 16,
        "lenVar": 40
      },
      "kernels_config": {
        "python": {
          "delete_cmd_postfix": "",
          "delete_cmd_prefix": "del ",
          "library": "var_list.py",
          "varRefreshCmd": "print(var_dic_list())"
        },
        "r": {
          "delete_cmd_postfix": ") ",
          "delete_cmd_prefix": "rm(",
          "library": "var_list.r",
          "varRefreshCmd": "cat(var_dic_list()) "
        }
      },
      "types_to_exclude": [
        "module",
        "function",
        "builtin_function_or_method",
        "instance",
        "_Feature"
      ],
      "window_display": false
    },
    "colab": {
      "name": "HW04_Q2.ipynb",
      "provenance": [],
      "toc_visible": true
    }
  },
  "cells": [
    {
      "cell_type": "markdown",
      "metadata": {
        "id": "_EZ8enOORfQ_"
      },
      "source": [
        "# HW04 : Problem 2\n",
        "\n",
        "Please check last updates and get the latest version from following link. it is more completed but it may have some updates after release it.\n",
        "\n",
        "[<img src=\"https://img.icons8.com/clouds/50/000000/github.png\"/>](https://github.com/MohammadRaziei/Deep-Learning-Course/blob/master/)  \n",
        "github link : https://github.com/MohammadRaziei/Deep-Learning-Course/blob/master/HW04"
      ]
    },
    {
      "cell_type": "code",
      "metadata": {
        "colab": {
          "base_uri": "https://localhost:8080/"
        },
        "id": "KcWYtEPfV_yR",
        "outputId": "dcfee37c-5e3b-4eeb-f66d-b29d8284c448"
      },
      "source": [
        "!wget -q https://github.com/MohammadRaziei/DataSetsArchive/raw/master/NWPU%20VHR-10%20dataset.zip -O 'NWPU VHR-10 dataset.zip'\r\n",
        "!unzip -oq \"NWPU VHR-10 dataset.zip\" \r\n",
        "print('dataset is ready to use :)')"
      ],
      "execution_count": 32,
      "outputs": [
        {
          "output_type": "stream",
          "text": [
            "dataset is ready to use :)\n"
          ],
          "name": "stdout"
        }
      ]
    },
    {
      "cell_type": "code",
      "metadata": {
        "id": "M3hrqKENgp4S"
      },
      "source": [
        "!curl -sLO https://github.com/MohammadRaziei/Deep-Learning-Course/raw/master/HW04/Q2/prepare_data.py\r\n",
        "!curl -sLO https://github.com/MohammadRaziei/Deep-Learning-Course/raw/master/HW04/Q2/visual_dataset.py"
      ],
      "execution_count": 36,
      "outputs": []
    },
    {
      "cell_type": "code",
      "metadata": {
        "id": "56Sqzq7BRxI4"
      },
      "source": [
        "def visual_dataset():\r\n",
        "  pass"
      ],
      "execution_count": null,
      "outputs": []
    },
    {
      "cell_type": "code",
      "metadata": {
        "colab": {
          "base_uri": "https://localhost:8080/"
        },
        "id": "hpC9TDQWav3p",
        "outputId": "97e46610-21ba-475c-ea27-828b25173919"
      },
      "source": [
        "ls \"NWPU VHR-10 dataset\""
      ],
      "execution_count": 38,
      "outputs": [
        {
          "output_type": "stream",
          "text": [
            "\u001b[0m\u001b[01;34m'ground truth'\u001b[0m/  \u001b[01;34m'negative image set'\u001b[0m/  \u001b[01;34m'positive image set'\u001b[0m/   readme.txt\n"
          ],
          "name": "stdout"
        }
      ]
    },
    {
      "cell_type": "code",
      "metadata": {
        "colab": {
          "base_uri": "https://localhost:8080/"
        },
        "id": "MSGPRco-gQO4",
        "outputId": "a6ac2932-b23a-4a25-8965-d763f8e92052"
      },
      "source": [
        "import os\r\n",
        "import enum\r\n",
        "import re\r\n",
        "from pprint import pprint\r\n",
        "\r\n",
        "default_root = 'NWPU VHR-10 dataset'\r\n",
        "\r\n",
        "class Point:\r\n",
        "    def __init__(self, x,y):\r\n",
        "      self.x = x\r\n",
        "      self.y = y\r\n",
        "    def __repr__(self):\r\n",
        "      return '({},{})'.format(self.x, self.y)\r\n",
        "\r\n",
        "class ObjectType(enum.Enum):\r\n",
        "    airplane = 1\r\n",
        "    ship = 2\r\n",
        "    storageTank = 3\r\n",
        "    baseballDiamond = 4\r\n",
        "    tennisCourt = 5\r\n",
        "    basketballCourt = 6\r\n",
        "    groundTrackField = 7\r\n",
        "    harbor = 8\r\n",
        "    bridge = 9\r\n",
        "    vehicle = 10\r\n",
        "    \r\n",
        "class GroundTruthObject:\r\n",
        "    def __init__(self, point_top_left, point_right_bottom, object_type):\r\n",
        "      self.top_left = Point(*point_top_left)\r\n",
        "      self.right_bottom = Point(*point_right_bottom)\r\n",
        "      self.object_type = ObjectType(object_type)\r\n",
        "    def __repr__(self):\r\n",
        "      return '{%s}'%'{},{}, {}'.format(self.top_left, self.right_bottom, self.object_type.name)\r\n",
        "\r\n",
        "def GroundTruthParser(filename):\r\n",
        "    GroundTruthList = []\r\n",
        "    with open(filename) as f:\r\n",
        "      pattern = re.compile(r'\\d+')\r\n",
        "      lines = f.readlines() # list containing lines of file\r\n",
        "      for line in lines:\r\n",
        "        numbers = [int(match.group()) for match in re.finditer(pattern, line)]\r\n",
        "        GroundTruthList.append(GroundTruthObject((numbers[0],numbers[1]), (numbers[2],numbers[3]), numbers[4]))\r\n",
        "    return GroundTruthList\r\n",
        "\r\n",
        "def getGroundTruth(number,root=default_root):\r\n",
        "    ground_truth_folder = os.path.join(root, 'ground truth')\r\n",
        "    filename = os.path.join(ground_truth_folder, '{:03.0f}.txt'.format(number))\r\n",
        "    GroundTruthList = GroundTruthParser(filename)  \r\n",
        "    return GroundTruthList\r\n",
        "\r\n",
        "GroundTruthList = getGroundTruth(17)\r\n",
        "pprint(GroundTruthList)"
      ],
      "execution_count": 95,
      "outputs": [
        {
          "output_type": "stream",
          "text": [
            "[{(52,515),(152,594), airplane},\n",
            " {(233,393),(312,452), airplane},\n",
            " {(258,472),(333,529), airplane},\n",
            " {(272,546),(368,622), airplane},\n",
            " {(175,109),(258,187), airplane},\n",
            " {(463,9),(543,93), airplane},\n",
            " {(521,124),(618,197), airplane},\n",
            " {(451,229),(535,311), airplane},\n",
            " {(773,352),(856,425), airplane},\n",
            " {(891,282),(973,370), airplane},\n",
            " {(387,382),(443,429), storageTank},\n",
            " {(403,437),(459,478), storageTank},\n",
            " {(423,489),(475,527), storageTank},\n",
            " {(466,355),(530,403), storageTank},\n",
            " {(490,417),(555,467), storageTank},\n",
            " {(523,324),(588,374), storageTank},\n",
            " {(548,384),(614,437), storageTank},\n",
            " {(615,291),(673,332), storageTank},\n",
            " {(634,343),(693,383), storageTank},\n",
            " {(654,389),(711,435), storageTank}]\n"
          ],
          "name": "stdout"
        }
      ]
    }
  ]
}
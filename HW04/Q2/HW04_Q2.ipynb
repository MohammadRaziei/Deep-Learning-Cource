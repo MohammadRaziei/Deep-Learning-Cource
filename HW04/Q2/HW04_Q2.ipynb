{
  "nbformat": 4,
  "nbformat_minor": 0,
  "metadata": {
    "kernelspec": {
      "display_name": "Python 3",
      "language": "python",
      "name": "python3"
    },
    "language_info": {
      "codemirror_mode": {
        "name": "ipython",
        "version": 3
      },
      "file_extension": ".py",
      "mimetype": "text/x-python",
      "name": "python",
      "nbconvert_exporter": "python",
      "pygments_lexer": "ipython3",
      "version": "3.7.6"
    },
    "varInspector": {
      "cols": {
        "lenName": 16,
        "lenType": 16,
        "lenVar": 40
      },
      "kernels_config": {
        "python": {
          "delete_cmd_postfix": "",
          "delete_cmd_prefix": "del ",
          "library": "var_list.py",
          "varRefreshCmd": "print(var_dic_list())"
        },
        "r": {
          "delete_cmd_postfix": ") ",
          "delete_cmd_prefix": "rm(",
          "library": "var_list.r",
          "varRefreshCmd": "cat(var_dic_list()) "
        }
      },
      "types_to_exclude": [
        "module",
        "function",
        "builtin_function_or_method",
        "instance",
        "_Feature"
      ],
      "window_display": false
    },
    "colab": {
      "name": "HW04_Q2.ipynb",
      "provenance": [],
      "toc_visible": true
    }
  },
  "cells": [
    {
      "cell_type": "markdown",
      "metadata": {
        "id": "_EZ8enOORfQ_"
      },
      "source": [
        "# HW04 : Problem 2\n",
        "\n",
        "Please check last updates and get the latest version from following link. it is more completed but it may have some updates after release it.\n",
        "\n",
        "[<img src=\"https://img.icons8.com/clouds/50/000000/github.png\"/>](https://github.com/MohammadRaziei/Deep-Learning-Course/blob/master/)  \n",
        "github link : https://github.com/MohammadRaziei/Deep-Learning-Course/blob/master/HW04"
      ]
    },
    {
      "cell_type": "code",
      "metadata": {
        "id": "KcWYtEPfV_yR",
        "outputId": "dcfee37c-5e3b-4eeb-f66d-b29d8284c448",
        "colab": {
          "base_uri": "https://localhost:8080/"
        }
      },
      "source": [
        "!wget -q https://github.com/MohammadRaziei/DataSetsArchive/raw/master/NWPU%20VHR-10%20dataset.zip -O 'NWPU VHR-10 dataset.zip'\r\n",
        "!unzip -oq \"NWPU VHR-10 dataset.zip\" \r\n",
        "print('dataset is ready to use :)')"
      ],
      "execution_count": 32,
      "outputs": [
        {
          "output_type": "stream",
          "text": [
            "dataset is ready to use :)\n"
          ],
          "name": "stdout"
        }
      ]
    },
    {
      "cell_type": "code",
      "metadata": {
        "id": "M3hrqKENgp4S"
      },
      "source": [
        "!curl -sLO https://github.com/MohammadRaziei/Deep-Learning-Course/raw/master/HW04/Q2/prepare_data.py\r\n",
        "!curl -sLO https://github.com/MohammadRaziei/Deep-Learning-Course/raw/master/HW04/Q2/visual_dataset.py"
      ],
      "execution_count": 36,
      "outputs": []
    },
    {
      "cell_type": "code",
      "metadata": {
        "id": "56Sqzq7BRxI4"
      },
      "source": [
        "def visual_dataset():\r\n",
        "  pass"
      ],
      "execution_count": null,
      "outputs": []
    },
    {
      "cell_type": "code",
      "metadata": {
        "id": "hpC9TDQWav3p",
        "outputId": "97e46610-21ba-475c-ea27-828b25173919",
        "colab": {
          "base_uri": "https://localhost:8080/"
        }
      },
      "source": [
        "ls \"NWPU VHR-10 dataset\""
      ],
      "execution_count": 38,
      "outputs": [
        {
          "output_type": "stream",
          "text": [
            "\u001b[0m\u001b[01;34m'ground truth'\u001b[0m/  \u001b[01;34m'negative image set'\u001b[0m/  \u001b[01;34m'positive image set'\u001b[0m/   readme.txt\n"
          ],
          "name": "stdout"
        }
      ]
    },
    {
      "cell_type": "code",
      "metadata": {
        "id": "MSGPRco-gQO4",
        "outputId": "e9abde6e-5aef-481d-a71a-fe992614c4fc",
        "colab": {
          "base_uri": "https://localhost:8080/"
        }
      },
      "source": [
        "import os\r\n",
        "import enum\r\n",
        "root = 'NWPU VHR-10 dataset'\r\n",
        "ground_truth_folder = os.path.join(root, 'ground truth')\r\n",
        "\r\n",
        "class Point:\r\n",
        "    def __init__(self, x,y):\r\n",
        "      self.x = x\r\n",
        "      self.y = y\r\n",
        "\r\n",
        "class GroundTruthType(enum.Enum)\r\n",
        "    airplane = 1\r\n",
        "    ship = 2\r\n",
        "    storage tank = 3\r\n",
        "    baseballDiamond = 4\r\n",
        "    tennisCourt = 5\r\n",
        "    basketballCourt = 6\r\n",
        "    groundTrackField = 7\r\n",
        "    harbor = 8\r\n",
        "    bridge = 9\r\n",
        "    vehicle = 10\r\n",
        "    \r\n",
        "class GroundTruthObject:\r\n",
        "    def __init__(point_top_left, point_right_bottom):\r\n",
        "      self.top_left = 1\r\n",
        "      \r\n",
        "with open(os.path.join(ground_truth_folder, '001.txt')) as f:\r\n",
        "    lines = f.readlines() # list containing lines of file\r\n",
        "    for i, line in enumerate(lines):\r\n",
        "      print(i, line.strip())\r\n",
        "\r\n"
      ],
      "execution_count": 44,
      "outputs": [
        {
          "output_type": "stream",
          "text": [
            "0 (563,478),(630,573),1\n"
          ],
          "name": "stdout"
        }
      ]
    },
    {
      "cell_type": "code",
      "metadata": {
        "id": "21UZzvRLvPmq",
        "outputId": "efc46816-f0e8-48c4-c8a0-fb0028dd937f",
        "colab": {
          "base_uri": "https://localhost:8080/"
        }
      },
      "source": [
        "from pprint import pprint\r\n",
        "pprint(\"1-airplane, 2-ship, 3-storage tank, 4-baseball diamond, 5-tennis court, 6-basketball court, 7-ground track field, 8-harbor, 9-bridge, 10-vehicle\".split(','))"
      ],
      "execution_count": 45,
      "outputs": [
        {
          "output_type": "stream",
          "text": [
            "['1-airplane',\n",
            " ' 2-ship',\n",
            " ' 3-storage tank',\n",
            " ' 4-baseball diamond',\n",
            " ' 5-tennis court',\n",
            " ' 6-basketball court',\n",
            " ' 7-ground track field',\n",
            " ' 8-harbor',\n",
            " ' 9-bridge',\n",
            " ' 10-vehicle']\n"
          ],
          "name": "stdout"
        }
      ]
    }
  ]
}
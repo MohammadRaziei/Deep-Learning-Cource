{
  "nbformat": 4,
  "nbformat_minor": 0,
  "metadata": {
    "kernelspec": {
      "display_name": "Python 3",
      "language": "python",
      "name": "python3"
    },
    "language_info": {
      "codemirror_mode": {
        "name": "ipython",
        "version": 3
      },
      "file_extension": ".py",
      "mimetype": "text/x-python",
      "name": "python",
      "nbconvert_exporter": "python",
      "pygments_lexer": "ipython3",
      "version": "3.7.6"
    },
    "varInspector": {
      "cols": {
        "lenName": 16,
        "lenType": 16,
        "lenVar": 40
      },
      "kernels_config": {
        "python": {
          "delete_cmd_postfix": "",
          "delete_cmd_prefix": "del ",
          "library": "var_list.py",
          "varRefreshCmd": "print(var_dic_list())"
        },
        "r": {
          "delete_cmd_postfix": ") ",
          "delete_cmd_prefix": "rm(",
          "library": "var_list.r",
          "varRefreshCmd": "cat(var_dic_list()) "
        }
      },
      "types_to_exclude": [
        "module",
        "function",
        "builtin_function_or_method",
        "instance",
        "_Feature"
      ],
      "window_display": false
    },
    "colab": {
      "name": "HW04_Q1.ipynb",
      "provenance": [],
      "include_colab_link": true
    },
    "widgets": {
      "application/vnd.jupyter.widget-state+json": {
        "440950f1977745bc9f21837e643aa856": {
          "model_module": "@jupyter-widgets/controls",
          "model_name": "HBoxModel",
          "state": {
            "_view_name": "HBoxView",
            "_dom_classes": [],
            "_model_name": "HBoxModel",
            "_view_module": "@jupyter-widgets/controls",
            "_model_module_version": "1.5.0",
            "_view_count": null,
            "_view_module_version": "1.5.0",
            "box_style": "",
            "layout": "IPY_MODEL_47db8e998fbc4d3cb1b9ed52009f24f9",
            "_model_module": "@jupyter-widgets/controls",
            "children": [
              "IPY_MODEL_c58fa51617eb4dc8a7553940037530ed",
              "IPY_MODEL_9c5b6321442444c5b5b812b24d745958"
            ]
          }
        },
        "47db8e998fbc4d3cb1b9ed52009f24f9": {
          "model_module": "@jupyter-widgets/base",
          "model_name": "LayoutModel",
          "state": {
            "_view_name": "LayoutView",
            "grid_template_rows": null,
            "right": null,
            "justify_content": null,
            "_view_module": "@jupyter-widgets/base",
            "overflow": null,
            "_model_module_version": "1.2.0",
            "_view_count": null,
            "flex_flow": null,
            "width": null,
            "min_width": null,
            "border": null,
            "align_items": null,
            "bottom": null,
            "_model_module": "@jupyter-widgets/base",
            "top": null,
            "grid_column": null,
            "overflow_y": null,
            "overflow_x": null,
            "grid_auto_flow": null,
            "grid_area": null,
            "grid_template_columns": null,
            "flex": null,
            "_model_name": "LayoutModel",
            "justify_items": null,
            "grid_row": null,
            "max_height": null,
            "align_content": null,
            "visibility": null,
            "align_self": null,
            "height": null,
            "min_height": null,
            "padding": null,
            "grid_auto_rows": null,
            "grid_gap": null,
            "max_width": null,
            "order": null,
            "_view_module_version": "1.2.0",
            "grid_template_areas": null,
            "object_position": null,
            "object_fit": null,
            "grid_auto_columns": null,
            "margin": null,
            "display": null,
            "left": null
          }
        },
        "c58fa51617eb4dc8a7553940037530ed": {
          "model_module": "@jupyter-widgets/controls",
          "model_name": "FloatProgressModel",
          "state": {
            "_view_name": "ProgressView",
            "style": "IPY_MODEL_19a20dd6074d4b37aac04a3a0c895ec2",
            "_dom_classes": [],
            "description": "100%",
            "_model_name": "FloatProgressModel",
            "bar_style": "success",
            "max": 10,
            "_view_module": "@jupyter-widgets/controls",
            "_model_module_version": "1.5.0",
            "value": 10,
            "_view_count": null,
            "_view_module_version": "1.5.0",
            "orientation": "horizontal",
            "min": 0,
            "description_tooltip": null,
            "_model_module": "@jupyter-widgets/controls",
            "layout": "IPY_MODEL_1c7bf63ae0a7450c8b4a6cbe413bf412"
          }
        },
        "9c5b6321442444c5b5b812b24d745958": {
          "model_module": "@jupyter-widgets/controls",
          "model_name": "HTMLModel",
          "state": {
            "_view_name": "HTMLView",
            "style": "IPY_MODEL_c568b2e0a1a340a792a2545e23d92626",
            "_dom_classes": [],
            "description": "",
            "_model_name": "HTMLModel",
            "placeholder": "​",
            "_view_module": "@jupyter-widgets/controls",
            "_model_module_version": "1.5.0",
            "value": " 10/10 [00:31&lt;00:00,  3.11s/it]",
            "_view_count": null,
            "_view_module_version": "1.5.0",
            "description_tooltip": null,
            "_model_module": "@jupyter-widgets/controls",
            "layout": "IPY_MODEL_754c9e245a2545f3b751868a204b210a"
          }
        },
        "19a20dd6074d4b37aac04a3a0c895ec2": {
          "model_module": "@jupyter-widgets/controls",
          "model_name": "ProgressStyleModel",
          "state": {
            "_view_name": "StyleView",
            "_model_name": "ProgressStyleModel",
            "description_width": "initial",
            "_view_module": "@jupyter-widgets/base",
            "_model_module_version": "1.5.0",
            "_view_count": null,
            "_view_module_version": "1.2.0",
            "bar_color": null,
            "_model_module": "@jupyter-widgets/controls"
          }
        },
        "1c7bf63ae0a7450c8b4a6cbe413bf412": {
          "model_module": "@jupyter-widgets/base",
          "model_name": "LayoutModel",
          "state": {
            "_view_name": "LayoutView",
            "grid_template_rows": null,
            "right": null,
            "justify_content": null,
            "_view_module": "@jupyter-widgets/base",
            "overflow": null,
            "_model_module_version": "1.2.0",
            "_view_count": null,
            "flex_flow": null,
            "width": null,
            "min_width": null,
            "border": null,
            "align_items": null,
            "bottom": null,
            "_model_module": "@jupyter-widgets/base",
            "top": null,
            "grid_column": null,
            "overflow_y": null,
            "overflow_x": null,
            "grid_auto_flow": null,
            "grid_area": null,
            "grid_template_columns": null,
            "flex": null,
            "_model_name": "LayoutModel",
            "justify_items": null,
            "grid_row": null,
            "max_height": null,
            "align_content": null,
            "visibility": null,
            "align_self": null,
            "height": null,
            "min_height": null,
            "padding": null,
            "grid_auto_rows": null,
            "grid_gap": null,
            "max_width": null,
            "order": null,
            "_view_module_version": "1.2.0",
            "grid_template_areas": null,
            "object_position": null,
            "object_fit": null,
            "grid_auto_columns": null,
            "margin": null,
            "display": null,
            "left": null
          }
        },
        "c568b2e0a1a340a792a2545e23d92626": {
          "model_module": "@jupyter-widgets/controls",
          "model_name": "DescriptionStyleModel",
          "state": {
            "_view_name": "StyleView",
            "_model_name": "DescriptionStyleModel",
            "description_width": "",
            "_view_module": "@jupyter-widgets/base",
            "_model_module_version": "1.5.0",
            "_view_count": null,
            "_view_module_version": "1.2.0",
            "_model_module": "@jupyter-widgets/controls"
          }
        },
        "754c9e245a2545f3b751868a204b210a": {
          "model_module": "@jupyter-widgets/base",
          "model_name": "LayoutModel",
          "state": {
            "_view_name": "LayoutView",
            "grid_template_rows": null,
            "right": null,
            "justify_content": null,
            "_view_module": "@jupyter-widgets/base",
            "overflow": null,
            "_model_module_version": "1.2.0",
            "_view_count": null,
            "flex_flow": null,
            "width": null,
            "min_width": null,
            "border": null,
            "align_items": null,
            "bottom": null,
            "_model_module": "@jupyter-widgets/base",
            "top": null,
            "grid_column": null,
            "overflow_y": null,
            "overflow_x": null,
            "grid_auto_flow": null,
            "grid_area": null,
            "grid_template_columns": null,
            "flex": null,
            "_model_name": "LayoutModel",
            "justify_items": null,
            "grid_row": null,
            "max_height": null,
            "align_content": null,
            "visibility": null,
            "align_self": null,
            "height": null,
            "min_height": null,
            "padding": null,
            "grid_auto_rows": null,
            "grid_gap": null,
            "max_width": null,
            "order": null,
            "_view_module_version": "1.2.0",
            "grid_template_areas": null,
            "object_position": null,
            "object_fit": null,
            "grid_auto_columns": null,
            "margin": null,
            "display": null,
            "left": null
          }
        },
        "1dcdada463f6484bb0c3f3d004d0ef74": {
          "model_module": "@jupyter-widgets/controls",
          "model_name": "HBoxModel",
          "state": {
            "_view_name": "HBoxView",
            "_dom_classes": [],
            "_model_name": "HBoxModel",
            "_view_module": "@jupyter-widgets/controls",
            "_model_module_version": "1.5.0",
            "_view_count": null,
            "_view_module_version": "1.5.0",
            "box_style": "",
            "layout": "IPY_MODEL_eb96ebfc784f48e89bd8b8279554e717",
            "_model_module": "@jupyter-widgets/controls",
            "children": [
              "IPY_MODEL_e51d277d6f3f487bbdaaa2aa80cc51c8",
              "IPY_MODEL_fe6535f6a22749bfa455251f548e9637"
            ]
          }
        },
        "eb96ebfc784f48e89bd8b8279554e717": {
          "model_module": "@jupyter-widgets/base",
          "model_name": "LayoutModel",
          "state": {
            "_view_name": "LayoutView",
            "grid_template_rows": null,
            "right": null,
            "justify_content": null,
            "_view_module": "@jupyter-widgets/base",
            "overflow": null,
            "_model_module_version": "1.2.0",
            "_view_count": null,
            "flex_flow": null,
            "width": null,
            "min_width": null,
            "border": null,
            "align_items": null,
            "bottom": null,
            "_model_module": "@jupyter-widgets/base",
            "top": null,
            "grid_column": null,
            "overflow_y": null,
            "overflow_x": null,
            "grid_auto_flow": null,
            "grid_area": null,
            "grid_template_columns": null,
            "flex": null,
            "_model_name": "LayoutModel",
            "justify_items": null,
            "grid_row": null,
            "max_height": null,
            "align_content": null,
            "visibility": null,
            "align_self": null,
            "height": null,
            "min_height": null,
            "padding": null,
            "grid_auto_rows": null,
            "grid_gap": null,
            "max_width": null,
            "order": null,
            "_view_module_version": "1.2.0",
            "grid_template_areas": null,
            "object_position": null,
            "object_fit": null,
            "grid_auto_columns": null,
            "margin": null,
            "display": null,
            "left": null
          }
        },
        "e51d277d6f3f487bbdaaa2aa80cc51c8": {
          "model_module": "@jupyter-widgets/controls",
          "model_name": "FloatProgressModel",
          "state": {
            "_view_name": "ProgressView",
            "style": "IPY_MODEL_eb1471ce99d74494a1e139e5299a756c",
            "_dom_classes": [],
            "description": "100%",
            "_model_name": "FloatProgressModel",
            "bar_style": "success",
            "max": 96,
            "_view_module": "@jupyter-widgets/controls",
            "_model_module_version": "1.5.0",
            "value": 96,
            "_view_count": null,
            "_view_module_version": "1.5.0",
            "orientation": "horizontal",
            "min": 0,
            "description_tooltip": null,
            "_model_module": "@jupyter-widgets/controls",
            "layout": "IPY_MODEL_c782ceb01072453880f8179c5895f30d"
          }
        },
        "fe6535f6a22749bfa455251f548e9637": {
          "model_module": "@jupyter-widgets/controls",
          "model_name": "HTMLModel",
          "state": {
            "_view_name": "HTMLView",
            "style": "IPY_MODEL_5ebe85e14dee4757b6f1ef485c86ad50",
            "_dom_classes": [],
            "description": "",
            "_model_name": "HTMLModel",
            "placeholder": "​",
            "_view_module": "@jupyter-widgets/controls",
            "_model_module_version": "1.5.0",
            "value": " 96/96 [01:28&lt;00:00,  1.09it/s]",
            "_view_count": null,
            "_view_module_version": "1.5.0",
            "description_tooltip": null,
            "_model_module": "@jupyter-widgets/controls",
            "layout": "IPY_MODEL_b7c1e8c6570140238d990fe99bb46561"
          }
        },
        "eb1471ce99d74494a1e139e5299a756c": {
          "model_module": "@jupyter-widgets/controls",
          "model_name": "ProgressStyleModel",
          "state": {
            "_view_name": "StyleView",
            "_model_name": "ProgressStyleModel",
            "description_width": "initial",
            "_view_module": "@jupyter-widgets/base",
            "_model_module_version": "1.5.0",
            "_view_count": null,
            "_view_module_version": "1.2.0",
            "bar_color": null,
            "_model_module": "@jupyter-widgets/controls"
          }
        },
        "c782ceb01072453880f8179c5895f30d": {
          "model_module": "@jupyter-widgets/base",
          "model_name": "LayoutModel",
          "state": {
            "_view_name": "LayoutView",
            "grid_template_rows": null,
            "right": null,
            "justify_content": null,
            "_view_module": "@jupyter-widgets/base",
            "overflow": null,
            "_model_module_version": "1.2.0",
            "_view_count": null,
            "flex_flow": null,
            "width": null,
            "min_width": null,
            "border": null,
            "align_items": null,
            "bottom": null,
            "_model_module": "@jupyter-widgets/base",
            "top": null,
            "grid_column": null,
            "overflow_y": null,
            "overflow_x": null,
            "grid_auto_flow": null,
            "grid_area": null,
            "grid_template_columns": null,
            "flex": null,
            "_model_name": "LayoutModel",
            "justify_items": null,
            "grid_row": null,
            "max_height": null,
            "align_content": null,
            "visibility": null,
            "align_self": null,
            "height": null,
            "min_height": null,
            "padding": null,
            "grid_auto_rows": null,
            "grid_gap": null,
            "max_width": null,
            "order": null,
            "_view_module_version": "1.2.0",
            "grid_template_areas": null,
            "object_position": null,
            "object_fit": null,
            "grid_auto_columns": null,
            "margin": null,
            "display": null,
            "left": null
          }
        },
        "5ebe85e14dee4757b6f1ef485c86ad50": {
          "model_module": "@jupyter-widgets/controls",
          "model_name": "DescriptionStyleModel",
          "state": {
            "_view_name": "StyleView",
            "_model_name": "DescriptionStyleModel",
            "description_width": "",
            "_view_module": "@jupyter-widgets/base",
            "_model_module_version": "1.5.0",
            "_view_count": null,
            "_view_module_version": "1.2.0",
            "_model_module": "@jupyter-widgets/controls"
          }
        },
        "b7c1e8c6570140238d990fe99bb46561": {
          "model_module": "@jupyter-widgets/base",
          "model_name": "LayoutModel",
          "state": {
            "_view_name": "LayoutView",
            "grid_template_rows": null,
            "right": null,
            "justify_content": null,
            "_view_module": "@jupyter-widgets/base",
            "overflow": null,
            "_model_module_version": "1.2.0",
            "_view_count": null,
            "flex_flow": null,
            "width": null,
            "min_width": null,
            "border": null,
            "align_items": null,
            "bottom": null,
            "_model_module": "@jupyter-widgets/base",
            "top": null,
            "grid_column": null,
            "overflow_y": null,
            "overflow_x": null,
            "grid_auto_flow": null,
            "grid_area": null,
            "grid_template_columns": null,
            "flex": null,
            "_model_name": "LayoutModel",
            "justify_items": null,
            "grid_row": null,
            "max_height": null,
            "align_content": null,
            "visibility": null,
            "align_self": null,
            "height": null,
            "min_height": null,
            "padding": null,
            "grid_auto_rows": null,
            "grid_gap": null,
            "max_width": null,
            "order": null,
            "_view_module_version": "1.2.0",
            "grid_template_areas": null,
            "object_position": null,
            "object_fit": null,
            "grid_auto_columns": null,
            "margin": null,
            "display": null,
            "left": null
          }
        },
        "f8c4bcbfd3004f2fa3d04f4a9ab07b65": {
          "model_module": "@jupyter-widgets/controls",
          "model_name": "HBoxModel",
          "state": {
            "_view_name": "HBoxView",
            "_dom_classes": [],
            "_model_name": "HBoxModel",
            "_view_module": "@jupyter-widgets/controls",
            "_model_module_version": "1.5.0",
            "_view_count": null,
            "_view_module_version": "1.5.0",
            "box_style": "",
            "layout": "IPY_MODEL_7b5a40c4da7e4b6d934bdfa31afb1868",
            "_model_module": "@jupyter-widgets/controls",
            "children": [
              "IPY_MODEL_8e98bc2d35f14cd88800e4ddf8fe7045",
              "IPY_MODEL_08edaee568ba464781bfcb006d06bddf"
            ]
          }
        },
        "7b5a40c4da7e4b6d934bdfa31afb1868": {
          "model_module": "@jupyter-widgets/base",
          "model_name": "LayoutModel",
          "state": {
            "_view_name": "LayoutView",
            "grid_template_rows": null,
            "right": null,
            "justify_content": null,
            "_view_module": "@jupyter-widgets/base",
            "overflow": null,
            "_model_module_version": "1.2.0",
            "_view_count": null,
            "flex_flow": null,
            "width": null,
            "min_width": null,
            "border": null,
            "align_items": null,
            "bottom": null,
            "_model_module": "@jupyter-widgets/base",
            "top": null,
            "grid_column": null,
            "overflow_y": null,
            "overflow_x": null,
            "grid_auto_flow": null,
            "grid_area": null,
            "grid_template_columns": null,
            "flex": null,
            "_model_name": "LayoutModel",
            "justify_items": null,
            "grid_row": null,
            "max_height": null,
            "align_content": null,
            "visibility": null,
            "align_self": null,
            "height": null,
            "min_height": null,
            "padding": null,
            "grid_auto_rows": null,
            "grid_gap": null,
            "max_width": null,
            "order": null,
            "_view_module_version": "1.2.0",
            "grid_template_areas": null,
            "object_position": null,
            "object_fit": null,
            "grid_auto_columns": null,
            "margin": null,
            "display": null,
            "left": null
          }
        },
        "8e98bc2d35f14cd88800e4ddf8fe7045": {
          "model_module": "@jupyter-widgets/controls",
          "model_name": "FloatProgressModel",
          "state": {
            "_view_name": "ProgressView",
            "style": "IPY_MODEL_c8863aeb23b8493bba34be16d1b5740c",
            "_dom_classes": [],
            "description": "100%",
            "_model_name": "FloatProgressModel",
            "bar_style": "success",
            "max": 88,
            "_view_module": "@jupyter-widgets/controls",
            "_model_module_version": "1.5.0",
            "value": 88,
            "_view_count": null,
            "_view_module_version": "1.5.0",
            "orientation": "horizontal",
            "min": 0,
            "description_tooltip": null,
            "_model_module": "@jupyter-widgets/controls",
            "layout": "IPY_MODEL_30063c3a43284121909d0e33d8f74da2"
          }
        },
        "08edaee568ba464781bfcb006d06bddf": {
          "model_module": "@jupyter-widgets/controls",
          "model_name": "HTMLModel",
          "state": {
            "_view_name": "HTMLView",
            "style": "IPY_MODEL_ac50ac1e17ce452280c95cdbdf11e3e5",
            "_dom_classes": [],
            "description": "",
            "_model_name": "HTMLModel",
            "placeholder": "​",
            "_view_module": "@jupyter-widgets/controls",
            "_model_module_version": "1.5.0",
            "value": " 88/88 [00:05&lt;00:00, 16.39it/s]",
            "_view_count": null,
            "_view_module_version": "1.5.0",
            "description_tooltip": null,
            "_model_module": "@jupyter-widgets/controls",
            "layout": "IPY_MODEL_36b7b61268034312809e8d390b2cfd09"
          }
        },
        "c8863aeb23b8493bba34be16d1b5740c": {
          "model_module": "@jupyter-widgets/controls",
          "model_name": "ProgressStyleModel",
          "state": {
            "_view_name": "StyleView",
            "_model_name": "ProgressStyleModel",
            "description_width": "initial",
            "_view_module": "@jupyter-widgets/base",
            "_model_module_version": "1.5.0",
            "_view_count": null,
            "_view_module_version": "1.2.0",
            "bar_color": null,
            "_model_module": "@jupyter-widgets/controls"
          }
        },
        "30063c3a43284121909d0e33d8f74da2": {
          "model_module": "@jupyter-widgets/base",
          "model_name": "LayoutModel",
          "state": {
            "_view_name": "LayoutView",
            "grid_template_rows": null,
            "right": null,
            "justify_content": null,
            "_view_module": "@jupyter-widgets/base",
            "overflow": null,
            "_model_module_version": "1.2.0",
            "_view_count": null,
            "flex_flow": null,
            "width": null,
            "min_width": null,
            "border": null,
            "align_items": null,
            "bottom": null,
            "_model_module": "@jupyter-widgets/base",
            "top": null,
            "grid_column": null,
            "overflow_y": null,
            "overflow_x": null,
            "grid_auto_flow": null,
            "grid_area": null,
            "grid_template_columns": null,
            "flex": null,
            "_model_name": "LayoutModel",
            "justify_items": null,
            "grid_row": null,
            "max_height": null,
            "align_content": null,
            "visibility": null,
            "align_self": null,
            "height": null,
            "min_height": null,
            "padding": null,
            "grid_auto_rows": null,
            "grid_gap": null,
            "max_width": null,
            "order": null,
            "_view_module_version": "1.2.0",
            "grid_template_areas": null,
            "object_position": null,
            "object_fit": null,
            "grid_auto_columns": null,
            "margin": null,
            "display": null,
            "left": null
          }
        },
        "ac50ac1e17ce452280c95cdbdf11e3e5": {
          "model_module": "@jupyter-widgets/controls",
          "model_name": "DescriptionStyleModel",
          "state": {
            "_view_name": "StyleView",
            "_model_name": "DescriptionStyleModel",
            "description_width": "",
            "_view_module": "@jupyter-widgets/base",
            "_model_module_version": "1.5.0",
            "_view_count": null,
            "_view_module_version": "1.2.0",
            "_model_module": "@jupyter-widgets/controls"
          }
        },
        "36b7b61268034312809e8d390b2cfd09": {
          "model_module": "@jupyter-widgets/base",
          "model_name": "LayoutModel",
          "state": {
            "_view_name": "LayoutView",
            "grid_template_rows": null,
            "right": null,
            "justify_content": null,
            "_view_module": "@jupyter-widgets/base",
            "overflow": null,
            "_model_module_version": "1.2.0",
            "_view_count": null,
            "flex_flow": null,
            "width": null,
            "min_width": null,
            "border": null,
            "align_items": null,
            "bottom": null,
            "_model_module": "@jupyter-widgets/base",
            "top": null,
            "grid_column": null,
            "overflow_y": null,
            "overflow_x": null,
            "grid_auto_flow": null,
            "grid_area": null,
            "grid_template_columns": null,
            "flex": null,
            "_model_name": "LayoutModel",
            "justify_items": null,
            "grid_row": null,
            "max_height": null,
            "align_content": null,
            "visibility": null,
            "align_self": null,
            "height": null,
            "min_height": null,
            "padding": null,
            "grid_auto_rows": null,
            "grid_gap": null,
            "max_width": null,
            "order": null,
            "_view_module_version": "1.2.0",
            "grid_template_areas": null,
            "object_position": null,
            "object_fit": null,
            "grid_auto_columns": null,
            "margin": null,
            "display": null,
            "left": null
          }
        },
        "d08f7eb737d14650885d619076e2267c": {
          "model_module": "@jupyter-widgets/controls",
          "model_name": "HBoxModel",
          "state": {
            "_view_name": "HBoxView",
            "_dom_classes": [],
            "_model_name": "HBoxModel",
            "_view_module": "@jupyter-widgets/controls",
            "_model_module_version": "1.5.0",
            "_view_count": null,
            "_view_module_version": "1.5.0",
            "box_style": "",
            "layout": "IPY_MODEL_af1e8adf4a4f4de1a664792b451622a0",
            "_model_module": "@jupyter-widgets/controls",
            "children": [
              "IPY_MODEL_37d50cfd6ff247b1b9ab04c493336126",
              "IPY_MODEL_1731e01714a24a52a6935edf90ec69e5"
            ]
          }
        },
        "af1e8adf4a4f4de1a664792b451622a0": {
          "model_module": "@jupyter-widgets/base",
          "model_name": "LayoutModel",
          "state": {
            "_view_name": "LayoutView",
            "grid_template_rows": null,
            "right": null,
            "justify_content": null,
            "_view_module": "@jupyter-widgets/base",
            "overflow": null,
            "_model_module_version": "1.2.0",
            "_view_count": null,
            "flex_flow": null,
            "width": null,
            "min_width": null,
            "border": null,
            "align_items": null,
            "bottom": null,
            "_model_module": "@jupyter-widgets/base",
            "top": null,
            "grid_column": null,
            "overflow_y": null,
            "overflow_x": null,
            "grid_auto_flow": null,
            "grid_area": null,
            "grid_template_columns": null,
            "flex": null,
            "_model_name": "LayoutModel",
            "justify_items": null,
            "grid_row": null,
            "max_height": null,
            "align_content": null,
            "visibility": null,
            "align_self": null,
            "height": null,
            "min_height": null,
            "padding": null,
            "grid_auto_rows": null,
            "grid_gap": null,
            "max_width": null,
            "order": null,
            "_view_module_version": "1.2.0",
            "grid_template_areas": null,
            "object_position": null,
            "object_fit": null,
            "grid_auto_columns": null,
            "margin": null,
            "display": null,
            "left": null
          }
        },
        "37d50cfd6ff247b1b9ab04c493336126": {
          "model_module": "@jupyter-widgets/controls",
          "model_name": "FloatProgressModel",
          "state": {
            "_view_name": "ProgressView",
            "style": "IPY_MODEL_c3c8308ab7c740cda783c676d3fcdc7b",
            "_dom_classes": [],
            "description": "100%",
            "_model_name": "FloatProgressModel",
            "bar_style": "success",
            "max": 88,
            "_view_module": "@jupyter-widgets/controls",
            "_model_module_version": "1.5.0",
            "value": 88,
            "_view_count": null,
            "_view_module_version": "1.5.0",
            "orientation": "horizontal",
            "min": 0,
            "description_tooltip": null,
            "_model_module": "@jupyter-widgets/controls",
            "layout": "IPY_MODEL_73f4a233f3b9413cb2bd4f32e006f36c"
          }
        },
        "1731e01714a24a52a6935edf90ec69e5": {
          "model_module": "@jupyter-widgets/controls",
          "model_name": "HTMLModel",
          "state": {
            "_view_name": "HTMLView",
            "style": "IPY_MODEL_e6215ff0fd35462a9b7fe13e6f9d2aac",
            "_dom_classes": [],
            "description": "",
            "_model_name": "HTMLModel",
            "placeholder": "​",
            "_view_module": "@jupyter-widgets/controls",
            "_model_module_version": "1.5.0",
            "value": " 88/88 [00:00&lt;00:00, 132.22it/s]",
            "_view_count": null,
            "_view_module_version": "1.5.0",
            "description_tooltip": null,
            "_model_module": "@jupyter-widgets/controls",
            "layout": "IPY_MODEL_18291a1e24584517b46d689c341df956"
          }
        },
        "c3c8308ab7c740cda783c676d3fcdc7b": {
          "model_module": "@jupyter-widgets/controls",
          "model_name": "ProgressStyleModel",
          "state": {
            "_view_name": "StyleView",
            "_model_name": "ProgressStyleModel",
            "description_width": "initial",
            "_view_module": "@jupyter-widgets/base",
            "_model_module_version": "1.5.0",
            "_view_count": null,
            "_view_module_version": "1.2.0",
            "bar_color": null,
            "_model_module": "@jupyter-widgets/controls"
          }
        },
        "73f4a233f3b9413cb2bd4f32e006f36c": {
          "model_module": "@jupyter-widgets/base",
          "model_name": "LayoutModel",
          "state": {
            "_view_name": "LayoutView",
            "grid_template_rows": null,
            "right": null,
            "justify_content": null,
            "_view_module": "@jupyter-widgets/base",
            "overflow": null,
            "_model_module_version": "1.2.0",
            "_view_count": null,
            "flex_flow": null,
            "width": null,
            "min_width": null,
            "border": null,
            "align_items": null,
            "bottom": null,
            "_model_module": "@jupyter-widgets/base",
            "top": null,
            "grid_column": null,
            "overflow_y": null,
            "overflow_x": null,
            "grid_auto_flow": null,
            "grid_area": null,
            "grid_template_columns": null,
            "flex": null,
            "_model_name": "LayoutModel",
            "justify_items": null,
            "grid_row": null,
            "max_height": null,
            "align_content": null,
            "visibility": null,
            "align_self": null,
            "height": null,
            "min_height": null,
            "padding": null,
            "grid_auto_rows": null,
            "grid_gap": null,
            "max_width": null,
            "order": null,
            "_view_module_version": "1.2.0",
            "grid_template_areas": null,
            "object_position": null,
            "object_fit": null,
            "grid_auto_columns": null,
            "margin": null,
            "display": null,
            "left": null
          }
        },
        "e6215ff0fd35462a9b7fe13e6f9d2aac": {
          "model_module": "@jupyter-widgets/controls",
          "model_name": "DescriptionStyleModel",
          "state": {
            "_view_name": "StyleView",
            "_model_name": "DescriptionStyleModel",
            "description_width": "",
            "_view_module": "@jupyter-widgets/base",
            "_model_module_version": "1.5.0",
            "_view_count": null,
            "_view_module_version": "1.2.0",
            "_model_module": "@jupyter-widgets/controls"
          }
        },
        "18291a1e24584517b46d689c341df956": {
          "model_module": "@jupyter-widgets/base",
          "model_name": "LayoutModel",
          "state": {
            "_view_name": "LayoutView",
            "grid_template_rows": null,
            "right": null,
            "justify_content": null,
            "_view_module": "@jupyter-widgets/base",
            "overflow": null,
            "_model_module_version": "1.2.0",
            "_view_count": null,
            "flex_flow": null,
            "width": null,
            "min_width": null,
            "border": null,
            "align_items": null,
            "bottom": null,
            "_model_module": "@jupyter-widgets/base",
            "top": null,
            "grid_column": null,
            "overflow_y": null,
            "overflow_x": null,
            "grid_auto_flow": null,
            "grid_area": null,
            "grid_template_columns": null,
            "flex": null,
            "_model_name": "LayoutModel",
            "justify_items": null,
            "grid_row": null,
            "max_height": null,
            "align_content": null,
            "visibility": null,
            "align_self": null,
            "height": null,
            "min_height": null,
            "padding": null,
            "grid_auto_rows": null,
            "grid_gap": null,
            "max_width": null,
            "order": null,
            "_view_module_version": "1.2.0",
            "grid_template_areas": null,
            "object_position": null,
            "object_fit": null,
            "grid_auto_columns": null,
            "margin": null,
            "display": null,
            "left": null
          }
        }
      }
    }
  },
  "cells": [
    {
      "cell_type": "markdown",
      "metadata": {
        "id": "view-in-github",
        "colab_type": "text"
      },
      "source": [
        "<a href=\"https://colab.research.google.com/github/MohammadRaziei/Deep-Learning-Course/blob/master/HW04/Q1/HW04_Q1.ipynb\" target=\"_parent\"><img src=\"https://colab.research.google.com/assets/colab-badge.svg\" alt=\"Open In Colab\"/></a>"
      ]
    },
    {
      "cell_type": "markdown",
      "metadata": {
        "id": "eR9fLuwFXpVu"
      },
      "source": [
        "# HW04 : Problem 1\n",
        "\n",
        "Please check last updates and get the latest version from following link. it is more completed but it may have some updates after release it.\n",
        "\n",
        "[<img src=\"https://img.icons8.com/clouds/50/000000/github.png\"/>](https://github.com/MohammadRaziei/Deep-Learning-Course/blob/master/)  \n",
        "github link : https://github.com/MohammadRaziei/Deep-Learning-Course/blob/master/HW04"
      ]
    },
    {
      "cell_type": "code",
      "metadata": {
        "id": "Mi3JzFIyaEGl",
        "colab": {
          "base_uri": "https://localhost:8080/"
        },
        "outputId": "dd8f0d4b-087b-4320-bf75-53c808783b96"
      },
      "source": [
        "!pip install music21\r\n",
        "!pip install bs4\r\n",
        "!pip install pretty_midi"
      ],
      "execution_count": 1,
      "outputs": [
        {
          "output_type": "stream",
          "text": [
            "Requirement already satisfied: music21 in /usr/local/lib/python3.6/dist-packages (5.5.0)\n",
            "Requirement already satisfied: bs4 in /usr/local/lib/python3.6/dist-packages (0.0.1)\n",
            "Requirement already satisfied: beautifulsoup4 in /usr/local/lib/python3.6/dist-packages (from bs4) (4.6.3)\n",
            "Collecting pretty_midi\n",
            "\u001b[?25l  Downloading https://files.pythonhosted.org/packages/bc/8e/63c6e39a7a64623a9cd6aec530070c70827f6f8f40deec938f323d7b1e15/pretty_midi-0.2.9.tar.gz (5.6MB)\n",
            "\u001b[K     |████████████████████████████████| 5.6MB 5.7MB/s \n",
            "\u001b[?25hRequirement already satisfied: numpy>=1.7.0 in /usr/local/lib/python3.6/dist-packages (from pretty_midi) (1.19.5)\n",
            "Collecting mido>=1.1.16\n",
            "\u001b[?25l  Downloading https://files.pythonhosted.org/packages/20/0a/81beb587b1ae832ea6a1901dc7c6faa380e8dd154e0a862f0a9f3d2afab9/mido-1.2.9-py2.py3-none-any.whl (52kB)\n",
            "\u001b[K     |████████████████████████████████| 61kB 4.1MB/s \n",
            "\u001b[?25hRequirement already satisfied: six in /usr/local/lib/python3.6/dist-packages (from pretty_midi) (1.15.0)\n",
            "Building wheels for collected packages: pretty-midi\n",
            "  Building wheel for pretty-midi (setup.py) ... \u001b[?25l\u001b[?25hdone\n",
            "  Created wheel for pretty-midi: filename=pretty_midi-0.2.9-cp36-none-any.whl size=5591954 sha256=6dfee6922abc1854af2fa945e8b4614cd705827fd1bcd200b569d16453cdc9e4\n",
            "  Stored in directory: /root/.cache/pip/wheels/4c/a1/c6/b5697841db1112c6e5866d75a6b6bf1bef73b874782556ba66\n",
            "Successfully built pretty-midi\n",
            "Installing collected packages: mido, pretty-midi\n",
            "Successfully installed mido-1.2.9 pretty-midi-0.2.9\n"
          ],
          "name": "stdout"
        }
      ]
    },
    {
      "cell_type": "code",
      "metadata": {
        "id": "-k6QWkfbbUXk"
      },
      "source": [
        "import os, shutil\r\n",
        "def create_empty_folder(folder_name, recreate=True):\r\n",
        "  try:\r\n",
        "    if recreate:\r\n",
        "      try: shutil.rmtree(folder_name)\r\n",
        "      except: pass\r\n",
        "    os.mkdir(folder_name)\r\n",
        "    print('\"%s\" is created.'%folder_name)\r\n",
        "  except Exception as e: # work on python 3.x\r\n",
        "    print('Some error! : '+ str(e))\r\n",
        "\r\n",
        "def create_empty_folders(folders_list):\r\n",
        "  for folder in folders_list:\r\n",
        "    create_empty_folder(folder)"
      ],
      "execution_count": 2,
      "outputs": []
    },
    {
      "cell_type": "code",
      "metadata": {
        "id": "Ni5nVyknc7HY",
        "colab": {
          "base_uri": "https://localhost:8080/",
          "height": 82,
          "referenced_widgets": [
            "440950f1977745bc9f21837e643aa856",
            "47db8e998fbc4d3cb1b9ed52009f24f9",
            "c58fa51617eb4dc8a7553940037530ed",
            "9c5b6321442444c5b5b812b24d745958",
            "19a20dd6074d4b37aac04a3a0c895ec2",
            "1c7bf63ae0a7450c8b4a6cbe413bf412",
            "c568b2e0a1a340a792a2545e23d92626",
            "754c9e245a2545f3b751868a204b210a"
          ]
        },
        "outputId": "b12da053-9165-4a70-a131-f1314e344e35"
      },
      "source": [
        "from urllib.request import urlopen, urlretrieve\r\n",
        "from bs4 import BeautifulSoup\r\n",
        "import time\r\n",
        "from tqdm.auto import trange\r\n",
        "\r\n",
        "\r\n",
        "selected_instrument = 'Guitar'\r\n",
        "\r\n",
        "# Define URL components\r\n",
        "url_base = 'https://www.mutopiaproject.org/cgibin/make-table.cgi?startat={}&searchingfor=&Composer=&Instrument={}&Style=&collection=&id=&solo=&recent=&timelength=&timeunit=&lilyversion=&preview='\r\n",
        "\r\n",
        "# Define save directory.\r\n",
        "save_dir = 'guitar'\r\n",
        "create_empty_folder(save_dir)\r\n",
        "\r\n",
        "# Set initial values\r\n",
        "songNumber = 0\r\n",
        "linkCount = 10\r\n",
        "\r\n",
        "lim = 10 \r\n",
        "cnt = 0\r\n",
        "\r\n",
        "# Locate and download each MIDI file\r\n",
        "for cnt in trange(lim):\r\n",
        "    cnt += 1\r\n",
        "    url = url_base.format(songNumber, selected_instrument)\r\n",
        "    html = urlopen(url)\r\n",
        "    soup = BeautifulSoup(html.read())\r\n",
        "    links = soup.find_all('a')\r\n",
        "    linkCount = 0\r\n",
        "    for link in links:\r\n",
        "        href = link['href']\r\n",
        "        if href.find('.mid') >= 0:\r\n",
        "            linkCount = linkCount + 1\r\n",
        "            urlretrieve(href, os.path.join(save_dir, \"%d_%d.mid\"%(cnt, linkCount)))\r\n",
        "    if linkCount is 0: break\r\n",
        "    songNumber += 10\r\n",
        "    time.sleep(.1)"
      ],
      "execution_count": 3,
      "outputs": [
        {
          "output_type": "stream",
          "text": [
            "\"guitar\" is created.\n"
          ],
          "name": "stdout"
        },
        {
          "output_type": "display_data",
          "data": {
            "application/vnd.jupyter.widget-view+json": {
              "model_id": "440950f1977745bc9f21837e643aa856",
              "version_minor": 0,
              "version_major": 2
            },
            "text/plain": [
              "HBox(children=(FloatProgress(value=0.0, max=10.0), HTML(value='')))"
            ]
          },
          "metadata": {
            "tags": []
          }
        },
        {
          "output_type": "stream",
          "text": [
            "\n"
          ],
          "name": "stdout"
        }
      ]
    },
    {
      "cell_type": "markdown",
      "metadata": {
        "id": "FgQ0vpcGAln_"
      },
      "source": [
        "## Part II"
      ]
    },
    {
      "cell_type": "code",
      "metadata": {
        "id": "fI3p1Uuslpcz",
        "colab": {
          "base_uri": "https://localhost:8080/",
          "height": 82,
          "referenced_widgets": [
            "1dcdada463f6484bb0c3f3d004d0ef74",
            "eb96ebfc784f48e89bd8b8279554e717",
            "e51d277d6f3f487bbdaaa2aa80cc51c8",
            "fe6535f6a22749bfa455251f548e9637",
            "eb1471ce99d74494a1e139e5299a756c",
            "c782ceb01072453880f8179c5895f30d",
            "5ebe85e14dee4757b6f1ef485c86ad50",
            "b7c1e8c6570140238d990fe99bb46561"
          ]
        },
        "outputId": "5329c84a-0758-4ac1-b210-ef87fcbc0d1f"
      },
      "source": [
        "from music21 import converter, instrument\r\n",
        "import os\r\n",
        "from tqdm.auto import tqdm\r\n",
        "\r\n",
        "\r\n",
        "save_dir = 'guitar'\r\n",
        "\r\n",
        "# test that stream is monotonic or notr\r\n",
        "def is_monophonic(stream):\r\n",
        "    try:    length = len(instrument.partitionByInstrument(stream).parts)\r\n",
        "    except: length = 0\r\n",
        "    return length is 1\r\n",
        "\r\n",
        "# Merge notes into chords\r\n",
        "song_files = os.listdir(save_dir)\r\n",
        "# data_scores = []\r\n",
        "# for song_file in (song_files):\r\n",
        "#   sng = converter.parse(os.path.join(save_dir,song_file))\r\n",
        "#   if is_monophonic(sng): \r\n",
        "#     data_scores.append(sng)\r\n",
        "data_scores = [sng.chordify() for song_file in tqdm(song_files) for sng in (converter.parse(os.path.join(save_dir,song_file)),) if is_monophonic(sng)]\r\n",
        "\r\n",
        "print(len(data_scores))"
      ],
      "execution_count": 4,
      "outputs": [
        {
          "output_type": "display_data",
          "data": {
            "application/vnd.jupyter.widget-view+json": {
              "model_id": "1dcdada463f6484bb0c3f3d004d0ef74",
              "version_minor": 0,
              "version_major": 2
            },
            "text/plain": [
              "HBox(children=(FloatProgress(value=0.0, max=96.0), HTML(value='')))"
            ]
          },
          "metadata": {
            "tags": []
          }
        },
        {
          "output_type": "stream",
          "text": [
            "\n",
            "88\n"
          ],
          "name": "stdout"
        }
      ]
    },
    {
      "cell_type": "code",
      "metadata": {
        "id": "WEs8Y_oesXMu",
        "colab": {
          "base_uri": "https://localhost:8080/",
          "height": 65,
          "referenced_widgets": [
            "f8c4bcbfd3004f2fa3d04f4a9ab07b65",
            "7b5a40c4da7e4b6d934bdfa31afb1868",
            "8e98bc2d35f14cd88800e4ddf8fe7045",
            "08edaee568ba464781bfcb006d06bddf",
            "c8863aeb23b8493bba34be16d1b5740c",
            "30063c3a43284121909d0e33d8f74da2",
            "ac50ac1e17ce452280c95cdbdf11e3e5",
            "36b7b61268034312809e8d390b2cfd09"
          ]
        },
        "outputId": "467da329-4de0-47cb-b690-9337c0fae3bb"
      },
      "source": [
        "from music21 import note, chord\r\n",
        "from tqdm.auto import tqdm\r\n",
        "\r\n",
        "\r\n",
        "data_chords = [[] for _ in data_scores]\r\n",
        "data_durations = [[] for _ in data_scores]\r\n",
        "data_keys = []\r\n",
        "\r\n",
        "# Extract notes, chords, durations, and keys\r\n",
        "for i, song in enumerate(tqdm(data_scores)):\r\n",
        "  data_keys.append(str(song.analyze('key')))\r\n",
        "  for element in song:\r\n",
        "      if isinstance(element, note.Note):\r\n",
        "          data_chords[i].append(element.pitch)\r\n",
        "          data_durations[i].append(element.duration.quarterLength)\r\n",
        "      elif isinstance(element, chord.Chord):\r\n",
        "          data_chords[i].append('.'.join(str(n) for n in element.pitches))\r\n",
        "          data_durations[i].append(element.duration.quarterLength)"
      ],
      "execution_count": 5,
      "outputs": [
        {
          "output_type": "display_data",
          "data": {
            "application/vnd.jupyter.widget-view+json": {
              "model_id": "f8c4bcbfd3004f2fa3d04f4a9ab07b65",
              "version_minor": 0,
              "version_major": 2
            },
            "text/plain": [
              "HBox(children=(FloatProgress(value=0.0, max=88.0), HTML(value='')))"
            ]
          },
          "metadata": {
            "tags": []
          }
        },
        {
          "output_type": "stream",
          "text": [
            "\n"
          ],
          "name": "stdout"
        }
      ]
    },
    {
      "cell_type": "code",
      "metadata": {
        "id": "aHwpWwvutuop",
        "colab": {
          "base_uri": "https://localhost:8080/"
        },
        "outputId": "2c61557d-00da-4c93-e025-b8d30de2721e"
      },
      "source": [
        "from sklearn.preprocessing import LabelEncoder\r\n",
        "\r\n",
        "chord_encoder = LabelEncoder()\r\n",
        "chord_encoder.fit(sorted(list({*[subsub for sub in data_chords for subsub in sub]})))\r\n",
        "num_unique_chords = len(chord_encoder.classes_)\r\n",
        "\r\n",
        "duration_encoder = LabelEncoder()\r\n",
        "duration_encoder.fit(sorted(list({*[subsub for sub in data_durations for subsub in sub]})))\r\n",
        "num_unique_duration = len(duration_encoder.classes_)\r\n",
        "\r\n",
        "print('number of unique chords: ', num_unique_chords)\r\n",
        "print('10 instances of chords:', chord_encoder.classes_[0:10])\r\n",
        "print()\r\n",
        "print('number of unique duration: ', num_unique_duration)\r\n",
        "print('unique durations:', [str(s) for s in duration_encoder.classes_])"
      ],
      "execution_count": 6,
      "outputs": [
        {
          "output_type": "stream",
          "text": [
            "number of unique chords:  3048\n",
            "10 instances of chords: ['A1.C#4' 'A1.G3.A3.A4' 'A1.G3.A3.E4' 'A2' 'A2.A3' 'A2.A3.A4'\n",
            " 'A2.A3.A4.A5' 'A2.A3.A4.D5' 'A2.A3.B-3' 'A2.A3.B3']\n",
            "\n",
            "number of unique duration:  18\n",
            "unique durations: ['1/12', '1/6', '0.25', '1/3', '5/12', '0.5', '2/3', '0.75', '5/6', '11/12', '1.0', '1.25', '17/12', '1.5', '2.0', '2.5', '3.0', '4.0']\n"
          ],
          "name": "stdout"
        }
      ]
    },
    {
      "cell_type": "code",
      "metadata": {
        "id": "RODOXXdo4Gip",
        "colab": {
          "base_uri": "https://localhost:8080/",
          "height": 65,
          "referenced_widgets": [
            "d08f7eb737d14650885d619076e2267c",
            "af1e8adf4a4f4de1a664792b451622a0",
            "37d50cfd6ff247b1b9ab04c493336126",
            "1731e01714a24a52a6935edf90ec69e5",
            "c3c8308ab7c740cda783c676d3fcdc7b",
            "73f4a233f3b9413cb2bd4f32e006f36c",
            "e6215ff0fd35462a9b7fe13e6f9d2aac",
            "18291a1e24584517b46d689c341df956"
          ]
        },
        "outputId": "6a0e060f-b3b6-497f-83a9-cf5799347fab"
      },
      "source": [
        "from tqdm.auto import trange\r\n",
        "import numpy as np\r\n",
        "\r\n",
        "sequence_length = 32\r\n",
        "\r\n",
        "# Define empty array for train data\r\n",
        "train_chords = [];  train_durations = []\r\n",
        "target_chords = []; target_durations = []\r\n",
        "\r\n",
        "# Construct train and target sequences for chords and durations\r\n",
        "for i in trange(len(data_chords)):\r\n",
        "    chord_list = chord_encoder.transform(data_chords[i])\r\n",
        "    duration_list = duration_encoder.transform(data_durations[i])\r\n",
        "    for t in range(len(chord_list) - sequence_length):\r\n",
        "        train_chords.append(chord_list[t:t+sequence_length])\r\n",
        "        target_chords.append(chord_list[t+1])\r\n",
        "\r\n",
        "        train_durations.append(duration_list[t:t+sequence_length])\r\n",
        "        target_durations.append(duration_list[t+1])\r\n",
        "\r\n",
        "\r\n",
        "train_chords = np.array(train_chords);    train_durations = np.array(train_durations)\r\n",
        "target_chords = np.array(target_chords);  target_durations = np.array(target_durations)\r\n",
        "\r\n",
        "num_samples, num_chords = train_chords.shape\r\n",
        "# num_durations = train_durations.shape[1]\r\n"
      ],
      "execution_count": 7,
      "outputs": [
        {
          "output_type": "display_data",
          "data": {
            "application/vnd.jupyter.widget-view+json": {
              "model_id": "d08f7eb737d14650885d619076e2267c",
              "version_minor": 0,
              "version_major": 2
            },
            "text/plain": [
              "HBox(children=(FloatProgress(value=0.0, max=88.0), HTML(value='')))"
            ]
          },
          "metadata": {
            "tags": []
          }
        },
        {
          "output_type": "stream",
          "text": [
            "\n"
          ],
          "name": "stdout"
        }
      ]
    },
    {
      "cell_type": "code",
      "metadata": {
        "id": "yMue7_FJ1fVj"
      },
      "source": [
        "from tensorflow.keras.utils import to_categorical\r\n",
        "\r\n",
        "target_chords_1hot = to_categorical(target_chords)\r\n",
        "target_durations_1hot = to_categorical(target_durations)"
      ],
      "execution_count": 8,
      "outputs": []
    },
    {
      "cell_type": "markdown",
      "metadata": {
        "id": "UxDKx7ZEATTb"
      },
      "source": [
        "## Part III"
      ]
    },
    {
      "cell_type": "code",
      "metadata": {
        "id": "u2urbkcD0C9m",
        "colab": {
          "base_uri": "https://localhost:8080/",
          "height": 1000
        },
        "outputId": "cbcb5558-ed09-4ee3-b9e2-f59f81a34c92"
      },
      "source": [
        "import tensorflow as tf\r\n",
        "from tensorflow.keras.layers import Input, Dense, Dropout\r\n",
        "from tensorflow.keras.layers import Embedding, Concatenate, GRU, SimpleRNN\r\n",
        "from tensorflow.keras.models import Model\r\n",
        "from tensorflow.keras.losses import CategoricalCrossentropy\r\n",
        "from tensorflow.keras.utils import plot_model\r\n",
        "from IPython.display import display, Image\r\n",
        "\r\n",
        "# Use Keras Functional API for using Concatenate layer\r\n",
        "\r\n",
        "# Define inputs\r\n",
        "input_chord = Input(shape = (None,), name='input_chord')\r\n",
        "input_duration = Input(shape = (None,), name='input_duration')\r\n",
        "\r\n",
        "# Define embedding layers:\r\n",
        "embed_dim = 64\r\n",
        "sequence_length = 32\r\n",
        "embedding_chord = Embedding(num_unique_chords, embed_dim, input_length = sequence_length, name='embedding_chord')(input_chord)\r\n",
        "embedding_duration = Embedding(num_unique_duration, embed_dim, input_length = sequence_length, name='embedding_duration')(input_duration)\r\n",
        "\r\n",
        "# Concatenation the embedding layers:\r\n",
        "concat = Concatenate(axis=1, name='concat')([embedding_chord, embedding_duration])\r\n",
        "# GRU and SimpleRNN:\r\n",
        "gru = GRU(256, return_sequences=True, name='gru')(concat)\r\n",
        "simple_rnn = SimpleRNN(128, name='simple_rnn')(gru)\r\n",
        "dense = Dense(64, activation='relu', name='dense')(simple_rnn)\r\n",
        "\r\n",
        "dropout = Dropout(0.3, name='dropout')(dense) \r\n",
        "# Define outputs:\r\n",
        "output_chord = Dense(target_chords_1hot.shape[1], activation = 'softmax', name='output_chord')(dropout)\r\n",
        "output_duration = Dense(target_durations_1hot.shape[1], activation = 'softmax', name='output_duration')(dropout)\r\n",
        "\r\n",
        "# Define model:\r\n",
        "model = Model(inputs = [input_chord, input_duration], outputs = [output_chord, output_duration], name='model')\r\n",
        "model.compile(loss='categorical_crossentropy', optimizer='adam', metrics=['accuracy'])\r\n",
        "plot_model(model, show_shapes=True); display(Image('model.png'))\r\n",
        "model.summary()"
      ],
      "execution_count": 9,
      "outputs": [
        {
          "output_type": "display_data",
          "data": {
            "image/png": "[encoded data removed]",
            "text/plain": [
              "<IPython.core.display.Image object>"
            ]
          },
          "metadata": {
            "tags": []
          }
        },
        {
          "output_type": "stream",
          "text": [
            "Model: \"model\"\n",
            "__________________________________________________________________________________________________\n",
            "Layer (type)                    Output Shape         Param #     Connected to                     \n",
            "==================================================================================================\n",
            "input_chord (InputLayer)        [(None, None)]       0                                            \n",
            "__________________________________________________________________________________________________\n",
            "input_duration (InputLayer)     [(None, None)]       0                                            \n",
            "__________________________________________________________________________________________________\n",
            "embedding_chord (Embedding)     (None, None, 64)     195072      input_chord[0][0]                \n",
            "__________________________________________________________________________________________________\n",
            "embedding_duration (Embedding)  (None, None, 64)     1152        input_duration[0][0]             \n",
            "__________________________________________________________________________________________________\n",
            "concat (Concatenate)            (None, None, 64)     0           embedding_chord[0][0]            \n",
            "                                                                 embedding_duration[0][0]         \n",
            "__________________________________________________________________________________________________\n",
            "gru (GRU)                       (None, None, 256)    247296      concat[0][0]                     \n",
            "__________________________________________________________________________________________________\n",
            "simple_rnn (SimpleRNN)          (None, 128)          49280       gru[0][0]                        \n",
            "__________________________________________________________________________________________________\n",
            "dense (Dense)                   (None, 64)           8256        simple_rnn[0][0]                 \n",
            "__________________________________________________________________________________________________\n",
            "dropout (Dropout)               (None, 64)           0           dense[0][0]                      \n",
            "__________________________________________________________________________________________________\n",
            "output_chord (Dense)            (None, 3048)         198120      dropout[0][0]                    \n",
            "__________________________________________________________________________________________________\n",
            "output_duration (Dense)         (None, 18)           1170        dropout[0][0]                    \n",
            "==================================================================================================\n",
            "Total params: 700,346\n",
            "Trainable params: 700,346\n",
            "Non-trainable params: 0\n",
            "__________________________________________________________________________________________________\n"
          ],
          "name": "stdout"
        }
      ]
    },
    {
      "cell_type": "code",
      "metadata": {
        "colab": {
          "base_uri": "https://localhost:8080/"
        },
        "id": "fU0c3cmnoMxg",
        "outputId": "78bbaa87-405b-4c20-ed6a-f198d90e0e80"
      },
      "source": [
        "from tensorflow.python.client import device_lib\r\n",
        "print(device_lib.list_local_devices())"
      ],
      "execution_count": 10,
      "outputs": [
        {
          "output_type": "stream",
          "text": [
            "[name: \"/device:CPU:0\"\n",
            "device_type: \"CPU\"\n",
            "memory_limit: 268435456\n",
            "locality {\n",
            "}\n",
            "incarnation: 10748611995551403372\n",
            "]\n"
          ],
          "name": "stdout"
        }
      ]
    },
    {
      "cell_type": "markdown",
      "metadata": {
        "id": "oWozqxO3_9gK"
      },
      "source": [
        "## Part IV"
      ]
    },
    {
      "cell_type": "code",
      "metadata": {
        "colab": {
          "base_uri": "https://localhost:8080/"
        },
        "id": "RGRmary5vtkh",
        "outputId": "0afe102e-0898-45aa-a965-6b8cf7c91f4c"
      },
      "source": [
        "train_data = [train_chords, train_durations]\r\n",
        "target_data = [target_chords_1hot, target_durations_1hot]\r\n",
        "history = model.fit(train_data, \r\n",
        "          target_data, \r\n",
        "          epochs=80, \r\n",
        "          batch_size=256\r\n",
        "          )\r\n",
        "model.save('simplemodel_chord_duration.h5')"
      ],
      "execution_count": null,
      "outputs": [
        {
          "output_type": "stream",
          "text": [
            "Epoch 1/80\n",
            "122/122 [==============================] - 85s 675ms/step - loss: 8.3610 - output_chord_loss: 7.1680 - output_duration_loss: 1.1929 - output_chord_accuracy: 0.0126 - output_duration_accuracy: 0.6936\n",
            "Epoch 2/80\n",
            "122/122 [==============================] - 78s 637ms/step - loss: 6.7474 - output_chord_loss: 6.1461 - output_duration_loss: 0.6013 - output_chord_accuracy: 0.0234 - output_duration_accuracy: 0.8088\n",
            "Epoch 3/80\n",
            "122/122 [==============================] - 78s 639ms/step - loss: 6.3934 - output_chord_loss: 5.9694 - output_duration_loss: 0.4240 - output_chord_accuracy: 0.0229 - output_duration_accuracy: 0.8652\n",
            "Epoch 4/80\n",
            "122/122 [==============================] - 78s 641ms/step - loss: 6.1989 - output_chord_loss: 5.8800 - output_duration_loss: 0.3189 - output_chord_accuracy: 0.0248 - output_duration_accuracy: 0.8994\n",
            "Epoch 5/80\n",
            "122/122 [==============================] - 80s 655ms/step - loss: 6.0338 - output_chord_loss: 5.8219 - output_duration_loss: 0.2119 - output_chord_accuracy: 0.0280 - output_duration_accuracy: 0.9301\n",
            "Epoch 6/80\n",
            " 60/122 [=============>................] - ETA: 40s - loss: 5.7848 - output_chord_loss: 5.6896 - output_duration_loss: 0.0952 - output_chord_accuracy: 0.0325 - output_duration_accuracy: 0.9751"
          ],
          "name": "stdout"
        }
      ]
    },
    {
      "cell_type": "code",
      "metadata": {
        "id": "x_GgCSnO6VFn"
      },
      "source": [
        "import matplotlib.pyplot as plt\r\n",
        "\r\n",
        "plt.figure(figsize=(15,5))\r\n",
        "\r\n",
        "plt.subplot(121)\r\n",
        "plt.plot(history.history['loss'], label='loss')\r\n",
        "plt.plot(history.history['output_chord_loss'], label='Chord loss')\r\n",
        "plt.plot(history.history['output_duration_loss'], label='Duration loss')\r\n",
        "plt.xlabel('Epochs')\r\n",
        "plt.ylabel('Loss')\r\n",
        "plt.legend()\r\n",
        "\r\n",
        "plt.subplot(122)\r\n",
        "plt.plot(history.history['output_chord_accuracy'], label='Chord accuracy')\r\n",
        "plt.plot(history.history['output_duration_accuracy'], label='Duration accuracy')\r\n",
        "plt.xlabel('Epochs')\r\n",
        "plt.ylabel('Accuracy')\r\n",
        "plt.legend()\r\n",
        "plt.show()"
      ],
      "execution_count": null,
      "outputs": []
    },
    {
      "cell_type": "code",
      "metadata": {
        "id": "-L8iS_vEqY12"
      },
      "source": [
        "import numpy as np\r\n",
        "from tqdm.auto import trange\r\n",
        "\r\n",
        "initial_chords = train_chords[0:1]\r\n",
        "initial_durations = train_durations[0:1]\r\n",
        "\r\n",
        "def predict(chords, durations):\r\n",
        "    pred_chords, pred_durations = model.predict([chords, durations])\r\n",
        "    return np.argmax(pred_chords), np.argmax(pred_durations)\r\n",
        "\r\n",
        "# empty lists for generated chords and durations\r\n",
        "generated_chords = []; generated_durations = []\r\n",
        "\r\n",
        "# Generate chords and durations\r\n",
        "num_iter = 50\r\n",
        "for j in trange(num_iter):\r\n",
        "    gen_chord, gen_duration = predict(initial_chords, initial_durations)\r\n",
        "    generated_chords.append(gen_chord)\r\n",
        "    generated_durations.append(gen_duration)\r\n",
        "    # shift chords and durations and append new data at last\r\n",
        "    initial_chords[0][:-1] = initial_chords[0][1:]\r\n",
        "    initial_chords[0][-1] = gen_chord\r\n",
        "    initial_durations[0][:-1] = initial_durations[0][1:]\r\n",
        "    initial_durations[0][-1] = gen_duration\r\n",
        "    \r\n",
        "# change to numpy ndarray:\r\n",
        "generated_chords = np.array(generated_chords)\r\n",
        "generated_durations = np.array(generated_durations) \r\n",
        "\r\n"
      ],
      "execution_count": null,
      "outputs": []
    },
    {
      "cell_type": "code",
      "metadata": {
        "id": "eWiMrtwHyMeO"
      },
      "source": [
        "from music21 import instrument, stream, note, chord\r\n",
        "from tqdm.auto import trange\r\n",
        "import os\r\n",
        "\r\n",
        "# Define save directory\r\n",
        "generated_folder = 'generated'\r\n",
        "create_empty_folder(generated_folder)\r\n",
        "\r\n",
        "# Create stream object and add guitar as instrument\r\n",
        "generated_stream = stream.Stream()\r\n",
        "generated_stream.append(instrument.Guitar())\r\n",
        "\r\n",
        "# Add notes and durations to stream\r\n",
        "for i in trange(generated_chords.shape[0]):\r\n",
        "    chord_str = chord_encoder.inverse_transform([generated_chords[i]])[0]\r\n",
        "    chord_str = chord_str.replace('.', ' ')\r\n",
        "    try:\r\n",
        "        generated_stream.append(note.Note(chord_str, quarterType = generated_durations[j]))\r\n",
        "    except:\r\n",
        "        generated_stream.append(chord.Chord(chord_str, quarterType = generated_durations[j]))\r\n",
        "\r\n",
        "# Save as MIDI file\r\n",
        "generated_stream.write('midi', fp=os.path.join(generated_folder,'generated-simplemodel.mid'))\r\n"
      ],
      "execution_count": null,
      "outputs": []
    },
    {
      "cell_type": "markdown",
      "metadata": {
        "id": "aE1QYo0aNI6Z"
      },
      "source": [
        "## Part V"
      ]
    },
    {
      "cell_type": "code",
      "metadata": {
        "id": "Flygh5IxNWCw"
      },
      "source": [
        ""
      ],
      "execution_count": null,
      "outputs": []
    },
    {
      "cell_type": "markdown",
      "metadata": {
        "id": "w5Up3i8CNW7e"
      },
      "source": [
        "## Part VII"
      ]
    },
    {
      "cell_type": "code",
      "metadata": {
        "id": "_iexHq8evi64"
      },
      "source": [
        "from tensorflow.keras.layers import Input, Embedding, Concatenate, LSTM, Dense\r\n",
        "from tensorflow.keras.models import Model\r\n",
        "from tensorflow.keras.losses import CategoricalCrossentropy\r\n",
        "from tensorflow.keras.utils import plot_model\r\n",
        "from IPython.display import display, Image\r\n",
        "\r\n",
        "# Define inputs:\r\n",
        "input_chord = Input(shape = (None,), name='input_chord')\r\n",
        "input_duration = Input(shape = (None,), name='input_duration')\r\n",
        "\r\n",
        "# Define embedding layers:\r\n",
        "embedding_chord = Embedding(num_unique_chords, embed_dim, input_length = sequence_length, name='embedding_chord')(input_chord)\r\n",
        "embedding_duration = Embedding(num_unique_duration, embed_dim, input_length = sequence_length, name='embedding_duration')(input_duration)\r\n",
        "\r\n",
        "# Concatenate embedding layers:\r\n",
        "concat = Concatenate(axis=1, name='concat')([embedding_chord, embedding_duration])\r\n",
        "\r\n",
        "# Define LSTM layer\r\n",
        "lstm = LSTM(512, name='lstm')(concat)\r\n",
        "\r\n",
        "# Define dense layer\r\n",
        "dense = Dense(256, name='dense')(lstm)\r\n",
        "\r\n",
        "# Define output layers\r\n",
        "output_chord = Dense(target_chords_1hot.shape[1], activation = 'softmax', name='output_chord')(dense)\r\n",
        "output_duration = Dense(target_durations_1hot.shape[1], activation = 'softmax', name='output_duration')(dense)\r\n",
        "\r\n",
        "# Define model\r\n",
        "model = Model(inputs = [input_chord, input_duration], outputs = [output_chord, output_duration], name='lstm_model')\r\n",
        "model.compile(loss=CategoricalCrossentropy(), optimizer='adam', metrics=['accuracy'])\r\n",
        "plot_model(model, to_file='lstm_model.png', show_shapes=True); display(Image('lstm_model.png'))\r\n",
        "model.summary()"
      ],
      "execution_count": null,
      "outputs": []
    },
    {
      "cell_type": "code",
      "metadata": {
        "id": "GsKJigHBm9JB"
      },
      "source": [
        "train_data = [train_chords, train_durations]\r\n",
        "target_data = [target_chords_1hot, target_durations_1hot]\r\n",
        "history = model.fit(train_data, \r\n",
        "          target_data, \r\n",
        "          epochs=128, \r\n",
        "          batch_size=256\r\n",
        "          )\r\n",
        "model.save('lstmModel_chord_duration.h5')"
      ],
      "execution_count": null,
      "outputs": []
    },
    {
      "cell_type": "code",
      "metadata": {
        "id": "toFoinfVnuhS"
      },
      "source": [
        "import matplotlib.pyplot as plt\r\n",
        "\r\n",
        "plt.figure(figsize=(15,5))\r\n",
        "\r\n",
        "plt.subplot(121)\r\n",
        "plt.plot(history.history['loss'], label='loss')\r\n",
        "plt.plot(history.history['output_chord_loss'], label='Chord loss')\r\n",
        "plt.plot(history.history['output_duration_loss'], label='Duration loss')\r\n",
        "plt.xlabel('Epochs')\r\n",
        "plt.ylabel('Loss')\r\n",
        "plt.legend()\r\n",
        "\r\n",
        "plt.subplot(122)\r\n",
        "plt.plot(history.history['output_chord_accuracy'], label='Chord accuracy')\r\n",
        "plt.plot(history.history['output_duration_accuracy'], label='Duration accuracy')\r\n",
        "plt.xlabel('Epochs')\r\n",
        "plt.ylabel('Accuracy')\r\n",
        "plt.legend()\r\n",
        "plt.show()"
      ],
      "execution_count": null,
      "outputs": []
    },
    {
      "cell_type": "code",
      "metadata": {
        "id": "2fa0a16TnSbn"
      },
      "source": [
        "import numpy as np\r\n",
        "from tqdm.auto import trange\r\n",
        "\r\n",
        "initial_chords = train_chords[0:1]\r\n",
        "initial_durations = train_durations[0:1]\r\n",
        "\r\n",
        "def predict(chords, durations):\r\n",
        "    pred_chords, pred_durations = model.predict([chords, durations])\r\n",
        "    return np.argmax(pred_chords), np.argmax(pred_durations)\r\n",
        "\r\n",
        "# empty lists for generated chords and durations\r\n",
        "generated_chords = []; generated_durations = []\r\n",
        "\r\n",
        "# Generate chords and durations\r\n",
        "num_iter = 90\r\n",
        "for j in trange(num_iter):\r\n",
        "    gen_chord, gen_duration = predict(initial_chords, initial_durations)\r\n",
        "    generated_chords.append(gen_chord)\r\n",
        "    generated_durations.append(gen_duration)\r\n",
        "    # shift chords and durations and append new data at last\r\n",
        "    initial_chords[0][:-1] = initial_chords[0][1:]\r\n",
        "    initial_chords[0][-1] = gen_chord\r\n",
        "    initial_durations[0][:-1] = initial_durations[0][1:]\r\n",
        "    initial_durations[0][-1] = gen_duration\r\n",
        "    \r\n",
        "# change to numpy ndarray:\r\n",
        "generated_chords = np.array(generated_chords)\r\n",
        "generated_durations = np.array(generated_durations) \r\n",
        "\r\n"
      ],
      "execution_count": null,
      "outputs": []
    },
    {
      "cell_type": "code",
      "metadata": {
        "id": "EFIVKFQytAs4"
      },
      "source": [
        "from music21 import instrument, stream, note, chord\r\n",
        "from tqdm.auto import trange\r\n",
        "import os\r\n",
        "\r\n",
        "# Define save directory\r\n",
        "generated_folder = 'generated'\r\n",
        "create_empty_folder(generated_folder)\r\n",
        "\r\n",
        "# Create stream object and add guitar as instrument\r\n",
        "generated_stream = stream.Stream()\r\n",
        "generated_stream.append(instrument.Guitar())\r\n",
        "\r\n",
        "# Add notes and durations to stream\r\n",
        "for i in trange(generated_chords.shape[0]):\r\n",
        "    chord_str = chord_encoder.inverse_transform([generated_chords[i]])[0]\r\n",
        "    chord_str = chord_str.replace('.', ' ')\r\n",
        "    try:\r\n",
        "        generated_stream.append(note.Note(chord_str, quarterType = generated_durations[j]))\r\n",
        "    except:\r\n",
        "        generated_stream.append(chord.Chord(chord_str, quarterType = generated_durations[j]))\r\n",
        "\r\n",
        "# Save as MIDI file\r\n",
        "generated_stream.write('midi', fp=os.path.join(generated_folder,'generated-lstm_model.mid'))\r\n"
      ],
      "execution_count": null,
      "outputs": []
    }
  ]
}
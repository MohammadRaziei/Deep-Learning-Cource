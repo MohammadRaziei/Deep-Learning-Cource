{
  "nbformat": 4,
  "nbformat_minor": 0,
  "metadata": {
    "kernelspec": {
      "display_name": "Python 3",
      "language": "python",
      "name": "python3"
    },
    "language_info": {
      "codemirror_mode": {
        "name": "ipython",
        "version": 3
      },
      "file_extension": ".py",
      "mimetype": "text/x-python",
      "name": "python",
      "nbconvert_exporter": "python",
      "pygments_lexer": "ipython3",
      "version": "3.7.6"
    },
    "varInspector": {
      "cols": {
        "lenName": 16,
        "lenType": 16,
        "lenVar": 40
      },
      "kernels_config": {
        "python": {
          "delete_cmd_postfix": "",
          "delete_cmd_prefix": "del ",
          "library": "var_list.py",
          "varRefreshCmd": "print(var_dic_list())"
        },
        "r": {
          "delete_cmd_postfix": ") ",
          "delete_cmd_prefix": "rm(",
          "library": "var_list.r",
          "varRefreshCmd": "cat(var_dic_list()) "
        }
      },
      "types_to_exclude": [
        "module",
        "function",
        "builtin_function_or_method",
        "instance",
        "_Feature"
      ],
      "window_display": false
    },
    "colab": {
      "name": "HW04_Q1.ipynb",
      "provenance": [],
      "include_colab_link": true
    },
    "widgets": {
      "application/vnd.jupyter.widget-state+json": {
        "a9bf590909b847af89611ac1cdd295ea": {
          "model_module": "@jupyter-widgets/controls",
          "model_name": "HBoxModel",
          "state": {
            "_view_name": "HBoxView",
            "_dom_classes": [],
            "_model_name": "HBoxModel",
            "_view_module": "@jupyter-widgets/controls",
            "_model_module_version": "1.5.0",
            "_view_count": null,
            "_view_module_version": "1.5.0",
            "box_style": "",
            "layout": "IPY_MODEL_41ed7b2b7d5e4d639b9490288c9cab93",
            "_model_module": "@jupyter-widgets/controls",
            "children": [
              "IPY_MODEL_371672c0b88c451d90ed97a4ea84e765",
              "IPY_MODEL_7b89cbdaba2e49aba2627a94a648fd24"
            ]
          }
        },
        "41ed7b2b7d5e4d639b9490288c9cab93": {
          "model_module": "@jupyter-widgets/base",
          "model_name": "LayoutModel",
          "state": {
            "_view_name": "LayoutView",
            "grid_template_rows": null,
            "right": null,
            "justify_content": null,
            "_view_module": "@jupyter-widgets/base",
            "overflow": null,
            "_model_module_version": "1.2.0",
            "_view_count": null,
            "flex_flow": null,
            "width": null,
            "min_width": null,
            "border": null,
            "align_items": null,
            "bottom": null,
            "_model_module": "@jupyter-widgets/base",
            "top": null,
            "grid_column": null,
            "overflow_y": null,
            "overflow_x": null,
            "grid_auto_flow": null,
            "grid_area": null,
            "grid_template_columns": null,
            "flex": null,
            "_model_name": "LayoutModel",
            "justify_items": null,
            "grid_row": null,
            "max_height": null,
            "align_content": null,
            "visibility": null,
            "align_self": null,
            "height": null,
            "min_height": null,
            "padding": null,
            "grid_auto_rows": null,
            "grid_gap": null,
            "max_width": null,
            "order": null,
            "_view_module_version": "1.2.0",
            "grid_template_areas": null,
            "object_position": null,
            "object_fit": null,
            "grid_auto_columns": null,
            "margin": null,
            "display": null,
            "left": null
          }
        },
        "371672c0b88c451d90ed97a4ea84e765": {
          "model_module": "@jupyter-widgets/controls",
          "model_name": "FloatProgressModel",
          "state": {
            "_view_name": "ProgressView",
            "style": "IPY_MODEL_cf7c344f043d414087fe0ff7204ab47b",
            "_dom_classes": [],
            "description": "100%",
            "_model_name": "FloatProgressModel",
            "bar_style": "success",
            "max": 10,
            "_view_module": "@jupyter-widgets/controls",
            "_model_module_version": "1.5.0",
            "value": 10,
            "_view_count": null,
            "_view_module_version": "1.5.0",
            "orientation": "horizontal",
            "min": 0,
            "description_tooltip": null,
            "_model_module": "@jupyter-widgets/controls",
            "layout": "IPY_MODEL_8e9e07c6292c4fe2899c42859573cb52"
          }
        },
        "7b89cbdaba2e49aba2627a94a648fd24": {
          "model_module": "@jupyter-widgets/controls",
          "model_name": "HTMLModel",
          "state": {
            "_view_name": "HTMLView",
            "style": "IPY_MODEL_ff071eae55744eef996524cfd33622ce",
            "_dom_classes": [],
            "description": "",
            "_model_name": "HTMLModel",
            "placeholder": "​",
            "_view_module": "@jupyter-widgets/controls",
            "_model_module_version": "1.5.0",
            "value": " 10/10 [00:31&lt;00:00,  3.19s/it]",
            "_view_count": null,
            "_view_module_version": "1.5.0",
            "description_tooltip": null,
            "_model_module": "@jupyter-widgets/controls",
            "layout": "IPY_MODEL_e9a9fd72f1c04749a208d0157cb94e37"
          }
        },
        "cf7c344f043d414087fe0ff7204ab47b": {
          "model_module": "@jupyter-widgets/controls",
          "model_name": "ProgressStyleModel",
          "state": {
            "_view_name": "StyleView",
            "_model_name": "ProgressStyleModel",
            "description_width": "initial",
            "_view_module": "@jupyter-widgets/base",
            "_model_module_version": "1.5.0",
            "_view_count": null,
            "_view_module_version": "1.2.0",
            "bar_color": null,
            "_model_module": "@jupyter-widgets/controls"
          }
        },
        "8e9e07c6292c4fe2899c42859573cb52": {
          "model_module": "@jupyter-widgets/base",
          "model_name": "LayoutModel",
          "state": {
            "_view_name": "LayoutView",
            "grid_template_rows": null,
            "right": null,
            "justify_content": null,
            "_view_module": "@jupyter-widgets/base",
            "overflow": null,
            "_model_module_version": "1.2.0",
            "_view_count": null,
            "flex_flow": null,
            "width": null,
            "min_width": null,
            "border": null,
            "align_items": null,
            "bottom": null,
            "_model_module": "@jupyter-widgets/base",
            "top": null,
            "grid_column": null,
            "overflow_y": null,
            "overflow_x": null,
            "grid_auto_flow": null,
            "grid_area": null,
            "grid_template_columns": null,
            "flex": null,
            "_model_name": "LayoutModel",
            "justify_items": null,
            "grid_row": null,
            "max_height": null,
            "align_content": null,
            "visibility": null,
            "align_self": null,
            "height": null,
            "min_height": null,
            "padding": null,
            "grid_auto_rows": null,
            "grid_gap": null,
            "max_width": null,
            "order": null,
            "_view_module_version": "1.2.0",
            "grid_template_areas": null,
            "object_position": null,
            "object_fit": null,
            "grid_auto_columns": null,
            "margin": null,
            "display": null,
            "left": null
          }
        },
        "ff071eae55744eef996524cfd33622ce": {
          "model_module": "@jupyter-widgets/controls",
          "model_name": "DescriptionStyleModel",
          "state": {
            "_view_name": "StyleView",
            "_model_name": "DescriptionStyleModel",
            "description_width": "",
            "_view_module": "@jupyter-widgets/base",
            "_model_module_version": "1.5.0",
            "_view_count": null,
            "_view_module_version": "1.2.0",
            "_model_module": "@jupyter-widgets/controls"
          }
        },
        "e9a9fd72f1c04749a208d0157cb94e37": {
          "model_module": "@jupyter-widgets/base",
          "model_name": "LayoutModel",
          "state": {
            "_view_name": "LayoutView",
            "grid_template_rows": null,
            "right": null,
            "justify_content": null,
            "_view_module": "@jupyter-widgets/base",
            "overflow": null,
            "_model_module_version": "1.2.0",
            "_view_count": null,
            "flex_flow": null,
            "width": null,
            "min_width": null,
            "border": null,
            "align_items": null,
            "bottom": null,
            "_model_module": "@jupyter-widgets/base",
            "top": null,
            "grid_column": null,
            "overflow_y": null,
            "overflow_x": null,
            "grid_auto_flow": null,
            "grid_area": null,
            "grid_template_columns": null,
            "flex": null,
            "_model_name": "LayoutModel",
            "justify_items": null,
            "grid_row": null,
            "max_height": null,
            "align_content": null,
            "visibility": null,
            "align_self": null,
            "height": null,
            "min_height": null,
            "padding": null,
            "grid_auto_rows": null,
            "grid_gap": null,
            "max_width": null,
            "order": null,
            "_view_module_version": "1.2.0",
            "grid_template_areas": null,
            "object_position": null,
            "object_fit": null,
            "grid_auto_columns": null,
            "margin": null,
            "display": null,
            "left": null
          }
        },
        "851d27373edf4f2dac674383932f14c9": {
          "model_module": "@jupyter-widgets/controls",
          "model_name": "HBoxModel",
          "state": {
            "_view_name": "HBoxView",
            "_dom_classes": [],
            "_model_name": "HBoxModel",
            "_view_module": "@jupyter-widgets/controls",
            "_model_module_version": "1.5.0",
            "_view_count": null,
            "_view_module_version": "1.5.0",
            "box_style": "",
            "layout": "IPY_MODEL_ea9182a7038b4ba9a7514c1ab8790712",
            "_model_module": "@jupyter-widgets/controls",
            "children": [
              "IPY_MODEL_3f5e4453f2fc4cfaa76e51dfa1a20cf3",
              "IPY_MODEL_695846e84f114190ad1cf1a70ba8afc6"
            ]
          }
        },
        "ea9182a7038b4ba9a7514c1ab8790712": {
          "model_module": "@jupyter-widgets/base",
          "model_name": "LayoutModel",
          "state": {
            "_view_name": "LayoutView",
            "grid_template_rows": null,
            "right": null,
            "justify_content": null,
            "_view_module": "@jupyter-widgets/base",
            "overflow": null,
            "_model_module_version": "1.2.0",
            "_view_count": null,
            "flex_flow": null,
            "width": null,
            "min_width": null,
            "border": null,
            "align_items": null,
            "bottom": null,
            "_model_module": "@jupyter-widgets/base",
            "top": null,
            "grid_column": null,
            "overflow_y": null,
            "overflow_x": null,
            "grid_auto_flow": null,
            "grid_area": null,
            "grid_template_columns": null,
            "flex": null,
            "_model_name": "LayoutModel",
            "justify_items": null,
            "grid_row": null,
            "max_height": null,
            "align_content": null,
            "visibility": null,
            "align_self": null,
            "height": null,
            "min_height": null,
            "padding": null,
            "grid_auto_rows": null,
            "grid_gap": null,
            "max_width": null,
            "order": null,
            "_view_module_version": "1.2.0",
            "grid_template_areas": null,
            "object_position": null,
            "object_fit": null,
            "grid_auto_columns": null,
            "margin": null,
            "display": null,
            "left": null
          }
        },
        "3f5e4453f2fc4cfaa76e51dfa1a20cf3": {
          "model_module": "@jupyter-widgets/controls",
          "model_name": "FloatProgressModel",
          "state": {
            "_view_name": "ProgressView",
            "style": "IPY_MODEL_d42558903a5746beae5d15b64d0041d4",
            "_dom_classes": [],
            "description": "100%",
            "_model_name": "FloatProgressModel",
            "bar_style": "success",
            "max": 96,
            "_view_module": "@jupyter-widgets/controls",
            "_model_module_version": "1.5.0",
            "value": 96,
            "_view_count": null,
            "_view_module_version": "1.5.0",
            "orientation": "horizontal",
            "min": 0,
            "description_tooltip": null,
            "_model_module": "@jupyter-widgets/controls",
            "layout": "IPY_MODEL_be7e7b378d4b4bbc8a1e345bcd2cef3f"
          }
        },
        "695846e84f114190ad1cf1a70ba8afc6": {
          "model_module": "@jupyter-widgets/controls",
          "model_name": "HTMLModel",
          "state": {
            "_view_name": "HTMLView",
            "style": "IPY_MODEL_d88e98457fcd42be89eeb7a2142c9e82",
            "_dom_classes": [],
            "description": "",
            "_model_name": "HTMLModel",
            "placeholder": "​",
            "_view_module": "@jupyter-widgets/controls",
            "_model_module_version": "1.5.0",
            "value": " 96/96 [4:20:10&lt;00:00, 162.61s/it]",
            "_view_count": null,
            "_view_module_version": "1.5.0",
            "description_tooltip": null,
            "_model_module": "@jupyter-widgets/controls",
            "layout": "IPY_MODEL_3c53cbeb9a1b4c98b92768f36a645381"
          }
        },
        "d42558903a5746beae5d15b64d0041d4": {
          "model_module": "@jupyter-widgets/controls",
          "model_name": "ProgressStyleModel",
          "state": {
            "_view_name": "StyleView",
            "_model_name": "ProgressStyleModel",
            "description_width": "initial",
            "_view_module": "@jupyter-widgets/base",
            "_model_module_version": "1.5.0",
            "_view_count": null,
            "_view_module_version": "1.2.0",
            "bar_color": null,
            "_model_module": "@jupyter-widgets/controls"
          }
        },
        "be7e7b378d4b4bbc8a1e345bcd2cef3f": {
          "model_module": "@jupyter-widgets/base",
          "model_name": "LayoutModel",
          "state": {
            "_view_name": "LayoutView",
            "grid_template_rows": null,
            "right": null,
            "justify_content": null,
            "_view_module": "@jupyter-widgets/base",
            "overflow": null,
            "_model_module_version": "1.2.0",
            "_view_count": null,
            "flex_flow": null,
            "width": null,
            "min_width": null,
            "border": null,
            "align_items": null,
            "bottom": null,
            "_model_module": "@jupyter-widgets/base",
            "top": null,
            "grid_column": null,
            "overflow_y": null,
            "overflow_x": null,
            "grid_auto_flow": null,
            "grid_area": null,
            "grid_template_columns": null,
            "flex": null,
            "_model_name": "LayoutModel",
            "justify_items": null,
            "grid_row": null,
            "max_height": null,
            "align_content": null,
            "visibility": null,
            "align_self": null,
            "height": null,
            "min_height": null,
            "padding": null,
            "grid_auto_rows": null,
            "grid_gap": null,
            "max_width": null,
            "order": null,
            "_view_module_version": "1.2.0",
            "grid_template_areas": null,
            "object_position": null,
            "object_fit": null,
            "grid_auto_columns": null,
            "margin": null,
            "display": null,
            "left": null
          }
        },
        "d88e98457fcd42be89eeb7a2142c9e82": {
          "model_module": "@jupyter-widgets/controls",
          "model_name": "DescriptionStyleModel",
          "state": {
            "_view_name": "StyleView",
            "_model_name": "DescriptionStyleModel",
            "description_width": "",
            "_view_module": "@jupyter-widgets/base",
            "_model_module_version": "1.5.0",
            "_view_count": null,
            "_view_module_version": "1.2.0",
            "_model_module": "@jupyter-widgets/controls"
          }
        },
        "3c53cbeb9a1b4c98b92768f36a645381": {
          "model_module": "@jupyter-widgets/base",
          "model_name": "LayoutModel",
          "state": {
            "_view_name": "LayoutView",
            "grid_template_rows": null,
            "right": null,
            "justify_content": null,
            "_view_module": "@jupyter-widgets/base",
            "overflow": null,
            "_model_module_version": "1.2.0",
            "_view_count": null,
            "flex_flow": null,
            "width": null,
            "min_width": null,
            "border": null,
            "align_items": null,
            "bottom": null,
            "_model_module": "@jupyter-widgets/base",
            "top": null,
            "grid_column": null,
            "overflow_y": null,
            "overflow_x": null,
            "grid_auto_flow": null,
            "grid_area": null,
            "grid_template_columns": null,
            "flex": null,
            "_model_name": "LayoutModel",
            "justify_items": null,
            "grid_row": null,
            "max_height": null,
            "align_content": null,
            "visibility": null,
            "align_self": null,
            "height": null,
            "min_height": null,
            "padding": null,
            "grid_auto_rows": null,
            "grid_gap": null,
            "max_width": null,
            "order": null,
            "_view_module_version": "1.2.0",
            "grid_template_areas": null,
            "object_position": null,
            "object_fit": null,
            "grid_auto_columns": null,
            "margin": null,
            "display": null,
            "left": null
          }
        },
        "3c02441c6281475b901fa9fc0da962b7": {
          "model_module": "@jupyter-widgets/controls",
          "model_name": "HBoxModel",
          "state": {
            "_view_name": "HBoxView",
            "_dom_classes": [],
            "_model_name": "HBoxModel",
            "_view_module": "@jupyter-widgets/controls",
            "_model_module_version": "1.5.0",
            "_view_count": null,
            "_view_module_version": "1.5.0",
            "box_style": "",
            "layout": "IPY_MODEL_78e54f8037af4327a19abba9fd0e95cb",
            "_model_module": "@jupyter-widgets/controls",
            "children": [
              "IPY_MODEL_584ac6aa57694155a9844bf756c0e7b9",
              "IPY_MODEL_4df83bd2fdc94f84b26a8ebffc35edfc"
            ]
          }
        },
        "78e54f8037af4327a19abba9fd0e95cb": {
          "model_module": "@jupyter-widgets/base",
          "model_name": "LayoutModel",
          "state": {
            "_view_name": "LayoutView",
            "grid_template_rows": null,
            "right": null,
            "justify_content": null,
            "_view_module": "@jupyter-widgets/base",
            "overflow": null,
            "_model_module_version": "1.2.0",
            "_view_count": null,
            "flex_flow": null,
            "width": null,
            "min_width": null,
            "border": null,
            "align_items": null,
            "bottom": null,
            "_model_module": "@jupyter-widgets/base",
            "top": null,
            "grid_column": null,
            "overflow_y": null,
            "overflow_x": null,
            "grid_auto_flow": null,
            "grid_area": null,
            "grid_template_columns": null,
            "flex": null,
            "_model_name": "LayoutModel",
            "justify_items": null,
            "grid_row": null,
            "max_height": null,
            "align_content": null,
            "visibility": null,
            "align_self": null,
            "height": null,
            "min_height": null,
            "padding": null,
            "grid_auto_rows": null,
            "grid_gap": null,
            "max_width": null,
            "order": null,
            "_view_module_version": "1.2.0",
            "grid_template_areas": null,
            "object_position": null,
            "object_fit": null,
            "grid_auto_columns": null,
            "margin": null,
            "display": null,
            "left": null
          }
        },
        "584ac6aa57694155a9844bf756c0e7b9": {
          "model_module": "@jupyter-widgets/controls",
          "model_name": "FloatProgressModel",
          "state": {
            "_view_name": "ProgressView",
            "style": "IPY_MODEL_ffc4cf6eadab4b2a9d9d81c2fd4d4070",
            "_dom_classes": [],
            "description": "100%",
            "_model_name": "FloatProgressModel",
            "bar_style": "success",
            "max": 88,
            "_view_module": "@jupyter-widgets/controls",
            "_model_module_version": "1.5.0",
            "value": 88,
            "_view_count": null,
            "_view_module_version": "1.5.0",
            "orientation": "horizontal",
            "min": 0,
            "description_tooltip": null,
            "_model_module": "@jupyter-widgets/controls",
            "layout": "IPY_MODEL_41d115226481432ab06dcd52426c8d46"
          }
        },
        "4df83bd2fdc94f84b26a8ebffc35edfc": {
          "model_module": "@jupyter-widgets/controls",
          "model_name": "HTMLModel",
          "state": {
            "_view_name": "HTMLView",
            "style": "IPY_MODEL_40a17dc6cd87496f948fba5ddf340525",
            "_dom_classes": [],
            "description": "",
            "_model_name": "HTMLModel",
            "placeholder": "​",
            "_view_module": "@jupyter-widgets/controls",
            "_model_module_version": "1.5.0",
            "value": " 88/88 [4:18:46&lt;00:00, 176.43s/it]",
            "_view_count": null,
            "_view_module_version": "1.5.0",
            "description_tooltip": null,
            "_model_module": "@jupyter-widgets/controls",
            "layout": "IPY_MODEL_6a9dc43adce24b5293acf522761b2b6c"
          }
        },
        "ffc4cf6eadab4b2a9d9d81c2fd4d4070": {
          "model_module": "@jupyter-widgets/controls",
          "model_name": "ProgressStyleModel",
          "state": {
            "_view_name": "StyleView",
            "_model_name": "ProgressStyleModel",
            "description_width": "initial",
            "_view_module": "@jupyter-widgets/base",
            "_model_module_version": "1.5.0",
            "_view_count": null,
            "_view_module_version": "1.2.0",
            "bar_color": null,
            "_model_module": "@jupyter-widgets/controls"
          }
        },
        "41d115226481432ab06dcd52426c8d46": {
          "model_module": "@jupyter-widgets/base",
          "model_name": "LayoutModel",
          "state": {
            "_view_name": "LayoutView",
            "grid_template_rows": null,
            "right": null,
            "justify_content": null,
            "_view_module": "@jupyter-widgets/base",
            "overflow": null,
            "_model_module_version": "1.2.0",
            "_view_count": null,
            "flex_flow": null,
            "width": null,
            "min_width": null,
            "border": null,
            "align_items": null,
            "bottom": null,
            "_model_module": "@jupyter-widgets/base",
            "top": null,
            "grid_column": null,
            "overflow_y": null,
            "overflow_x": null,
            "grid_auto_flow": null,
            "grid_area": null,
            "grid_template_columns": null,
            "flex": null,
            "_model_name": "LayoutModel",
            "justify_items": null,
            "grid_row": null,
            "max_height": null,
            "align_content": null,
            "visibility": null,
            "align_self": null,
            "height": null,
            "min_height": null,
            "padding": null,
            "grid_auto_rows": null,
            "grid_gap": null,
            "max_width": null,
            "order": null,
            "_view_module_version": "1.2.0",
            "grid_template_areas": null,
            "object_position": null,
            "object_fit": null,
            "grid_auto_columns": null,
            "margin": null,
            "display": null,
            "left": null
          }
        },
        "40a17dc6cd87496f948fba5ddf340525": {
          "model_module": "@jupyter-widgets/controls",
          "model_name": "DescriptionStyleModel",
          "state": {
            "_view_name": "StyleView",
            "_model_name": "DescriptionStyleModel",
            "description_width": "",
            "_view_module": "@jupyter-widgets/base",
            "_model_module_version": "1.5.0",
            "_view_count": null,
            "_view_module_version": "1.2.0",
            "_model_module": "@jupyter-widgets/controls"
          }
        },
        "6a9dc43adce24b5293acf522761b2b6c": {
          "model_module": "@jupyter-widgets/base",
          "model_name": "LayoutModel",
          "state": {
            "_view_name": "LayoutView",
            "grid_template_rows": null,
            "right": null,
            "justify_content": null,
            "_view_module": "@jupyter-widgets/base",
            "overflow": null,
            "_model_module_version": "1.2.0",
            "_view_count": null,
            "flex_flow": null,
            "width": null,
            "min_width": null,
            "border": null,
            "align_items": null,
            "bottom": null,
            "_model_module": "@jupyter-widgets/base",
            "top": null,
            "grid_column": null,
            "overflow_y": null,
            "overflow_x": null,
            "grid_auto_flow": null,
            "grid_area": null,
            "grid_template_columns": null,
            "flex": null,
            "_model_name": "LayoutModel",
            "justify_items": null,
            "grid_row": null,
            "max_height": null,
            "align_content": null,
            "visibility": null,
            "align_self": null,
            "height": null,
            "min_height": null,
            "padding": null,
            "grid_auto_rows": null,
            "grid_gap": null,
            "max_width": null,
            "order": null,
            "_view_module_version": "1.2.0",
            "grid_template_areas": null,
            "object_position": null,
            "object_fit": null,
            "grid_auto_columns": null,
            "margin": null,
            "display": null,
            "left": null
          }
        },
        "9b3b4ab09ae24a37a1ef4958fa9cb7c4": {
          "model_module": "@jupyter-widgets/controls",
          "model_name": "HBoxModel",
          "state": {
            "_view_name": "HBoxView",
            "_dom_classes": [],
            "_model_name": "HBoxModel",
            "_view_module": "@jupyter-widgets/controls",
            "_model_module_version": "1.5.0",
            "_view_count": null,
            "_view_module_version": "1.5.0",
            "box_style": "",
            "layout": "IPY_MODEL_ab3e02f7564149c18afe46f000130e1e",
            "_model_module": "@jupyter-widgets/controls",
            "children": [
              "IPY_MODEL_f44494b8cf7442b88b2abf2b343cf0a5",
              "IPY_MODEL_d765a289664a49d4822d48d03db70133"
            ]
          }
        },
        "ab3e02f7564149c18afe46f000130e1e": {
          "model_module": "@jupyter-widgets/base",
          "model_name": "LayoutModel",
          "state": {
            "_view_name": "LayoutView",
            "grid_template_rows": null,
            "right": null,
            "justify_content": null,
            "_view_module": "@jupyter-widgets/base",
            "overflow": null,
            "_model_module_version": "1.2.0",
            "_view_count": null,
            "flex_flow": null,
            "width": null,
            "min_width": null,
            "border": null,
            "align_items": null,
            "bottom": null,
            "_model_module": "@jupyter-widgets/base",
            "top": null,
            "grid_column": null,
            "overflow_y": null,
            "overflow_x": null,
            "grid_auto_flow": null,
            "grid_area": null,
            "grid_template_columns": null,
            "flex": null,
            "_model_name": "LayoutModel",
            "justify_items": null,
            "grid_row": null,
            "max_height": null,
            "align_content": null,
            "visibility": null,
            "align_self": null,
            "height": null,
            "min_height": null,
            "padding": null,
            "grid_auto_rows": null,
            "grid_gap": null,
            "max_width": null,
            "order": null,
            "_view_module_version": "1.2.0",
            "grid_template_areas": null,
            "object_position": null,
            "object_fit": null,
            "grid_auto_columns": null,
            "margin": null,
            "display": null,
            "left": null
          }
        },
        "f44494b8cf7442b88b2abf2b343cf0a5": {
          "model_module": "@jupyter-widgets/controls",
          "model_name": "FloatProgressModel",
          "state": {
            "_view_name": "ProgressView",
            "style": "IPY_MODEL_43f752d9c67849d38d016269b1838d07",
            "_dom_classes": [],
            "description": "100%",
            "_model_name": "FloatProgressModel",
            "bar_style": "success",
            "max": 88,
            "_view_module": "@jupyter-widgets/controls",
            "_model_module_version": "1.5.0",
            "value": 88,
            "_view_count": null,
            "_view_module_version": "1.5.0",
            "orientation": "horizontal",
            "min": 0,
            "description_tooltip": null,
            "_model_module": "@jupyter-widgets/controls",
            "layout": "IPY_MODEL_a71e915cb60c4818ac2cbb2e3e741708"
          }
        },
        "d765a289664a49d4822d48d03db70133": {
          "model_module": "@jupyter-widgets/controls",
          "model_name": "HTMLModel",
          "state": {
            "_view_name": "HTMLView",
            "style": "IPY_MODEL_3e89133d27874e8da2e2804950eafdf4",
            "_dom_classes": [],
            "description": "",
            "_model_name": "HTMLModel",
            "placeholder": "​",
            "_view_module": "@jupyter-widgets/controls",
            "_model_module_version": "1.5.0",
            "value": " 88/88 [00:00&lt;00:00, 131.02it/s]",
            "_view_count": null,
            "_view_module_version": "1.5.0",
            "description_tooltip": null,
            "_model_module": "@jupyter-widgets/controls",
            "layout": "IPY_MODEL_d7aaaa1c78854774843ba49bf9175460"
          }
        },
        "43f752d9c67849d38d016269b1838d07": {
          "model_module": "@jupyter-widgets/controls",
          "model_name": "ProgressStyleModel",
          "state": {
            "_view_name": "StyleView",
            "_model_name": "ProgressStyleModel",
            "description_width": "initial",
            "_view_module": "@jupyter-widgets/base",
            "_model_module_version": "1.5.0",
            "_view_count": null,
            "_view_module_version": "1.2.0",
            "bar_color": null,
            "_model_module": "@jupyter-widgets/controls"
          }
        },
        "a71e915cb60c4818ac2cbb2e3e741708": {
          "model_module": "@jupyter-widgets/base",
          "model_name": "LayoutModel",
          "state": {
            "_view_name": "LayoutView",
            "grid_template_rows": null,
            "right": null,
            "justify_content": null,
            "_view_module": "@jupyter-widgets/base",
            "overflow": null,
            "_model_module_version": "1.2.0",
            "_view_count": null,
            "flex_flow": null,
            "width": null,
            "min_width": null,
            "border": null,
            "align_items": null,
            "bottom": null,
            "_model_module": "@jupyter-widgets/base",
            "top": null,
            "grid_column": null,
            "overflow_y": null,
            "overflow_x": null,
            "grid_auto_flow": null,
            "grid_area": null,
            "grid_template_columns": null,
            "flex": null,
            "_model_name": "LayoutModel",
            "justify_items": null,
            "grid_row": null,
            "max_height": null,
            "align_content": null,
            "visibility": null,
            "align_self": null,
            "height": null,
            "min_height": null,
            "padding": null,
            "grid_auto_rows": null,
            "grid_gap": null,
            "max_width": null,
            "order": null,
            "_view_module_version": "1.2.0",
            "grid_template_areas": null,
            "object_position": null,
            "object_fit": null,
            "grid_auto_columns": null,
            "margin": null,
            "display": null,
            "left": null
          }
        },
        "3e89133d27874e8da2e2804950eafdf4": {
          "model_module": "@jupyter-widgets/controls",
          "model_name": "DescriptionStyleModel",
          "state": {
            "_view_name": "StyleView",
            "_model_name": "DescriptionStyleModel",
            "description_width": "",
            "_view_module": "@jupyter-widgets/base",
            "_model_module_version": "1.5.0",
            "_view_count": null,
            "_view_module_version": "1.2.0",
            "_model_module": "@jupyter-widgets/controls"
          }
        },
        "d7aaaa1c78854774843ba49bf9175460": {
          "model_module": "@jupyter-widgets/base",
          "model_name": "LayoutModel",
          "state": {
            "_view_name": "LayoutView",
            "grid_template_rows": null,
            "right": null,
            "justify_content": null,
            "_view_module": "@jupyter-widgets/base",
            "overflow": null,
            "_model_module_version": "1.2.0",
            "_view_count": null,
            "flex_flow": null,
            "width": null,
            "min_width": null,
            "border": null,
            "align_items": null,
            "bottom": null,
            "_model_module": "@jupyter-widgets/base",
            "top": null,
            "grid_column": null,
            "overflow_y": null,
            "overflow_x": null,
            "grid_auto_flow": null,
            "grid_area": null,
            "grid_template_columns": null,
            "flex": null,
            "_model_name": "LayoutModel",
            "justify_items": null,
            "grid_row": null,
            "max_height": null,
            "align_content": null,
            "visibility": null,
            "align_self": null,
            "height": null,
            "min_height": null,
            "padding": null,
            "grid_auto_rows": null,
            "grid_gap": null,
            "max_width": null,
            "order": null,
            "_view_module_version": "1.2.0",
            "grid_template_areas": null,
            "object_position": null,
            "object_fit": null,
            "grid_auto_columns": null,
            "margin": null,
            "display": null,
            "left": null
          }
        },
        "c4c12e6309504af5a26b444cb212dd13": {
          "model_module": "@jupyter-widgets/controls",
          "model_name": "HBoxModel",
          "state": {
            "_view_name": "HBoxView",
            "_dom_classes": [],
            "_model_name": "HBoxModel",
            "_view_module": "@jupyter-widgets/controls",
            "_model_module_version": "1.5.0",
            "_view_count": null,
            "_view_module_version": "1.5.0",
            "box_style": "",
            "layout": "IPY_MODEL_e82a103e1d0645fb90706ded172d282b",
            "_model_module": "@jupyter-widgets/controls",
            "children": [
              "IPY_MODEL_66287ae565394ae4857f2dce7fdc7952",
              "IPY_MODEL_f3a8e3a10d1345d9a5533f921d933940"
            ]
          }
        },
        "e82a103e1d0645fb90706ded172d282b": {
          "model_module": "@jupyter-widgets/base",
          "model_name": "LayoutModel",
          "state": {
            "_view_name": "LayoutView",
            "grid_template_rows": null,
            "right": null,
            "justify_content": null,
            "_view_module": "@jupyter-widgets/base",
            "overflow": null,
            "_model_module_version": "1.2.0",
            "_view_count": null,
            "flex_flow": null,
            "width": null,
            "min_width": null,
            "border": null,
            "align_items": null,
            "bottom": null,
            "_model_module": "@jupyter-widgets/base",
            "top": null,
            "grid_column": null,
            "overflow_y": null,
            "overflow_x": null,
            "grid_auto_flow": null,
            "grid_area": null,
            "grid_template_columns": null,
            "flex": null,
            "_model_name": "LayoutModel",
            "justify_items": null,
            "grid_row": null,
            "max_height": null,
            "align_content": null,
            "visibility": null,
            "align_self": null,
            "height": null,
            "min_height": null,
            "padding": null,
            "grid_auto_rows": null,
            "grid_gap": null,
            "max_width": null,
            "order": null,
            "_view_module_version": "1.2.0",
            "grid_template_areas": null,
            "object_position": null,
            "object_fit": null,
            "grid_auto_columns": null,
            "margin": null,
            "display": null,
            "left": null
          }
        },
        "66287ae565394ae4857f2dce7fdc7952": {
          "model_module": "@jupyter-widgets/controls",
          "model_name": "FloatProgressModel",
          "state": {
            "_view_name": "ProgressView",
            "style": "IPY_MODEL_db62e58e62ac4fc8ae4e3b05be2acf6b",
            "_dom_classes": [],
            "description": "100%",
            "_model_name": "FloatProgressModel",
            "bar_style": "success",
            "max": 50,
            "_view_module": "@jupyter-widgets/controls",
            "_model_module_version": "1.5.0",
            "value": 50,
            "_view_count": null,
            "_view_module_version": "1.5.0",
            "orientation": "horizontal",
            "min": 0,
            "description_tooltip": null,
            "_model_module": "@jupyter-widgets/controls",
            "layout": "IPY_MODEL_d6c3f895cc0243c4ab5483f95b742b60"
          }
        },
        "f3a8e3a10d1345d9a5533f921d933940": {
          "model_module": "@jupyter-widgets/controls",
          "model_name": "HTMLModel",
          "state": {
            "_view_name": "HTMLView",
            "style": "IPY_MODEL_753dc74706354f87b8fb8840e503ba7f",
            "_dom_classes": [],
            "description": "",
            "_model_name": "HTMLModel",
            "placeholder": "​",
            "_view_module": "@jupyter-widgets/controls",
            "_model_module_version": "1.5.0",
            "value": " 50/50 [3:28:28&lt;00:00, 250.18s/it]",
            "_view_count": null,
            "_view_module_version": "1.5.0",
            "description_tooltip": null,
            "_model_module": "@jupyter-widgets/controls",
            "layout": "IPY_MODEL_7fdf07e30ea34d83a3d68489d709c53b"
          }
        },
        "db62e58e62ac4fc8ae4e3b05be2acf6b": {
          "model_module": "@jupyter-widgets/controls",
          "model_name": "ProgressStyleModel",
          "state": {
            "_view_name": "StyleView",
            "_model_name": "ProgressStyleModel",
            "description_width": "initial",
            "_view_module": "@jupyter-widgets/base",
            "_model_module_version": "1.5.0",
            "_view_count": null,
            "_view_module_version": "1.2.0",
            "bar_color": null,
            "_model_module": "@jupyter-widgets/controls"
          }
        },
        "d6c3f895cc0243c4ab5483f95b742b60": {
          "model_module": "@jupyter-widgets/base",
          "model_name": "LayoutModel",
          "state": {
            "_view_name": "LayoutView",
            "grid_template_rows": null,
            "right": null,
            "justify_content": null,
            "_view_module": "@jupyter-widgets/base",
            "overflow": null,
            "_model_module_version": "1.2.0",
            "_view_count": null,
            "flex_flow": null,
            "width": null,
            "min_width": null,
            "border": null,
            "align_items": null,
            "bottom": null,
            "_model_module": "@jupyter-widgets/base",
            "top": null,
            "grid_column": null,
            "overflow_y": null,
            "overflow_x": null,
            "grid_auto_flow": null,
            "grid_area": null,
            "grid_template_columns": null,
            "flex": null,
            "_model_name": "LayoutModel",
            "justify_items": null,
            "grid_row": null,
            "max_height": null,
            "align_content": null,
            "visibility": null,
            "align_self": null,
            "height": null,
            "min_height": null,
            "padding": null,
            "grid_auto_rows": null,
            "grid_gap": null,
            "max_width": null,
            "order": null,
            "_view_module_version": "1.2.0",
            "grid_template_areas": null,
            "object_position": null,
            "object_fit": null,
            "grid_auto_columns": null,
            "margin": null,
            "display": null,
            "left": null
          }
        },
        "753dc74706354f87b8fb8840e503ba7f": {
          "model_module": "@jupyter-widgets/controls",
          "model_name": "DescriptionStyleModel",
          "state": {
            "_view_name": "StyleView",
            "_model_name": "DescriptionStyleModel",
            "description_width": "",
            "_view_module": "@jupyter-widgets/base",
            "_model_module_version": "1.5.0",
            "_view_count": null,
            "_view_module_version": "1.2.0",
            "_model_module": "@jupyter-widgets/controls"
          }
        },
        "7fdf07e30ea34d83a3d68489d709c53b": {
          "model_module": "@jupyter-widgets/base",
          "model_name": "LayoutModel",
          "state": {
            "_view_name": "LayoutView",
            "grid_template_rows": null,
            "right": null,
            "justify_content": null,
            "_view_module": "@jupyter-widgets/base",
            "overflow": null,
            "_model_module_version": "1.2.0",
            "_view_count": null,
            "flex_flow": null,
            "width": null,
            "min_width": null,
            "border": null,
            "align_items": null,
            "bottom": null,
            "_model_module": "@jupyter-widgets/base",
            "top": null,
            "grid_column": null,
            "overflow_y": null,
            "overflow_x": null,
            "grid_auto_flow": null,
            "grid_area": null,
            "grid_template_columns": null,
            "flex": null,
            "_model_name": "LayoutModel",
            "justify_items": null,
            "grid_row": null,
            "max_height": null,
            "align_content": null,
            "visibility": null,
            "align_self": null,
            "height": null,
            "min_height": null,
            "padding": null,
            "grid_auto_rows": null,
            "grid_gap": null,
            "max_width": null,
            "order": null,
            "_view_module_version": "1.2.0",
            "grid_template_areas": null,
            "object_position": null,
            "object_fit": null,
            "grid_auto_columns": null,
            "margin": null,
            "display": null,
            "left": null
          }
        },
        "f139fbea575441b3ae36abff6799f7cb": {
          "model_module": "@jupyter-widgets/controls",
          "model_name": "HBoxModel",
          "state": {
            "_view_name": "HBoxView",
            "_dom_classes": [],
            "_model_name": "HBoxModel",
            "_view_module": "@jupyter-widgets/controls",
            "_model_module_version": "1.5.0",
            "_view_count": null,
            "_view_module_version": "1.5.0",
            "box_style": "",
            "layout": "IPY_MODEL_e20734c6ce7c4b30a712a46f3b89cd13",
            "_model_module": "@jupyter-widgets/controls",
            "children": [
              "IPY_MODEL_208a4a9f5379430783a0b1fbfec55599",
              "IPY_MODEL_4e1f5d94c7e640df8c6ff500e3beefa8"
            ]
          }
        },
        "e20734c6ce7c4b30a712a46f3b89cd13": {
          "model_module": "@jupyter-widgets/base",
          "model_name": "LayoutModel",
          "state": {
            "_view_name": "LayoutView",
            "grid_template_rows": null,
            "right": null,
            "justify_content": null,
            "_view_module": "@jupyter-widgets/base",
            "overflow": null,
            "_model_module_version": "1.2.0",
            "_view_count": null,
            "flex_flow": null,
            "width": null,
            "min_width": null,
            "border": null,
            "align_items": null,
            "bottom": null,
            "_model_module": "@jupyter-widgets/base",
            "top": null,
            "grid_column": null,
            "overflow_y": null,
            "overflow_x": null,
            "grid_auto_flow": null,
            "grid_area": null,
            "grid_template_columns": null,
            "flex": null,
            "_model_name": "LayoutModel",
            "justify_items": null,
            "grid_row": null,
            "max_height": null,
            "align_content": null,
            "visibility": null,
            "align_self": null,
            "height": null,
            "min_height": null,
            "padding": null,
            "grid_auto_rows": null,
            "grid_gap": null,
            "max_width": null,
            "order": null,
            "_view_module_version": "1.2.0",
            "grid_template_areas": null,
            "object_position": null,
            "object_fit": null,
            "grid_auto_columns": null,
            "margin": null,
            "display": null,
            "left": null
          }
        },
        "208a4a9f5379430783a0b1fbfec55599": {
          "model_module": "@jupyter-widgets/controls",
          "model_name": "FloatProgressModel",
          "state": {
            "_view_name": "ProgressView",
            "style": "IPY_MODEL_255fc28ebe444aa2b06b24e6721cb68f",
            "_dom_classes": [],
            "description": "100%",
            "_model_name": "FloatProgressModel",
            "bar_style": "success",
            "max": 50,
            "_view_module": "@jupyter-widgets/controls",
            "_model_module_version": "1.5.0",
            "value": 50,
            "_view_count": null,
            "_view_module_version": "1.5.0",
            "orientation": "horizontal",
            "min": 0,
            "description_tooltip": null,
            "_model_module": "@jupyter-widgets/controls",
            "layout": "IPY_MODEL_09faf9d01aed4f6b82eff388f94e755e"
          }
        },
        "4e1f5d94c7e640df8c6ff500e3beefa8": {
          "model_module": "@jupyter-widgets/controls",
          "model_name": "HTMLModel",
          "state": {
            "_view_name": "HTMLView",
            "style": "IPY_MODEL_84cfb8aecde54578a8f623ab73fb8e3e",
            "_dom_classes": [],
            "description": "",
            "_model_name": "HTMLModel",
            "placeholder": "​",
            "_view_module": "@jupyter-widgets/controls",
            "_model_module_version": "1.5.0",
            "value": " 50/50 [3:18:35&lt;00:00, 238.31s/it]",
            "_view_count": null,
            "_view_module_version": "1.5.0",
            "description_tooltip": null,
            "_model_module": "@jupyter-widgets/controls",
            "layout": "IPY_MODEL_d8c55d76af24482cb6ec54c9ce84d9ed"
          }
        },
        "255fc28ebe444aa2b06b24e6721cb68f": {
          "model_module": "@jupyter-widgets/controls",
          "model_name": "ProgressStyleModel",
          "state": {
            "_view_name": "StyleView",
            "_model_name": "ProgressStyleModel",
            "description_width": "initial",
            "_view_module": "@jupyter-widgets/base",
            "_model_module_version": "1.5.0",
            "_view_count": null,
            "_view_module_version": "1.2.0",
            "bar_color": null,
            "_model_module": "@jupyter-widgets/controls"
          }
        },
        "09faf9d01aed4f6b82eff388f94e755e": {
          "model_module": "@jupyter-widgets/base",
          "model_name": "LayoutModel",
          "state": {
            "_view_name": "LayoutView",
            "grid_template_rows": null,
            "right": null,
            "justify_content": null,
            "_view_module": "@jupyter-widgets/base",
            "overflow": null,
            "_model_module_version": "1.2.0",
            "_view_count": null,
            "flex_flow": null,
            "width": null,
            "min_width": null,
            "border": null,
            "align_items": null,
            "bottom": null,
            "_model_module": "@jupyter-widgets/base",
            "top": null,
            "grid_column": null,
            "overflow_y": null,
            "overflow_x": null,
            "grid_auto_flow": null,
            "grid_area": null,
            "grid_template_columns": null,
            "flex": null,
            "_model_name": "LayoutModel",
            "justify_items": null,
            "grid_row": null,
            "max_height": null,
            "align_content": null,
            "visibility": null,
            "align_self": null,
            "height": null,
            "min_height": null,
            "padding": null,
            "grid_auto_rows": null,
            "grid_gap": null,
            "max_width": null,
            "order": null,
            "_view_module_version": "1.2.0",
            "grid_template_areas": null,
            "object_position": null,
            "object_fit": null,
            "grid_auto_columns": null,
            "margin": null,
            "display": null,
            "left": null
          }
        },
        "84cfb8aecde54578a8f623ab73fb8e3e": {
          "model_module": "@jupyter-widgets/controls",
          "model_name": "DescriptionStyleModel",
          "state": {
            "_view_name": "StyleView",
            "_model_name": "DescriptionStyleModel",
            "description_width": "",
            "_view_module": "@jupyter-widgets/base",
            "_model_module_version": "1.5.0",
            "_view_count": null,
            "_view_module_version": "1.2.0",
            "_model_module": "@jupyter-widgets/controls"
          }
        },
        "d8c55d76af24482cb6ec54c9ce84d9ed": {
          "model_module": "@jupyter-widgets/base",
          "model_name": "LayoutModel",
          "state": {
            "_view_name": "LayoutView",
            "grid_template_rows": null,
            "right": null,
            "justify_content": null,
            "_view_module": "@jupyter-widgets/base",
            "overflow": null,
            "_model_module_version": "1.2.0",
            "_view_count": null,
            "flex_flow": null,
            "width": null,
            "min_width": null,
            "border": null,
            "align_items": null,
            "bottom": null,
            "_model_module": "@jupyter-widgets/base",
            "top": null,
            "grid_column": null,
            "overflow_y": null,
            "overflow_x": null,
            "grid_auto_flow": null,
            "grid_area": null,
            "grid_template_columns": null,
            "flex": null,
            "_model_name": "LayoutModel",
            "justify_items": null,
            "grid_row": null,
            "max_height": null,
            "align_content": null,
            "visibility": null,
            "align_self": null,
            "height": null,
            "min_height": null,
            "padding": null,
            "grid_auto_rows": null,
            "grid_gap": null,
            "max_width": null,
            "order": null,
            "_view_module_version": "1.2.0",
            "grid_template_areas": null,
            "object_position": null,
            "object_fit": null,
            "grid_auto_columns": null,
            "margin": null,
            "display": null,
            "left": null
          }
        },
        "ba26fd456eee46659371465259c8f7f1": {
          "model_module": "@jupyter-widgets/controls",
          "model_name": "HBoxModel",
          "state": {
            "_view_name": "HBoxView",
            "_dom_classes": [],
            "_model_name": "HBoxModel",
            "_view_module": "@jupyter-widgets/controls",
            "_model_module_version": "1.5.0",
            "_view_count": null,
            "_view_module_version": "1.5.0",
            "box_style": "",
            "layout": "IPY_MODEL_88cbcab271434739890c3bbc59137b42",
            "_model_module": "@jupyter-widgets/controls",
            "children": [
              "IPY_MODEL_1e4bf4e43aa648f9886353977e1ea245",
              "IPY_MODEL_79d32e90284e46409aaf64985b6989f6"
            ]
          }
        },
        "88cbcab271434739890c3bbc59137b42": {
          "model_module": "@jupyter-widgets/base",
          "model_name": "LayoutModel",
          "state": {
            "_view_name": "LayoutView",
            "grid_template_rows": null,
            "right": null,
            "justify_content": null,
            "_view_module": "@jupyter-widgets/base",
            "overflow": null,
            "_model_module_version": "1.2.0",
            "_view_count": null,
            "flex_flow": null,
            "width": null,
            "min_width": null,
            "border": null,
            "align_items": null,
            "bottom": null,
            "_model_module": "@jupyter-widgets/base",
            "top": null,
            "grid_column": null,
            "overflow_y": null,
            "overflow_x": null,
            "grid_auto_flow": null,
            "grid_area": null,
            "grid_template_columns": null,
            "flex": null,
            "_model_name": "LayoutModel",
            "justify_items": null,
            "grid_row": null,
            "max_height": null,
            "align_content": null,
            "visibility": null,
            "align_self": null,
            "height": null,
            "min_height": null,
            "padding": null,
            "grid_auto_rows": null,
            "grid_gap": null,
            "max_width": null,
            "order": null,
            "_view_module_version": "1.2.0",
            "grid_template_areas": null,
            "object_position": null,
            "object_fit": null,
            "grid_auto_columns": null,
            "margin": null,
            "display": null,
            "left": null
          }
        },
        "1e4bf4e43aa648f9886353977e1ea245": {
          "model_module": "@jupyter-widgets/controls",
          "model_name": "FloatProgressModel",
          "state": {
            "_view_name": "ProgressView",
            "style": "IPY_MODEL_4c94c932e1794956b374dd34b5fd1525",
            "_dom_classes": [],
            "description": "100%",
            "_model_name": "FloatProgressModel",
            "bar_style": "success",
            "max": 50,
            "_view_module": "@jupyter-widgets/controls",
            "_model_module_version": "1.5.0",
            "value": 50,
            "_view_count": null,
            "_view_module_version": "1.5.0",
            "orientation": "horizontal",
            "min": 0,
            "description_tooltip": null,
            "_model_module": "@jupyter-widgets/controls",
            "layout": "IPY_MODEL_5b94f07479fe47d1aef623f87f291e72"
          }
        },
        "79d32e90284e46409aaf64985b6989f6": {
          "model_module": "@jupyter-widgets/controls",
          "model_name": "HTMLModel",
          "state": {
            "_view_name": "HTMLView",
            "style": "IPY_MODEL_48cfadc5a47449ecafd14f38c48ffaf1",
            "_dom_classes": [],
            "description": "",
            "_model_name": "HTMLModel",
            "placeholder": "​",
            "_view_module": "@jupyter-widgets/controls",
            "_model_module_version": "1.5.0",
            "value": " 50/50 [00:00&lt;00:00, 913.29it/s]",
            "_view_count": null,
            "_view_module_version": "1.5.0",
            "description_tooltip": null,
            "_model_module": "@jupyter-widgets/controls",
            "layout": "IPY_MODEL_6d59e2529ce6410db5138dd1338702ec"
          }
        },
        "4c94c932e1794956b374dd34b5fd1525": {
          "model_module": "@jupyter-widgets/controls",
          "model_name": "ProgressStyleModel",
          "state": {
            "_view_name": "StyleView",
            "_model_name": "ProgressStyleModel",
            "description_width": "initial",
            "_view_module": "@jupyter-widgets/base",
            "_model_module_version": "1.5.0",
            "_view_count": null,
            "_view_module_version": "1.2.0",
            "bar_color": null,
            "_model_module": "@jupyter-widgets/controls"
          }
        },
        "5b94f07479fe47d1aef623f87f291e72": {
          "model_module": "@jupyter-widgets/base",
          "model_name": "LayoutModel",
          "state": {
            "_view_name": "LayoutView",
            "grid_template_rows": null,
            "right": null,
            "justify_content": null,
            "_view_module": "@jupyter-widgets/base",
            "overflow": null,
            "_model_module_version": "1.2.0",
            "_view_count": null,
            "flex_flow": null,
            "width": null,
            "min_width": null,
            "border": null,
            "align_items": null,
            "bottom": null,
            "_model_module": "@jupyter-widgets/base",
            "top": null,
            "grid_column": null,
            "overflow_y": null,
            "overflow_x": null,
            "grid_auto_flow": null,
            "grid_area": null,
            "grid_template_columns": null,
            "flex": null,
            "_model_name": "LayoutModel",
            "justify_items": null,
            "grid_row": null,
            "max_height": null,
            "align_content": null,
            "visibility": null,
            "align_self": null,
            "height": null,
            "min_height": null,
            "padding": null,
            "grid_auto_rows": null,
            "grid_gap": null,
            "max_width": null,
            "order": null,
            "_view_module_version": "1.2.0",
            "grid_template_areas": null,
            "object_position": null,
            "object_fit": null,
            "grid_auto_columns": null,
            "margin": null,
            "display": null,
            "left": null
          }
        },
        "48cfadc5a47449ecafd14f38c48ffaf1": {
          "model_module": "@jupyter-widgets/controls",
          "model_name": "DescriptionStyleModel",
          "state": {
            "_view_name": "StyleView",
            "_model_name": "DescriptionStyleModel",
            "description_width": "",
            "_view_module": "@jupyter-widgets/base",
            "_model_module_version": "1.5.0",
            "_view_count": null,
            "_view_module_version": "1.2.0",
            "_model_module": "@jupyter-widgets/controls"
          }
        },
        "6d59e2529ce6410db5138dd1338702ec": {
          "model_module": "@jupyter-widgets/base",
          "model_name": "LayoutModel",
          "state": {
            "_view_name": "LayoutView",
            "grid_template_rows": null,
            "right": null,
            "justify_content": null,
            "_view_module": "@jupyter-widgets/base",
            "overflow": null,
            "_model_module_version": "1.2.0",
            "_view_count": null,
            "flex_flow": null,
            "width": null,
            "min_width": null,
            "border": null,
            "align_items": null,
            "bottom": null,
            "_model_module": "@jupyter-widgets/base",
            "top": null,
            "grid_column": null,
            "overflow_y": null,
            "overflow_x": null,
            "grid_auto_flow": null,
            "grid_area": null,
            "grid_template_columns": null,
            "flex": null,
            "_model_name": "LayoutModel",
            "justify_items": null,
            "grid_row": null,
            "max_height": null,
            "align_content": null,
            "visibility": null,
            "align_self": null,
            "height": null,
            "min_height": null,
            "padding": null,
            "grid_auto_rows": null,
            "grid_gap": null,
            "max_width": null,
            "order": null,
            "_view_module_version": "1.2.0",
            "grid_template_areas": null,
            "object_position": null,
            "object_fit": null,
            "grid_auto_columns": null,
            "margin": null,
            "display": null,
            "left": null
          }
        }
      }
    },
    "accelerator": "GPU"
  },
  "cells": [
    {
      "cell_type": "markdown",
      "metadata": {
        "id": "view-in-github",
        "colab_type": "text"
      },
      "source": [
        "<a href=\"https://colab.research.google.com/github/MohammadRaziei/Deep-Learning-Course/blob/master/HW04/Q1/HW04_Q1.ipynb\" target=\"_parent\"><img src=\"https://colab.research.google.com/assets/colab-badge.svg\" alt=\"Open In Colab\"/></a>"
      ]
    },
    {
      "cell_type": "markdown",
      "metadata": {
        "id": "eR9fLuwFXpVu"
      },
      "source": [
        "# HW04 : Problem 1\n",
        "\n",
        "Please check last updates and get the latest version from following link. it is more completed but it may have some updates after release it.\n",
        "\n",
        "[<img src=\"https://img.icons8.com/clouds/50/000000/github.png\"/>](https://github.com/MohammadRaziei/Deep-Learning-Course/blob/master/)  \n",
        "github link : https://github.com/MohammadRaziei/Deep-Learning-Course/blob/master/HW04"
      ]
    },
    {
      "cell_type": "code",
      "metadata": {
        "id": "Mi3JzFIyaEGl",
        "colab": {
          "base_uri": "https://localhost:8080/"
        },
        "outputId": "11f53f6c-e7d6-47df-8158-f54fde54aa5b"
      },
      "source": [
        "!pip install music21\r\n",
        "!pip install bs4\r\n",
        "!pip install pretty_midi"
      ],
      "execution_count": 5,
      "outputs": [
        {
          "output_type": "stream",
          "text": [
            "Requirement already satisfied: music21 in /usr/local/lib/python3.6/dist-packages (5.5.0)\n",
            "Requirement already satisfied: bs4 in /usr/local/lib/python3.6/dist-packages (0.0.1)\n",
            "Requirement already satisfied: beautifulsoup4 in /usr/local/lib/python3.6/dist-packages (from bs4) (4.6.3)\n",
            "Collecting pretty_midi\n",
            "\u001b[?25l  Downloading https://files.pythonhosted.org/packages/bc/8e/63c6e39a7a64623a9cd6aec530070c70827f6f8f40deec938f323d7b1e15/pretty_midi-0.2.9.tar.gz (5.6MB)\n",
            "\u001b[K     |████████████████████████████████| 5.6MB 7.5MB/s \n",
            "\u001b[?25hRequirement already satisfied: numpy>=1.7.0 in /usr/local/lib/python3.6/dist-packages (from pretty_midi) (1.19.5)\n",
            "Collecting mido>=1.1.16\n",
            "\u001b[?25l  Downloading https://files.pythonhosted.org/packages/20/0a/81beb587b1ae832ea6a1901dc7c6faa380e8dd154e0a862f0a9f3d2afab9/mido-1.2.9-py2.py3-none-any.whl (52kB)\n",
            "\u001b[K     |████████████████████████████████| 61kB 8.6MB/s \n",
            "\u001b[?25hRequirement already satisfied: six in /usr/local/lib/python3.6/dist-packages (from pretty_midi) (1.15.0)\n",
            "Building wheels for collected packages: pretty-midi\n",
            "  Building wheel for pretty-midi (setup.py) ... \u001b[?25l\u001b[?25hdone\n",
            "  Created wheel for pretty-midi: filename=pretty_midi-0.2.9-cp36-none-any.whl size=5591954 sha256=de22b1ccbc2763d15d3bede4797e859ab7c989f9eadc7fde2bde733b68b38e21\n",
            "  Stored in directory: /root/.cache/pip/wheels/4c/a1/c6/b5697841db1112c6e5866d75a6b6bf1bef73b874782556ba66\n",
            "Successfully built pretty-midi\n",
            "Installing collected packages: mido, pretty-midi\n",
            "Successfully installed mido-1.2.9 pretty-midi-0.2.9\n"
          ],
          "name": "stdout"
        }
      ]
    },
    {
      "cell_type": "code",
      "metadata": {
        "id": "-k6QWkfbbUXk"
      },
      "source": [
        "import os, shutil\r\n",
        "def create_empty_folder(folder_name):\r\n",
        "  try:\r\n",
        "    try: shutil.rmtree(folder_name)\r\n",
        "    except: pass\r\n",
        "    os.mkdir(folder_name)\r\n",
        "    print('\"%s\" is created.'%folder_name)\r\n",
        "  except Exception as e: # work on python 3.x\r\n",
        "    print('Some error! : '+ str(e))\r\n",
        "\r\n",
        "def create_empty_folders(folders_list):\r\n",
        "  for folder in folders_list:\r\n",
        "    create_empty_folder(folder)"
      ],
      "execution_count": 7,
      "outputs": []
    },
    {
      "cell_type": "code",
      "metadata": {
        "id": "qk5G5UwqcCAO",
        "colab": {
          "base_uri": "https://localhost:8080/"
        },
        "outputId": "734f4a4c-2ea6-42b2-f886-cc956d008bcd"
      },
      "source": [
        "create_empty_folders(['SimpleRNN', 'LSTM'])"
      ],
      "execution_count": 8,
      "outputs": [
        {
          "output_type": "stream",
          "text": [
            "\"SimpleRNN\" is created.\n",
            "\"LSTM\" is created.\n"
          ],
          "name": "stdout"
        }
      ]
    },
    {
      "cell_type": "code",
      "metadata": {
        "id": "Ni5nVyknc7HY",
        "colab": {
          "base_uri": "https://localhost:8080/",
          "height": 82,
          "referenced_widgets": [
            "a9bf590909b847af89611ac1cdd295ea",
            "41ed7b2b7d5e4d639b9490288c9cab93",
            "371672c0b88c451d90ed97a4ea84e765",
            "7b89cbdaba2e49aba2627a94a648fd24",
            "cf7c344f043d414087fe0ff7204ab47b",
            "8e9e07c6292c4fe2899c42859573cb52",
            "ff071eae55744eef996524cfd33622ce",
            "e9a9fd72f1c04749a208d0157cb94e37"
          ]
        },
        "outputId": "c394e9b1-90a4-4870-8297-bc682bb8527c"
      },
      "source": [
        "from urllib.request import urlopen, urlretrieve\r\n",
        "from bs4 import BeautifulSoup\r\n",
        "import time\r\n",
        "from tqdm.auto import trange\r\n",
        "\r\n",
        "\r\n",
        "selected_instrument = 'Guitar'\r\n",
        "\r\n",
        "# Define URL components\r\n",
        "url_base = 'https://www.mutopiaproject.org/cgibin/make-table.cgi?startat={}&searchingfor=&Composer=&Instrument={}&Style=&collection=&id=&solo=&recent=&timelength=&timeunit=&lilyversion=&preview='\r\n",
        "\r\n",
        "# Define save directory.\r\n",
        "save_dir = 'guitar'\r\n",
        "create_empty_folder(save_dir)\r\n",
        "\r\n",
        "# Set initial values\r\n",
        "songNumber = 0\r\n",
        "linkCount = 10\r\n",
        "\r\n",
        "lim = 10 \r\n",
        "cnt = 0\r\n",
        "\r\n",
        "# Locate and download each MIDI file\r\n",
        "for cnt in trange(lim):\r\n",
        "    cnt += 1\r\n",
        "    url = url_base.format(songNumber, selected_instrument)\r\n",
        "    html = urlopen(url)\r\n",
        "    soup = BeautifulSoup(html.read())\r\n",
        "    links = soup.find_all('a')\r\n",
        "    linkCount = 0\r\n",
        "    for link in links:\r\n",
        "        href = link['href']\r\n",
        "        if href.find('.mid') >= 0:\r\n",
        "            linkCount = linkCount + 1\r\n",
        "            urlretrieve(href, os.path.join(save_dir, \"%d_%d.mid\"%(cnt, linkCount)))\r\n",
        "    if linkCount is 0: break\r\n",
        "    songNumber += 10\r\n",
        "    time.sleep(.1)"
      ],
      "execution_count": 9,
      "outputs": [
        {
          "output_type": "stream",
          "text": [
            "\"guitar\" is created.\n"
          ],
          "name": "stdout"
        },
        {
          "output_type": "display_data",
          "data": {
            "application/vnd.jupyter.widget-view+json": {
              "model_id": "a9bf590909b847af89611ac1cdd295ea",
              "version_minor": 0,
              "version_major": 2
            },
            "text/plain": [
              "HBox(children=(FloatProgress(value=0.0, max=10.0), HTML(value='')))"
            ]
          },
          "metadata": {
            "tags": []
          }
        },
        {
          "output_type": "stream",
          "text": [
            "\n"
          ],
          "name": "stdout"
        }
      ]
    },
    {
      "cell_type": "markdown",
      "metadata": {
        "id": "FgQ0vpcGAln_"
      },
      "source": [
        "## Part II"
      ]
    },
    {
      "cell_type": "code",
      "metadata": {
        "id": "fI3p1Uuslpcz",
        "colab": {
          "base_uri": "https://localhost:8080/",
          "height": 82,
          "referenced_widgets": [
            "851d27373edf4f2dac674383932f14c9",
            "ea9182a7038b4ba9a7514c1ab8790712",
            "3f5e4453f2fc4cfaa76e51dfa1a20cf3",
            "695846e84f114190ad1cf1a70ba8afc6",
            "d42558903a5746beae5d15b64d0041d4",
            "be7e7b378d4b4bbc8a1e345bcd2cef3f",
            "d88e98457fcd42be89eeb7a2142c9e82",
            "3c53cbeb9a1b4c98b92768f36a645381"
          ]
        },
        "outputId": "bf60c9ed-08bb-41f7-9c34-d8e141311b86"
      },
      "source": [
        "from music21 import converter, instrument\r\n",
        "import os\r\n",
        "from tqdm.auto import tqdm\r\n",
        "\r\n",
        "\r\n",
        "save_dir = 'guitar'\r\n",
        "\r\n",
        "# test that stream is monotonic or notr\r\n",
        "def is_monophonic(stream):\r\n",
        "    try:    length = len(instrument.partitionByInstrument(stream).parts)\r\n",
        "    except: length = 0\r\n",
        "    return length is 1\r\n",
        "\r\n",
        "# Merge notes into chords\r\n",
        "song_files = os.listdir(save_dir)\r\n",
        "# data_scores = []\r\n",
        "# for song_file in (song_files):\r\n",
        "#   sng = converter.parse(os.path.join(save_dir,song_file))\r\n",
        "#   if is_monophonic(sng): \r\n",
        "#     data_scores.append(sng)\r\n",
        "data_scores = [sng.chordify() for song_file in tqdm(song_files) for sng in (converter.parse(os.path.join(save_dir,song_file)),) if is_monophonic(sng)]\r\n",
        "\r\n",
        "len(data_scores)"
      ],
      "execution_count": 10,
      "outputs": [
        {
          "output_type": "display_data",
          "data": {
            "application/vnd.jupyter.widget-view+json": {
              "model_id": "851d27373edf4f2dac674383932f14c9",
              "version_minor": 0,
              "version_major": 2
            },
            "text/plain": [
              "HBox(children=(FloatProgress(value=0.0, max=96.0), HTML(value='')))"
            ]
          },
          "metadata": {
            "tags": []
          }
        },
        {
          "output_type": "stream",
          "text": [
            "\n"
          ],
          "name": "stdout"
        },
        {
          "output_type": "execute_result",
          "data": {
            "text/plain": [
              "88"
            ]
          },
          "metadata": {
            "tags": []
          },
          "execution_count": 10
        }
      ]
    },
    {
      "cell_type": "code",
      "metadata": {
        "id": "WEs8Y_oesXMu",
        "colab": {
          "base_uri": "https://localhost:8080/",
          "height": 65,
          "referenced_widgets": [
            "3c02441c6281475b901fa9fc0da962b7",
            "78e54f8037af4327a19abba9fd0e95cb",
            "584ac6aa57694155a9844bf756c0e7b9",
            "4df83bd2fdc94f84b26a8ebffc35edfc",
            "ffc4cf6eadab4b2a9d9d81c2fd4d4070",
            "41d115226481432ab06dcd52426c8d46",
            "40a17dc6cd87496f948fba5ddf340525",
            "6a9dc43adce24b5293acf522761b2b6c"
          ]
        },
        "outputId": "e90b3659-e993-4259-c74b-e783db6fa674"
      },
      "source": [
        "from music21 import note, chord\r\n",
        "from tqdm.auto import tqdm\r\n",
        "\r\n",
        "\r\n",
        "data_chords = [[] for _ in data_scores]\r\n",
        "data_durations = [[] for _ in data_scores]\r\n",
        "data_keys = []\r\n",
        "\r\n",
        "# Extract notes, chords, durations, and keys\r\n",
        "for i, song in enumerate(tqdm(data_scores)):\r\n",
        "  data_keys.append(str(song.analyze('key')))\r\n",
        "  for element in song:\r\n",
        "      if isinstance(element, note.Note):\r\n",
        "          data_chords[i].append(element.pitch)\r\n",
        "          data_durations[i].append(element.duration.quarterLength)\r\n",
        "      elif isinstance(element, chord.Chord):\r\n",
        "          data_chords[i].append('.'.join(str(n) for n in element.pitches))\r\n",
        "          data_durations[i].append(element.duration.quarterLength)"
      ],
      "execution_count": 11,
      "outputs": [
        {
          "output_type": "display_data",
          "data": {
            "application/vnd.jupyter.widget-view+json": {
              "model_id": "3c02441c6281475b901fa9fc0da962b7",
              "version_minor": 0,
              "version_major": 2
            },
            "text/plain": [
              "HBox(children=(FloatProgress(value=0.0, max=88.0), HTML(value='')))"
            ]
          },
          "metadata": {
            "tags": []
          }
        },
        {
          "output_type": "stream",
          "text": [
            "\n"
          ],
          "name": "stdout"
        }
      ]
    },
    {
      "cell_type": "code",
      "metadata": {
        "id": "aHwpWwvutuop",
        "colab": {
          "base_uri": "https://localhost:8080/"
        },
        "outputId": "ffc1acc0-0e00-4e9c-c8a6-fb170ecb47cb"
      },
      "source": [
        "from sklearn.preprocessing import LabelEncoder\r\n",
        "\r\n",
        "chord_encoder = LabelEncoder()\r\n",
        "chord_encoder.fit(sorted(list({*[subsub for sub in data_chords for subsub in sub]})))\r\n",
        "num_unique_chords = len(chord_encoder.classes_)\r\n",
        "\r\n",
        "duration_encoder = LabelEncoder()\r\n",
        "duration_encoder.fit(sorted(list({*[subsub for sub in data_durations for subsub in sub]})))\r\n",
        "num_unique_duration = len(duration_encoder.classes_)\r\n",
        "\r\n",
        "print('number of unique chords: ', num_unique_chords)\r\n",
        "print('10 instances of chords:', chord_encoder.classes_[0:10])\r\n",
        "print()\r\n",
        "print('number of unique duration: ', num_unique_duration)\r\n",
        "print('unique durations:', [str(s) for s in duration_encoder.classes_])"
      ],
      "execution_count": 12,
      "outputs": [
        {
          "output_type": "stream",
          "text": [
            "number of unique chords:  3048\n",
            "10 instances of chords: ['A1.C#4' 'A1.G3.A3.A4' 'A1.G3.A3.E4' 'A2' 'A2.A3' 'A2.A3.A4'\n",
            " 'A2.A3.A4.A5' 'A2.A3.A4.D5' 'A2.A3.B-3' 'A2.A3.B3']\n",
            "\n",
            "number of unique duration:  18\n",
            "unique durations: ['1/12', '1/6', '0.25', '1/3', '5/12', '0.5', '2/3', '0.75', '5/6', '11/12', '1.0', '1.25', '17/12', '1.5', '2.0', '2.5', '3.0', '4.0']\n"
          ],
          "name": "stdout"
        }
      ]
    },
    {
      "cell_type": "code",
      "metadata": {
        "id": "RODOXXdo4Gip",
        "outputId": "7793b127-be2e-4130-a38e-98ae5b7463fa",
        "colab": {
          "base_uri": "https://localhost:8080/",
          "height": 65,
          "referenced_widgets": [
            "9b3b4ab09ae24a37a1ef4958fa9cb7c4",
            "ab3e02f7564149c18afe46f000130e1e",
            "f44494b8cf7442b88b2abf2b343cf0a5",
            "d765a289664a49d4822d48d03db70133",
            "43f752d9c67849d38d016269b1838d07",
            "a71e915cb60c4818ac2cbb2e3e741708",
            "3e89133d27874e8da2e2804950eafdf4",
            "d7aaaa1c78854774843ba49bf9175460"
          ]
        }
      },
      "source": [
        "from tqdm.auto import trange\r\n",
        "import numpy as np\r\n",
        "\r\n",
        "sequence_length = 32\r\n",
        "\r\n",
        "# Define empty array for train data\r\n",
        "train_chords = [];  train_durations = []\r\n",
        "target_chords = []; target_durations = []\r\n",
        "\r\n",
        "# Construct train and target sequences for chords and durations\r\n",
        "for i in trange(len(data_chords)):\r\n",
        "    chord_list = chord_encoder.transform(data_chords[i])\r\n",
        "    duration_list = duration_encoder.transform(data_durations[i])\r\n",
        "    for t in range(len(chord_list) - sequence_length):\r\n",
        "        train_chords.append(chord_list[t:t+sequence_length])\r\n",
        "        target_chords.append(chord_list[t+1])\r\n",
        "\r\n",
        "        train_durations.append(duration_list[t:t+sequence_length])\r\n",
        "        target_durations.append(duration_list[t+1])\r\n",
        "\r\n",
        "\r\n",
        "train_chords = np.array(train_chords);    train_durations = np.array(train_durations)\r\n",
        "target_chords = np.array(target_chords);  target_durations = np.array(target_durations)\r\n",
        "\r\n",
        "num_samples, num_chords = train_chords.shape\r\n",
        "# num_durations = train_durations.shape[1]\r\n"
      ],
      "execution_count": 13,
      "outputs": [
        {
          "output_type": "display_data",
          "data": {
            "application/vnd.jupyter.widget-view+json": {
              "model_id": "9b3b4ab09ae24a37a1ef4958fa9cb7c4",
              "version_minor": 0,
              "version_major": 2
            },
            "text/plain": [
              "HBox(children=(FloatProgress(value=0.0, max=88.0), HTML(value='')))"
            ]
          },
          "metadata": {
            "tags": []
          }
        },
        {
          "output_type": "stream",
          "text": [
            "\n"
          ],
          "name": "stdout"
        }
      ]
    },
    {
      "cell_type": "code",
      "metadata": {
        "id": "yMue7_FJ1fVj"
      },
      "source": [
        "from tensorflow.keras.utils import to_categorical\r\n",
        "\r\n",
        "target_chords_1hot = to_categorical(target_chords)\r\n",
        "target_durations_1hot = to_categorical(target_durations)"
      ],
      "execution_count": 14,
      "outputs": []
    },
    {
      "cell_type": "markdown",
      "metadata": {
        "id": "UxDKx7ZEATTb"
      },
      "source": [
        "## Part III"
      ]
    },
    {
      "cell_type": "code",
      "metadata": {
        "id": "u2urbkcD0C9m",
        "outputId": "ac953804-db8e-4f83-fbb7-c73f58360ca1",
        "colab": {
          "base_uri": "https://localhost:8080/",
          "height": 1000
        }
      },
      "source": [
        "import tensorflow as tf\r\n",
        "from tensorflow.keras.layers import Input, Dense, Dropout\r\n",
        "from tensorflow.keras.layers import Embedding, Concatenate, GRU, SimpleRNN\r\n",
        "from tensorflow.keras.models import Model\r\n",
        "from tensorflow.keras.losses import CategoricalCrossentropy\r\n",
        "from tensorflow.keras.utils import plot_model\r\n",
        "from IPython.display import display, Image\r\n",
        "\r\n",
        "# Use Keras Functional API for using Concatenate layer\r\n",
        "\r\n",
        "# Define inputs\r\n",
        "input_chord = Input(shape = (None,), name='input_chord')\r\n",
        "input_duration = Input(shape = (None,), name='input_duration')\r\n",
        "\r\n",
        "# Define embedding layers:\r\n",
        "embed_dim = 64\r\n",
        "sequence_length = 32\r\n",
        "embedding_chord = Embedding(num_unique_chords, embed_dim, input_length = sequence_length, name='embedding_chord')(input_chord)\r\n",
        "embedding_duration = Embedding(num_unique_duration, embed_dim, input_length = sequence_length, name='embedding_duration')(input_duration)\r\n",
        "\r\n",
        "# Concatenation the embedding layers:\r\n",
        "concat = Concatenate(axis=1, name='concat')([embedding_chord, embedding_duration])\r\n",
        "# GRU and SimpleRNN:\r\n",
        "gru = GRU(256, return_sequences=True, name='gru')(concat)\r\n",
        "simple_rnn = SimpleRNN(128, name='simple_rnn')(gru)\r\n",
        "dense = Dense(64, activation='relu', name='dense')(simple_rnn)\r\n",
        "\r\n",
        "dropout = Dropout(0.3, name='dropout')(dense) \r\n",
        "# Define outputs:\r\n",
        "output_chord = Dense(target_chords_1hot.shape[1], activation = 'softmax', name='output_chord')(dropout)\r\n",
        "output_duration = Dense(target_durations_1hot.shape[1], activation = 'softmax', name='output_duration')(dropout)\r\n",
        "\r\n",
        "# Define model:\r\n",
        "model = Model(inputs = [input_chord, input_duration], outputs = [output_chord, output_duration], name='model')\r\n",
        "model.compile(loss='categorical_crossentropy', optimizer='adam', metrics=['accuracy'])\r\n",
        "plot_model(model, show_shapes=True); display(Image('model.png'))\r\n",
        "model.summary()"
      ],
      "execution_count": 21,
      "outputs": [
        {
          "output_type": "display_data",
          "data": {
            "image/png": "[encoded data removed]",
            "text/plain": [
              "<IPython.core.display.Image object>"
            ]
          },
          "metadata": {
            "tags": []
          }
        },
        {
          "output_type": "stream",
          "text": [
            "Model: \"model\"\n",
            "__________________________________________________________________________________________________\n",
            "Layer (type)                    Output Shape         Param #     Connected to                     \n",
            "==================================================================================================\n",
            "input_chord (InputLayer)        [(None, None)]       0                                            \n",
            "__________________________________________________________________________________________________\n",
            "input_duration (InputLayer)     [(None, None)]       0                                            \n",
            "__________________________________________________________________________________________________\n",
            "embedding_chord (Embedding)     (None, None, 64)     195072      input_chord[0][0]                \n",
            "__________________________________________________________________________________________________\n",
            "embedding_duration (Embedding)  (None, None, 64)     1152        input_duration[0][0]             \n",
            "__________________________________________________________________________________________________\n",
            "concat (Concatenate)            (None, None, 64)     0           embedding_chord[0][0]            \n",
            "                                                                 embedding_duration[0][0]         \n",
            "__________________________________________________________________________________________________\n",
            "gru (GRU)                       (None, None, 256)    247296      concat[0][0]                     \n",
            "__________________________________________________________________________________________________\n",
            "simple_rnn (SimpleRNN)          (None, 128)          49280       gru[0][0]                        \n",
            "__________________________________________________________________________________________________\n",
            "dense (Dense)                   (None, 64)           8256        simple_rnn[0][0]                 \n",
            "__________________________________________________________________________________________________\n",
            "dropout (Dropout)               (None, 64)           0           dense[0][0]                      \n",
            "__________________________________________________________________________________________________\n",
            "output_chord (Dense)            (None, 3048)         198120      dropout[0][0]                    \n",
            "__________________________________________________________________________________________________\n",
            "output_duration (Dense)         (None, 18)           1170        dropout[0][0]                    \n",
            "==================================================================================================\n",
            "Total params: 700,346\n",
            "Trainable params: 700,346\n",
            "Non-trainable params: 0\n",
            "__________________________________________________________________________________________________\n"
          ],
          "name": "stdout"
        }
      ]
    },
    {
      "cell_type": "code",
      "metadata": {
        "id": "fU0c3cmnoMxg",
        "outputId": "220ce1e8-995d-4e30-d7c6-90a8e55a599b",
        "colab": {
          "base_uri": "https://localhost:8080/"
        }
      },
      "source": [
        "from tensorflow.python.client import device_lib\r\n",
        "print(device_lib.list_local_devices())"
      ],
      "execution_count": 16,
      "outputs": [
        {
          "output_type": "stream",
          "text": [
            "[name: \"/device:CPU:0\"\n",
            "device_type: \"CPU\"\n",
            "memory_limit: 268435456\n",
            "locality {\n",
            "}\n",
            "incarnation: 4544053595011479185\n",
            ", name: \"/device:GPU:0\"\n",
            "device_type: \"GPU\"\n",
            "memory_limit: 14638920512\n",
            "locality {\n",
            "  bus_id: 1\n",
            "  links {\n",
            "  }\n",
            "}\n",
            "incarnation: 3111275989621352199\n",
            "physical_device_desc: \"device: 0, name: Tesla T4, pci bus id: 0000:00:04.0, compute capability: 7.5\"\n",
            "]\n"
          ],
          "name": "stdout"
        }
      ]
    },
    {
      "cell_type": "markdown",
      "metadata": {
        "id": "oWozqxO3_9gK"
      },
      "source": [
        "## Part IV"
      ]
    },
    {
      "cell_type": "code",
      "metadata": {
        "id": "RGRmary5vtkh",
        "outputId": "61e288ca-35b4-444b-cb33-9473da685188",
        "colab": {
          "base_uri": "https://localhost:8080/"
        }
      },
      "source": [
        "train_data = [train_chords, train_durations]\r\n",
        "target_data = [target_chords_1hot, target_durations_1hot]\r\n",
        "history = model.fit(train_data, \r\n",
        "          target_data, \r\n",
        "          epochs=80, \r\n",
        "          batch_size=256\r\n",
        "          )\r\n",
        "model.save('simplemodel_chord_duration.h5')"
      ],
      "execution_count": 22,
      "outputs": [
        {
          "output_type": "stream",
          "text": [
            "Epoch 1/80\n",
            "122/122 [==============================] - 10s 63ms/step - loss: 8.4068 - output_chord_loss: 7.1840 - output_duration_loss: 1.2228 - output_chord_accuracy: 0.0107 - output_duration_accuracy: 0.7131\n",
            "Epoch 2/80\n",
            "122/122 [==============================] - 8s 67ms/step - loss: 6.6260 - output_chord_loss: 6.1102 - output_duration_loss: 0.5158 - output_chord_accuracy: 0.0237 - output_duration_accuracy: 0.8463\n",
            "Epoch 3/80\n",
            "122/122 [==============================] - 7s 61ms/step - loss: 6.4323 - output_chord_loss: 5.9813 - output_duration_loss: 0.4510 - output_chord_accuracy: 0.0246 - output_duration_accuracy: 0.8607\n",
            "Epoch 4/80\n",
            "122/122 [==============================] - 8s 66ms/step - loss: 6.2384 - output_chord_loss: 5.8762 - output_duration_loss: 0.3622 - output_chord_accuracy: 0.0267 - output_duration_accuracy: 0.8911\n",
            "Epoch 5/80\n",
            "122/122 [==============================] - 8s 63ms/step - loss: 6.0384 - output_chord_loss: 5.7932 - output_duration_loss: 0.2452 - output_chord_accuracy: 0.0300 - output_duration_accuracy: 0.9210\n",
            "Epoch 6/80\n",
            "122/122 [==============================] - 8s 66ms/step - loss: 5.8359 - output_chord_loss: 5.6891 - output_duration_loss: 0.1468 - output_chord_accuracy: 0.0327 - output_duration_accuracy: 0.9596\n",
            "Epoch 7/80\n",
            "122/122 [==============================] - 8s 63ms/step - loss: 5.6973 - output_chord_loss: 5.6050 - output_duration_loss: 0.0923 - output_chord_accuracy: 0.0341 - output_duration_accuracy: 0.9793\n",
            "Epoch 8/80\n",
            "122/122 [==============================] - 8s 66ms/step - loss: 5.4722 - output_chord_loss: 5.4049 - output_duration_loss: 0.0673 - output_chord_accuracy: 0.0433 - output_duration_accuracy: 0.9861\n",
            "Epoch 9/80\n",
            "122/122 [==============================] - 8s 65ms/step - loss: 5.2500 - output_chord_loss: 5.1944 - output_duration_loss: 0.0556 - output_chord_accuracy: 0.0536 - output_duration_accuracy: 0.9880\n",
            "Epoch 10/80\n",
            "122/122 [==============================] - 8s 64ms/step - loss: 4.9418 - output_chord_loss: 4.8894 - output_duration_loss: 0.0524 - output_chord_accuracy: 0.0694 - output_duration_accuracy: 0.9881\n",
            "Epoch 11/80\n",
            "122/122 [==============================] - 8s 67ms/step - loss: 4.3534 - output_chord_loss: 4.2982 - output_duration_loss: 0.0552 - output_chord_accuracy: 0.1249 - output_duration_accuracy: 0.9872\n",
            "Epoch 12/80\n",
            "122/122 [==============================] - 8s 62ms/step - loss: 3.9088 - output_chord_loss: 3.8551 - output_duration_loss: 0.0537 - output_chord_accuracy: 0.1824 - output_duration_accuracy: 0.9869\n",
            "Epoch 13/80\n",
            "122/122 [==============================] - 8s 63ms/step - loss: 3.4899 - output_chord_loss: 3.4328 - output_duration_loss: 0.0571 - output_chord_accuracy: 0.2520 - output_duration_accuracy: 0.9860\n",
            "Epoch 14/80\n",
            "122/122 [==============================] - 7s 61ms/step - loss: 3.2448 - output_chord_loss: 3.1884 - output_duration_loss: 0.0564 - output_chord_accuracy: 0.2980 - output_duration_accuracy: 0.9851\n",
            "Epoch 15/80\n",
            "122/122 [==============================] - 8s 63ms/step - loss: 2.9875 - output_chord_loss: 2.9333 - output_duration_loss: 0.0541 - output_chord_accuracy: 0.3523 - output_duration_accuracy: 0.9855\n",
            "Epoch 16/80\n",
            "122/122 [==============================] - 8s 64ms/step - loss: 2.8513 - output_chord_loss: 2.7954 - output_duration_loss: 0.0559 - output_chord_accuracy: 0.3764 - output_duration_accuracy: 0.9843\n",
            "Epoch 17/80\n",
            "122/122 [==============================] - 7s 61ms/step - loss: 2.6356 - output_chord_loss: 2.5791 - output_duration_loss: 0.0564 - output_chord_accuracy: 0.4196 - output_duration_accuracy: 0.9853\n",
            "Epoch 18/80\n",
            "122/122 [==============================] - 7s 61ms/step - loss: 2.5423 - output_chord_loss: 2.4822 - output_duration_loss: 0.0601 - output_chord_accuracy: 0.4318 - output_duration_accuracy: 0.9856\n",
            "Epoch 19/80\n",
            "122/122 [==============================] - 8s 62ms/step - loss: 2.4494 - output_chord_loss: 2.3952 - output_duration_loss: 0.0542 - output_chord_accuracy: 0.4442 - output_duration_accuracy: 0.9857\n",
            "Epoch 20/80\n",
            "122/122 [==============================] - 8s 64ms/step - loss: 2.2607 - output_chord_loss: 2.2173 - output_duration_loss: 0.0434 - output_chord_accuracy: 0.4919 - output_duration_accuracy: 0.9879\n",
            "Epoch 21/80\n",
            "122/122 [==============================] - 8s 63ms/step - loss: 2.1785 - output_chord_loss: 2.1365 - output_duration_loss: 0.0420 - output_chord_accuracy: 0.5004 - output_duration_accuracy: 0.9878\n",
            "Epoch 22/80\n",
            "122/122 [==============================] - 8s 64ms/step - loss: 2.0663 - output_chord_loss: 2.0238 - output_duration_loss: 0.0425 - output_chord_accuracy: 0.5241 - output_duration_accuracy: 0.9883\n",
            "Epoch 23/80\n",
            "122/122 [==============================] - 8s 68ms/step - loss: 2.0447 - output_chord_loss: 2.0003 - output_duration_loss: 0.0445 - output_chord_accuracy: 0.5205 - output_duration_accuracy: 0.9866\n",
            "Epoch 24/80\n",
            "122/122 [==============================] - 8s 63ms/step - loss: 1.9546 - output_chord_loss: 1.9131 - output_duration_loss: 0.0415 - output_chord_accuracy: 0.5363 - output_duration_accuracy: 0.9873\n",
            "Epoch 25/80\n",
            "122/122 [==============================] - 7s 61ms/step - loss: 1.9001 - output_chord_loss: 1.8660 - output_duration_loss: 0.0341 - output_chord_accuracy: 0.5457 - output_duration_accuracy: 0.9892\n",
            "Epoch 26/80\n",
            "122/122 [==============================] - 8s 63ms/step - loss: 1.8198 - output_chord_loss: 1.7777 - output_duration_loss: 0.0421 - output_chord_accuracy: 0.5643 - output_duration_accuracy: 0.9875\n",
            "Epoch 27/80\n",
            "122/122 [==============================] - 8s 63ms/step - loss: 1.7753 - output_chord_loss: 1.7319 - output_duration_loss: 0.0435 - output_chord_accuracy: 0.5705 - output_duration_accuracy: 0.9861\n",
            "Epoch 28/80\n",
            "122/122 [==============================] - 8s 65ms/step - loss: 1.6702 - output_chord_loss: 1.6358 - output_duration_loss: 0.0344 - output_chord_accuracy: 0.5885 - output_duration_accuracy: 0.9893\n",
            "Epoch 29/80\n",
            "122/122 [==============================] - 8s 64ms/step - loss: 1.6282 - output_chord_loss: 1.5881 - output_duration_loss: 0.0401 - output_chord_accuracy: 0.6087 - output_duration_accuracy: 0.9868\n",
            "Epoch 30/80\n",
            "122/122 [==============================] - 8s 62ms/step - loss: 1.5701 - output_chord_loss: 1.5302 - output_duration_loss: 0.0400 - output_chord_accuracy: 0.6148 - output_duration_accuracy: 0.9874\n",
            "Epoch 31/80\n",
            "122/122 [==============================] - 8s 67ms/step - loss: 1.6616 - output_chord_loss: 1.5959 - output_duration_loss: 0.0657 - output_chord_accuracy: 0.5888 - output_duration_accuracy: 0.9848\n",
            "Epoch 32/80\n",
            "122/122 [==============================] - 8s 65ms/step - loss: 1.5029 - output_chord_loss: 1.4673 - output_duration_loss: 0.0356 - output_chord_accuracy: 0.6238 - output_duration_accuracy: 0.9876\n",
            "Epoch 33/80\n",
            "122/122 [==============================] - 8s 69ms/step - loss: 1.4513 - output_chord_loss: 1.4190 - output_duration_loss: 0.0323 - output_chord_accuracy: 0.6420 - output_duration_accuracy: 0.9901\n",
            "Epoch 34/80\n",
            "122/122 [==============================] - 8s 69ms/step - loss: 1.3686 - output_chord_loss: 1.3371 - output_duration_loss: 0.0314 - output_chord_accuracy: 0.6512 - output_duration_accuracy: 0.9905\n",
            "Epoch 35/80\n",
            "122/122 [==============================] - 8s 67ms/step - loss: 1.3247 - output_chord_loss: 1.2906 - output_duration_loss: 0.0341 - output_chord_accuracy: 0.6660 - output_duration_accuracy: 0.9885\n",
            "Epoch 36/80\n",
            "122/122 [==============================] - 8s 63ms/step - loss: 1.3159 - output_chord_loss: 1.2773 - output_duration_loss: 0.0386 - output_chord_accuracy: 0.6655 - output_duration_accuracy: 0.9879\n",
            "Epoch 37/80\n",
            "122/122 [==============================] - 8s 65ms/step - loss: 1.5361 - output_chord_loss: 1.4951 - output_duration_loss: 0.0410 - output_chord_accuracy: 0.6006 - output_duration_accuracy: 0.9863\n",
            "Epoch 38/80\n",
            "122/122 [==============================] - 9s 70ms/step - loss: 1.1915 - output_chord_loss: 1.1589 - output_duration_loss: 0.0326 - output_chord_accuracy: 0.6983 - output_duration_accuracy: 0.9894\n",
            "Epoch 39/80\n",
            "122/122 [==============================] - 8s 66ms/step - loss: 1.1417 - output_chord_loss: 1.1075 - output_duration_loss: 0.0342 - output_chord_accuracy: 0.7075 - output_duration_accuracy: 0.9888\n",
            "Epoch 40/80\n",
            "122/122 [==============================] - 8s 62ms/step - loss: 1.1141 - output_chord_loss: 1.0794 - output_duration_loss: 0.0347 - output_chord_accuracy: 0.7158 - output_duration_accuracy: 0.9887\n",
            "Epoch 41/80\n",
            "122/122 [==============================] - 8s 64ms/step - loss: 1.1171 - output_chord_loss: 1.0826 - output_duration_loss: 0.0345 - output_chord_accuracy: 0.7136 - output_duration_accuracy: 0.9888\n",
            "Epoch 42/80\n",
            "122/122 [==============================] - 8s 63ms/step - loss: 1.1021 - output_chord_loss: 1.0672 - output_duration_loss: 0.0348 - output_chord_accuracy: 0.7154 - output_duration_accuracy: 0.9880\n",
            "Epoch 43/80\n",
            "122/122 [==============================] - 8s 68ms/step - loss: 1.0408 - output_chord_loss: 1.0080 - output_duration_loss: 0.0328 - output_chord_accuracy: 0.7321 - output_duration_accuracy: 0.9891\n",
            "Epoch 44/80\n",
            "122/122 [==============================] - 8s 64ms/step - loss: 1.0780 - output_chord_loss: 1.0434 - output_duration_loss: 0.0346 - output_chord_accuracy: 0.7164 - output_duration_accuracy: 0.9877\n",
            "Epoch 45/80\n",
            "122/122 [==============================] - 8s 64ms/step - loss: 1.0138 - output_chord_loss: 0.9798 - output_duration_loss: 0.0340 - output_chord_accuracy: 0.7331 - output_duration_accuracy: 0.9886\n",
            "Epoch 46/80\n",
            "122/122 [==============================] - 8s 65ms/step - loss: 1.0027 - output_chord_loss: 0.9709 - output_duration_loss: 0.0317 - output_chord_accuracy: 0.7371 - output_duration_accuracy: 0.9890\n",
            "Epoch 47/80\n",
            "122/122 [==============================] - 8s 62ms/step - loss: 0.9126 - output_chord_loss: 0.8807 - output_duration_loss: 0.0319 - output_chord_accuracy: 0.7622 - output_duration_accuracy: 0.9885\n",
            "Epoch 48/80\n",
            "122/122 [==============================] - 8s 65ms/step - loss: 0.8885 - output_chord_loss: 0.8571 - output_duration_loss: 0.0314 - output_chord_accuracy: 0.7680 - output_duration_accuracy: 0.9896\n",
            "Epoch 49/80\n",
            "122/122 [==============================] - 8s 64ms/step - loss: 0.9657 - output_chord_loss: 0.9316 - output_duration_loss: 0.0341 - output_chord_accuracy: 0.7381 - output_duration_accuracy: 0.9891\n",
            "Epoch 50/80\n",
            "122/122 [==============================] - 8s 65ms/step - loss: 1.0709 - output_chord_loss: 1.0345 - output_duration_loss: 0.0364 - output_chord_accuracy: 0.7100 - output_duration_accuracy: 0.9869\n",
            "Epoch 51/80\n",
            "122/122 [==============================] - 8s 65ms/step - loss: 0.8421 - output_chord_loss: 0.8085 - output_duration_loss: 0.0336 - output_chord_accuracy: 0.7764 - output_duration_accuracy: 0.9888\n",
            "Epoch 52/80\n",
            "122/122 [==============================] - 8s 68ms/step - loss: 0.7811 - output_chord_loss: 0.7505 - output_duration_loss: 0.0306 - output_chord_accuracy: 0.7930 - output_duration_accuracy: 0.9894\n",
            "Epoch 53/80\n",
            "122/122 [==============================] - 8s 65ms/step - loss: 0.7843 - output_chord_loss: 0.7538 - output_duration_loss: 0.0305 - output_chord_accuracy: 0.7938 - output_duration_accuracy: 0.9888\n",
            "Epoch 54/80\n",
            "122/122 [==============================] - 7s 61ms/step - loss: 0.7581 - output_chord_loss: 0.7272 - output_duration_loss: 0.0309 - output_chord_accuracy: 0.7950 - output_duration_accuracy: 0.9892\n",
            "Epoch 55/80\n",
            "122/122 [==============================] - 8s 64ms/step - loss: 0.8339 - output_chord_loss: 0.7952 - output_duration_loss: 0.0387 - output_chord_accuracy: 0.7793 - output_duration_accuracy: 0.9882\n",
            "Epoch 56/80\n",
            "122/122 [==============================] - 8s 64ms/step - loss: 0.7106 - output_chord_loss: 0.6770 - output_duration_loss: 0.0336 - output_chord_accuracy: 0.8110 - output_duration_accuracy: 0.9887\n",
            "Epoch 57/80\n",
            "122/122 [==============================] - 8s 64ms/step - loss: 0.7123 - output_chord_loss: 0.6789 - output_duration_loss: 0.0334 - output_chord_accuracy: 0.8118 - output_duration_accuracy: 0.9883\n",
            "Epoch 58/80\n",
            "122/122 [==============================] - 8s 64ms/step - loss: 0.7016 - output_chord_loss: 0.6668 - output_duration_loss: 0.0347 - output_chord_accuracy: 0.8129 - output_duration_accuracy: 0.9882\n",
            "Epoch 59/80\n",
            "122/122 [==============================] - 8s 63ms/step - loss: 0.7088 - output_chord_loss: 0.6719 - output_duration_loss: 0.0369 - output_chord_accuracy: 0.8119 - output_duration_accuracy: 0.9882\n",
            "Epoch 60/80\n",
            "122/122 [==============================] - 8s 66ms/step - loss: 1.1032 - output_chord_loss: 1.0625 - output_duration_loss: 0.0407 - output_chord_accuracy: 0.7228 - output_duration_accuracy: 0.9863\n",
            "Epoch 61/80\n",
            "122/122 [==============================] - 8s 64ms/step - loss: 0.6599 - output_chord_loss: 0.6280 - output_duration_loss: 0.0319 - output_chord_accuracy: 0.8249 - output_duration_accuracy: 0.9888\n",
            "Epoch 62/80\n",
            "122/122 [==============================] - 8s 63ms/step - loss: 0.6254 - output_chord_loss: 0.5936 - output_duration_loss: 0.0318 - output_chord_accuracy: 0.8337 - output_duration_accuracy: 0.9882\n",
            "Epoch 63/80\n",
            "122/122 [==============================] - 8s 66ms/step - loss: 0.6074 - output_chord_loss: 0.5802 - output_duration_loss: 0.0272 - output_chord_accuracy: 0.8368 - output_duration_accuracy: 0.9904\n",
            "Epoch 64/80\n",
            "122/122 [==============================] - 8s 66ms/step - loss: 0.5910 - output_chord_loss: 0.5605 - output_duration_loss: 0.0305 - output_chord_accuracy: 0.8412 - output_duration_accuracy: 0.9888\n",
            "Epoch 65/80\n",
            "122/122 [==============================] - 8s 64ms/step - loss: 0.5844 - output_chord_loss: 0.5510 - output_duration_loss: 0.0334 - output_chord_accuracy: 0.8432 - output_duration_accuracy: 0.9886\n",
            "Epoch 66/80\n",
            "122/122 [==============================] - 8s 66ms/step - loss: 0.5784 - output_chord_loss: 0.5410 - output_duration_loss: 0.0374 - output_chord_accuracy: 0.8455 - output_duration_accuracy: 0.9876\n",
            "Epoch 67/80\n",
            "122/122 [==============================] - 8s 65ms/step - loss: 0.5554 - output_chord_loss: 0.5293 - output_duration_loss: 0.0261 - output_chord_accuracy: 0.8475 - output_duration_accuracy: 0.9907\n",
            "Epoch 68/80\n",
            "122/122 [==============================] - 8s 63ms/step - loss: 0.5447 - output_chord_loss: 0.5138 - output_duration_loss: 0.0309 - output_chord_accuracy: 0.8520 - output_duration_accuracy: 0.9890\n",
            "Epoch 69/80\n",
            "122/122 [==============================] - 8s 65ms/step - loss: 0.5440 - output_chord_loss: 0.5144 - output_duration_loss: 0.0296 - output_chord_accuracy: 0.8508 - output_duration_accuracy: 0.9899\n",
            "Epoch 70/80\n",
            "122/122 [==============================] - 8s 62ms/step - loss: 0.5575 - output_chord_loss: 0.5270 - output_duration_loss: 0.0305 - output_chord_accuracy: 0.8459 - output_duration_accuracy: 0.9900\n",
            "Epoch 71/80\n",
            "122/122 [==============================] - 8s 65ms/step - loss: 0.5572 - output_chord_loss: 0.5284 - output_duration_loss: 0.0288 - output_chord_accuracy: 0.8460 - output_duration_accuracy: 0.9903\n",
            "Epoch 72/80\n",
            "122/122 [==============================] - 8s 62ms/step - loss: 0.5619 - output_chord_loss: 0.5330 - output_duration_loss: 0.0289 - output_chord_accuracy: 0.8440 - output_duration_accuracy: 0.9903\n",
            "Epoch 73/80\n",
            "122/122 [==============================] - 8s 63ms/step - loss: 0.5953 - output_chord_loss: 0.5571 - output_duration_loss: 0.0382 - output_chord_accuracy: 0.8437 - output_duration_accuracy: 0.9882\n",
            "Epoch 74/80\n",
            "122/122 [==============================] - 8s 65ms/step - loss: 0.5724 - output_chord_loss: 0.5409 - output_duration_loss: 0.0315 - output_chord_accuracy: 0.8447 - output_duration_accuracy: 0.9893\n",
            "Epoch 75/80\n",
            "122/122 [==============================] - 8s 65ms/step - loss: 0.4632 - output_chord_loss: 0.4339 - output_duration_loss: 0.0293 - output_chord_accuracy: 0.8714 - output_duration_accuracy: 0.9903\n",
            "Epoch 76/80\n",
            "122/122 [==============================] - 8s 63ms/step - loss: 0.4487 - output_chord_loss: 0.4225 - output_duration_loss: 0.0262 - output_chord_accuracy: 0.8753 - output_duration_accuracy: 0.9917\n",
            "Epoch 77/80\n",
            "122/122 [==============================] - 8s 68ms/step - loss: 0.4544 - output_chord_loss: 0.4237 - output_duration_loss: 0.0307 - output_chord_accuracy: 0.8755 - output_duration_accuracy: 0.9887\n",
            "Epoch 78/80\n",
            "122/122 [==============================] - 8s 65ms/step - loss: 0.4464 - output_chord_loss: 0.4182 - output_duration_loss: 0.0282 - output_chord_accuracy: 0.8778 - output_duration_accuracy: 0.9906\n",
            "Epoch 79/80\n",
            "122/122 [==============================] - 8s 64ms/step - loss: 0.4396 - output_chord_loss: 0.4115 - output_duration_loss: 0.0282 - output_chord_accuracy: 0.8808 - output_duration_accuracy: 0.9896\n",
            "Epoch 80/80\n",
            "122/122 [==============================] - 8s 66ms/step - loss: 0.4255 - output_chord_loss: 0.3975 - output_duration_loss: 0.0280 - output_chord_accuracy: 0.8839 - output_duration_accuracy: 0.9898\n"
          ],
          "name": "stdout"
        }
      ]
    },
    {
      "cell_type": "code",
      "metadata": {
        "id": "x_GgCSnO6VFn",
        "outputId": "edc46b00-fb25-4bdd-edd5-467f9815a5a9",
        "colab": {
          "base_uri": "https://localhost:8080/",
          "height": 333
        }
      },
      "source": [
        "import matplotlib.pyplot as plt\r\n",
        "\r\n",
        "plt.figure(figsize=(15,5))\r\n",
        "\r\n",
        "plt.subplot(121)\r\n",
        "plt.plot(history.history['loss'], label='loss')\r\n",
        "plt.plot(history.history['output_chord_loss'], label='Chord loss')\r\n",
        "plt.plot(history.history['output_duration_loss'], label='Duration loss')\r\n",
        "plt.xlabel('Epochs')\r\n",
        "plt.ylabel('Loss')\r\n",
        "plt.legend()\r\n",
        "\r\n",
        "plt.subplot(122)\r\n",
        "plt.plot(history.history['output_chord_accuracy'], label='Chord accuracy')\r\n",
        "plt.plot(history.history['output_duration_accuracy'], label='Duration accuracy')\r\n",
        "plt.xlabel('Epochs')\r\n",
        "plt.ylabel('Accuracy')\r\n",
        "plt.legend()\r\n",
        "plt.show()"
      ],
      "execution_count": 25,
      "outputs": [
        {
          "output_type": "display_data",
          "data": {
            "image/png": "[encoded data removed]",
            "text/plain": [
              "<Figure size 1080x360 with 2 Axes>"
            ]
          },
          "metadata": {
            "tags": [],
            "image/png": {
              "width": 878,
              "height": 316
            },
            "needs_background": "light"
          }
        }
      ]
    },
    {
      "cell_type": "code",
      "metadata": {
        "id": "-L8iS_vEqY12",
        "outputId": "7d6eb601-db6b-4efa-ccf1-e46f941b1ace",
        "colab": {
          "base_uri": "https://localhost:8080/",
          "height": 65,
          "referenced_widgets": [
            "c4c12e6309504af5a26b444cb212dd13",
            "e82a103e1d0645fb90706ded172d282b",
            "66287ae565394ae4857f2dce7fdc7952",
            "f3a8e3a10d1345d9a5533f921d933940",
            "db62e58e62ac4fc8ae4e3b05be2acf6b",
            "d6c3f895cc0243c4ab5483f95b742b60",
            "753dc74706354f87b8fb8840e503ba7f",
            "7fdf07e30ea34d83a3d68489d709c53b"
          ]
        }
      },
      "source": [
        "import numpy as np\r\n",
        "from tqdm.auto import trange\r\n",
        "\r\n",
        "initial_chords = train_chords[0:1]\r\n",
        "initial_durations = train_durations[0:1]\r\n",
        "\r\n",
        "def predict(chords, durations):\r\n",
        "    pred_chords, pred_durations = model.predict([chords, durations])\r\n",
        "    return np.argmax(pred_chords), np.argmax(pred_durations)\r\n",
        "\r\n",
        "# empty lists for generated chords and durations\r\n",
        "generated_chords = []; generated_durations = []\r\n",
        "\r\n",
        "# Generate chords and durations\r\n",
        "num_iter = 50\r\n",
        "for j in trange(num_iter):\r\n",
        "    gen_chord, gen_duration = predict(initial_chords, initial_durations)\r\n",
        "    generated_chords.append(gen_chord)\r\n",
        "    generated_durations.append(gen_duration)\r\n",
        "    # shift chords and durations and append new data at last\r\n",
        "    initial_chords[0][:-1] = initial_chords[0][1:]\r\n",
        "    initial_chords[0][-1] = gen_chord\r\n",
        "    initial_durations[0][:-1] = initial_durations[0][1:]\r\n",
        "    initial_durations[0][-1] = gen_duration\r\n",
        "    \r\n",
        "# change to numpy ndarray:\r\n",
        "generated_chords = np.array(generated_chords)\r\n",
        "generated_durations = np.array(generated_durations) \r\n",
        "\r\n"
      ],
      "execution_count": 47,
      "outputs": [
        {
          "output_type": "display_data",
          "data": {
            "application/vnd.jupyter.widget-view+json": {
              "model_id": "c4c12e6309504af5a26b444cb212dd13",
              "version_minor": 0,
              "version_major": 2
            },
            "text/plain": [
              "HBox(children=(FloatProgress(value=0.0, max=50.0), HTML(value='')))"
            ]
          },
          "metadata": {
            "tags": []
          }
        },
        {
          "output_type": "stream",
          "text": [
            "\n"
          ],
          "name": "stdout"
        }
      ]
    },
    {
      "cell_type": "code",
      "metadata": {
        "id": "eWiMrtwHyMeO",
        "outputId": "ba45bfea-63fd-4da0-b0d9-818112b00704",
        "colab": {
          "base_uri": "https://localhost:8080/",
          "height": 100,
          "referenced_widgets": [
            "f139fbea575441b3ae36abff6799f7cb",
            "e20734c6ce7c4b30a712a46f3b89cd13",
            "208a4a9f5379430783a0b1fbfec55599",
            "4e1f5d94c7e640df8c6ff500e3beefa8",
            "255fc28ebe444aa2b06b24e6721cb68f",
            "09faf9d01aed4f6b82eff388f94e755e",
            "84cfb8aecde54578a8f623ab73fb8e3e",
            "d8c55d76af24482cb6ec54c9ce84d9ed"
          ]
        }
      },
      "source": [
        "from music21 import instrument, stream, note, chord\r\n",
        "from tqdm.auto import trange\r\n",
        "import os\r\n",
        "\r\n",
        "# Define save directory\r\n",
        "generated_folder = 'generated'\r\n",
        "create_empty_folder(generated_folder)\r\n",
        "\r\n",
        "# Create stream object and add guitar as instrument\r\n",
        "generated_stream = stream.Stream()\r\n",
        "generated_stream.append(instrument.Guitar())\r\n",
        "\r\n",
        "# Add notes and durations to stream\r\n",
        "for i in trange(generated_chords.shape[0]):\r\n",
        "    chord_str = chord_encoder.inverse_transform([generated_chords[i]])[0]\r\n",
        "    chord_str = chord_str.replace('.', ' ')\r\n",
        "    try:\r\n",
        "        generated_stream.append(note.Note(chord_str, quarterType = generated_durations[j]))\r\n",
        "    except:\r\n",
        "        generated_stream.append(chord.Chord(chord_str, quarterType = generated_durations[j]))\r\n",
        "\r\n",
        "# Export as MIDI file\r\n",
        "generated_stream.write('midi', fp=os.path.join(generated_folder,'generated-simplemodel.mid'))\r\n"
      ],
      "execution_count": 61,
      "outputs": [
        {
          "output_type": "stream",
          "text": [
            "\"generated\" is created.\n"
          ],
          "name": "stdout"
        },
        {
          "output_type": "display_data",
          "data": {
            "application/vnd.jupyter.widget-view+json": {
              "model_id": "f139fbea575441b3ae36abff6799f7cb",
              "version_minor": 0,
              "version_major": 2
            },
            "text/plain": [
              "HBox(children=(FloatProgress(value=0.0, max=50.0), HTML(value='')))"
            ]
          },
          "metadata": {
            "tags": []
          }
        },
        {
          "output_type": "stream",
          "text": [
            "\n"
          ],
          "name": "stdout"
        },
        {
          "output_type": "execute_result",
          "data": {
            "application/vnd.google.colaboratory.intrinsic+json": {
              "type": "string"
            },
            "text/plain": [
              "'generated/generated.mid'"
            ]
          },
          "metadata": {
            "tags": []
          },
          "execution_count": 61
        }
      ]
    },
    {
      "cell_type": "markdown",
      "metadata": {
        "id": "aE1QYo0aNI6Z"
      },
      "source": [
        "## Part V"
      ]
    },
    {
      "cell_type": "code",
      "metadata": {
        "id": "Flygh5IxNWCw"
      },
      "source": [
        ""
      ],
      "execution_count": null,
      "outputs": []
    },
    {
      "cell_type": "markdown",
      "metadata": {
        "id": "w5Up3i8CNW7e"
      },
      "source": [
        "## Part VII"
      ]
    },
    {
      "cell_type": "code",
      "metadata": {
        "id": "_iexHq8evi64",
        "outputId": "57f28f41-5d62-485b-f865-f9214c3402ee",
        "colab": {
          "base_uri": "https://localhost:8080/",
          "height": 1000
        }
      },
      "source": [
        "from tensorflow.keras.layers import Input, Embedding, Concatenate, LSTM, Dense\r\n",
        "from tensorflow.keras.models import Model\r\n",
        "from tensorflow.keras.losses import CategoricalCrossentropy\r\n",
        "from tensorflow.keras.utils import plot_model\r\n",
        "from IPython.display import display, Image\r\n",
        "\r\n",
        "# Define inputs:\r\n",
        "input_chord = Input(shape = (None,), name='input_chord')\r\n",
        "input_duration = Input(shape = (None,), name='input_duration')\r\n",
        "\r\n",
        "# Define embedding layers:\r\n",
        "embedding_chord = Embedding(num_unique_chords, embed_dim, input_length = sequence_length, name='embedding_chord')(input_chord)\r\n",
        "embedding_duration = Embedding(num_unique_duration, embed_dim, input_length = sequence_length, name='embedding_duration')(input_duration)\r\n",
        "\r\n",
        "# Concatenate embedding layers:\r\n",
        "concat = Concatenate(axis=1, name='concat')([embedding_chord, embedding_duration])\r\n",
        "\r\n",
        "# Define LSTM layer\r\n",
        "lstm = LSTM(512, name='lstm')(concat)\r\n",
        "\r\n",
        "# Define dense layer\r\n",
        "dense = Dense(256, name='dense')(lstm)\r\n",
        "\r\n",
        "# Define output layers\r\n",
        "output_chord = Dense(target_chords_1hot.shape[1], activation = 'softmax', name='output_chord')(dense)\r\n",
        "output_duration = Dense(target_durations_1hot.shape[1], activation = 'softmax', name='output_duration')(dense)\r\n",
        "\r\n",
        "# Define model\r\n",
        "model = Model(inputs = [input_chord, input_duration], outputs = [output_chord, output_duration], name='lstm_model')\r\n",
        "model.compile(loss=CategoricalCrossentropy(), optimizer='adam', metrics=['accuracy'])\r\n",
        "plot_model(model, to_file='lstm_model.png', show_shapes=True); display(Image('lstm_model.png'))\r\n",
        "model.summary()"
      ],
      "execution_count": 72,
      "outputs": [
        {
          "output_type": "display_data",
          "data": {
            "image/png": "[encoded data removed]",
            "text/plain": [
              "<IPython.core.display.Image object>"
            ]
          },
          "metadata": {
            "tags": []
          }
        },
        {
          "output_type": "stream",
          "text": [
            "Model: \"lstm_model\"\n",
            "__________________________________________________________________________________________________\n",
            "Layer (type)                    Output Shape         Param #     Connected to                     \n",
            "==================================================================================================\n",
            "input_chord (InputLayer)        [(None, None)]       0                                            \n",
            "__________________________________________________________________________________________________\n",
            "input_duration (InputLayer)     [(None, None)]       0                                            \n",
            "__________________________________________________________________________________________________\n",
            "embedding_chord (Embedding)     (None, None, 64)     195072      input_chord[0][0]                \n",
            "__________________________________________________________________________________________________\n",
            "embedding_duration (Embedding)  (None, None, 64)     1152        input_duration[0][0]             \n",
            "__________________________________________________________________________________________________\n",
            "concat (Concatenate)            (None, None, 64)     0           embedding_chord[0][0]            \n",
            "                                                                 embedding_duration[0][0]         \n",
            "__________________________________________________________________________________________________\n",
            "lstm (LSTM)                     (None, 512)          1181696     concat[0][0]                     \n",
            "__________________________________________________________________________________________________\n",
            "dense (Dense)                   (None, 256)          131328      lstm[0][0]                       \n",
            "__________________________________________________________________________________________________\n",
            "output_chord (Dense)            (None, 3048)         783336      dense[0][0]                      \n",
            "__________________________________________________________________________________________________\n",
            "output_duration (Dense)         (None, 18)           4626        dense[0][0]                      \n",
            "==================================================================================================\n",
            "Total params: 2,297,210\n",
            "Trainable params: 2,297,210\n",
            "Non-trainable params: 0\n",
            "__________________________________________________________________________________________________\n"
          ],
          "name": "stdout"
        }
      ]
    },
    {
      "cell_type": "code",
      "metadata": {
        "id": "GsKJigHBm9JB",
        "outputId": "3eba014a-26cc-47c4-a4bf-cb4ec4ed9d09",
        "colab": {
          "base_uri": "https://localhost:8080/"
        }
      },
      "source": [
        "train_data = [train_chords, train_durations]\r\n",
        "target_data = [target_chords_1hot, target_durations_1hot]\r\n",
        "history = model.fit(train_data, \r\n",
        "          target_data, \r\n",
        "          epochs=128, \r\n",
        "          batch_size=256\r\n",
        "          )\r\n",
        "model.save('lstmModel_chord_duration.h5')"
      ],
      "execution_count": 73,
      "outputs": [
        {
          "output_type": "stream",
          "text": [
            "122/122 [==============================] - 8s 48ms/step - loss: 8.4251 - output_chord_loss: 7.0268 - output_duration_loss: 1.3983 - output_chord_accuracy: 0.0137 - output_duration_accuracy: 0.6347\n"
          ],
          "name": "stdout"
        }
      ]
    },
    {
      "cell_type": "code",
      "metadata": {
        "id": "toFoinfVnuhS"
      },
      "source": [
        "import matplotlib.pyplot as plt\r\n",
        "\r\n",
        "plt.figure(figsize=(15,5))\r\n",
        "\r\n",
        "plt.subplot(121)\r\n",
        "plt.plot(history.history['loss'], label='loss')\r\n",
        "plt.plot(history.history['output_chord_loss'], label='Chord loss')\r\n",
        "plt.plot(history.history['output_duration_loss'], label='Duration loss')\r\n",
        "plt.xlabel('Epochs')\r\n",
        "plt.ylabel('Loss')\r\n",
        "plt.legend()\r\n",
        "\r\n",
        "plt.subplot(122)\r\n",
        "plt.plot(history.history['output_chord_accuracy'], label='Chord accuracy')\r\n",
        "plt.plot(history.history['output_duration_accuracy'], label='Duration accuracy')\r\n",
        "plt.xlabel('Epochs')\r\n",
        "plt.ylabel('Accuracy')\r\n",
        "plt.legend()\r\n",
        "plt.show()"
      ],
      "execution_count": null,
      "outputs": []
    },
    {
      "cell_type": "code",
      "metadata": {
        "id": "2fa0a16TnSbn"
      },
      "source": [
        "import numpy as np\r\n",
        "from tqdm.auto import trange\r\n",
        "\r\n",
        "initial_chords = train_chords[0:1]\r\n",
        "initial_durations = train_durations[0:1]\r\n",
        "\r\n",
        "def predict(chords, durations):\r\n",
        "    pred_chords, pred_durations = model.predict([chords, durations])\r\n",
        "    return np.argmax(pred_chords), np.argmax(pred_durations)\r\n",
        "\r\n",
        "# empty lists for generated chords and durations\r\n",
        "generated_chords = []; generated_durations = []\r\n",
        "\r\n",
        "# Generate chords and durations\r\n",
        "num_iter = 90\r\n",
        "for j in trange(num_iter):\r\n",
        "    gen_chord, gen_duration = predict(initial_chords, initial_durations)\r\n",
        "    generated_chords.append(gen_chord)\r\n",
        "    generated_durations.append(gen_duration)\r\n",
        "    # shift chords and durations and append new data at last\r\n",
        "    initial_chords[0][:-1] = initial_chords[0][1:]\r\n",
        "    initial_chords[0][-1] = gen_chord\r\n",
        "    initial_durations[0][:-1] = initial_durations[0][1:]\r\n",
        "    initial_durations[0][-1] = gen_duration\r\n",
        "    \r\n",
        "# change to numpy ndarray:\r\n",
        "generated_chords = np.array(generated_chords)\r\n",
        "generated_durations = np.array(generated_durations) \r\n",
        "\r\n"
      ],
      "execution_count": null,
      "outputs": []
    },
    {
      "cell_type": "code",
      "metadata": {
        "id": "EFIVKFQytAs4",
        "outputId": "66eb85d9-2ed5-41d3-9f7d-ee1e232018eb",
        "colab": {
          "base_uri": "https://localhost:8080/",
          "height": 100,
          "referenced_widgets": [
            "ba26fd456eee46659371465259c8f7f1",
            "88cbcab271434739890c3bbc59137b42",
            "1e4bf4e43aa648f9886353977e1ea245",
            "79d32e90284e46409aaf64985b6989f6",
            "4c94c932e1794956b374dd34b5fd1525",
            "5b94f07479fe47d1aef623f87f291e72",
            "48cfadc5a47449ecafd14f38c48ffaf1",
            "6d59e2529ce6410db5138dd1338702ec"
          ]
        }
      },
      "source": [
        "from music21 import instrument, stream, note, chord\r\n",
        "from tqdm.auto import trange\r\n",
        "import os\r\n",
        "\r\n",
        "# Define save directory\r\n",
        "generated_folder = 'generated'\r\n",
        "create_empty_folder(generated_folder)\r\n",
        "\r\n",
        "# Create stream object and add guitar as instrument\r\n",
        "generated_stream = stream.Stream()\r\n",
        "generated_stream.append(instrument.Guitar())\r\n",
        "\r\n",
        "# Add notes and durations to stream\r\n",
        "for i in trange(generated_chords.shape[0]):\r\n",
        "    chord_str = chord_encoder.inverse_transform([generated_chords[i]])[0]\r\n",
        "    chord_str = chord_str.replace('.', ' ')\r\n",
        "    try:\r\n",
        "        generated_stream.append(note.Note(chord_str, quarterType = generated_durations[j]))\r\n",
        "    except:\r\n",
        "        generated_stream.append(chord.Chord(chord_str, quarterType = generated_durations[j]))\r\n",
        "\r\n",
        "# Export as MIDI file\r\n",
        "generated_stream.write('midi', fp=os.path.join(generated_folder,'generated-lstm_model.mid'))\r\n"
      ],
      "execution_count": 74,
      "outputs": [
        {
          "output_type": "stream",
          "text": [
            "\"generated\" is created.\n"
          ],
          "name": "stdout"
        },
        {
          "output_type": "display_data",
          "data": {
            "application/vnd.jupyter.widget-view+json": {
              "model_id": "ba26fd456eee46659371465259c8f7f1",
              "version_minor": 0,
              "version_major": 2
            },
            "text/plain": [
              "HBox(children=(FloatProgress(value=0.0, max=50.0), HTML(value='')))"
            ]
          },
          "metadata": {
            "tags": []
          }
        },
        {
          "output_type": "stream",
          "text": [
            "\n"
          ],
          "name": "stdout"
        },
        {
          "output_type": "execute_result",
          "data": {
            "application/vnd.google.colaboratory.intrinsic+json": {
              "type": "string"
            },
            "text/plain": [
              "'generated/generated-lstm_model.mid'"
            ]
          },
          "metadata": {
            "tags": []
          },
          "execution_count": 74
        }
      ]
    }
  ]
}
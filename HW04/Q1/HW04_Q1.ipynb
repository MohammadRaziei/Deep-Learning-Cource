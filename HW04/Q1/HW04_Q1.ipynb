{
  "nbformat": 4,
  "nbformat_minor": 0,
  "metadata": {
    "kernelspec": {
      "display_name": "Python 3",
      "language": "python",
      "name": "python3"
    },
    "language_info": {
      "codemirror_mode": {
        "name": "ipython",
        "version": 3
      },
      "file_extension": ".py",
      "mimetype": "text/x-python",
      "name": "python",
      "nbconvert_exporter": "python",
      "pygments_lexer": "ipython3",
      "version": "3.7.6"
    },
    "varInspector": {
      "cols": {
        "lenName": 16,
        "lenType": 16,
        "lenVar": 40
      },
      "kernels_config": {
        "python": {
          "delete_cmd_postfix": "",
          "delete_cmd_prefix": "del ",
          "library": "var_list.py",
          "varRefreshCmd": "print(var_dic_list())"
        },
        "r": {
          "delete_cmd_postfix": ") ",
          "delete_cmd_prefix": "rm(",
          "library": "var_list.r",
          "varRefreshCmd": "cat(var_dic_list()) "
        }
      },
      "types_to_exclude": [
        "module",
        "function",
        "builtin_function_or_method",
        "instance",
        "_Feature"
      ],
      "window_display": false
    },
    "colab": {
      "name": "HW04_Q1.ipynb",
      "provenance": [],
      "toc_visible": true,
      "include_colab_link": true
    },
    "widgets": {
      "application/vnd.jupyter.widget-state+json": {
        "80629100337d40369e317fff507ce348": {
          "model_module": "@jupyter-widgets/controls",
          "model_name": "HBoxModel",
          "state": {
            "_view_name": "HBoxView",
            "_dom_classes": [],
            "_model_name": "HBoxModel",
            "_view_module": "@jupyter-widgets/controls",
            "_model_module_version": "1.5.0",
            "_view_count": null,
            "_view_module_version": "1.5.0",
            "box_style": "",
            "layout": "IPY_MODEL_9cac3182b75e475687a2302b038965f4",
            "_model_module": "@jupyter-widgets/controls",
            "children": [
              "IPY_MODEL_e03e9d2f4c4241d29d95992a697a6dfa",
              "IPY_MODEL_785c8b4c0fde47c9a430b619c068e428"
            ]
          }
        },
        "9cac3182b75e475687a2302b038965f4": {
          "model_module": "@jupyter-widgets/base",
          "model_name": "LayoutModel",
          "state": {
            "_view_name": "LayoutView",
            "grid_template_rows": null,
            "right": null,
            "justify_content": null,
            "_view_module": "@jupyter-widgets/base",
            "overflow": null,
            "_model_module_version": "1.2.0",
            "_view_count": null,
            "flex_flow": null,
            "width": null,
            "min_width": null,
            "border": null,
            "align_items": null,
            "bottom": null,
            "_model_module": "@jupyter-widgets/base",
            "top": null,
            "grid_column": null,
            "overflow_y": null,
            "overflow_x": null,
            "grid_auto_flow": null,
            "grid_area": null,
            "grid_template_columns": null,
            "flex": null,
            "_model_name": "LayoutModel",
            "justify_items": null,
            "grid_row": null,
            "max_height": null,
            "align_content": null,
            "visibility": null,
            "align_self": null,
            "height": null,
            "min_height": null,
            "padding": null,
            "grid_auto_rows": null,
            "grid_gap": null,
            "max_width": null,
            "order": null,
            "_view_module_version": "1.2.0",
            "grid_template_areas": null,
            "object_position": null,
            "object_fit": null,
            "grid_auto_columns": null,
            "margin": null,
            "display": null,
            "left": null
          }
        },
        "e03e9d2f4c4241d29d95992a697a6dfa": {
          "model_module": "@jupyter-widgets/controls",
          "model_name": "FloatProgressModel",
          "state": {
            "_view_name": "ProgressView",
            "style": "IPY_MODEL_1b06520d6d814cf5ae076bc3ed74437e",
            "_dom_classes": [],
            "description": "100%",
            "_model_name": "FloatProgressModel",
            "bar_style": "success",
            "max": 10,
            "_view_module": "@jupyter-widgets/controls",
            "_model_module_version": "1.5.0",
            "value": 10,
            "_view_count": null,
            "_view_module_version": "1.5.0",
            "orientation": "horizontal",
            "min": 0,
            "description_tooltip": null,
            "_model_module": "@jupyter-widgets/controls",
            "layout": "IPY_MODEL_299381f0a13d4d02bcf782ea8b0eab79"
          }
        },
        "785c8b4c0fde47c9a430b619c068e428": {
          "model_module": "@jupyter-widgets/controls",
          "model_name": "HTMLModel",
          "state": {
            "_view_name": "HTMLView",
            "style": "IPY_MODEL_92c8332d9484490f83fc89d9622731ba",
            "_dom_classes": [],
            "description": "",
            "_model_name": "HTMLModel",
            "placeholder": "​",
            "_view_module": "@jupyter-widgets/controls",
            "_model_module_version": "1.5.0",
            "value": " 10/10 [00:15&lt;00:00,  1.58s/it]",
            "_view_count": null,
            "_view_module_version": "1.5.0",
            "description_tooltip": null,
            "_model_module": "@jupyter-widgets/controls",
            "layout": "IPY_MODEL_81c3f62e0f2f4a3189a2e56e621111cf"
          }
        },
        "1b06520d6d814cf5ae076bc3ed74437e": {
          "model_module": "@jupyter-widgets/controls",
          "model_name": "ProgressStyleModel",
          "state": {
            "_view_name": "StyleView",
            "_model_name": "ProgressStyleModel",
            "description_width": "initial",
            "_view_module": "@jupyter-widgets/base",
            "_model_module_version": "1.5.0",
            "_view_count": null,
            "_view_module_version": "1.2.0",
            "bar_color": null,
            "_model_module": "@jupyter-widgets/controls"
          }
        },
        "299381f0a13d4d02bcf782ea8b0eab79": {
          "model_module": "@jupyter-widgets/base",
          "model_name": "LayoutModel",
          "state": {
            "_view_name": "LayoutView",
            "grid_template_rows": null,
            "right": null,
            "justify_content": null,
            "_view_module": "@jupyter-widgets/base",
            "overflow": null,
            "_model_module_version": "1.2.0",
            "_view_count": null,
            "flex_flow": null,
            "width": null,
            "min_width": null,
            "border": null,
            "align_items": null,
            "bottom": null,
            "_model_module": "@jupyter-widgets/base",
            "top": null,
            "grid_column": null,
            "overflow_y": null,
            "overflow_x": null,
            "grid_auto_flow": null,
            "grid_area": null,
            "grid_template_columns": null,
            "flex": null,
            "_model_name": "LayoutModel",
            "justify_items": null,
            "grid_row": null,
            "max_height": null,
            "align_content": null,
            "visibility": null,
            "align_self": null,
            "height": null,
            "min_height": null,
            "padding": null,
            "grid_auto_rows": null,
            "grid_gap": null,
            "max_width": null,
            "order": null,
            "_view_module_version": "1.2.0",
            "grid_template_areas": null,
            "object_position": null,
            "object_fit": null,
            "grid_auto_columns": null,
            "margin": null,
            "display": null,
            "left": null
          }
        },
        "92c8332d9484490f83fc89d9622731ba": {
          "model_module": "@jupyter-widgets/controls",
          "model_name": "DescriptionStyleModel",
          "state": {
            "_view_name": "StyleView",
            "_model_name": "DescriptionStyleModel",
            "description_width": "",
            "_view_module": "@jupyter-widgets/base",
            "_model_module_version": "1.5.0",
            "_view_count": null,
            "_view_module_version": "1.2.0",
            "_model_module": "@jupyter-widgets/controls"
          }
        },
        "81c3f62e0f2f4a3189a2e56e621111cf": {
          "model_module": "@jupyter-widgets/base",
          "model_name": "LayoutModel",
          "state": {
            "_view_name": "LayoutView",
            "grid_template_rows": null,
            "right": null,
            "justify_content": null,
            "_view_module": "@jupyter-widgets/base",
            "overflow": null,
            "_model_module_version": "1.2.0",
            "_view_count": null,
            "flex_flow": null,
            "width": null,
            "min_width": null,
            "border": null,
            "align_items": null,
            "bottom": null,
            "_model_module": "@jupyter-widgets/base",
            "top": null,
            "grid_column": null,
            "overflow_y": null,
            "overflow_x": null,
            "grid_auto_flow": null,
            "grid_area": null,
            "grid_template_columns": null,
            "flex": null,
            "_model_name": "LayoutModel",
            "justify_items": null,
            "grid_row": null,
            "max_height": null,
            "align_content": null,
            "visibility": null,
            "align_self": null,
            "height": null,
            "min_height": null,
            "padding": null,
            "grid_auto_rows": null,
            "grid_gap": null,
            "max_width": null,
            "order": null,
            "_view_module_version": "1.2.0",
            "grid_template_areas": null,
            "object_position": null,
            "object_fit": null,
            "grid_auto_columns": null,
            "margin": null,
            "display": null,
            "left": null
          }
        },
        "72455f0327d34c988fd61c8d41fa555b": {
          "model_module": "@jupyter-widgets/controls",
          "model_name": "HBoxModel",
          "state": {
            "_view_name": "HBoxView",
            "_dom_classes": [],
            "_model_name": "HBoxModel",
            "_view_module": "@jupyter-widgets/controls",
            "_model_module_version": "1.5.0",
            "_view_count": null,
            "_view_module_version": "1.5.0",
            "box_style": "",
            "layout": "IPY_MODEL_c5bcc130a8064ca0b07c1cf161278676",
            "_model_module": "@jupyter-widgets/controls",
            "children": [
              "IPY_MODEL_63fb8752987a4c70ac79f663344a2812",
              "IPY_MODEL_4023d104504e4a8d8bcd3e487ad9e8ff"
            ]
          }
        },
        "c5bcc130a8064ca0b07c1cf161278676": {
          "model_module": "@jupyter-widgets/base",
          "model_name": "LayoutModel",
          "state": {
            "_view_name": "LayoutView",
            "grid_template_rows": null,
            "right": null,
            "justify_content": null,
            "_view_module": "@jupyter-widgets/base",
            "overflow": null,
            "_model_module_version": "1.2.0",
            "_view_count": null,
            "flex_flow": null,
            "width": null,
            "min_width": null,
            "border": null,
            "align_items": null,
            "bottom": null,
            "_model_module": "@jupyter-widgets/base",
            "top": null,
            "grid_column": null,
            "overflow_y": null,
            "overflow_x": null,
            "grid_auto_flow": null,
            "grid_area": null,
            "grid_template_columns": null,
            "flex": null,
            "_model_name": "LayoutModel",
            "justify_items": null,
            "grid_row": null,
            "max_height": null,
            "align_content": null,
            "visibility": null,
            "align_self": null,
            "height": null,
            "min_height": null,
            "padding": null,
            "grid_auto_rows": null,
            "grid_gap": null,
            "max_width": null,
            "order": null,
            "_view_module_version": "1.2.0",
            "grid_template_areas": null,
            "object_position": null,
            "object_fit": null,
            "grid_auto_columns": null,
            "margin": null,
            "display": null,
            "left": null
          }
        },
        "63fb8752987a4c70ac79f663344a2812": {
          "model_module": "@jupyter-widgets/controls",
          "model_name": "FloatProgressModel",
          "state": {
            "_view_name": "ProgressView",
            "style": "IPY_MODEL_a9ca60edea2d4e7f8dcc0815ddcbbe07",
            "_dom_classes": [],
            "description": "100%",
            "_model_name": "FloatProgressModel",
            "bar_style": "success",
            "max": 96,
            "_view_module": "@jupyter-widgets/controls",
            "_model_module_version": "1.5.0",
            "value": 96,
            "_view_count": null,
            "_view_module_version": "1.5.0",
            "orientation": "horizontal",
            "min": 0,
            "description_tooltip": null,
            "_model_module": "@jupyter-widgets/controls",
            "layout": "IPY_MODEL_5234e0bf366842be83c6a984629e001b"
          }
        },
        "4023d104504e4a8d8bcd3e487ad9e8ff": {
          "model_module": "@jupyter-widgets/controls",
          "model_name": "HTMLModel",
          "state": {
            "_view_name": "HTMLView",
            "style": "IPY_MODEL_ff72a885c0414b3d9645211d2fcc1160",
            "_dom_classes": [],
            "description": "",
            "_model_name": "HTMLModel",
            "placeholder": "​",
            "_view_module": "@jupyter-widgets/controls",
            "_model_module_version": "1.5.0",
            "value": " 96/96 [01:17&lt;00:00,  1.23it/s]",
            "_view_count": null,
            "_view_module_version": "1.5.0",
            "description_tooltip": null,
            "_model_module": "@jupyter-widgets/controls",
            "layout": "IPY_MODEL_74f60ebc3984482a86165bac58a53b7e"
          }
        },
        "a9ca60edea2d4e7f8dcc0815ddcbbe07": {
          "model_module": "@jupyter-widgets/controls",
          "model_name": "ProgressStyleModel",
          "state": {
            "_view_name": "StyleView",
            "_model_name": "ProgressStyleModel",
            "description_width": "initial",
            "_view_module": "@jupyter-widgets/base",
            "_model_module_version": "1.5.0",
            "_view_count": null,
            "_view_module_version": "1.2.0",
            "bar_color": null,
            "_model_module": "@jupyter-widgets/controls"
          }
        },
        "5234e0bf366842be83c6a984629e001b": {
          "model_module": "@jupyter-widgets/base",
          "model_name": "LayoutModel",
          "state": {
            "_view_name": "LayoutView",
            "grid_template_rows": null,
            "right": null,
            "justify_content": null,
            "_view_module": "@jupyter-widgets/base",
            "overflow": null,
            "_model_module_version": "1.2.0",
            "_view_count": null,
            "flex_flow": null,
            "width": null,
            "min_width": null,
            "border": null,
            "align_items": null,
            "bottom": null,
            "_model_module": "@jupyter-widgets/base",
            "top": null,
            "grid_column": null,
            "overflow_y": null,
            "overflow_x": null,
            "grid_auto_flow": null,
            "grid_area": null,
            "grid_template_columns": null,
            "flex": null,
            "_model_name": "LayoutModel",
            "justify_items": null,
            "grid_row": null,
            "max_height": null,
            "align_content": null,
            "visibility": null,
            "align_self": null,
            "height": null,
            "min_height": null,
            "padding": null,
            "grid_auto_rows": null,
            "grid_gap": null,
            "max_width": null,
            "order": null,
            "_view_module_version": "1.2.0",
            "grid_template_areas": null,
            "object_position": null,
            "object_fit": null,
            "grid_auto_columns": null,
            "margin": null,
            "display": null,
            "left": null
          }
        },
        "ff72a885c0414b3d9645211d2fcc1160": {
          "model_module": "@jupyter-widgets/controls",
          "model_name": "DescriptionStyleModel",
          "state": {
            "_view_name": "StyleView",
            "_model_name": "DescriptionStyleModel",
            "description_width": "",
            "_view_module": "@jupyter-widgets/base",
            "_model_module_version": "1.5.0",
            "_view_count": null,
            "_view_module_version": "1.2.0",
            "_model_module": "@jupyter-widgets/controls"
          }
        },
        "74f60ebc3984482a86165bac58a53b7e": {
          "model_module": "@jupyter-widgets/base",
          "model_name": "LayoutModel",
          "state": {
            "_view_name": "LayoutView",
            "grid_template_rows": null,
            "right": null,
            "justify_content": null,
            "_view_module": "@jupyter-widgets/base",
            "overflow": null,
            "_model_module_version": "1.2.0",
            "_view_count": null,
            "flex_flow": null,
            "width": null,
            "min_width": null,
            "border": null,
            "align_items": null,
            "bottom": null,
            "_model_module": "@jupyter-widgets/base",
            "top": null,
            "grid_column": null,
            "overflow_y": null,
            "overflow_x": null,
            "grid_auto_flow": null,
            "grid_area": null,
            "grid_template_columns": null,
            "flex": null,
            "_model_name": "LayoutModel",
            "justify_items": null,
            "grid_row": null,
            "max_height": null,
            "align_content": null,
            "visibility": null,
            "align_self": null,
            "height": null,
            "min_height": null,
            "padding": null,
            "grid_auto_rows": null,
            "grid_gap": null,
            "max_width": null,
            "order": null,
            "_view_module_version": "1.2.0",
            "grid_template_areas": null,
            "object_position": null,
            "object_fit": null,
            "grid_auto_columns": null,
            "margin": null,
            "display": null,
            "left": null
          }
        },
        "c3b2460b916e437b899bf4eb1b876aeb": {
          "model_module": "@jupyter-widgets/controls",
          "model_name": "HBoxModel",
          "state": {
            "_view_name": "HBoxView",
            "_dom_classes": [],
            "_model_name": "HBoxModel",
            "_view_module": "@jupyter-widgets/controls",
            "_model_module_version": "1.5.0",
            "_view_count": null,
            "_view_module_version": "1.5.0",
            "box_style": "",
            "layout": "IPY_MODEL_cbf89818e2ea461e8f2b6ed532fdce65",
            "_model_module": "@jupyter-widgets/controls",
            "children": [
              "IPY_MODEL_6144075a251c443289a47ea954efc84c",
              "IPY_MODEL_9d8ef7b2b7ca4916830a837b374f52db"
            ]
          }
        },
        "cbf89818e2ea461e8f2b6ed532fdce65": {
          "model_module": "@jupyter-widgets/base",
          "model_name": "LayoutModel",
          "state": {
            "_view_name": "LayoutView",
            "grid_template_rows": null,
            "right": null,
            "justify_content": null,
            "_view_module": "@jupyter-widgets/base",
            "overflow": null,
            "_model_module_version": "1.2.0",
            "_view_count": null,
            "flex_flow": null,
            "width": null,
            "min_width": null,
            "border": null,
            "align_items": null,
            "bottom": null,
            "_model_module": "@jupyter-widgets/base",
            "top": null,
            "grid_column": null,
            "overflow_y": null,
            "overflow_x": null,
            "grid_auto_flow": null,
            "grid_area": null,
            "grid_template_columns": null,
            "flex": null,
            "_model_name": "LayoutModel",
            "justify_items": null,
            "grid_row": null,
            "max_height": null,
            "align_content": null,
            "visibility": null,
            "align_self": null,
            "height": null,
            "min_height": null,
            "padding": null,
            "grid_auto_rows": null,
            "grid_gap": null,
            "max_width": null,
            "order": null,
            "_view_module_version": "1.2.0",
            "grid_template_areas": null,
            "object_position": null,
            "object_fit": null,
            "grid_auto_columns": null,
            "margin": null,
            "display": null,
            "left": null
          }
        },
        "6144075a251c443289a47ea954efc84c": {
          "model_module": "@jupyter-widgets/controls",
          "model_name": "FloatProgressModel",
          "state": {
            "_view_name": "ProgressView",
            "style": "IPY_MODEL_6f1aeef7c36c44ae9ae85e3bf42b527f",
            "_dom_classes": [],
            "description": "100%",
            "_model_name": "FloatProgressModel",
            "bar_style": "success",
            "max": 88,
            "_view_module": "@jupyter-widgets/controls",
            "_model_module_version": "1.5.0",
            "value": 88,
            "_view_count": null,
            "_view_module_version": "1.5.0",
            "orientation": "horizontal",
            "min": 0,
            "description_tooltip": null,
            "_model_module": "@jupyter-widgets/controls",
            "layout": "IPY_MODEL_bfee463ae5ff441193571c19d887f11e"
          }
        },
        "9d8ef7b2b7ca4916830a837b374f52db": {
          "model_module": "@jupyter-widgets/controls",
          "model_name": "HTMLModel",
          "state": {
            "_view_name": "HTMLView",
            "style": "IPY_MODEL_e0ed07748de14f5283a555625698bd90",
            "_dom_classes": [],
            "description": "",
            "_model_name": "HTMLModel",
            "placeholder": "​",
            "_view_module": "@jupyter-widgets/controls",
            "_model_module_version": "1.5.0",
            "value": " 88/88 [00:05&lt;00:00, 17.25it/s]",
            "_view_count": null,
            "_view_module_version": "1.5.0",
            "description_tooltip": null,
            "_model_module": "@jupyter-widgets/controls",
            "layout": "IPY_MODEL_caf0c5cdc7cc4577a9877c3cc825a3c2"
          }
        },
        "6f1aeef7c36c44ae9ae85e3bf42b527f": {
          "model_module": "@jupyter-widgets/controls",
          "model_name": "ProgressStyleModel",
          "state": {
            "_view_name": "StyleView",
            "_model_name": "ProgressStyleModel",
            "description_width": "initial",
            "_view_module": "@jupyter-widgets/base",
            "_model_module_version": "1.5.0",
            "_view_count": null,
            "_view_module_version": "1.2.0",
            "bar_color": null,
            "_model_module": "@jupyter-widgets/controls"
          }
        },
        "bfee463ae5ff441193571c19d887f11e": {
          "model_module": "@jupyter-widgets/base",
          "model_name": "LayoutModel",
          "state": {
            "_view_name": "LayoutView",
            "grid_template_rows": null,
            "right": null,
            "justify_content": null,
            "_view_module": "@jupyter-widgets/base",
            "overflow": null,
            "_model_module_version": "1.2.0",
            "_view_count": null,
            "flex_flow": null,
            "width": null,
            "min_width": null,
            "border": null,
            "align_items": null,
            "bottom": null,
            "_model_module": "@jupyter-widgets/base",
            "top": null,
            "grid_column": null,
            "overflow_y": null,
            "overflow_x": null,
            "grid_auto_flow": null,
            "grid_area": null,
            "grid_template_columns": null,
            "flex": null,
            "_model_name": "LayoutModel",
            "justify_items": null,
            "grid_row": null,
            "max_height": null,
            "align_content": null,
            "visibility": null,
            "align_self": null,
            "height": null,
            "min_height": null,
            "padding": null,
            "grid_auto_rows": null,
            "grid_gap": null,
            "max_width": null,
            "order": null,
            "_view_module_version": "1.2.0",
            "grid_template_areas": null,
            "object_position": null,
            "object_fit": null,
            "grid_auto_columns": null,
            "margin": null,
            "display": null,
            "left": null
          }
        },
        "e0ed07748de14f5283a555625698bd90": {
          "model_module": "@jupyter-widgets/controls",
          "model_name": "DescriptionStyleModel",
          "state": {
            "_view_name": "StyleView",
            "_model_name": "DescriptionStyleModel",
            "description_width": "",
            "_view_module": "@jupyter-widgets/base",
            "_model_module_version": "1.5.0",
            "_view_count": null,
            "_view_module_version": "1.2.0",
            "_model_module": "@jupyter-widgets/controls"
          }
        },
        "caf0c5cdc7cc4577a9877c3cc825a3c2": {
          "model_module": "@jupyter-widgets/base",
          "model_name": "LayoutModel",
          "state": {
            "_view_name": "LayoutView",
            "grid_template_rows": null,
            "right": null,
            "justify_content": null,
            "_view_module": "@jupyter-widgets/base",
            "overflow": null,
            "_model_module_version": "1.2.0",
            "_view_count": null,
            "flex_flow": null,
            "width": null,
            "min_width": null,
            "border": null,
            "align_items": null,
            "bottom": null,
            "_model_module": "@jupyter-widgets/base",
            "top": null,
            "grid_column": null,
            "overflow_y": null,
            "overflow_x": null,
            "grid_auto_flow": null,
            "grid_area": null,
            "grid_template_columns": null,
            "flex": null,
            "_model_name": "LayoutModel",
            "justify_items": null,
            "grid_row": null,
            "max_height": null,
            "align_content": null,
            "visibility": null,
            "align_self": null,
            "height": null,
            "min_height": null,
            "padding": null,
            "grid_auto_rows": null,
            "grid_gap": null,
            "max_width": null,
            "order": null,
            "_view_module_version": "1.2.0",
            "grid_template_areas": null,
            "object_position": null,
            "object_fit": null,
            "grid_auto_columns": null,
            "margin": null,
            "display": null,
            "left": null
          }
        },
        "ea7a2e59209648729ec8c3f0807209c4": {
          "model_module": "@jupyter-widgets/controls",
          "model_name": "HBoxModel",
          "state": {
            "_view_name": "HBoxView",
            "_dom_classes": [],
            "_model_name": "HBoxModel",
            "_view_module": "@jupyter-widgets/controls",
            "_model_module_version": "1.5.0",
            "_view_count": null,
            "_view_module_version": "1.5.0",
            "box_style": "",
            "layout": "IPY_MODEL_d198e19a5cea4fb4a2f60a47f3a0a305",
            "_model_module": "@jupyter-widgets/controls",
            "children": [
              "IPY_MODEL_2e1f2f155d92485688e4abba763a89e8",
              "IPY_MODEL_c5bbe5f24500429498c000444a734384"
            ]
          }
        },
        "d198e19a5cea4fb4a2f60a47f3a0a305": {
          "model_module": "@jupyter-widgets/base",
          "model_name": "LayoutModel",
          "state": {
            "_view_name": "LayoutView",
            "grid_template_rows": null,
            "right": null,
            "justify_content": null,
            "_view_module": "@jupyter-widgets/base",
            "overflow": null,
            "_model_module_version": "1.2.0",
            "_view_count": null,
            "flex_flow": null,
            "width": null,
            "min_width": null,
            "border": null,
            "align_items": null,
            "bottom": null,
            "_model_module": "@jupyter-widgets/base",
            "top": null,
            "grid_column": null,
            "overflow_y": null,
            "overflow_x": null,
            "grid_auto_flow": null,
            "grid_area": null,
            "grid_template_columns": null,
            "flex": null,
            "_model_name": "LayoutModel",
            "justify_items": null,
            "grid_row": null,
            "max_height": null,
            "align_content": null,
            "visibility": null,
            "align_self": null,
            "height": null,
            "min_height": null,
            "padding": null,
            "grid_auto_rows": null,
            "grid_gap": null,
            "max_width": null,
            "order": null,
            "_view_module_version": "1.2.0",
            "grid_template_areas": null,
            "object_position": null,
            "object_fit": null,
            "grid_auto_columns": null,
            "margin": null,
            "display": null,
            "left": null
          }
        },
        "2e1f2f155d92485688e4abba763a89e8": {
          "model_module": "@jupyter-widgets/controls",
          "model_name": "FloatProgressModel",
          "state": {
            "_view_name": "ProgressView",
            "style": "IPY_MODEL_f78d592663254b8b908ea715eaf13beb",
            "_dom_classes": [],
            "description": "100%",
            "_model_name": "FloatProgressModel",
            "bar_style": "success",
            "max": 88,
            "_view_module": "@jupyter-widgets/controls",
            "_model_module_version": "1.5.0",
            "value": 88,
            "_view_count": null,
            "_view_module_version": "1.5.0",
            "orientation": "horizontal",
            "min": 0,
            "description_tooltip": null,
            "_model_module": "@jupyter-widgets/controls",
            "layout": "IPY_MODEL_b0ad3a7d6790493abf7897d10a6e8e22"
          }
        },
        "c5bbe5f24500429498c000444a734384": {
          "model_module": "@jupyter-widgets/controls",
          "model_name": "HTMLModel",
          "state": {
            "_view_name": "HTMLView",
            "style": "IPY_MODEL_4d573c9efe59430cb9e51cb80cb32cdf",
            "_dom_classes": [],
            "description": "",
            "_model_name": "HTMLModel",
            "placeholder": "​",
            "_view_module": "@jupyter-widgets/controls",
            "_model_module_version": "1.5.0",
            "value": " 88/88 [00:00&lt;00:00, 144.56it/s]",
            "_view_count": null,
            "_view_module_version": "1.5.0",
            "description_tooltip": null,
            "_model_module": "@jupyter-widgets/controls",
            "layout": "IPY_MODEL_ef7ad14db01e4959a1f947dfc23ba1d8"
          }
        },
        "f78d592663254b8b908ea715eaf13beb": {
          "model_module": "@jupyter-widgets/controls",
          "model_name": "ProgressStyleModel",
          "state": {
            "_view_name": "StyleView",
            "_model_name": "ProgressStyleModel",
            "description_width": "initial",
            "_view_module": "@jupyter-widgets/base",
            "_model_module_version": "1.5.0",
            "_view_count": null,
            "_view_module_version": "1.2.0",
            "bar_color": null,
            "_model_module": "@jupyter-widgets/controls"
          }
        },
        "b0ad3a7d6790493abf7897d10a6e8e22": {
          "model_module": "@jupyter-widgets/base",
          "model_name": "LayoutModel",
          "state": {
            "_view_name": "LayoutView",
            "grid_template_rows": null,
            "right": null,
            "justify_content": null,
            "_view_module": "@jupyter-widgets/base",
            "overflow": null,
            "_model_module_version": "1.2.0",
            "_view_count": null,
            "flex_flow": null,
            "width": null,
            "min_width": null,
            "border": null,
            "align_items": null,
            "bottom": null,
            "_model_module": "@jupyter-widgets/base",
            "top": null,
            "grid_column": null,
            "overflow_y": null,
            "overflow_x": null,
            "grid_auto_flow": null,
            "grid_area": null,
            "grid_template_columns": null,
            "flex": null,
            "_model_name": "LayoutModel",
            "justify_items": null,
            "grid_row": null,
            "max_height": null,
            "align_content": null,
            "visibility": null,
            "align_self": null,
            "height": null,
            "min_height": null,
            "padding": null,
            "grid_auto_rows": null,
            "grid_gap": null,
            "max_width": null,
            "order": null,
            "_view_module_version": "1.2.0",
            "grid_template_areas": null,
            "object_position": null,
            "object_fit": null,
            "grid_auto_columns": null,
            "margin": null,
            "display": null,
            "left": null
          }
        },
        "4d573c9efe59430cb9e51cb80cb32cdf": {
          "model_module": "@jupyter-widgets/controls",
          "model_name": "DescriptionStyleModel",
          "state": {
            "_view_name": "StyleView",
            "_model_name": "DescriptionStyleModel",
            "description_width": "",
            "_view_module": "@jupyter-widgets/base",
            "_model_module_version": "1.5.0",
            "_view_count": null,
            "_view_module_version": "1.2.0",
            "_model_module": "@jupyter-widgets/controls"
          }
        },
        "ef7ad14db01e4959a1f947dfc23ba1d8": {
          "model_module": "@jupyter-widgets/base",
          "model_name": "LayoutModel",
          "state": {
            "_view_name": "LayoutView",
            "grid_template_rows": null,
            "right": null,
            "justify_content": null,
            "_view_module": "@jupyter-widgets/base",
            "overflow": null,
            "_model_module_version": "1.2.0",
            "_view_count": null,
            "flex_flow": null,
            "width": null,
            "min_width": null,
            "border": null,
            "align_items": null,
            "bottom": null,
            "_model_module": "@jupyter-widgets/base",
            "top": null,
            "grid_column": null,
            "overflow_y": null,
            "overflow_x": null,
            "grid_auto_flow": null,
            "grid_area": null,
            "grid_template_columns": null,
            "flex": null,
            "_model_name": "LayoutModel",
            "justify_items": null,
            "grid_row": null,
            "max_height": null,
            "align_content": null,
            "visibility": null,
            "align_self": null,
            "height": null,
            "min_height": null,
            "padding": null,
            "grid_auto_rows": null,
            "grid_gap": null,
            "max_width": null,
            "order": null,
            "_view_module_version": "1.2.0",
            "grid_template_areas": null,
            "object_position": null,
            "object_fit": null,
            "grid_auto_columns": null,
            "margin": null,
            "display": null,
            "left": null
          }
        },
        "79d3ade2cd894466b9aac7ed3ef588dd": {
          "model_module": "@jupyter-widgets/controls",
          "model_name": "HBoxModel",
          "state": {
            "_view_name": "HBoxView",
            "_dom_classes": [],
            "_model_name": "HBoxModel",
            "_view_module": "@jupyter-widgets/controls",
            "_model_module_version": "1.5.0",
            "_view_count": null,
            "_view_module_version": "1.5.0",
            "box_style": "",
            "layout": "IPY_MODEL_6f85a31467734d08b1130bb43fe2eae5",
            "_model_module": "@jupyter-widgets/controls",
            "children": [
              "IPY_MODEL_bb2814482f2e4f029b05f8358b1e1633",
              "IPY_MODEL_b2e1aaa695ef41029f188a33f770b301"
            ]
          }
        },
        "6f85a31467734d08b1130bb43fe2eae5": {
          "model_module": "@jupyter-widgets/base",
          "model_name": "LayoutModel",
          "state": {
            "_view_name": "LayoutView",
            "grid_template_rows": null,
            "right": null,
            "justify_content": null,
            "_view_module": "@jupyter-widgets/base",
            "overflow": null,
            "_model_module_version": "1.2.0",
            "_view_count": null,
            "flex_flow": null,
            "width": null,
            "min_width": null,
            "border": null,
            "align_items": null,
            "bottom": null,
            "_model_module": "@jupyter-widgets/base",
            "top": null,
            "grid_column": null,
            "overflow_y": null,
            "overflow_x": null,
            "grid_auto_flow": null,
            "grid_area": null,
            "grid_template_columns": null,
            "flex": null,
            "_model_name": "LayoutModel",
            "justify_items": null,
            "grid_row": null,
            "max_height": null,
            "align_content": null,
            "visibility": null,
            "align_self": null,
            "height": null,
            "min_height": null,
            "padding": null,
            "grid_auto_rows": null,
            "grid_gap": null,
            "max_width": null,
            "order": null,
            "_view_module_version": "1.2.0",
            "grid_template_areas": null,
            "object_position": null,
            "object_fit": null,
            "grid_auto_columns": null,
            "margin": null,
            "display": null,
            "left": null
          }
        },
        "bb2814482f2e4f029b05f8358b1e1633": {
          "model_module": "@jupyter-widgets/controls",
          "model_name": "FloatProgressModel",
          "state": {
            "_view_name": "ProgressView",
            "style": "IPY_MODEL_400eca3c24dc4417a3fdef703d595dc9",
            "_dom_classes": [],
            "description": "100%",
            "_model_name": "FloatProgressModel",
            "bar_style": "success",
            "max": 50,
            "_view_module": "@jupyter-widgets/controls",
            "_model_module_version": "1.5.0",
            "value": 50,
            "_view_count": null,
            "_view_module_version": "1.5.0",
            "orientation": "horizontal",
            "min": 0,
            "description_tooltip": null,
            "_model_module": "@jupyter-widgets/controls",
            "layout": "IPY_MODEL_55fa61cc3da743038d0637a312065a4c"
          }
        },
        "b2e1aaa695ef41029f188a33f770b301": {
          "model_module": "@jupyter-widgets/controls",
          "model_name": "HTMLModel",
          "state": {
            "_view_name": "HTMLView",
            "style": "IPY_MODEL_689c41350eaf40ae9ad01a7b12737d37",
            "_dom_classes": [],
            "description": "",
            "_model_name": "HTMLModel",
            "placeholder": "​",
            "_view_module": "@jupyter-widgets/controls",
            "_model_module_version": "1.5.0",
            "value": " 50/50 [00:02&lt;00:00, 21.00it/s]",
            "_view_count": null,
            "_view_module_version": "1.5.0",
            "description_tooltip": null,
            "_model_module": "@jupyter-widgets/controls",
            "layout": "IPY_MODEL_70e63b1539a14dc5bf832dcf4ed2bd17"
          }
        },
        "400eca3c24dc4417a3fdef703d595dc9": {
          "model_module": "@jupyter-widgets/controls",
          "model_name": "ProgressStyleModel",
          "state": {
            "_view_name": "StyleView",
            "_model_name": "ProgressStyleModel",
            "description_width": "initial",
            "_view_module": "@jupyter-widgets/base",
            "_model_module_version": "1.5.0",
            "_view_count": null,
            "_view_module_version": "1.2.0",
            "bar_color": null,
            "_model_module": "@jupyter-widgets/controls"
          }
        },
        "55fa61cc3da743038d0637a312065a4c": {
          "model_module": "@jupyter-widgets/base",
          "model_name": "LayoutModel",
          "state": {
            "_view_name": "LayoutView",
            "grid_template_rows": null,
            "right": null,
            "justify_content": null,
            "_view_module": "@jupyter-widgets/base",
            "overflow": null,
            "_model_module_version": "1.2.0",
            "_view_count": null,
            "flex_flow": null,
            "width": null,
            "min_width": null,
            "border": null,
            "align_items": null,
            "bottom": null,
            "_model_module": "@jupyter-widgets/base",
            "top": null,
            "grid_column": null,
            "overflow_y": null,
            "overflow_x": null,
            "grid_auto_flow": null,
            "grid_area": null,
            "grid_template_columns": null,
            "flex": null,
            "_model_name": "LayoutModel",
            "justify_items": null,
            "grid_row": null,
            "max_height": null,
            "align_content": null,
            "visibility": null,
            "align_self": null,
            "height": null,
            "min_height": null,
            "padding": null,
            "grid_auto_rows": null,
            "grid_gap": null,
            "max_width": null,
            "order": null,
            "_view_module_version": "1.2.0",
            "grid_template_areas": null,
            "object_position": null,
            "object_fit": null,
            "grid_auto_columns": null,
            "margin": null,
            "display": null,
            "left": null
          }
        },
        "689c41350eaf40ae9ad01a7b12737d37": {
          "model_module": "@jupyter-widgets/controls",
          "model_name": "DescriptionStyleModel",
          "state": {
            "_view_name": "StyleView",
            "_model_name": "DescriptionStyleModel",
            "description_width": "",
            "_view_module": "@jupyter-widgets/base",
            "_model_module_version": "1.5.0",
            "_view_count": null,
            "_view_module_version": "1.2.0",
            "_model_module": "@jupyter-widgets/controls"
          }
        },
        "70e63b1539a14dc5bf832dcf4ed2bd17": {
          "model_module": "@jupyter-widgets/base",
          "model_name": "LayoutModel",
          "state": {
            "_view_name": "LayoutView",
            "grid_template_rows": null,
            "right": null,
            "justify_content": null,
            "_view_module": "@jupyter-widgets/base",
            "overflow": null,
            "_model_module_version": "1.2.0",
            "_view_count": null,
            "flex_flow": null,
            "width": null,
            "min_width": null,
            "border": null,
            "align_items": null,
            "bottom": null,
            "_model_module": "@jupyter-widgets/base",
            "top": null,
            "grid_column": null,
            "overflow_y": null,
            "overflow_x": null,
            "grid_auto_flow": null,
            "grid_area": null,
            "grid_template_columns": null,
            "flex": null,
            "_model_name": "LayoutModel",
            "justify_items": null,
            "grid_row": null,
            "max_height": null,
            "align_content": null,
            "visibility": null,
            "align_self": null,
            "height": null,
            "min_height": null,
            "padding": null,
            "grid_auto_rows": null,
            "grid_gap": null,
            "max_width": null,
            "order": null,
            "_view_module_version": "1.2.0",
            "grid_template_areas": null,
            "object_position": null,
            "object_fit": null,
            "grid_auto_columns": null,
            "margin": null,
            "display": null,
            "left": null
          }
        },
        "7a2222564e034e73aea8337dbde9b159": {
          "model_module": "@jupyter-widgets/controls",
          "model_name": "HBoxModel",
          "state": {
            "_view_name": "HBoxView",
            "_dom_classes": [],
            "_model_name": "HBoxModel",
            "_view_module": "@jupyter-widgets/controls",
            "_model_module_version": "1.5.0",
            "_view_count": null,
            "_view_module_version": "1.5.0",
            "box_style": "",
            "layout": "IPY_MODEL_975e8b3f4e26430da60861c47eb87b17",
            "_model_module": "@jupyter-widgets/controls",
            "children": [
              "IPY_MODEL_6d508671375e46a7b06269d755dda710",
              "IPY_MODEL_8edcc31e44e64cabbde33a6a06e27093"
            ]
          }
        },
        "975e8b3f4e26430da60861c47eb87b17": {
          "model_module": "@jupyter-widgets/base",
          "model_name": "LayoutModel",
          "state": {
            "_view_name": "LayoutView",
            "grid_template_rows": null,
            "right": null,
            "justify_content": null,
            "_view_module": "@jupyter-widgets/base",
            "overflow": null,
            "_model_module_version": "1.2.0",
            "_view_count": null,
            "flex_flow": null,
            "width": null,
            "min_width": null,
            "border": null,
            "align_items": null,
            "bottom": null,
            "_model_module": "@jupyter-widgets/base",
            "top": null,
            "grid_column": null,
            "overflow_y": null,
            "overflow_x": null,
            "grid_auto_flow": null,
            "grid_area": null,
            "grid_template_columns": null,
            "flex": null,
            "_model_name": "LayoutModel",
            "justify_items": null,
            "grid_row": null,
            "max_height": null,
            "align_content": null,
            "visibility": null,
            "align_self": null,
            "height": null,
            "min_height": null,
            "padding": null,
            "grid_auto_rows": null,
            "grid_gap": null,
            "max_width": null,
            "order": null,
            "_view_module_version": "1.2.0",
            "grid_template_areas": null,
            "object_position": null,
            "object_fit": null,
            "grid_auto_columns": null,
            "margin": null,
            "display": null,
            "left": null
          }
        },
        "6d508671375e46a7b06269d755dda710": {
          "model_module": "@jupyter-widgets/controls",
          "model_name": "FloatProgressModel",
          "state": {
            "_view_name": "ProgressView",
            "style": "IPY_MODEL_5d2afc40588e4616bbeb4d1544aefc2f",
            "_dom_classes": [],
            "description": "100%",
            "_model_name": "FloatProgressModel",
            "bar_style": "success",
            "max": 50,
            "_view_module": "@jupyter-widgets/controls",
            "_model_module_version": "1.5.0",
            "value": 50,
            "_view_count": null,
            "_view_module_version": "1.5.0",
            "orientation": "horizontal",
            "min": 0,
            "description_tooltip": null,
            "_model_module": "@jupyter-widgets/controls",
            "layout": "IPY_MODEL_3615955adba04303b31f7dc7b1e27789"
          }
        },
        "8edcc31e44e64cabbde33a6a06e27093": {
          "model_module": "@jupyter-widgets/controls",
          "model_name": "HTMLModel",
          "state": {
            "_view_name": "HTMLView",
            "style": "IPY_MODEL_af943e1d65e04166ab759eb28464eb70",
            "_dom_classes": [],
            "description": "",
            "_model_name": "HTMLModel",
            "placeholder": "​",
            "_view_module": "@jupyter-widgets/controls",
            "_model_module_version": "1.5.0",
            "value": " 50/50 [00:00&lt;00:00, 192.90it/s]",
            "_view_count": null,
            "_view_module_version": "1.5.0",
            "description_tooltip": null,
            "_model_module": "@jupyter-widgets/controls",
            "layout": "IPY_MODEL_346a26cc625d49aebaa60e3c0c38b33d"
          }
        },
        "5d2afc40588e4616bbeb4d1544aefc2f": {
          "model_module": "@jupyter-widgets/controls",
          "model_name": "ProgressStyleModel",
          "state": {
            "_view_name": "StyleView",
            "_model_name": "ProgressStyleModel",
            "description_width": "initial",
            "_view_module": "@jupyter-widgets/base",
            "_model_module_version": "1.5.0",
            "_view_count": null,
            "_view_module_version": "1.2.0",
            "bar_color": null,
            "_model_module": "@jupyter-widgets/controls"
          }
        },
        "3615955adba04303b31f7dc7b1e27789": {
          "model_module": "@jupyter-widgets/base",
          "model_name": "LayoutModel",
          "state": {
            "_view_name": "LayoutView",
            "grid_template_rows": null,
            "right": null,
            "justify_content": null,
            "_view_module": "@jupyter-widgets/base",
            "overflow": null,
            "_model_module_version": "1.2.0",
            "_view_count": null,
            "flex_flow": null,
            "width": null,
            "min_width": null,
            "border": null,
            "align_items": null,
            "bottom": null,
            "_model_module": "@jupyter-widgets/base",
            "top": null,
            "grid_column": null,
            "overflow_y": null,
            "overflow_x": null,
            "grid_auto_flow": null,
            "grid_area": null,
            "grid_template_columns": null,
            "flex": null,
            "_model_name": "LayoutModel",
            "justify_items": null,
            "grid_row": null,
            "max_height": null,
            "align_content": null,
            "visibility": null,
            "align_self": null,
            "height": null,
            "min_height": null,
            "padding": null,
            "grid_auto_rows": null,
            "grid_gap": null,
            "max_width": null,
            "order": null,
            "_view_module_version": "1.2.0",
            "grid_template_areas": null,
            "object_position": null,
            "object_fit": null,
            "grid_auto_columns": null,
            "margin": null,
            "display": null,
            "left": null
          }
        },
        "af943e1d65e04166ab759eb28464eb70": {
          "model_module": "@jupyter-widgets/controls",
          "model_name": "DescriptionStyleModel",
          "state": {
            "_view_name": "StyleView",
            "_model_name": "DescriptionStyleModel",
            "description_width": "",
            "_view_module": "@jupyter-widgets/base",
            "_model_module_version": "1.5.0",
            "_view_count": null,
            "_view_module_version": "1.2.0",
            "_model_module": "@jupyter-widgets/controls"
          }
        },
        "346a26cc625d49aebaa60e3c0c38b33d": {
          "model_module": "@jupyter-widgets/base",
          "model_name": "LayoutModel",
          "state": {
            "_view_name": "LayoutView",
            "grid_template_rows": null,
            "right": null,
            "justify_content": null,
            "_view_module": "@jupyter-widgets/base",
            "overflow": null,
            "_model_module_version": "1.2.0",
            "_view_count": null,
            "flex_flow": null,
            "width": null,
            "min_width": null,
            "border": null,
            "align_items": null,
            "bottom": null,
            "_model_module": "@jupyter-widgets/base",
            "top": null,
            "grid_column": null,
            "overflow_y": null,
            "overflow_x": null,
            "grid_auto_flow": null,
            "grid_area": null,
            "grid_template_columns": null,
            "flex": null,
            "_model_name": "LayoutModel",
            "justify_items": null,
            "grid_row": null,
            "max_height": null,
            "align_content": null,
            "visibility": null,
            "align_self": null,
            "height": null,
            "min_height": null,
            "padding": null,
            "grid_auto_rows": null,
            "grid_gap": null,
            "max_width": null,
            "order": null,
            "_view_module_version": "1.2.0",
            "grid_template_areas": null,
            "object_position": null,
            "object_fit": null,
            "grid_auto_columns": null,
            "margin": null,
            "display": null,
            "left": null
          }
        },
        "54a487998281456ca7ff8ebd25b25d33": {
          "model_module": "@jupyter-widgets/controls",
          "model_name": "HBoxModel",
          "state": {
            "_view_name": "HBoxView",
            "_dom_classes": [],
            "_model_name": "HBoxModel",
            "_view_module": "@jupyter-widgets/controls",
            "_model_module_version": "1.5.0",
            "_view_count": null,
            "_view_module_version": "1.5.0",
            "box_style": "",
            "layout": "IPY_MODEL_e4ca15355b58461ea4ca90aa1626f470",
            "_model_module": "@jupyter-widgets/controls",
            "children": [
              "IPY_MODEL_8f8545f9efb447e6bf5453c25baea45d",
              "IPY_MODEL_7c571e0084e34fc38f8b84777e575c01"
            ]
          }
        },
        "e4ca15355b58461ea4ca90aa1626f470": {
          "model_module": "@jupyter-widgets/base",
          "model_name": "LayoutModel",
          "state": {
            "_view_name": "LayoutView",
            "grid_template_rows": null,
            "right": null,
            "justify_content": null,
            "_view_module": "@jupyter-widgets/base",
            "overflow": null,
            "_model_module_version": "1.2.0",
            "_view_count": null,
            "flex_flow": null,
            "width": null,
            "min_width": null,
            "border": null,
            "align_items": null,
            "bottom": null,
            "_model_module": "@jupyter-widgets/base",
            "top": null,
            "grid_column": null,
            "overflow_y": null,
            "overflow_x": null,
            "grid_auto_flow": null,
            "grid_area": null,
            "grid_template_columns": null,
            "flex": null,
            "_model_name": "LayoutModel",
            "justify_items": null,
            "grid_row": null,
            "max_height": null,
            "align_content": null,
            "visibility": null,
            "align_self": null,
            "height": null,
            "min_height": null,
            "padding": null,
            "grid_auto_rows": null,
            "grid_gap": null,
            "max_width": null,
            "order": null,
            "_view_module_version": "1.2.0",
            "grid_template_areas": null,
            "object_position": null,
            "object_fit": null,
            "grid_auto_columns": null,
            "margin": null,
            "display": null,
            "left": null
          }
        },
        "8f8545f9efb447e6bf5453c25baea45d": {
          "model_module": "@jupyter-widgets/controls",
          "model_name": "FloatProgressModel",
          "state": {
            "_view_name": "ProgressView",
            "style": "IPY_MODEL_f7c6e48be8c64a42a53d733b10bc5259",
            "_dom_classes": [],
            "description": "100%",
            "_model_name": "FloatProgressModel",
            "bar_style": "success",
            "max": 90,
            "_view_module": "@jupyter-widgets/controls",
            "_model_module_version": "1.5.0",
            "value": 90,
            "_view_count": null,
            "_view_module_version": "1.5.0",
            "orientation": "horizontal",
            "min": 0,
            "description_tooltip": null,
            "_model_module": "@jupyter-widgets/controls",
            "layout": "IPY_MODEL_90a245bfd5464d3db5ef98e6d5f511a2"
          }
        },
        "7c571e0084e34fc38f8b84777e575c01": {
          "model_module": "@jupyter-widgets/controls",
          "model_name": "HTMLModel",
          "state": {
            "_view_name": "HTMLView",
            "style": "IPY_MODEL_dd64ae5d589b476fb3ac1d2e13973d9e",
            "_dom_classes": [],
            "description": "",
            "_model_name": "HTMLModel",
            "placeholder": "​",
            "_view_module": "@jupyter-widgets/controls",
            "_model_module_version": "1.5.0",
            "value": " 90/90 [00:03&lt;00:00, 25.86it/s]",
            "_view_count": null,
            "_view_module_version": "1.5.0",
            "description_tooltip": null,
            "_model_module": "@jupyter-widgets/controls",
            "layout": "IPY_MODEL_d3ad2a510507495bbea872ffec7424d9"
          }
        },
        "f7c6e48be8c64a42a53d733b10bc5259": {
          "model_module": "@jupyter-widgets/controls",
          "model_name": "ProgressStyleModel",
          "state": {
            "_view_name": "StyleView",
            "_model_name": "ProgressStyleModel",
            "description_width": "initial",
            "_view_module": "@jupyter-widgets/base",
            "_model_module_version": "1.5.0",
            "_view_count": null,
            "_view_module_version": "1.2.0",
            "bar_color": null,
            "_model_module": "@jupyter-widgets/controls"
          }
        },
        "90a245bfd5464d3db5ef98e6d5f511a2": {
          "model_module": "@jupyter-widgets/base",
          "model_name": "LayoutModel",
          "state": {
            "_view_name": "LayoutView",
            "grid_template_rows": null,
            "right": null,
            "justify_content": null,
            "_view_module": "@jupyter-widgets/base",
            "overflow": null,
            "_model_module_version": "1.2.0",
            "_view_count": null,
            "flex_flow": null,
            "width": null,
            "min_width": null,
            "border": null,
            "align_items": null,
            "bottom": null,
            "_model_module": "@jupyter-widgets/base",
            "top": null,
            "grid_column": null,
            "overflow_y": null,
            "overflow_x": null,
            "grid_auto_flow": null,
            "grid_area": null,
            "grid_template_columns": null,
            "flex": null,
            "_model_name": "LayoutModel",
            "justify_items": null,
            "grid_row": null,
            "max_height": null,
            "align_content": null,
            "visibility": null,
            "align_self": null,
            "height": null,
            "min_height": null,
            "padding": null,
            "grid_auto_rows": null,
            "grid_gap": null,
            "max_width": null,
            "order": null,
            "_view_module_version": "1.2.0",
            "grid_template_areas": null,
            "object_position": null,
            "object_fit": null,
            "grid_auto_columns": null,
            "margin": null,
            "display": null,
            "left": null
          }
        },
        "dd64ae5d589b476fb3ac1d2e13973d9e": {
          "model_module": "@jupyter-widgets/controls",
          "model_name": "DescriptionStyleModel",
          "state": {
            "_view_name": "StyleView",
            "_model_name": "DescriptionStyleModel",
            "description_width": "",
            "_view_module": "@jupyter-widgets/base",
            "_model_module_version": "1.5.0",
            "_view_count": null,
            "_view_module_version": "1.2.0",
            "_model_module": "@jupyter-widgets/controls"
          }
        },
        "d3ad2a510507495bbea872ffec7424d9": {
          "model_module": "@jupyter-widgets/base",
          "model_name": "LayoutModel",
          "state": {
            "_view_name": "LayoutView",
            "grid_template_rows": null,
            "right": null,
            "justify_content": null,
            "_view_module": "@jupyter-widgets/base",
            "overflow": null,
            "_model_module_version": "1.2.0",
            "_view_count": null,
            "flex_flow": null,
            "width": null,
            "min_width": null,
            "border": null,
            "align_items": null,
            "bottom": null,
            "_model_module": "@jupyter-widgets/base",
            "top": null,
            "grid_column": null,
            "overflow_y": null,
            "overflow_x": null,
            "grid_auto_flow": null,
            "grid_area": null,
            "grid_template_columns": null,
            "flex": null,
            "_model_name": "LayoutModel",
            "justify_items": null,
            "grid_row": null,
            "max_height": null,
            "align_content": null,
            "visibility": null,
            "align_self": null,
            "height": null,
            "min_height": null,
            "padding": null,
            "grid_auto_rows": null,
            "grid_gap": null,
            "max_width": null,
            "order": null,
            "_view_module_version": "1.2.0",
            "grid_template_areas": null,
            "object_position": null,
            "object_fit": null,
            "grid_auto_columns": null,
            "margin": null,
            "display": null,
            "left": null
          }
        },
        "d5af4b47faf44e97901a0a11bc36bcb2": {
          "model_module": "@jupyter-widgets/controls",
          "model_name": "HBoxModel",
          "state": {
            "_view_name": "HBoxView",
            "_dom_classes": [],
            "_model_name": "HBoxModel",
            "_view_module": "@jupyter-widgets/controls",
            "_model_module_version": "1.5.0",
            "_view_count": null,
            "_view_module_version": "1.5.0",
            "box_style": "",
            "layout": "IPY_MODEL_0bf2526b6784469f8bc98aa089a4adac",
            "_model_module": "@jupyter-widgets/controls",
            "children": [
              "IPY_MODEL_c71d7e7fd5934786ae3b97e1a2b903f9",
              "IPY_MODEL_5ad6530a37354b6b84c0f886efd07856"
            ]
          }
        },
        "0bf2526b6784469f8bc98aa089a4adac": {
          "model_module": "@jupyter-widgets/base",
          "model_name": "LayoutModel",
          "state": {
            "_view_name": "LayoutView",
            "grid_template_rows": null,
            "right": null,
            "justify_content": null,
            "_view_module": "@jupyter-widgets/base",
            "overflow": null,
            "_model_module_version": "1.2.0",
            "_view_count": null,
            "flex_flow": null,
            "width": null,
            "min_width": null,
            "border": null,
            "align_items": null,
            "bottom": null,
            "_model_module": "@jupyter-widgets/base",
            "top": null,
            "grid_column": null,
            "overflow_y": null,
            "overflow_x": null,
            "grid_auto_flow": null,
            "grid_area": null,
            "grid_template_columns": null,
            "flex": null,
            "_model_name": "LayoutModel",
            "justify_items": null,
            "grid_row": null,
            "max_height": null,
            "align_content": null,
            "visibility": null,
            "align_self": null,
            "height": null,
            "min_height": null,
            "padding": null,
            "grid_auto_rows": null,
            "grid_gap": null,
            "max_width": null,
            "order": null,
            "_view_module_version": "1.2.0",
            "grid_template_areas": null,
            "object_position": null,
            "object_fit": null,
            "grid_auto_columns": null,
            "margin": null,
            "display": null,
            "left": null
          }
        },
        "c71d7e7fd5934786ae3b97e1a2b903f9": {
          "model_module": "@jupyter-widgets/controls",
          "model_name": "FloatProgressModel",
          "state": {
            "_view_name": "ProgressView",
            "style": "IPY_MODEL_24fe258c7b3b44bf81d4611c3aad53c2",
            "_dom_classes": [],
            "description": "100%",
            "_model_name": "FloatProgressModel",
            "bar_style": "success",
            "max": 90,
            "_view_module": "@jupyter-widgets/controls",
            "_model_module_version": "1.5.0",
            "value": 90,
            "_view_count": null,
            "_view_module_version": "1.5.0",
            "orientation": "horizontal",
            "min": 0,
            "description_tooltip": null,
            "_model_module": "@jupyter-widgets/controls",
            "layout": "IPY_MODEL_26192331ee11423a863b61ecca775128"
          }
        },
        "5ad6530a37354b6b84c0f886efd07856": {
          "model_module": "@jupyter-widgets/controls",
          "model_name": "HTMLModel",
          "state": {
            "_view_name": "HTMLView",
            "style": "IPY_MODEL_ca5b3627f36046abb02d4fdc9b859024",
            "_dom_classes": [],
            "description": "",
            "_model_name": "HTMLModel",
            "placeholder": "​",
            "_view_module": "@jupyter-widgets/controls",
            "_model_module_version": "1.5.0",
            "value": " 90/90 [00:00&lt;00:00, 1423.94it/s]",
            "_view_count": null,
            "_view_module_version": "1.5.0",
            "description_tooltip": null,
            "_model_module": "@jupyter-widgets/controls",
            "layout": "IPY_MODEL_7e02ec24b115477aac24e5c5b335481a"
          }
        },
        "24fe258c7b3b44bf81d4611c3aad53c2": {
          "model_module": "@jupyter-widgets/controls",
          "model_name": "ProgressStyleModel",
          "state": {
            "_view_name": "StyleView",
            "_model_name": "ProgressStyleModel",
            "description_width": "initial",
            "_view_module": "@jupyter-widgets/base",
            "_model_module_version": "1.5.0",
            "_view_count": null,
            "_view_module_version": "1.2.0",
            "bar_color": null,
            "_model_module": "@jupyter-widgets/controls"
          }
        },
        "26192331ee11423a863b61ecca775128": {
          "model_module": "@jupyter-widgets/base",
          "model_name": "LayoutModel",
          "state": {
            "_view_name": "LayoutView",
            "grid_template_rows": null,
            "right": null,
            "justify_content": null,
            "_view_module": "@jupyter-widgets/base",
            "overflow": null,
            "_model_module_version": "1.2.0",
            "_view_count": null,
            "flex_flow": null,
            "width": null,
            "min_width": null,
            "border": null,
            "align_items": null,
            "bottom": null,
            "_model_module": "@jupyter-widgets/base",
            "top": null,
            "grid_column": null,
            "overflow_y": null,
            "overflow_x": null,
            "grid_auto_flow": null,
            "grid_area": null,
            "grid_template_columns": null,
            "flex": null,
            "_model_name": "LayoutModel",
            "justify_items": null,
            "grid_row": null,
            "max_height": null,
            "align_content": null,
            "visibility": null,
            "align_self": null,
            "height": null,
            "min_height": null,
            "padding": null,
            "grid_auto_rows": null,
            "grid_gap": null,
            "max_width": null,
            "order": null,
            "_view_module_version": "1.2.0",
            "grid_template_areas": null,
            "object_position": null,
            "object_fit": null,
            "grid_auto_columns": null,
            "margin": null,
            "display": null,
            "left": null
          }
        },
        "ca5b3627f36046abb02d4fdc9b859024": {
          "model_module": "@jupyter-widgets/controls",
          "model_name": "DescriptionStyleModel",
          "state": {
            "_view_name": "StyleView",
            "_model_name": "DescriptionStyleModel",
            "description_width": "",
            "_view_module": "@jupyter-widgets/base",
            "_model_module_version": "1.5.0",
            "_view_count": null,
            "_view_module_version": "1.2.0",
            "_model_module": "@jupyter-widgets/controls"
          }
        },
        "7e02ec24b115477aac24e5c5b335481a": {
          "model_module": "@jupyter-widgets/base",
          "model_name": "LayoutModel",
          "state": {
            "_view_name": "LayoutView",
            "grid_template_rows": null,
            "right": null,
            "justify_content": null,
            "_view_module": "@jupyter-widgets/base",
            "overflow": null,
            "_model_module_version": "1.2.0",
            "_view_count": null,
            "flex_flow": null,
            "width": null,
            "min_width": null,
            "border": null,
            "align_items": null,
            "bottom": null,
            "_model_module": "@jupyter-widgets/base",
            "top": null,
            "grid_column": null,
            "overflow_y": null,
            "overflow_x": null,
            "grid_auto_flow": null,
            "grid_area": null,
            "grid_template_columns": null,
            "flex": null,
            "_model_name": "LayoutModel",
            "justify_items": null,
            "grid_row": null,
            "max_height": null,
            "align_content": null,
            "visibility": null,
            "align_self": null,
            "height": null,
            "min_height": null,
            "padding": null,
            "grid_auto_rows": null,
            "grid_gap": null,
            "max_width": null,
            "order": null,
            "_view_module_version": "1.2.0",
            "grid_template_areas": null,
            "object_position": null,
            "object_fit": null,
            "grid_auto_columns": null,
            "margin": null,
            "display": null,
            "left": null
          }
        }
      }
    },
    "accelerator": "GPU"
  },
  "cells": [
    {
      "cell_type": "markdown",
      "metadata": {
        "id": "view-in-github",
        "colab_type": "text"
      },
      "source": [
        "<a href=\"https://colab.research.google.com/github/MohammadRaziei/Deep-Learning-Course/blob/master/HW04/Q1/HW04_Q1.ipynb\" target=\"_parent\"><img src=\"https://colab.research.google.com/assets/colab-badge.svg\" alt=\"Open In Colab\"/></a>"
      ]
    },
    {
      "cell_type": "markdown",
      "metadata": {
        "id": "eR9fLuwFXpVu"
      },
      "source": [
        "# HW04 : Problem 1\n",
        "\n",
        "Please check last updates and get the latest version from following link. it is more completed but it may have some updates after release it.\n",
        "\n",
        "[<img src=\"https://img.icons8.com/clouds/50/000000/github.png\"/>](https://github.com/MohammadRaziei/Deep-Learning-Course/blob/master/)  \n",
        "github link : https://github.com/MohammadRaziei/Deep-Learning-Course/blob/master/HW04"
      ]
    },
    {
      "cell_type": "code",
      "metadata": {
        "id": "Mi3JzFIyaEGl",
        "colab": {
          "base_uri": "https://localhost:8080/"
        },
        "outputId": "026d2085-943c-4d92-b260-04b702de39f1"
      },
      "source": [
        "!pip install music21\r\n",
        "!pip install bs4\r\n",
        "!pip install pretty_midi"
      ],
      "execution_count": 1,
      "outputs": [
        {
          "output_type": "stream",
          "text": [
            "Requirement already satisfied: music21 in /usr/local/lib/python3.6/dist-packages (5.5.0)\n",
            "Requirement already satisfied: bs4 in /usr/local/lib/python3.6/dist-packages (0.0.1)\n",
            "Requirement already satisfied: beautifulsoup4 in /usr/local/lib/python3.6/dist-packages (from bs4) (4.6.3)\n",
            "Collecting pretty_midi\n",
            "\u001b[?25l  Downloading https://files.pythonhosted.org/packages/bc/8e/63c6e39a7a64623a9cd6aec530070c70827f6f8f40deec938f323d7b1e15/pretty_midi-0.2.9.tar.gz (5.6MB)\n",
            "\u001b[K     |████████████████████████████████| 5.6MB 8.5MB/s \n",
            "\u001b[?25hRequirement already satisfied: numpy>=1.7.0 in /usr/local/lib/python3.6/dist-packages (from pretty_midi) (1.19.5)\n",
            "Collecting mido>=1.1.16\n",
            "\u001b[?25l  Downloading https://files.pythonhosted.org/packages/20/0a/81beb587b1ae832ea6a1901dc7c6faa380e8dd154e0a862f0a9f3d2afab9/mido-1.2.9-py2.py3-none-any.whl (52kB)\n",
            "\u001b[K     |████████████████████████████████| 61kB 8.2MB/s \n",
            "\u001b[?25hRequirement already satisfied: six in /usr/local/lib/python3.6/dist-packages (from pretty_midi) (1.15.0)\n",
            "Building wheels for collected packages: pretty-midi\n",
            "  Building wheel for pretty-midi (setup.py) ... \u001b[?25l\u001b[?25hdone\n",
            "  Created wheel for pretty-midi: filename=pretty_midi-0.2.9-cp36-none-any.whl size=5591954 sha256=c1a16a30b36e644d11f39cb75c4c433db5aa72547f915a5f2ab9ae8c3b3c36d3\n",
            "  Stored in directory: /root/.cache/pip/wheels/4c/a1/c6/b5697841db1112c6e5866d75a6b6bf1bef73b874782556ba66\n",
            "Successfully built pretty-midi\n",
            "Installing collected packages: mido, pretty-midi\n",
            "Successfully installed mido-1.2.9 pretty-midi-0.2.9\n"
          ],
          "name": "stdout"
        }
      ]
    },
    {
      "cell_type": "code",
      "metadata": {
        "id": "-k6QWkfbbUXk"
      },
      "source": [
        "import os, shutil\r\n",
        "def create_empty_folder(folder_name, recreate=True):\r\n",
        "  try:\r\n",
        "    if recreate:\r\n",
        "      try: shutil.rmtree(folder_name)\r\n",
        "      except: pass\r\n",
        "    os.mkdir(folder_name)\r\n",
        "    print('\"%s\" is created.'%folder_name)\r\n",
        "  except Exception as e: # work on python 3.x\r\n",
        "    print('Some error! : '+ str(e))\r\n",
        "\r\n",
        "def create_empty_folders(folders_list):\r\n",
        "  for folder in folders_list:\r\n",
        "    create_empty_folder(folder)"
      ],
      "execution_count": 2,
      "outputs": []
    },
    {
      "cell_type": "code",
      "metadata": {
        "id": "Ni5nVyknc7HY",
        "colab": {
          "base_uri": "https://localhost:8080/",
          "height": 82,
          "referenced_widgets": [
            "80629100337d40369e317fff507ce348",
            "9cac3182b75e475687a2302b038965f4",
            "e03e9d2f4c4241d29d95992a697a6dfa",
            "785c8b4c0fde47c9a430b619c068e428",
            "1b06520d6d814cf5ae076bc3ed74437e",
            "299381f0a13d4d02bcf782ea8b0eab79",
            "92c8332d9484490f83fc89d9622731ba",
            "81c3f62e0f2f4a3189a2e56e621111cf"
          ]
        },
        "outputId": "153c90ee-c55b-4025-ebaa-f7ef932628dc"
      },
      "source": [
        "from urllib.request import urlopen, urlretrieve\r\n",
        "from bs4 import BeautifulSoup\r\n",
        "import time\r\n",
        "from tqdm.auto import trange\r\n",
        "\r\n",
        "\r\n",
        "selected_instrument = 'Guitar'\r\n",
        "\r\n",
        "# Define URL components\r\n",
        "url_base = 'https://www.mutopiaproject.org/cgibin/make-table.cgi?startat={}&searchingfor=&Composer=&Instrument={}&Style=&collection=&id=&solo=&recent=&timelength=&timeunit=&lilyversion=&preview='\r\n",
        "\r\n",
        "# Define save directory.\r\n",
        "save_dir = 'guitar'\r\n",
        "create_empty_folder(save_dir)\r\n",
        "\r\n",
        "# Set initial values\r\n",
        "songNumber = 0\r\n",
        "linkCount = 10\r\n",
        "\r\n",
        "lim = 10 \r\n",
        "cnt = 0\r\n",
        "\r\n",
        "# Locate and download each MIDI file\r\n",
        "for cnt in trange(lim):\r\n",
        "    cnt += 1\r\n",
        "    url = url_base.format(songNumber, selected_instrument)\r\n",
        "    html = urlopen(url)\r\n",
        "    soup = BeautifulSoup(html.read())\r\n",
        "    links = soup.find_all('a')\r\n",
        "    linkCount = 0\r\n",
        "    for link in links:\r\n",
        "        href = link['href']\r\n",
        "        if href.find('.mid') >= 0:\r\n",
        "            linkCount = linkCount + 1\r\n",
        "            urlretrieve(href, os.path.join(save_dir, \"%d_%d.mid\"%(cnt, linkCount)))\r\n",
        "    if linkCount is 0: break\r\n",
        "    songNumber += 10\r\n",
        "    time.sleep(.1)"
      ],
      "execution_count": 3,
      "outputs": [
        {
          "output_type": "stream",
          "text": [
            "\"guitar\" is created.\n"
          ],
          "name": "stdout"
        },
        {
          "output_type": "display_data",
          "data": {
            "application/vnd.jupyter.widget-view+json": {
              "model_id": "80629100337d40369e317fff507ce348",
              "version_minor": 0,
              "version_major": 2
            },
            "text/plain": [
              "HBox(children=(FloatProgress(value=0.0, max=10.0), HTML(value='')))"
            ]
          },
          "metadata": {
            "tags": []
          }
        },
        {
          "output_type": "stream",
          "text": [
            "\n"
          ],
          "name": "stdout"
        }
      ]
    },
    {
      "cell_type": "markdown",
      "metadata": {
        "id": "FgQ0vpcGAln_"
      },
      "source": [
        "## Part II"
      ]
    },
    {
      "cell_type": "code",
      "metadata": {
        "id": "fI3p1Uuslpcz",
        "colab": {
          "base_uri": "https://localhost:8080/",
          "height": 82,
          "referenced_widgets": [
            "72455f0327d34c988fd61c8d41fa555b",
            "c5bcc130a8064ca0b07c1cf161278676",
            "63fb8752987a4c70ac79f663344a2812",
            "4023d104504e4a8d8bcd3e487ad9e8ff",
            "a9ca60edea2d4e7f8dcc0815ddcbbe07",
            "5234e0bf366842be83c6a984629e001b",
            "ff72a885c0414b3d9645211d2fcc1160",
            "74f60ebc3984482a86165bac58a53b7e"
          ]
        },
        "outputId": "ac7cfe6b-80ab-4c14-bebb-ac13fc3ed3f9"
      },
      "source": [
        "from music21 import converter, instrument\r\n",
        "import os\r\n",
        "from tqdm.auto import tqdm\r\n",
        "\r\n",
        "\r\n",
        "save_dir = 'guitar'\r\n",
        "\r\n",
        "# test that stream is monotonic or notr\r\n",
        "def is_monophonic(stream):\r\n",
        "    try:    length = len(instrument.partitionByInstrument(stream).parts)\r\n",
        "    except: length = 0\r\n",
        "    return length is 1\r\n",
        "\r\n",
        "# Merge notes into chords\r\n",
        "song_files = os.listdir(save_dir)\r\n",
        "# data_scores = []\r\n",
        "# for song_file in (song_files):\r\n",
        "#   sng = converter.parse(os.path.join(save_dir,song_file))\r\n",
        "#   if is_monophonic(sng): \r\n",
        "#     data_scores.append(sng)\r\n",
        "data_scores = [sng.chordify() for song_file in tqdm(song_files) for sng in (converter.parse(os.path.join(save_dir,song_file)),) if is_monophonic(sng)]\r\n",
        "\r\n",
        "print(len(data_scores))"
      ],
      "execution_count": 4,
      "outputs": [
        {
          "output_type": "display_data",
          "data": {
            "application/vnd.jupyter.widget-view+json": {
              "model_id": "72455f0327d34c988fd61c8d41fa555b",
              "version_minor": 0,
              "version_major": 2
            },
            "text/plain": [
              "HBox(children=(FloatProgress(value=0.0, max=96.0), HTML(value='')))"
            ]
          },
          "metadata": {
            "tags": []
          }
        },
        {
          "output_type": "stream",
          "text": [
            "\n",
            "88\n"
          ],
          "name": "stdout"
        }
      ]
    },
    {
      "cell_type": "code",
      "metadata": {
        "id": "WEs8Y_oesXMu",
        "colab": {
          "base_uri": "https://localhost:8080/",
          "height": 65,
          "referenced_widgets": [
            "c3b2460b916e437b899bf4eb1b876aeb",
            "cbf89818e2ea461e8f2b6ed532fdce65",
            "6144075a251c443289a47ea954efc84c",
            "9d8ef7b2b7ca4916830a837b374f52db",
            "6f1aeef7c36c44ae9ae85e3bf42b527f",
            "bfee463ae5ff441193571c19d887f11e",
            "e0ed07748de14f5283a555625698bd90",
            "caf0c5cdc7cc4577a9877c3cc825a3c2"
          ]
        },
        "outputId": "ce03c0e5-04ea-4396-ec21-566067014588"
      },
      "source": [
        "from music21 import note, chord\r\n",
        "from tqdm.auto import tqdm\r\n",
        "\r\n",
        "\r\n",
        "data_chords = [[] for _ in data_scores]\r\n",
        "data_durations = [[] for _ in data_scores]\r\n",
        "data_keys = []\r\n",
        "\r\n",
        "# Extract notes, chords, durations, and keys\r\n",
        "for i, song in enumerate(tqdm(data_scores)):\r\n",
        "  data_keys.append(str(song.analyze('key')))\r\n",
        "  for element in song:\r\n",
        "      if isinstance(element, note.Note):\r\n",
        "          data_chords[i].append(element.pitch)\r\n",
        "          data_durations[i].append(element.duration.quarterLength)\r\n",
        "      elif isinstance(element, chord.Chord):\r\n",
        "          data_chords[i].append('.'.join(str(n) for n in element.pitches))\r\n",
        "          data_durations[i].append(element.duration.quarterLength)"
      ],
      "execution_count": 5,
      "outputs": [
        {
          "output_type": "display_data",
          "data": {
            "application/vnd.jupyter.widget-view+json": {
              "model_id": "c3b2460b916e437b899bf4eb1b876aeb",
              "version_minor": 0,
              "version_major": 2
            },
            "text/plain": [
              "HBox(children=(FloatProgress(value=0.0, max=88.0), HTML(value='')))"
            ]
          },
          "metadata": {
            "tags": []
          }
        },
        {
          "output_type": "stream",
          "text": [
            "\n"
          ],
          "name": "stdout"
        }
      ]
    },
    {
      "cell_type": "code",
      "metadata": {
        "id": "aHwpWwvutuop",
        "colab": {
          "base_uri": "https://localhost:8080/"
        },
        "outputId": "b8b1104e-d192-44cd-fb3a-b0c827e2794a"
      },
      "source": [
        "from sklearn.preprocessing import LabelEncoder\r\n",
        "\r\n",
        "chord_encoder = LabelEncoder()\r\n",
        "chord_encoder.fit(sorted(list({*[subsub for sub in data_chords for subsub in sub]})))\r\n",
        "num_unique_chords = len(chord_encoder.classes_)\r\n",
        "\r\n",
        "duration_encoder = LabelEncoder()\r\n",
        "duration_encoder.fit(sorted(list({*[subsub for sub in data_durations for subsub in sub]})))\r\n",
        "num_unique_duration = len(duration_encoder.classes_)\r\n",
        "\r\n",
        "print('number of unique chords: ', num_unique_chords)\r\n",
        "print('10 instances of chords:', chord_encoder.classes_[0:10])\r\n",
        "print()\r\n",
        "print('number of unique duration: ', num_unique_duration)\r\n",
        "print('unique durations:', [str(s) for s in duration_encoder.classes_])"
      ],
      "execution_count": 6,
      "outputs": [
        {
          "output_type": "stream",
          "text": [
            "number of unique chords:  3048\n",
            "10 instances of chords: ['A1.C#4' 'A1.G3.A3.A4' 'A1.G3.A3.E4' 'A2' 'A2.A3' 'A2.A3.A4'\n",
            " 'A2.A3.A4.A5' 'A2.A3.A4.D5' 'A2.A3.B-3' 'A2.A3.B3']\n",
            "\n",
            "number of unique duration:  18\n",
            "unique durations: ['1/12', '1/6', '0.25', '1/3', '5/12', '0.5', '2/3', '0.75', '5/6', '11/12', '1.0', '1.25', '17/12', '1.5', '2.0', '2.5', '3.0', '4.0']\n"
          ],
          "name": "stdout"
        }
      ]
    },
    {
      "cell_type": "code",
      "metadata": {
        "id": "RODOXXdo4Gip",
        "colab": {
          "base_uri": "https://localhost:8080/",
          "height": 65,
          "referenced_widgets": [
            "ea7a2e59209648729ec8c3f0807209c4",
            "d198e19a5cea4fb4a2f60a47f3a0a305",
            "2e1f2f155d92485688e4abba763a89e8",
            "c5bbe5f24500429498c000444a734384",
            "f78d592663254b8b908ea715eaf13beb",
            "b0ad3a7d6790493abf7897d10a6e8e22",
            "4d573c9efe59430cb9e51cb80cb32cdf",
            "ef7ad14db01e4959a1f947dfc23ba1d8"
          ]
        },
        "outputId": "b1b77853-dae5-4fc4-8636-1f836a5c25af"
      },
      "source": [
        "from tqdm.auto import trange\r\n",
        "import numpy as np\r\n",
        "\r\n",
        "sequence_length = 32\r\n",
        "\r\n",
        "# Define empty array for train data\r\n",
        "train_chords = [];  train_durations = []\r\n",
        "target_chords = []; target_durations = []\r\n",
        "\r\n",
        "# Construct train and target sequences for chords and durations\r\n",
        "for i in trange(len(data_chords)):\r\n",
        "    chord_list = chord_encoder.transform(data_chords[i])\r\n",
        "    duration_list = duration_encoder.transform(data_durations[i])\r\n",
        "    for t in range(len(chord_list) - sequence_length):\r\n",
        "        train_chords.append(chord_list[t:t+sequence_length])\r\n",
        "        target_chords.append(chord_list[t+1])\r\n",
        "\r\n",
        "        train_durations.append(duration_list[t:t+sequence_length])\r\n",
        "        target_durations.append(duration_list[t+1])\r\n",
        "\r\n",
        "\r\n",
        "train_chords = np.array(train_chords);    train_durations = np.array(train_durations)\r\n",
        "target_chords = np.array(target_chords);  target_durations = np.array(target_durations)\r\n",
        "\r\n",
        "num_samples, num_chords = train_chords.shape\r\n",
        "# num_durations = train_durations.shape[1]\r\n"
      ],
      "execution_count": 7,
      "outputs": [
        {
          "output_type": "display_data",
          "data": {
            "application/vnd.jupyter.widget-view+json": {
              "model_id": "ea7a2e59209648729ec8c3f0807209c4",
              "version_minor": 0,
              "version_major": 2
            },
            "text/plain": [
              "HBox(children=(FloatProgress(value=0.0, max=88.0), HTML(value='')))"
            ]
          },
          "metadata": {
            "tags": []
          }
        },
        {
          "output_type": "stream",
          "text": [
            "\n"
          ],
          "name": "stdout"
        }
      ]
    },
    {
      "cell_type": "code",
      "metadata": {
        "id": "yMue7_FJ1fVj"
      },
      "source": [
        "from tensorflow.keras.utils import to_categorical\r\n",
        "\r\n",
        "target_chords_1hot = to_categorical(target_chords)\r\n",
        "target_durations_1hot = to_categorical(target_durations)"
      ],
      "execution_count": 8,
      "outputs": []
    },
    {
      "cell_type": "markdown",
      "metadata": {
        "id": "UxDKx7ZEATTb"
      },
      "source": [
        "## Part III"
      ]
    },
    {
      "cell_type": "code",
      "metadata": {
        "id": "u2urbkcD0C9m",
        "colab": {
          "base_uri": "https://localhost:8080/",
          "height": 1000
        },
        "outputId": "8bfddeec-5fb5-411d-c3aa-38a6c3445d45"
      },
      "source": [
        "import tensorflow as tf\r\n",
        "from tensorflow.keras.layers import Input, Dense, Dropout\r\n",
        "from tensorflow.keras.layers import Embedding, Concatenate, GRU, SimpleRNN\r\n",
        "from tensorflow.keras.models import Model\r\n",
        "from tensorflow.keras.losses import CategoricalCrossentropy\r\n",
        "from tensorflow.keras.utils import plot_model\r\n",
        "from IPython.display import display, Image\r\n",
        "\r\n",
        "# Use Keras Functional API for using Concatenate layer\r\n",
        "\r\n",
        "# Define inputs\r\n",
        "input_chord = Input(shape = (None,), name='input_chord')\r\n",
        "input_duration = Input(shape = (None,), name='input_duration')\r\n",
        "\r\n",
        "# Define embedding layers:\r\n",
        "embed_dim = 64\r\n",
        "sequence_length = 32\r\n",
        "embedding_chord = Embedding(num_unique_chords, embed_dim, input_length = sequence_length, name='embedding_chord')(input_chord)\r\n",
        "embedding_duration = Embedding(num_unique_duration, embed_dim, input_length = sequence_length, name='embedding_duration')(input_duration)\r\n",
        "\r\n",
        "# Concatenation the embedding layers:\r\n",
        "concat = Concatenate(axis=1, name='concat')([embedding_chord, embedding_duration])\r\n",
        "# GRU and SimpleRNN:\r\n",
        "gru = GRU(256, return_sequences=True, name='gru')(concat)\r\n",
        "simple_rnn = SimpleRNN(128, name='simple_rnn')(gru)\r\n",
        "dense = Dense(64, activation='relu', name='dense')(simple_rnn)\r\n",
        "\r\n",
        "dropout = Dropout(0.3, name='dropout')(dense) \r\n",
        "# Define outputs:\r\n",
        "output_chord = Dense(target_chords_1hot.shape[1], activation = 'softmax', name='output_chord')(dropout)\r\n",
        "output_duration = Dense(target_durations_1hot.shape[1], activation = 'softmax', name='output_duration')(dropout)\r\n",
        "\r\n",
        "# Define model:\r\n",
        "model = Model(inputs = [input_chord, input_duration], outputs = [output_chord, output_duration], name='model')\r\n",
        "model.compile(loss='categorical_crossentropy', optimizer='adam', metrics=['accuracy'])\r\n",
        "plot_model(model, show_shapes=True); display(Image('model.png'))\r\n",
        "model.summary()"
      ],
      "execution_count": 9,
      "outputs": [
        {
          "output_type": "display_data",
          "data": {
            "image/png": "[encoded data removed]",
            "text/plain": [
              "<IPython.core.display.Image object>"
            ]
          },
          "metadata": {
            "tags": []
          }
        },
        {
          "output_type": "stream",
          "text": [
            "Model: \"model\"\n",
            "__________________________________________________________________________________________________\n",
            "Layer (type)                    Output Shape         Param #     Connected to                     \n",
            "==================================================================================================\n",
            "input_chord (InputLayer)        [(None, None)]       0                                            \n",
            "__________________________________________________________________________________________________\n",
            "input_duration (InputLayer)     [(None, None)]       0                                            \n",
            "__________________________________________________________________________________________________\n",
            "embedding_chord (Embedding)     (None, None, 64)     195072      input_chord[0][0]                \n",
            "__________________________________________________________________________________________________\n",
            "embedding_duration (Embedding)  (None, None, 64)     1152        input_duration[0][0]             \n",
            "__________________________________________________________________________________________________\n",
            "concat (Concatenate)            (None, None, 64)     0           embedding_chord[0][0]            \n",
            "                                                                 embedding_duration[0][0]         \n",
            "__________________________________________________________________________________________________\n",
            "gru (GRU)                       (None, None, 256)    247296      concat[0][0]                     \n",
            "__________________________________________________________________________________________________\n",
            "simple_rnn (SimpleRNN)          (None, 128)          49280       gru[0][0]                        \n",
            "__________________________________________________________________________________________________\n",
            "dense (Dense)                   (None, 64)           8256        simple_rnn[0][0]                 \n",
            "__________________________________________________________________________________________________\n",
            "dropout (Dropout)               (None, 64)           0           dense[0][0]                      \n",
            "__________________________________________________________________________________________________\n",
            "output_chord (Dense)            (None, 3048)         198120      dropout[0][0]                    \n",
            "__________________________________________________________________________________________________\n",
            "output_duration (Dense)         (None, 18)           1170        dropout[0][0]                    \n",
            "==================================================================================================\n",
            "Total params: 700,346\n",
            "Trainable params: 700,346\n",
            "Non-trainable params: 0\n",
            "__________________________________________________________________________________________________\n"
          ],
          "name": "stdout"
        }
      ]
    },
    {
      "cell_type": "code",
      "metadata": {
        "colab": {
          "base_uri": "https://localhost:8080/"
        },
        "id": "fU0c3cmnoMxg",
        "outputId": "b25c8b5b-7cfd-45fd-85d0-c6fb29e3ecfa"
      },
      "source": [
        "from tensorflow.python.client import device_lib\r\n",
        "print(device_lib.list_local_devices())"
      ],
      "execution_count": 10,
      "outputs": [
        {
          "output_type": "stream",
          "text": [
            "[name: \"/device:CPU:0\"\n",
            "device_type: \"CPU\"\n",
            "memory_limit: 268435456\n",
            "locality {\n",
            "}\n",
            "incarnation: 12079371728164465829\n",
            ", name: \"/device:GPU:0\"\n",
            "device_type: \"GPU\"\n",
            "memory_limit: 14638920512\n",
            "locality {\n",
            "  bus_id: 1\n",
            "  links {\n",
            "  }\n",
            "}\n",
            "incarnation: 1309631418883276116\n",
            "physical_device_desc: \"device: 0, name: Tesla T4, pci bus id: 0000:00:04.0, compute capability: 7.5\"\n",
            "]\n"
          ],
          "name": "stdout"
        }
      ]
    },
    {
      "cell_type": "markdown",
      "metadata": {
        "id": "oWozqxO3_9gK"
      },
      "source": [
        "## Part IV"
      ]
    },
    {
      "cell_type": "code",
      "metadata": {
        "colab": {
          "base_uri": "https://localhost:8080/"
        },
        "id": "RGRmary5vtkh",
        "outputId": "522d9b2e-31b7-49bf-fe83-e0a38a3d3d83"
      },
      "source": [
        "train_data = [train_chords, train_durations]\r\n",
        "target_data = [target_chords_1hot, target_durations_1hot]\r\n",
        "history = model.fit(train_data, \r\n",
        "          target_data, \r\n",
        "          epochs=80, \r\n",
        "          batch_size=256\r\n",
        "          )\r\n",
        "model.save('simplemodel_chord_duration.h5')"
      ],
      "execution_count": 11,
      "outputs": [
        {
          "output_type": "stream",
          "text": [
            "Epoch 1/80\n",
            "122/122 [==============================] - 16s 62ms/step - loss: 8.4803 - output_chord_loss: 7.2159 - output_duration_loss: 1.2644 - output_chord_accuracy: 0.0123 - output_duration_accuracy: 0.6992\n",
            "Epoch 2/80\n",
            "122/122 [==============================] - 8s 67ms/step - loss: 6.6353 - output_chord_loss: 6.1169 - output_duration_loss: 0.5183 - output_chord_accuracy: 0.0244 - output_duration_accuracy: 0.8460\n",
            "Epoch 3/80\n",
            "122/122 [==============================] - 8s 65ms/step - loss: 6.3627 - output_chord_loss: 5.9218 - output_duration_loss: 0.4409 - output_chord_accuracy: 0.0273 - output_duration_accuracy: 0.8655\n",
            "Epoch 4/80\n",
            "122/122 [==============================] - 8s 64ms/step - loss: 6.0976 - output_chord_loss: 5.7717 - output_duration_loss: 0.3259 - output_chord_accuracy: 0.0320 - output_duration_accuracy: 0.8979\n",
            "Epoch 5/80\n",
            "122/122 [==============================] - 7s 61ms/step - loss: 5.8599 - output_chord_loss: 5.6399 - output_duration_loss: 0.2200 - output_chord_accuracy: 0.0344 - output_duration_accuracy: 0.9275\n",
            "Epoch 6/80\n",
            "122/122 [==============================] - 8s 62ms/step - loss: 5.6814 - output_chord_loss: 5.5344 - output_duration_loss: 0.1470 - output_chord_accuracy: 0.0388 - output_duration_accuracy: 0.9571\n",
            "Epoch 7/80\n",
            "122/122 [==============================] - 8s 64ms/step - loss: 5.5245 - output_chord_loss: 5.4385 - output_duration_loss: 0.0859 - output_chord_accuracy: 0.0408 - output_duration_accuracy: 0.9804\n",
            "Epoch 8/80\n",
            "122/122 [==============================] - 8s 65ms/step - loss: 5.2887 - output_chord_loss: 5.2290 - output_duration_loss: 0.0598 - output_chord_accuracy: 0.0508 - output_duration_accuracy: 0.9877\n",
            "Epoch 9/80\n",
            "122/122 [==============================] - 7s 59ms/step - loss: 5.0355 - output_chord_loss: 4.9872 - output_duration_loss: 0.0483 - output_chord_accuracy: 0.0650 - output_duration_accuracy: 0.9906\n",
            "Epoch 10/80\n",
            "122/122 [==============================] - 8s 68ms/step - loss: 4.6810 - output_chord_loss: 4.6342 - output_duration_loss: 0.0468 - output_chord_accuracy: 0.0951 - output_duration_accuracy: 0.9902\n",
            "Epoch 11/80\n",
            "122/122 [==============================] - 8s 66ms/step - loss: 4.1128 - output_chord_loss: 4.0586 - output_duration_loss: 0.0542 - output_chord_accuracy: 0.1596 - output_duration_accuracy: 0.9863\n",
            "Epoch 12/80\n",
            "122/122 [==============================] - 7s 58ms/step - loss: 3.6392 - output_chord_loss: 3.5852 - output_duration_loss: 0.0540 - output_chord_accuracy: 0.2397 - output_duration_accuracy: 0.9849\n",
            "Epoch 13/80\n",
            "122/122 [==============================] - 7s 60ms/step - loss: 3.2711 - output_chord_loss: 3.2181 - output_duration_loss: 0.0530 - output_chord_accuracy: 0.3177 - output_duration_accuracy: 0.9850\n",
            "Epoch 14/80\n",
            "122/122 [==============================] - 8s 64ms/step - loss: 3.0782 - output_chord_loss: 3.0266 - output_duration_loss: 0.0516 - output_chord_accuracy: 0.3455 - output_duration_accuracy: 0.9852\n",
            "Epoch 15/80\n",
            "122/122 [==============================] - 8s 63ms/step - loss: 2.8369 - output_chord_loss: 2.7894 - output_duration_loss: 0.0475 - output_chord_accuracy: 0.3896 - output_duration_accuracy: 0.9862\n",
            "Epoch 16/80\n",
            "122/122 [==============================] - 8s 62ms/step - loss: 2.7086 - output_chord_loss: 2.6607 - output_duration_loss: 0.0479 - output_chord_accuracy: 0.4150 - output_duration_accuracy: 0.9856\n",
            "Epoch 17/80\n",
            "122/122 [==============================] - 9s 70ms/step - loss: 2.5150 - output_chord_loss: 2.4670 - output_duration_loss: 0.0479 - output_chord_accuracy: 0.4565 - output_duration_accuracy: 0.9868\n",
            "Epoch 18/80\n",
            "122/122 [==============================] - 8s 65ms/step - loss: 2.4362 - output_chord_loss: 2.3885 - output_duration_loss: 0.0477 - output_chord_accuracy: 0.4659 - output_duration_accuracy: 0.9859\n",
            "Epoch 19/80\n",
            "122/122 [==============================] - 8s 63ms/step - loss: 2.4194 - output_chord_loss: 2.3667 - output_duration_loss: 0.0527 - output_chord_accuracy: 0.4620 - output_duration_accuracy: 0.9865\n",
            "Epoch 20/80\n",
            "122/122 [==============================] - 7s 59ms/step - loss: 2.2534 - output_chord_loss: 2.2073 - output_duration_loss: 0.0461 - output_chord_accuracy: 0.4970 - output_duration_accuracy: 0.9866\n",
            "Epoch 21/80\n",
            "122/122 [==============================] - 8s 65ms/step - loss: 2.1377 - output_chord_loss: 2.0960 - output_duration_loss: 0.0417 - output_chord_accuracy: 0.5158 - output_duration_accuracy: 0.9869\n",
            "Epoch 22/80\n",
            "122/122 [==============================] - 7s 60ms/step - loss: 2.1496 - output_chord_loss: 2.1048 - output_duration_loss: 0.0448 - output_chord_accuracy: 0.5050 - output_duration_accuracy: 0.9866\n",
            "Epoch 23/80\n",
            "122/122 [==============================] - 7s 60ms/step - loss: 2.0561 - output_chord_loss: 2.0153 - output_duration_loss: 0.0408 - output_chord_accuracy: 0.5207 - output_duration_accuracy: 0.9872\n",
            "Epoch 24/80\n",
            "122/122 [==============================] - 8s 63ms/step - loss: 1.9193 - output_chord_loss: 1.8758 - output_duration_loss: 0.0435 - output_chord_accuracy: 0.5503 - output_duration_accuracy: 0.9860\n",
            "Epoch 25/80\n",
            "122/122 [==============================] - 8s 65ms/step - loss: 1.9281 - output_chord_loss: 1.8871 - output_duration_loss: 0.0410 - output_chord_accuracy: 0.5406 - output_duration_accuracy: 0.9878\n",
            "Epoch 26/80\n",
            "122/122 [==============================] - 8s 62ms/step - loss: 1.9018 - output_chord_loss: 1.8638 - output_duration_loss: 0.0381 - output_chord_accuracy: 0.5376 - output_duration_accuracy: 0.9872\n",
            "Epoch 27/80\n",
            "122/122 [==============================] - 8s 63ms/step - loss: 1.7738 - output_chord_loss: 1.7317 - output_duration_loss: 0.0421 - output_chord_accuracy: 0.5746 - output_duration_accuracy: 0.9868\n",
            "Epoch 28/80\n",
            "122/122 [==============================] - 8s 64ms/step - loss: 1.7306 - output_chord_loss: 1.6944 - output_duration_loss: 0.0363 - output_chord_accuracy: 0.5817 - output_duration_accuracy: 0.9885\n",
            "Epoch 29/80\n",
            "122/122 [==============================] - 7s 60ms/step - loss: 1.6719 - output_chord_loss: 1.6361 - output_duration_loss: 0.0358 - output_chord_accuracy: 0.5937 - output_duration_accuracy: 0.9885\n",
            "Epoch 30/80\n",
            "122/122 [==============================] - 8s 63ms/step - loss: 1.6098 - output_chord_loss: 1.5725 - output_duration_loss: 0.0372 - output_chord_accuracy: 0.6072 - output_duration_accuracy: 0.9888\n",
            "Epoch 31/80\n",
            "122/122 [==============================] - 7s 61ms/step - loss: 1.5500 - output_chord_loss: 1.5126 - output_duration_loss: 0.0374 - output_chord_accuracy: 0.6163 - output_duration_accuracy: 0.9885\n",
            "Epoch 32/80\n",
            "122/122 [==============================] - 8s 62ms/step - loss: 1.7396 - output_chord_loss: 1.7001 - output_duration_loss: 0.0395 - output_chord_accuracy: 0.5626 - output_duration_accuracy: 0.9884\n",
            "Epoch 33/80\n",
            "122/122 [==============================] - 8s 64ms/step - loss: 1.5117 - output_chord_loss: 1.4778 - output_duration_loss: 0.0338 - output_chord_accuracy: 0.6262 - output_duration_accuracy: 0.9887\n",
            "Epoch 34/80\n",
            "122/122 [==============================] - 8s 63ms/step - loss: 1.5049 - output_chord_loss: 1.4707 - output_duration_loss: 0.0342 - output_chord_accuracy: 0.6232 - output_duration_accuracy: 0.9886\n",
            "Epoch 35/80\n",
            "122/122 [==============================] - 8s 68ms/step - loss: 1.6672 - output_chord_loss: 1.6332 - output_duration_loss: 0.0340 - output_chord_accuracy: 0.5663 - output_duration_accuracy: 0.9891\n",
            "Epoch 36/80\n",
            "122/122 [==============================] - 7s 60ms/step - loss: 1.4041 - output_chord_loss: 1.3716 - output_duration_loss: 0.0325 - output_chord_accuracy: 0.6394 - output_duration_accuracy: 0.9894\n",
            "Epoch 37/80\n",
            "122/122 [==============================] - 7s 61ms/step - loss: 1.3336 - output_chord_loss: 1.3009 - output_duration_loss: 0.0327 - output_chord_accuracy: 0.6585 - output_duration_accuracy: 0.9891\n",
            "Epoch 38/80\n",
            "122/122 [==============================] - 7s 61ms/step - loss: 1.3137 - output_chord_loss: 1.2838 - output_duration_loss: 0.0299 - output_chord_accuracy: 0.6626 - output_duration_accuracy: 0.9900\n",
            "Epoch 39/80\n",
            "122/122 [==============================] - 8s 63ms/step - loss: 1.3045 - output_chord_loss: 1.2742 - output_duration_loss: 0.0303 - output_chord_accuracy: 0.6645 - output_duration_accuracy: 0.9896\n",
            "Epoch 40/80\n",
            "122/122 [==============================] - 7s 59ms/step - loss: 1.3258 - output_chord_loss: 1.2932 - output_duration_loss: 0.0326 - output_chord_accuracy: 0.6567 - output_duration_accuracy: 0.9895\n",
            "Epoch 41/80\n",
            "122/122 [==============================] - 8s 64ms/step - loss: 1.3478 - output_chord_loss: 1.3163 - output_duration_loss: 0.0315 - output_chord_accuracy: 0.6443 - output_duration_accuracy: 0.9894\n",
            "Epoch 42/80\n",
            "122/122 [==============================] - 8s 64ms/step - loss: 1.2818 - output_chord_loss: 1.2518 - output_duration_loss: 0.0300 - output_chord_accuracy: 0.6593 - output_duration_accuracy: 0.9895\n",
            "Epoch 43/80\n",
            "122/122 [==============================] - 7s 60ms/step - loss: 1.3269 - output_chord_loss: 1.2963 - output_duration_loss: 0.0306 - output_chord_accuracy: 0.6468 - output_duration_accuracy: 0.9902\n",
            "Epoch 44/80\n",
            "122/122 [==============================] - 7s 60ms/step - loss: 1.1588 - output_chord_loss: 1.1312 - output_duration_loss: 0.0276 - output_chord_accuracy: 0.6963 - output_duration_accuracy: 0.9908\n",
            "Epoch 45/80\n",
            "122/122 [==============================] - 7s 60ms/step - loss: 1.1395 - output_chord_loss: 1.1110 - output_duration_loss: 0.0285 - output_chord_accuracy: 0.7015 - output_duration_accuracy: 0.9905\n",
            "Epoch 46/80\n",
            "122/122 [==============================] - 7s 60ms/step - loss: 1.1492 - output_chord_loss: 1.1200 - output_duration_loss: 0.0292 - output_chord_accuracy: 0.6919 - output_duration_accuracy: 0.9910\n",
            "Epoch 47/80\n",
            "122/122 [==============================] - 8s 62ms/step - loss: 1.1064 - output_chord_loss: 1.0754 - output_duration_loss: 0.0310 - output_chord_accuracy: 0.7068 - output_duration_accuracy: 0.9895\n",
            "Epoch 48/80\n",
            "122/122 [==============================] - 7s 60ms/step - loss: 1.3164 - output_chord_loss: 1.2843 - output_duration_loss: 0.0321 - output_chord_accuracy: 0.6431 - output_duration_accuracy: 0.9902\n",
            "Epoch 49/80\n",
            "122/122 [==============================] - 8s 62ms/step - loss: 1.0712 - output_chord_loss: 1.0396 - output_duration_loss: 0.0316 - output_chord_accuracy: 0.7135 - output_duration_accuracy: 0.9907\n",
            "Epoch 50/80\n",
            "122/122 [==============================] - 8s 62ms/step - loss: 1.0734 - output_chord_loss: 1.0423 - output_duration_loss: 0.0311 - output_chord_accuracy: 0.7117 - output_duration_accuracy: 0.9903\n",
            "Epoch 51/80\n",
            "122/122 [==============================] - 8s 62ms/step - loss: 1.0236 - output_chord_loss: 0.9979 - output_duration_loss: 0.0257 - output_chord_accuracy: 0.7235 - output_duration_accuracy: 0.9911\n",
            "Epoch 52/80\n",
            "122/122 [==============================] - 7s 60ms/step - loss: 1.0252 - output_chord_loss: 0.9946 - output_duration_loss: 0.0306 - output_chord_accuracy: 0.7214 - output_duration_accuracy: 0.9900\n",
            "Epoch 53/80\n",
            "122/122 [==============================] - 7s 61ms/step - loss: 1.0583 - output_chord_loss: 1.0258 - output_duration_loss: 0.0326 - output_chord_accuracy: 0.7133 - output_duration_accuracy: 0.9909\n",
            "Epoch 54/80\n",
            "122/122 [==============================] - 8s 63ms/step - loss: 0.9747 - output_chord_loss: 0.9463 - output_duration_loss: 0.0284 - output_chord_accuracy: 0.7345 - output_duration_accuracy: 0.9895\n",
            "Epoch 55/80\n",
            "122/122 [==============================] - 8s 62ms/step - loss: 0.9525 - output_chord_loss: 0.9180 - output_duration_loss: 0.0345 - output_chord_accuracy: 0.7441 - output_duration_accuracy: 0.9899\n",
            "Epoch 56/80\n",
            "122/122 [==============================] - 8s 62ms/step - loss: 0.9985 - output_chord_loss: 0.9709 - output_duration_loss: 0.0276 - output_chord_accuracy: 0.7222 - output_duration_accuracy: 0.9905\n",
            "Epoch 57/80\n",
            "122/122 [==============================] - 8s 65ms/step - loss: 0.9742 - output_chord_loss: 0.9453 - output_duration_loss: 0.0289 - output_chord_accuracy: 0.7273 - output_duration_accuracy: 0.9900\n",
            "Epoch 58/80\n",
            "122/122 [==============================] - 8s 66ms/step - loss: 0.8690 - output_chord_loss: 0.8448 - output_duration_loss: 0.0242 - output_chord_accuracy: 0.7568 - output_duration_accuracy: 0.9917\n",
            "Epoch 59/80\n",
            "122/122 [==============================] - 8s 64ms/step - loss: 1.0746 - output_chord_loss: 1.0450 - output_duration_loss: 0.0296 - output_chord_accuracy: 0.7037 - output_duration_accuracy: 0.9894\n",
            "Epoch 60/80\n",
            "122/122 [==============================] - 8s 64ms/step - loss: 0.8310 - output_chord_loss: 0.8021 - output_duration_loss: 0.0289 - output_chord_accuracy: 0.7729 - output_duration_accuracy: 0.9895\n",
            "Epoch 61/80\n",
            "122/122 [==============================] - 8s 64ms/step - loss: 0.8064 - output_chord_loss: 0.7755 - output_duration_loss: 0.0309 - output_chord_accuracy: 0.7770 - output_duration_accuracy: 0.9901\n",
            "Epoch 62/80\n",
            "122/122 [==============================] - 8s 63ms/step - loss: 0.8157 - output_chord_loss: 0.7880 - output_duration_loss: 0.0277 - output_chord_accuracy: 0.7760 - output_duration_accuracy: 0.9901\n",
            "Epoch 63/80\n",
            "122/122 [==============================] - 8s 65ms/step - loss: 0.8231 - output_chord_loss: 0.7956 - output_duration_loss: 0.0275 - output_chord_accuracy: 0.7685 - output_duration_accuracy: 0.9911\n",
            "Epoch 64/80\n",
            "122/122 [==============================] - 8s 64ms/step - loss: 0.8287 - output_chord_loss: 0.7990 - output_duration_loss: 0.0297 - output_chord_accuracy: 0.7720 - output_duration_accuracy: 0.9895\n",
            "Epoch 65/80\n",
            "122/122 [==============================] - 8s 64ms/step - loss: 0.7899 - output_chord_loss: 0.7622 - output_duration_loss: 0.0277 - output_chord_accuracy: 0.7826 - output_duration_accuracy: 0.9909\n",
            "Epoch 66/80\n",
            "122/122 [==============================] - 8s 62ms/step - loss: 0.7405 - output_chord_loss: 0.7140 - output_duration_loss: 0.0266 - output_chord_accuracy: 0.7940 - output_duration_accuracy: 0.9910\n",
            "Epoch 67/80\n",
            "122/122 [==============================] - 8s 63ms/step - loss: 0.7562 - output_chord_loss: 0.7257 - output_duration_loss: 0.0305 - output_chord_accuracy: 0.7898 - output_duration_accuracy: 0.9895\n",
            "Epoch 68/80\n",
            "122/122 [==============================] - 7s 60ms/step - loss: 0.7957 - output_chord_loss: 0.7643 - output_duration_loss: 0.0314 - output_chord_accuracy: 0.7787 - output_duration_accuracy: 0.9900\n",
            "Epoch 69/80\n",
            "122/122 [==============================] - 8s 63ms/step - loss: 0.7177 - output_chord_loss: 0.6915 - output_duration_loss: 0.0262 - output_chord_accuracy: 0.8002 - output_duration_accuracy: 0.9917\n",
            "Epoch 70/80\n",
            "122/122 [==============================] - 8s 62ms/step - loss: 0.7655 - output_chord_loss: 0.7389 - output_duration_loss: 0.0266 - output_chord_accuracy: 0.7869 - output_duration_accuracy: 0.9902\n",
            "Epoch 71/80\n",
            "122/122 [==============================] - 8s 62ms/step - loss: 0.6879 - output_chord_loss: 0.6593 - output_duration_loss: 0.0286 - output_chord_accuracy: 0.8113 - output_duration_accuracy: 0.9906\n",
            "Epoch 72/80\n",
            "122/122 [==============================] - 7s 59ms/step - loss: 0.6751 - output_chord_loss: 0.6459 - output_duration_loss: 0.0291 - output_chord_accuracy: 0.8123 - output_duration_accuracy: 0.9908\n",
            "Epoch 73/80\n",
            "122/122 [==============================] - 7s 60ms/step - loss: 0.6470 - output_chord_loss: 0.6206 - output_duration_loss: 0.0264 - output_chord_accuracy: 0.8214 - output_duration_accuracy: 0.9912\n",
            "Epoch 74/80\n",
            "122/122 [==============================] - 8s 64ms/step - loss: 0.6710 - output_chord_loss: 0.6452 - output_duration_loss: 0.0258 - output_chord_accuracy: 0.8131 - output_duration_accuracy: 0.9909\n",
            "Epoch 75/80\n",
            "122/122 [==============================] - 7s 60ms/step - loss: 1.1931 - output_chord_loss: 1.1589 - output_duration_loss: 0.0342 - output_chord_accuracy: 0.6953 - output_duration_accuracy: 0.9882\n",
            "Epoch 76/80\n",
            "122/122 [==============================] - 7s 59ms/step - loss: 0.6122 - output_chord_loss: 0.5801 - output_duration_loss: 0.0321 - output_chord_accuracy: 0.8332 - output_duration_accuracy: 0.9888\n",
            "Epoch 77/80\n",
            "122/122 [==============================] - 8s 64ms/step - loss: 0.6112 - output_chord_loss: 0.5857 - output_duration_loss: 0.0255 - output_chord_accuracy: 0.8271 - output_duration_accuracy: 0.9911\n",
            "Epoch 78/80\n",
            "122/122 [==============================] - 8s 62ms/step - loss: 0.5672 - output_chord_loss: 0.5387 - output_duration_loss: 0.0285 - output_chord_accuracy: 0.8444 - output_duration_accuracy: 0.9900\n",
            "Epoch 79/80\n",
            "122/122 [==============================] - 7s 61ms/step - loss: 0.5676 - output_chord_loss: 0.5390 - output_duration_loss: 0.0286 - output_chord_accuracy: 0.8429 - output_duration_accuracy: 0.9901\n",
            "Epoch 80/80\n",
            "122/122 [==============================] - 8s 67ms/step - loss: 0.5851 - output_chord_loss: 0.5569 - output_duration_loss: 0.0282 - output_chord_accuracy: 0.8368 - output_duration_accuracy: 0.9898\n"
          ],
          "name": "stdout"
        }
      ]
    },
    {
      "cell_type": "code",
      "metadata": {
        "id": "x_GgCSnO6VFn",
        "outputId": "38b13bdd-9423-4bbb-9ca3-54bd0e625274",
        "colab": {
          "base_uri": "https://localhost:8080/",
          "height": 333
        }
      },
      "source": [
        "import matplotlib.pyplot as plt\r\n",
        "\r\n",
        "plt.figure(figsize=(15,5))\r\n",
        "\r\n",
        "plt.subplot(121)\r\n",
        "plt.plot(history.history['loss'], label='loss')\r\n",
        "plt.plot(history.history['output_chord_loss'], label='Chord loss')\r\n",
        "plt.plot(history.history['output_duration_loss'], label='Duration loss')\r\n",
        "plt.xlabel('Epochs')\r\n",
        "plt.ylabel('Loss')\r\n",
        "plt.legend()\r\n",
        "\r\n",
        "plt.subplot(122)\r\n",
        "plt.plot(history.history['output_chord_accuracy'], label='Chord accuracy')\r\n",
        "plt.plot(history.history['output_duration_accuracy'], label='Duration accuracy')\r\n",
        "plt.xlabel('Epochs')\r\n",
        "plt.ylabel('Accuracy')\r\n",
        "plt.legend()\r\n",
        "plt.show()"
      ],
      "execution_count": 12,
      "outputs": [
        {
          "output_type": "display_data",
          "data": {
            "image/png": "[encoded data removed]",
            "text/plain": [
              "<Figure size 1080x360 with 2 Axes>"
            ]
          },
          "metadata": {
            "tags": [],
            "image/png": {
              "width": 878,
              "height": 316
            },
            "needs_background": "light"
          }
        }
      ]
    },
    {
      "cell_type": "code",
      "metadata": {
        "id": "-L8iS_vEqY12",
        "outputId": "a921f37a-519e-46e8-b9ec-3f6b0bff249e",
        "colab": {
          "base_uri": "https://localhost:8080/",
          "height": 65,
          "referenced_widgets": [
            "79d3ade2cd894466b9aac7ed3ef588dd",
            "6f85a31467734d08b1130bb43fe2eae5",
            "bb2814482f2e4f029b05f8358b1e1633",
            "b2e1aaa695ef41029f188a33f770b301",
            "400eca3c24dc4417a3fdef703d595dc9",
            "55fa61cc3da743038d0637a312065a4c",
            "689c41350eaf40ae9ad01a7b12737d37",
            "70e63b1539a14dc5bf832dcf4ed2bd17"
          ]
        }
      },
      "source": [
        "import numpy as np\r\n",
        "from tqdm.auto import trange\r\n",
        "\r\n",
        "initial_chords = train_chords[0:1]\r\n",
        "initial_durations = train_durations[0:1]\r\n",
        "\r\n",
        "def predict(chords, durations):\r\n",
        "    pred_chords, pred_durations = model.predict([chords, durations])\r\n",
        "    return np.argmax(pred_chords), np.argmax(pred_durations)\r\n",
        "\r\n",
        "# empty lists for generated chords and durations\r\n",
        "generated_chords = []; generated_durations = []\r\n",
        "\r\n",
        "# Generate chords and durations\r\n",
        "num_iter = 50\r\n",
        "for j in trange(num_iter):\r\n",
        "    gen_chord, gen_duration = predict(initial_chords, initial_durations)\r\n",
        "    generated_chords.append(gen_chord)\r\n",
        "    generated_durations.append(gen_duration)\r\n",
        "    # shift chords and durations and append new data at last\r\n",
        "    initial_chords[0][:-1] = initial_chords[0][1:]\r\n",
        "    initial_chords[0][-1] = gen_chord\r\n",
        "    initial_durations[0][:-1] = initial_durations[0][1:]\r\n",
        "    initial_durations[0][-1] = gen_duration\r\n",
        "    \r\n",
        "# change to numpy ndarray:\r\n",
        "generated_chords = np.array(generated_chords)\r\n",
        "generated_durations = np.array(generated_durations) \r\n",
        "\r\n"
      ],
      "execution_count": 13,
      "outputs": [
        {
          "output_type": "display_data",
          "data": {
            "application/vnd.jupyter.widget-view+json": {
              "model_id": "79d3ade2cd894466b9aac7ed3ef588dd",
              "version_minor": 0,
              "version_major": 2
            },
            "text/plain": [
              "HBox(children=(FloatProgress(value=0.0, max=50.0), HTML(value='')))"
            ]
          },
          "metadata": {
            "tags": []
          }
        },
        {
          "output_type": "stream",
          "text": [
            "\n"
          ],
          "name": "stdout"
        }
      ]
    },
    {
      "cell_type": "code",
      "metadata": {
        "id": "eWiMrtwHyMeO",
        "outputId": "65650c13-511f-4364-b6ac-45b735c0f7a4",
        "colab": {
          "base_uri": "https://localhost:8080/",
          "height": 100,
          "referenced_widgets": [
            "7a2222564e034e73aea8337dbde9b159",
            "975e8b3f4e26430da60861c47eb87b17",
            "6d508671375e46a7b06269d755dda710",
            "8edcc31e44e64cabbde33a6a06e27093",
            "5d2afc40588e4616bbeb4d1544aefc2f",
            "3615955adba04303b31f7dc7b1e27789",
            "af943e1d65e04166ab759eb28464eb70",
            "346a26cc625d49aebaa60e3c0c38b33d"
          ]
        }
      },
      "source": [
        "from music21 import instrument, stream, note, chord\r\n",
        "from tqdm.auto import trange\r\n",
        "import os\r\n",
        "\r\n",
        "# Define save directory\r\n",
        "generated_folder = 'generated'\r\n",
        "create_empty_folder(generated_folder)\r\n",
        "\r\n",
        "# Create stream object and add guitar as instrument\r\n",
        "generated_stream = stream.Stream()\r\n",
        "generated_stream.append(instrument.Guitar())\r\n",
        "\r\n",
        "# Add notes and durations to stream\r\n",
        "for i in trange(generated_chords.shape[0]):\r\n",
        "    chord_str = chord_encoder.inverse_transform([generated_chords[i]])[0]\r\n",
        "    chord_str = chord_str.replace('.', ' ')\r\n",
        "    try:\r\n",
        "        generated_stream.append(note.Note(chord_str, quarterType = generated_durations[j]))\r\n",
        "    except:\r\n",
        "        generated_stream.append(chord.Chord(chord_str, quarterType = generated_durations[j]))\r\n",
        "\r\n",
        "# Save as MIDI file\r\n",
        "generated_stream.write('midi', fp=os.path.join(generated_folder,'generated-simplemodel.mid'))\r\n"
      ],
      "execution_count": 14,
      "outputs": [
        {
          "output_type": "stream",
          "text": [
            "\"generated\" is created.\n"
          ],
          "name": "stdout"
        },
        {
          "output_type": "display_data",
          "data": {
            "application/vnd.jupyter.widget-view+json": {
              "model_id": "7a2222564e034e73aea8337dbde9b159",
              "version_minor": 0,
              "version_major": 2
            },
            "text/plain": [
              "HBox(children=(FloatProgress(value=0.0, max=50.0), HTML(value='')))"
            ]
          },
          "metadata": {
            "tags": []
          }
        },
        {
          "output_type": "stream",
          "text": [
            "\n"
          ],
          "name": "stdout"
        },
        {
          "output_type": "execute_result",
          "data": {
            "application/vnd.google.colaboratory.intrinsic+json": {
              "type": "string"
            },
            "text/plain": [
              "'generated/generated-simplemodel.mid'"
            ]
          },
          "metadata": {
            "tags": []
          },
          "execution_count": 14
        }
      ]
    },
    {
      "cell_type": "markdown",
      "metadata": {
        "id": "aE1QYo0aNI6Z"
      },
      "source": [
        "## Part V"
      ]
    },
    {
      "cell_type": "code",
      "metadata": {
        "id": "Flygh5IxNWCw"
      },
      "source": [
        ""
      ],
      "execution_count": 14,
      "outputs": []
    },
    {
      "cell_type": "markdown",
      "metadata": {
        "id": "w5Up3i8CNW7e"
      },
      "source": [
        "## Part VII"
      ]
    },
    {
      "cell_type": "code",
      "metadata": {
        "id": "_iexHq8evi64",
        "outputId": "755e70eb-48b2-4cf4-b374-38f7058e05e4",
        "colab": {
          "base_uri": "https://localhost:8080/",
          "height": 1000
        }
      },
      "source": [
        "from tensorflow.keras.layers import Input, Embedding, Concatenate, LSTM, Dense\r\n",
        "from tensorflow.keras.models import Model\r\n",
        "from tensorflow.keras.losses import CategoricalCrossentropy\r\n",
        "from tensorflow.keras.utils import plot_model\r\n",
        "from IPython.display import display, Image\r\n",
        "\r\n",
        "# Define inputs:\r\n",
        "input_chord = Input(shape = (None,), name='input_chord')\r\n",
        "input_duration = Input(shape = (None,), name='input_duration')\r\n",
        "\r\n",
        "# Define embedding layers:\r\n",
        "embedding_chord = Embedding(num_unique_chords, embed_dim, input_length = sequence_length, name='embedding_chord')(input_chord)\r\n",
        "embedding_duration = Embedding(num_unique_duration, embed_dim, input_length = sequence_length, name='embedding_duration')(input_duration)\r\n",
        "\r\n",
        "# Concatenate embedding layers:\r\n",
        "concat = Concatenate(axis=1, name='concat')([embedding_chord, embedding_duration])\r\n",
        "\r\n",
        "# Define LSTM layer\r\n",
        "lstm = LSTM(512, name='lstm')(concat)\r\n",
        "\r\n",
        "# Define dense layer\r\n",
        "dense = Dense(256, name='dense')(lstm)\r\n",
        "\r\n",
        "# Define output layers\r\n",
        "output_chord = Dense(target_chords_1hot.shape[1], activation = 'softmax', name='output_chord')(dense)\r\n",
        "output_duration = Dense(target_durations_1hot.shape[1], activation = 'softmax', name='output_duration')(dense)\r\n",
        "\r\n",
        "# Define model\r\n",
        "model = Model(inputs = [input_chord, input_duration], outputs = [output_chord, output_duration], name='lstm_model')\r\n",
        "model.compile(loss=CategoricalCrossentropy(), optimizer='adam', metrics=['accuracy'])\r\n",
        "plot_model(model, to_file='lstm_model.png', show_shapes=True); display(Image('lstm_model.png'))\r\n",
        "model.summary()"
      ],
      "execution_count": 15,
      "outputs": [
        {
          "output_type": "display_data",
          "data": {
            "image/png": "[encoded data removed]",
            "text/plain": [
              "<IPython.core.display.Image object>"
            ]
          },
          "metadata": {
            "tags": []
          }
        },
        {
          "output_type": "stream",
          "text": [
            "Model: \"lstm_model\"\n",
            "__________________________________________________________________________________________________\n",
            "Layer (type)                    Output Shape         Param #     Connected to                     \n",
            "==================================================================================================\n",
            "input_chord (InputLayer)        [(None, None)]       0                                            \n",
            "__________________________________________________________________________________________________\n",
            "input_duration (InputLayer)     [(None, None)]       0                                            \n",
            "__________________________________________________________________________________________________\n",
            "embedding_chord (Embedding)     (None, None, 64)     195072      input_chord[0][0]                \n",
            "__________________________________________________________________________________________________\n",
            "embedding_duration (Embedding)  (None, None, 64)     1152        input_duration[0][0]             \n",
            "__________________________________________________________________________________________________\n",
            "concat (Concatenate)            (None, None, 64)     0           embedding_chord[0][0]            \n",
            "                                                                 embedding_duration[0][0]         \n",
            "__________________________________________________________________________________________________\n",
            "lstm (LSTM)                     (None, 512)          1181696     concat[0][0]                     \n",
            "__________________________________________________________________________________________________\n",
            "dense (Dense)                   (None, 256)          131328      lstm[0][0]                       \n",
            "__________________________________________________________________________________________________\n",
            "output_chord (Dense)            (None, 3048)         783336      dense[0][0]                      \n",
            "__________________________________________________________________________________________________\n",
            "output_duration (Dense)         (None, 18)           4626        dense[0][0]                      \n",
            "==================================================================================================\n",
            "Total params: 2,297,210\n",
            "Trainable params: 2,297,210\n",
            "Non-trainable params: 0\n",
            "__________________________________________________________________________________________________\n"
          ],
          "name": "stdout"
        }
      ]
    },
    {
      "cell_type": "code",
      "metadata": {
        "id": "GsKJigHBm9JB",
        "outputId": "66ff4575-e511-47db-8f97-8cc226450ac9",
        "colab": {
          "base_uri": "https://localhost:8080/"
        }
      },
      "source": [
        "train_data = [train_chords, train_durations]\r\n",
        "target_data = [target_chords_1hot, target_durations_1hot]\r\n",
        "history = model.fit(train_data, \r\n",
        "          target_data, \r\n",
        "          epochs=128, \r\n",
        "          batch_size=256\r\n",
        "          )\r\n",
        "model.save('lstmModel_chord_duration.h5')"
      ],
      "execution_count": 16,
      "outputs": [
        {
          "output_type": "stream",
          "text": [
            "Epoch 1/128\n",
            "122/122 [==============================] - 7s 46ms/step - loss: 8.2746 - output_chord_loss: 6.9889 - output_duration_loss: 1.2858 - output_chord_accuracy: 0.0142 - output_duration_accuracy: 0.6950\n",
            "Epoch 2/128\n",
            "122/122 [==============================] - 6s 46ms/step - loss: 6.3696 - output_chord_loss: 5.8718 - output_duration_loss: 0.4978 - output_chord_accuracy: 0.0298 - output_duration_accuracy: 0.8408\n",
            "Epoch 3/128\n",
            "122/122 [==============================] - 6s 46ms/step - loss: 5.9198 - output_chord_loss: 5.4649 - output_duration_loss: 0.4550 - output_chord_accuracy: 0.0447 - output_duration_accuracy: 0.8525\n",
            "Epoch 4/128\n",
            "122/122 [==============================] - 6s 46ms/step - loss: 5.6676 - output_chord_loss: 5.2128 - output_duration_loss: 0.4548 - output_chord_accuracy: 0.0542 - output_duration_accuracy: 0.8494\n",
            "Epoch 5/128\n",
            "122/122 [==============================] - 6s 46ms/step - loss: 5.2982 - output_chord_loss: 4.8649 - output_duration_loss: 0.4333 - output_chord_accuracy: 0.0700 - output_duration_accuracy: 0.8567\n",
            "Epoch 6/128\n",
            "122/122 [==============================] - 6s 46ms/step - loss: 4.8181 - output_chord_loss: 4.3877 - output_duration_loss: 0.4304 - output_chord_accuracy: 0.1015 - output_duration_accuracy: 0.8596\n",
            "Epoch 7/128\n",
            "122/122 [==============================] - 6s 46ms/step - loss: 4.3523 - output_chord_loss: 3.9372 - output_duration_loss: 0.4150 - output_chord_accuracy: 0.1349 - output_duration_accuracy: 0.8640\n",
            "Epoch 8/128\n",
            "122/122 [==============================] - 6s 45ms/step - loss: 3.9624 - output_chord_loss: 3.5733 - output_duration_loss: 0.3891 - output_chord_accuracy: 0.1706 - output_duration_accuracy: 0.8708\n",
            "Epoch 9/128\n",
            "122/122 [==============================] - 6s 45ms/step - loss: 3.7082 - output_chord_loss: 3.3271 - output_duration_loss: 0.3810 - output_chord_accuracy: 0.1964 - output_duration_accuracy: 0.8727\n",
            "Epoch 10/128\n",
            "122/122 [==============================] - 5s 45ms/step - loss: 3.3809 - output_chord_loss: 3.0375 - output_duration_loss: 0.3434 - output_chord_accuracy: 0.2287 - output_duration_accuracy: 0.8827\n",
            "Epoch 11/128\n",
            "122/122 [==============================] - 5s 45ms/step - loss: 3.1359 - output_chord_loss: 2.8341 - output_duration_loss: 0.3019 - output_chord_accuracy: 0.2488 - output_duration_accuracy: 0.8955\n",
            "Epoch 12/128\n",
            "122/122 [==============================] - 5s 45ms/step - loss: 2.9323 - output_chord_loss: 2.6593 - output_duration_loss: 0.2730 - output_chord_accuracy: 0.2792 - output_duration_accuracy: 0.9048\n",
            "Epoch 13/128\n",
            "122/122 [==============================] - 5s 45ms/step - loss: 2.6940 - output_chord_loss: 2.4577 - output_duration_loss: 0.2362 - output_chord_accuracy: 0.3117 - output_duration_accuracy: 0.9175\n",
            "Epoch 14/128\n",
            "122/122 [==============================] - 6s 45ms/step - loss: 2.4947 - output_chord_loss: 2.2853 - output_duration_loss: 0.2094 - output_chord_accuracy: 0.3404 - output_duration_accuracy: 0.9252\n",
            "Epoch 15/128\n",
            "122/122 [==============================] - 6s 45ms/step - loss: 2.2693 - output_chord_loss: 2.0869 - output_duration_loss: 0.1824 - output_chord_accuracy: 0.3819 - output_duration_accuracy: 0.9365\n",
            "Epoch 16/128\n",
            "122/122 [==============================] - 6s 45ms/step - loss: 2.0480 - output_chord_loss: 1.8888 - output_duration_loss: 0.1592 - output_chord_accuracy: 0.4294 - output_duration_accuracy: 0.9426\n",
            "Epoch 17/128\n",
            "122/122 [==============================] - 6s 45ms/step - loss: 1.7437 - output_chord_loss: 1.6057 - output_duration_loss: 0.1380 - output_chord_accuracy: 0.5100 - output_duration_accuracy: 0.9511\n",
            "Epoch 18/128\n",
            "122/122 [==============================] - 6s 45ms/step - loss: 1.2780 - output_chord_loss: 1.1668 - output_duration_loss: 0.1112 - output_chord_accuracy: 0.6521 - output_duration_accuracy: 0.9590\n",
            "Epoch 19/128\n",
            "122/122 [==============================] - 6s 45ms/step - loss: 0.8438 - output_chord_loss: 0.7624 - output_duration_loss: 0.0814 - output_chord_accuracy: 0.7763 - output_duration_accuracy: 0.9729\n",
            "Epoch 20/128\n",
            "122/122 [==============================] - 6s 46ms/step - loss: 0.5959 - output_chord_loss: 0.5444 - output_duration_loss: 0.0515 - output_chord_accuracy: 0.8438 - output_duration_accuracy: 0.9831\n",
            "Epoch 21/128\n",
            "122/122 [==============================] - 6s 46ms/step - loss: 0.4195 - output_chord_loss: 0.3812 - output_duration_loss: 0.0383 - output_chord_accuracy: 0.8918 - output_duration_accuracy: 0.9882\n",
            "Epoch 22/128\n",
            "122/122 [==============================] - 6s 46ms/step - loss: 0.3088 - output_chord_loss: 0.2859 - output_duration_loss: 0.0229 - output_chord_accuracy: 0.9205 - output_duration_accuracy: 0.9936\n",
            "Epoch 23/128\n",
            "122/122 [==============================] - 6s 45ms/step - loss: 0.2392 - output_chord_loss: 0.2227 - output_duration_loss: 0.0166 - output_chord_accuracy: 0.9359 - output_duration_accuracy: 0.9952\n",
            "Epoch 24/128\n",
            "122/122 [==============================] - 6s 46ms/step - loss: 0.1970 - output_chord_loss: 0.1855 - output_duration_loss: 0.0115 - output_chord_accuracy: 0.9466 - output_duration_accuracy: 0.9970\n",
            "Epoch 25/128\n",
            "122/122 [==============================] - 6s 46ms/step - loss: 0.1471 - output_chord_loss: 0.1386 - output_duration_loss: 0.0085 - output_chord_accuracy: 0.9619 - output_duration_accuracy: 0.9977\n",
            "Epoch 26/128\n",
            "122/122 [==============================] - 6s 46ms/step - loss: 0.1183 - output_chord_loss: 0.1113 - output_duration_loss: 0.0070 - output_chord_accuracy: 0.9703 - output_duration_accuracy: 0.9982\n",
            "Epoch 27/128\n",
            "122/122 [==============================] - 6s 46ms/step - loss: 0.1022 - output_chord_loss: 0.0970 - output_duration_loss: 0.0052 - output_chord_accuracy: 0.9745 - output_duration_accuracy: 0.9989\n",
            "Epoch 28/128\n",
            "122/122 [==============================] - 6s 46ms/step - loss: 0.1039 - output_chord_loss: 0.0988 - output_duration_loss: 0.0051 - output_chord_accuracy: 0.9738 - output_duration_accuracy: 0.9986\n",
            "Epoch 29/128\n",
            "122/122 [==============================] - 6s 46ms/step - loss: 0.0831 - output_chord_loss: 0.0782 - output_duration_loss: 0.0049 - output_chord_accuracy: 0.9804 - output_duration_accuracy: 0.9987\n",
            "Epoch 30/128\n",
            "122/122 [==============================] - 6s 46ms/step - loss: 0.0857 - output_chord_loss: 0.0814 - output_duration_loss: 0.0043 - output_chord_accuracy: 0.9786 - output_duration_accuracy: 0.9990\n",
            "Epoch 31/128\n",
            "122/122 [==============================] - 6s 45ms/step - loss: 0.0833 - output_chord_loss: 0.0781 - output_duration_loss: 0.0052 - output_chord_accuracy: 0.9788 - output_duration_accuracy: 0.9986\n",
            "Epoch 32/128\n",
            "122/122 [==============================] - 6s 46ms/step - loss: 0.0881 - output_chord_loss: 0.0837 - output_duration_loss: 0.0044 - output_chord_accuracy: 0.9774 - output_duration_accuracy: 0.9990\n",
            "Epoch 33/128\n",
            "122/122 [==============================] - 6s 46ms/step - loss: 0.0784 - output_chord_loss: 0.0747 - output_duration_loss: 0.0037 - output_chord_accuracy: 0.9808 - output_duration_accuracy: 0.9992\n",
            "Epoch 34/128\n",
            "122/122 [==============================] - 6s 46ms/step - loss: 0.0716 - output_chord_loss: 0.0688 - output_duration_loss: 0.0028 - output_chord_accuracy: 0.9822 - output_duration_accuracy: 0.9996\n",
            "Epoch 35/128\n",
            "122/122 [==============================] - 6s 45ms/step - loss: 0.0844 - output_chord_loss: 0.0814 - output_duration_loss: 0.0030 - output_chord_accuracy: 0.9775 - output_duration_accuracy: 0.9992\n",
            "Epoch 36/128\n",
            "122/122 [==============================] - 6s 46ms/step - loss: 0.0718 - output_chord_loss: 0.0678 - output_duration_loss: 0.0041 - output_chord_accuracy: 0.9818 - output_duration_accuracy: 0.9992\n",
            "Epoch 37/128\n",
            "122/122 [==============================] - 6s 46ms/step - loss: 0.0741 - output_chord_loss: 0.0697 - output_duration_loss: 0.0044 - output_chord_accuracy: 0.9816 - output_duration_accuracy: 0.9989\n",
            "Epoch 38/128\n",
            "122/122 [==============================] - 6s 46ms/step - loss: 0.0480 - output_chord_loss: 0.0452 - output_duration_loss: 0.0028 - output_chord_accuracy: 0.9887 - output_duration_accuracy: 0.9993\n",
            "Epoch 39/128\n",
            "122/122 [==============================] - 6s 46ms/step - loss: 0.0378 - output_chord_loss: 0.0363 - output_duration_loss: 0.0015 - output_chord_accuracy: 0.9908 - output_duration_accuracy: 0.9997\n",
            "Epoch 40/128\n",
            "122/122 [==============================] - 6s 46ms/step - loss: 0.0288 - output_chord_loss: 0.0275 - output_duration_loss: 0.0013 - output_chord_accuracy: 0.9937 - output_duration_accuracy: 0.9998\n",
            "Epoch 41/128\n",
            "122/122 [==============================] - 6s 45ms/step - loss: 0.0236 - output_chord_loss: 0.0227 - output_duration_loss: 8.8937e-04 - output_chord_accuracy: 0.9949 - output_duration_accuracy: 0.9998\n",
            "Epoch 42/128\n",
            "122/122 [==============================] - 6s 46ms/step - loss: 0.0233 - output_chord_loss: 0.0212 - output_duration_loss: 0.0021 - output_chord_accuracy: 0.9952 - output_duration_accuracy: 0.9994\n",
            "Epoch 43/128\n",
            "122/122 [==============================] - 6s 46ms/step - loss: 0.0334 - output_chord_loss: 0.0317 - output_duration_loss: 0.0016 - output_chord_accuracy: 0.9926 - output_duration_accuracy: 0.9995\n",
            "Epoch 44/128\n",
            "122/122 [==============================] - 6s 46ms/step - loss: 0.0639 - output_chord_loss: 0.0612 - output_duration_loss: 0.0027 - output_chord_accuracy: 0.9834 - output_duration_accuracy: 0.9992\n",
            "Epoch 45/128\n",
            "122/122 [==============================] - 6s 45ms/step - loss: 0.1268 - output_chord_loss: 0.1221 - output_duration_loss: 0.0047 - output_chord_accuracy: 0.9651 - output_duration_accuracy: 0.9986\n",
            "Epoch 46/128\n",
            "122/122 [==============================] - 6s 46ms/step - loss: 0.0684 - output_chord_loss: 0.0647 - output_duration_loss: 0.0037 - output_chord_accuracy: 0.9824 - output_duration_accuracy: 0.9987\n",
            "Epoch 47/128\n",
            "122/122 [==============================] - 6s 46ms/step - loss: 0.0422 - output_chord_loss: 0.0402 - output_duration_loss: 0.0020 - output_chord_accuracy: 0.9893 - output_duration_accuracy: 0.9994\n",
            "Epoch 48/128\n",
            "122/122 [==============================] - 6s 46ms/step - loss: 0.0308 - output_chord_loss: 0.0297 - output_duration_loss: 0.0011 - output_chord_accuracy: 0.9925 - output_duration_accuracy: 0.9998\n",
            "Epoch 49/128\n",
            "122/122 [==============================] - 6s 46ms/step - loss: 0.0172 - output_chord_loss: 0.0161 - output_duration_loss: 0.0010 - output_chord_accuracy: 0.9964 - output_duration_accuracy: 0.9997\n",
            "Epoch 50/128\n",
            "122/122 [==============================] - 6s 45ms/step - loss: 0.0217 - output_chord_loss: 0.0213 - output_duration_loss: 3.9314e-04 - output_chord_accuracy: 0.9959 - output_duration_accuracy: 0.9999\n",
            "Epoch 51/128\n",
            "122/122 [==============================] - 6s 46ms/step - loss: 0.0114 - output_chord_loss: 0.0106 - output_duration_loss: 7.9854e-04 - output_chord_accuracy: 0.9979 - output_duration_accuracy: 0.9999\n",
            "Epoch 52/128\n",
            "122/122 [==============================] - 6s 46ms/step - loss: 0.0063 - output_chord_loss: 0.0061 - output_duration_loss: 1.1373e-04 - output_chord_accuracy: 0.9988 - output_duration_accuracy: 1.0000\n",
            "Epoch 53/128\n",
            "122/122 [==============================] - 6s 46ms/step - loss: 0.0031 - output_chord_loss: 0.0030 - output_duration_loss: 1.0454e-04 - output_chord_accuracy: 0.9996 - output_duration_accuracy: 1.0000\n",
            "Epoch 54/128\n",
            "122/122 [==============================] - 6s 46ms/step - loss: 0.0043 - output_chord_loss: 0.0042 - output_duration_loss: 6.3707e-05 - output_chord_accuracy: 0.9991 - output_duration_accuracy: 1.0000\n",
            "Epoch 55/128\n",
            "122/122 [==============================] - 6s 46ms/step - loss: 0.0141 - output_chord_loss: 0.0136 - output_duration_loss: 4.7914e-04 - output_chord_accuracy: 0.9967 - output_duration_accuracy: 0.9999\n",
            "Epoch 56/128\n",
            "122/122 [==============================] - 6s 46ms/step - loss: 0.0266 - output_chord_loss: 0.0259 - output_duration_loss: 6.6836e-04 - output_chord_accuracy: 0.9931 - output_duration_accuracy: 0.9998\n",
            "Epoch 57/128\n",
            "122/122 [==============================] - 6s 46ms/step - loss: 0.0848 - output_chord_loss: 0.0793 - output_duration_loss: 0.0055 - output_chord_accuracy: 0.9770 - output_duration_accuracy: 0.9984\n",
            "Epoch 58/128\n",
            "122/122 [==============================] - 6s 46ms/step - loss: 0.1155 - output_chord_loss: 0.1093 - output_duration_loss: 0.0062 - output_chord_accuracy: 0.9701 - output_duration_accuracy: 0.9985\n",
            "Epoch 59/128\n",
            "122/122 [==============================] - 6s 46ms/step - loss: 0.0899 - output_chord_loss: 0.0861 - output_duration_loss: 0.0038 - output_chord_accuracy: 0.9755 - output_duration_accuracy: 0.9987\n",
            "Epoch 60/128\n",
            "122/122 [==============================] - 6s 46ms/step - loss: 0.0396 - output_chord_loss: 0.0376 - output_duration_loss: 0.0019 - output_chord_accuracy: 0.9896 - output_duration_accuracy: 0.9993\n",
            "Epoch 61/128\n",
            "122/122 [==============================] - 6s 46ms/step - loss: 0.0260 - output_chord_loss: 0.0246 - output_duration_loss: 0.0014 - output_chord_accuracy: 0.9939 - output_duration_accuracy: 0.9996\n",
            "Epoch 62/128\n",
            "122/122 [==============================] - 6s 46ms/step - loss: 0.0111 - output_chord_loss: 0.0107 - output_duration_loss: 3.9400e-04 - output_chord_accuracy: 0.9976 - output_duration_accuracy: 1.0000\n",
            "Epoch 63/128\n",
            "122/122 [==============================] - 6s 46ms/step - loss: 0.0084 - output_chord_loss: 0.0079 - output_duration_loss: 4.5086e-04 - output_chord_accuracy: 0.9981 - output_duration_accuracy: 0.9998\n",
            "Epoch 64/128\n",
            "122/122 [==============================] - 6s 46ms/step - loss: 0.0057 - output_chord_loss: 0.0057 - output_duration_loss: 7.7706e-05 - output_chord_accuracy: 0.9988 - output_duration_accuracy: 1.0000\n",
            "Epoch 65/128\n",
            "122/122 [==============================] - 6s 46ms/step - loss: 0.0039 - output_chord_loss: 0.0038 - output_duration_loss: 6.0531e-05 - output_chord_accuracy: 0.9992 - output_duration_accuracy: 1.0000\n",
            "Epoch 66/128\n",
            "122/122 [==============================] - 6s 46ms/step - loss: 0.0045 - output_chord_loss: 0.0044 - output_duration_loss: 8.7291e-05 - output_chord_accuracy: 0.9993 - output_duration_accuracy: 1.0000\n",
            "Epoch 67/128\n",
            "122/122 [==============================] - 6s 46ms/step - loss: 0.0093 - output_chord_loss: 0.0092 - output_duration_loss: 1.1771e-04 - output_chord_accuracy: 0.9981 - output_duration_accuracy: 1.0000\n",
            "Epoch 68/128\n",
            "122/122 [==============================] - 6s 46ms/step - loss: 0.0208 - output_chord_loss: 0.0206 - output_duration_loss: 2.8496e-04 - output_chord_accuracy: 0.9950 - output_duration_accuracy: 0.9999\n",
            "Epoch 69/128\n",
            "122/122 [==============================] - 6s 46ms/step - loss: 0.0204 - output_chord_loss: 0.0194 - output_duration_loss: 9.9060e-04 - output_chord_accuracy: 0.9943 - output_duration_accuracy: 0.9997\n",
            "Epoch 70/128\n",
            "122/122 [==============================] - 6s 46ms/step - loss: 0.0323 - output_chord_loss: 0.0307 - output_duration_loss: 0.0016 - output_chord_accuracy: 0.9925 - output_duration_accuracy: 0.9995\n",
            "Epoch 71/128\n",
            "122/122 [==============================] - 6s 46ms/step - loss: 0.0381 - output_chord_loss: 0.0364 - output_duration_loss: 0.0017 - output_chord_accuracy: 0.9913 - output_duration_accuracy: 0.9998\n",
            "Epoch 72/128\n",
            "122/122 [==============================] - 6s 46ms/step - loss: 0.0346 - output_chord_loss: 0.0319 - output_duration_loss: 0.0027 - output_chord_accuracy: 0.9908 - output_duration_accuracy: 0.9992\n",
            "Epoch 73/128\n",
            "122/122 [==============================] - 6s 46ms/step - loss: 0.0329 - output_chord_loss: 0.0309 - output_duration_loss: 0.0020 - output_chord_accuracy: 0.9928 - output_duration_accuracy: 0.9995\n",
            "Epoch 74/128\n",
            "122/122 [==============================] - 6s 46ms/step - loss: 0.0231 - output_chord_loss: 0.0221 - output_duration_loss: 9.6301e-04 - output_chord_accuracy: 0.9938 - output_duration_accuracy: 0.9997\n",
            "Epoch 75/128\n",
            "122/122 [==============================] - 6s 46ms/step - loss: 0.0185 - output_chord_loss: 0.0177 - output_duration_loss: 8.4277e-04 - output_chord_accuracy: 0.9962 - output_duration_accuracy: 0.9998\n",
            "Epoch 76/128\n",
            "122/122 [==============================] - 6s 46ms/step - loss: 0.0218 - output_chord_loss: 0.0214 - output_duration_loss: 4.0106e-04 - output_chord_accuracy: 0.9949 - output_duration_accuracy: 0.9999\n",
            "Epoch 77/128\n",
            "122/122 [==============================] - 6s 46ms/step - loss: 0.0146 - output_chord_loss: 0.0141 - output_duration_loss: 5.6400e-04 - output_chord_accuracy: 0.9968 - output_duration_accuracy: 0.9998\n",
            "Epoch 78/128\n",
            "122/122 [==============================] - 6s 46ms/step - loss: 0.0069 - output_chord_loss: 0.0061 - output_duration_loss: 8.3744e-04 - output_chord_accuracy: 0.9987 - output_duration_accuracy: 0.9999\n",
            "Epoch 79/128\n",
            "122/122 [==============================] - 6s 46ms/step - loss: 0.0043 - output_chord_loss: 0.0041 - output_duration_loss: 1.2442e-04 - output_chord_accuracy: 0.9993 - output_duration_accuracy: 1.0000\n",
            "Epoch 80/128\n",
            "122/122 [==============================] - 6s 47ms/step - loss: 0.0040 - output_chord_loss: 0.0025 - output_duration_loss: 0.0015 - output_chord_accuracy: 0.9996 - output_duration_accuracy: 0.9998\n",
            "Epoch 81/128\n",
            "122/122 [==============================] - 6s 46ms/step - loss: 0.0032 - output_chord_loss: 0.0030 - output_duration_loss: 1.6982e-04 - output_chord_accuracy: 0.9998 - output_duration_accuracy: 0.9999\n",
            "Epoch 82/128\n",
            "122/122 [==============================] - 6s 46ms/step - loss: 8.1764e-04 - output_chord_loss: 7.6643e-04 - output_duration_loss: 5.1203e-05 - output_chord_accuracy: 0.9999 - output_duration_accuracy: 1.0000\n",
            "Epoch 83/128\n",
            "122/122 [==============================] - 6s 46ms/step - loss: 2.7261e-04 - output_chord_loss: 2.6015e-04 - output_duration_loss: 1.2468e-05 - output_chord_accuracy: 1.0000 - output_duration_accuracy: 1.0000\n",
            "Epoch 84/128\n",
            "122/122 [==============================] - 6s 46ms/step - loss: 2.2181e-04 - output_chord_loss: 2.1347e-04 - output_duration_loss: 8.3406e-06 - output_chord_accuracy: 0.9999 - output_duration_accuracy: 1.0000\n",
            "Epoch 85/128\n",
            "122/122 [==============================] - 6s 46ms/step - loss: 1.8353e-04 - output_chord_loss: 1.7646e-04 - output_duration_loss: 7.0665e-06 - output_chord_accuracy: 1.0000 - output_duration_accuracy: 1.0000\n",
            "Epoch 86/128\n",
            "122/122 [==============================] - 6s 46ms/step - loss: 8.6526e-04 - output_chord_loss: 8.5832e-04 - output_duration_loss: 6.9465e-06 - output_chord_accuracy: 0.9999 - output_duration_accuracy: 1.0000\n",
            "Epoch 87/128\n",
            "122/122 [==============================] - 6s 46ms/step - loss: 5.2466e-04 - output_chord_loss: 5.1830e-04 - output_duration_loss: 6.3566e-06 - output_chord_accuracy: 0.9999 - output_duration_accuracy: 1.0000\n",
            "Epoch 88/128\n",
            "122/122 [==============================] - 6s 46ms/step - loss: 1.5134e-04 - output_chord_loss: 1.4564e-04 - output_duration_loss: 5.7032e-06 - output_chord_accuracy: 1.0000 - output_duration_accuracy: 1.0000\n",
            "Epoch 89/128\n",
            "122/122 [==============================] - 6s 46ms/step - loss: 1.3556e-04 - output_chord_loss: 1.3080e-04 - output_duration_loss: 4.7610e-06 - output_chord_accuracy: 1.0000 - output_duration_accuracy: 1.0000\n",
            "Epoch 90/128\n",
            "122/122 [==============================] - 6s 46ms/step - loss: 2.0058e-04 - output_chord_loss: 1.9584e-04 - output_duration_loss: 4.7410e-06 - output_chord_accuracy: 1.0000 - output_duration_accuracy: 1.0000\n",
            "Epoch 91/128\n",
            "122/122 [==============================] - 6s 46ms/step - loss: 7.1558e-05 - output_chord_loss: 6.7733e-05 - output_duration_loss: 3.8257e-06 - output_chord_accuracy: 1.0000 - output_duration_accuracy: 1.0000\n",
            "Epoch 92/128\n",
            "122/122 [==============================] - 6s 46ms/step - loss: 8.6435e-05 - output_chord_loss: 8.2470e-05 - output_duration_loss: 3.9651e-06 - output_chord_accuracy: 1.0000 - output_duration_accuracy: 1.0000\n",
            "Epoch 93/128\n",
            "122/122 [==============================] - 6s 46ms/step - loss: 6.0976e-05 - output_chord_loss: 5.7353e-05 - output_duration_loss: 3.6230e-06 - output_chord_accuracy: 1.0000 - output_duration_accuracy: 1.0000\n",
            "Epoch 94/128\n",
            "122/122 [==============================] - 6s 46ms/step - loss: 5.2087e-05 - output_chord_loss: 4.8452e-05 - output_duration_loss: 3.6353e-06 - output_chord_accuracy: 1.0000 - output_duration_accuracy: 1.0000\n",
            "Epoch 95/128\n",
            "122/122 [==============================] - 6s 46ms/step - loss: 4.8188e-05 - output_chord_loss: 4.5282e-05 - output_duration_loss: 2.9055e-06 - output_chord_accuracy: 1.0000 - output_duration_accuracy: 1.0000\n",
            "Epoch 96/128\n",
            "122/122 [==============================] - 6s 46ms/step - loss: 4.5302e-05 - output_chord_loss: 4.2265e-05 - output_duration_loss: 3.0377e-06 - output_chord_accuracy: 1.0000 - output_duration_accuracy: 1.0000\n",
            "Epoch 97/128\n",
            "122/122 [==============================] - 6s 46ms/step - loss: 4.2677e-05 - output_chord_loss: 3.9907e-05 - output_duration_loss: 2.7707e-06 - output_chord_accuracy: 1.0000 - output_duration_accuracy: 1.0000\n",
            "Epoch 98/128\n",
            "122/122 [==============================] - 6s 46ms/step - loss: 3.9469e-05 - output_chord_loss: 3.6884e-05 - output_duration_loss: 2.5855e-06 - output_chord_accuracy: 1.0000 - output_duration_accuracy: 1.0000\n",
            "Epoch 99/128\n",
            "122/122 [==============================] - 6s 46ms/step - loss: 3.7072e-05 - output_chord_loss: 3.4474e-05 - output_duration_loss: 2.5975e-06 - output_chord_accuracy: 1.0000 - output_duration_accuracy: 1.0000\n",
            "Epoch 100/128\n",
            "122/122 [==============================] - 6s 46ms/step - loss: 3.4569e-05 - output_chord_loss: 3.2194e-05 - output_duration_loss: 2.3753e-06 - output_chord_accuracy: 1.0000 - output_duration_accuracy: 1.0000\n",
            "Epoch 101/128\n",
            "122/122 [==============================] - 6s 46ms/step - loss: 3.3369e-05 - output_chord_loss: 3.0881e-05 - output_duration_loss: 2.4884e-06 - output_chord_accuracy: 1.0000 - output_duration_accuracy: 1.0000\n",
            "Epoch 102/128\n",
            "122/122 [==============================] - 6s 46ms/step - loss: 3.0039e-05 - output_chord_loss: 2.8017e-05 - output_duration_loss: 2.0217e-06 - output_chord_accuracy: 1.0000 - output_duration_accuracy: 1.0000\n",
            "Epoch 103/128\n",
            "122/122 [==============================] - 6s 46ms/step - loss: 2.8183e-05 - output_chord_loss: 2.6208e-05 - output_duration_loss: 1.9753e-06 - output_chord_accuracy: 1.0000 - output_duration_accuracy: 1.0000\n",
            "Epoch 104/128\n",
            "122/122 [==============================] - 6s 46ms/step - loss: 2.6965e-05 - output_chord_loss: 2.5017e-05 - output_duration_loss: 1.9488e-06 - output_chord_accuracy: 1.0000 - output_duration_accuracy: 1.0000\n",
            "Epoch 105/128\n",
            "122/122 [==============================] - 6s 46ms/step - loss: 2.5676e-05 - output_chord_loss: 2.3914e-05 - output_duration_loss: 1.7622e-06 - output_chord_accuracy: 1.0000 - output_duration_accuracy: 1.0000\n",
            "Epoch 106/128\n",
            "122/122 [==============================] - 6s 46ms/step - loss: 2.3805e-05 - output_chord_loss: 2.2181e-05 - output_duration_loss: 1.6234e-06 - output_chord_accuracy: 1.0000 - output_duration_accuracy: 1.0000\n",
            "Epoch 107/128\n",
            "122/122 [==============================] - 6s 46ms/step - loss: 2.2354e-05 - output_chord_loss: 2.0761e-05 - output_duration_loss: 1.5925e-06 - output_chord_accuracy: 1.0000 - output_duration_accuracy: 1.0000\n",
            "Epoch 108/128\n",
            "122/122 [==============================] - 6s 46ms/step - loss: 2.1320e-05 - output_chord_loss: 1.9723e-05 - output_duration_loss: 1.5967e-06 - output_chord_accuracy: 1.0000 - output_duration_accuracy: 1.0000\n",
            "Epoch 109/128\n",
            "122/122 [==============================] - 6s 46ms/step - loss: 2.0593e-05 - output_chord_loss: 1.9018e-05 - output_duration_loss: 1.5749e-06 - output_chord_accuracy: 1.0000 - output_duration_accuracy: 1.0000\n",
            "Epoch 110/128\n",
            "122/122 [==============================] - 6s 46ms/step - loss: 1.8888e-05 - output_chord_loss: 1.7640e-05 - output_duration_loss: 1.2486e-06 - output_chord_accuracy: 1.0000 - output_duration_accuracy: 1.0000\n",
            "Epoch 111/128\n",
            "122/122 [==============================] - 6s 46ms/step - loss: 1.7907e-05 - output_chord_loss: 1.6649e-05 - output_duration_loss: 1.2588e-06 - output_chord_accuracy: 1.0000 - output_duration_accuracy: 1.0000\n",
            "Epoch 112/128\n",
            "122/122 [==============================] - 6s 46ms/step - loss: 1.7085e-05 - output_chord_loss: 1.5875e-05 - output_duration_loss: 1.2105e-06 - output_chord_accuracy: 1.0000 - output_duration_accuracy: 1.0000\n",
            "Epoch 113/128\n",
            "122/122 [==============================] - 6s 46ms/step - loss: 1.5808e-05 - output_chord_loss: 1.4646e-05 - output_duration_loss: 1.1622e-06 - output_chord_accuracy: 1.0000 - output_duration_accuracy: 1.0000\n",
            "Epoch 114/128\n",
            "122/122 [==============================] - 6s 46ms/step - loss: 1.4837e-05 - output_chord_loss: 1.3824e-05 - output_duration_loss: 1.0132e-06 - output_chord_accuracy: 1.0000 - output_duration_accuracy: 1.0000\n",
            "Epoch 115/128\n",
            "122/122 [==============================] - 6s 46ms/step - loss: 1.4563e-05 - output_chord_loss: 1.3529e-05 - output_duration_loss: 1.0341e-06 - output_chord_accuracy: 1.0000 - output_duration_accuracy: 1.0000\n",
            "Epoch 116/128\n",
            "122/122 [==============================] - 6s 46ms/step - loss: 1.3341e-05 - output_chord_loss: 1.2396e-05 - output_duration_loss: 9.4552e-07 - output_chord_accuracy: 1.0000 - output_duration_accuracy: 1.0000\n",
            "Epoch 117/128\n",
            "122/122 [==============================] - 6s 46ms/step - loss: 1.2749e-05 - output_chord_loss: 1.1821e-05 - output_duration_loss: 9.2753e-07 - output_chord_accuracy: 1.0000 - output_duration_accuracy: 1.0000\n",
            "Epoch 118/128\n",
            "122/122 [==============================] - 6s 46ms/step - loss: 1.2010e-05 - output_chord_loss: 1.1201e-05 - output_duration_loss: 8.0861e-07 - output_chord_accuracy: 1.0000 - output_duration_accuracy: 1.0000\n",
            "Epoch 119/128\n",
            "122/122 [==============================] - 6s 46ms/step - loss: 1.1486e-05 - output_chord_loss: 1.0665e-05 - output_duration_loss: 8.2116e-07 - output_chord_accuracy: 1.0000 - output_duration_accuracy: 1.0000\n",
            "Epoch 120/128\n",
            "122/122 [==============================] - 6s 46ms/step - loss: 1.0709e-05 - output_chord_loss: 9.9029e-06 - output_duration_loss: 8.0627e-07 - output_chord_accuracy: 1.0000 - output_duration_accuracy: 1.0000\n",
            "Epoch 121/128\n",
            "122/122 [==============================] - 6s 46ms/step - loss: 9.9603e-06 - output_chord_loss: 9.2061e-06 - output_duration_loss: 7.5411e-07 - output_chord_accuracy: 1.0000 - output_duration_accuracy: 1.0000\n",
            "Epoch 122/128\n",
            "122/122 [==============================] - 6s 46ms/step - loss: 9.8877e-06 - output_chord_loss: 9.1644e-06 - output_duration_loss: 7.2336e-07 - output_chord_accuracy: 1.0000 - output_duration_accuracy: 1.0000\n",
            "Epoch 123/128\n",
            "122/122 [==============================] - 6s 46ms/step - loss: 8.9114e-06 - output_chord_loss: 8.2318e-06 - output_duration_loss: 6.7960e-07 - output_chord_accuracy: 1.0000 - output_duration_accuracy: 1.0000\n",
            "Epoch 124/128\n",
            "122/122 [==============================] - 6s 46ms/step - loss: 8.6994e-06 - output_chord_loss: 8.0483e-06 - output_duration_loss: 6.5114e-07 - output_chord_accuracy: 1.0000 - output_duration_accuracy: 1.0000\n",
            "Epoch 125/128\n",
            "122/122 [==============================] - 6s 46ms/step - loss: 8.1911e-06 - output_chord_loss: 7.5538e-06 - output_duration_loss: 6.3726e-07 - output_chord_accuracy: 1.0000 - output_duration_accuracy: 1.0000\n",
            "Epoch 126/128\n",
            "122/122 [==============================] - 6s 46ms/step - loss: 7.6219e-06 - output_chord_loss: 7.0236e-06 - output_duration_loss: 5.9832e-07 - output_chord_accuracy: 1.0000 - output_duration_accuracy: 1.0000\n",
            "Epoch 127/128\n",
            "122/122 [==============================] - 6s 46ms/step - loss: 7.3833e-06 - output_chord_loss: 6.8758e-06 - output_duration_loss: 5.0747e-07 - output_chord_accuracy: 1.0000 - output_duration_accuracy: 1.0000\n",
            "Epoch 128/128\n",
            "122/122 [==============================] - 6s 46ms/step - loss: 6.9893e-06 - output_chord_loss: 6.4652e-06 - output_duration_loss: 5.2407e-07 - output_chord_accuracy: 1.0000 - output_duration_accuracy: 1.0000\n"
          ],
          "name": "stdout"
        }
      ]
    },
    {
      "cell_type": "code",
      "metadata": {
        "id": "toFoinfVnuhS",
        "outputId": "2d7a92ee-ab1a-4d3f-a40b-8bba33d6a533",
        "colab": {
          "base_uri": "https://localhost:8080/",
          "height": 333
        }
      },
      "source": [
        "import matplotlib.pyplot as plt\r\n",
        "\r\n",
        "plt.figure(figsize=(15,5))\r\n",
        "\r\n",
        "plt.subplot(121)\r\n",
        "plt.plot(history.history['loss'], label='loss')\r\n",
        "plt.plot(history.history['output_chord_loss'], label='Chord loss')\r\n",
        "plt.plot(history.history['output_duration_loss'], label='Duration loss')\r\n",
        "plt.xlabel('Epochs')\r\n",
        "plt.ylabel('Loss')\r\n",
        "plt.legend()\r\n",
        "\r\n",
        "plt.subplot(122)\r\n",
        "plt.plot(history.history['output_chord_accuracy'], label='Chord accuracy')\r\n",
        "plt.plot(history.history['output_duration_accuracy'], label='Duration accuracy')\r\n",
        "plt.xlabel('Epochs')\r\n",
        "plt.ylabel('Accuracy')\r\n",
        "plt.legend()\r\n",
        "plt.show()"
      ],
      "execution_count": 17,
      "outputs": [
        {
          "output_type": "display_data",
          "data": {
            "image/png": "[encoded data removed]",
            "text/plain": [
              "<Figure size 1080x360 with 2 Axes>"
            ]
          },
          "metadata": {
            "tags": [],
            "image/png": {
              "width": 878,
              "height": 316
            },
            "needs_background": "light"
          }
        }
      ]
    },
    {
      "cell_type": "code",
      "metadata": {
        "id": "2fa0a16TnSbn",
        "outputId": "7eb721d3-e18f-4eab-ad15-01ddd526011d",
        "colab": {
          "base_uri": "https://localhost:8080/",
          "height": 65,
          "referenced_widgets": [
            "54a487998281456ca7ff8ebd25b25d33",
            "e4ca15355b58461ea4ca90aa1626f470",
            "8f8545f9efb447e6bf5453c25baea45d",
            "7c571e0084e34fc38f8b84777e575c01",
            "f7c6e48be8c64a42a53d733b10bc5259",
            "90a245bfd5464d3db5ef98e6d5f511a2",
            "dd64ae5d589b476fb3ac1d2e13973d9e",
            "d3ad2a510507495bbea872ffec7424d9"
          ]
        }
      },
      "source": [
        "import numpy as np\r\n",
        "from tqdm.auto import trange\r\n",
        "\r\n",
        "initial_chords = train_chords[0:1]\r\n",
        "initial_durations = train_durations[0:1]\r\n",
        "\r\n",
        "def predict(chords, durations):\r\n",
        "    pred_chords, pred_durations = model.predict([chords, durations])\r\n",
        "    return np.argmax(pred_chords), np.argmax(pred_durations)\r\n",
        "\r\n",
        "# empty lists for generated chords and durations\r\n",
        "generated_chords = []; generated_durations = []\r\n",
        "\r\n",
        "# Generate chords and durations\r\n",
        "num_iter = 90\r\n",
        "for j in trange(num_iter):\r\n",
        "    gen_chord, gen_duration = predict(initial_chords, initial_durations)\r\n",
        "    generated_chords.append(gen_chord)\r\n",
        "    generated_durations.append(gen_duration)\r\n",
        "    # shift chords and durations and append new data at last\r\n",
        "    initial_chords[0][:-1] = initial_chords[0][1:]\r\n",
        "    initial_chords[0][-1] = gen_chord\r\n",
        "    initial_durations[0][:-1] = initial_durations[0][1:]\r\n",
        "    initial_durations[0][-1] = gen_duration\r\n",
        "    \r\n",
        "# change to numpy ndarray:\r\n",
        "generated_chords = np.array(generated_chords)\r\n",
        "generated_durations = np.array(generated_durations) \r\n",
        "\r\n"
      ],
      "execution_count": 18,
      "outputs": [
        {
          "output_type": "display_data",
          "data": {
            "application/vnd.jupyter.widget-view+json": {
              "model_id": "54a487998281456ca7ff8ebd25b25d33",
              "version_minor": 0,
              "version_major": 2
            },
            "text/plain": [
              "HBox(children=(FloatProgress(value=0.0, max=90.0), HTML(value='')))"
            ]
          },
          "metadata": {
            "tags": []
          }
        },
        {
          "output_type": "stream",
          "text": [
            "\n"
          ],
          "name": "stdout"
        }
      ]
    },
    {
      "cell_type": "code",
      "metadata": {
        "id": "EFIVKFQytAs4",
        "outputId": "ec535b2d-1fba-46f6-a91c-82f51fb0a19e",
        "colab": {
          "base_uri": "https://localhost:8080/",
          "height": 100,
          "referenced_widgets": [
            "d5af4b47faf44e97901a0a11bc36bcb2",
            "0bf2526b6784469f8bc98aa089a4adac",
            "c71d7e7fd5934786ae3b97e1a2b903f9",
            "5ad6530a37354b6b84c0f886efd07856",
            "24fe258c7b3b44bf81d4611c3aad53c2",
            "26192331ee11423a863b61ecca775128",
            "ca5b3627f36046abb02d4fdc9b859024",
            "7e02ec24b115477aac24e5c5b335481a"
          ]
        }
      },
      "source": [
        "from music21 import instrument, stream, note, chord\r\n",
        "from tqdm.auto import trange\r\n",
        "import os\r\n",
        "\r\n",
        "# Define save directory\r\n",
        "generated_folder = 'generated'\r\n",
        "create_empty_folder(generated_folder)\r\n",
        "\r\n",
        "# Create stream object and add guitar as instrument\r\n",
        "generated_stream = stream.Stream()\r\n",
        "generated_stream.append(instrument.Guitar())\r\n",
        "\r\n",
        "# Add notes and durations to stream\r\n",
        "for i in trange(generated_chords.shape[0]):\r\n",
        "    chord_str = chord_encoder.inverse_transform([generated_chords[i]])[0]\r\n",
        "    chord_str = chord_str.replace('.', ' ')\r\n",
        "    try:\r\n",
        "        generated_stream.append(note.Note(chord_str, quarterType = generated_durations[j]))\r\n",
        "    except:\r\n",
        "        generated_stream.append(chord.Chord(chord_str, quarterType = generated_durations[j]))\r\n",
        "\r\n",
        "# Save as MIDI file\r\n",
        "generated_stream.write('midi', fp=os.path.join(generated_folder,'generated-lstm_model.mid'))\r\n"
      ],
      "execution_count": 19,
      "outputs": [
        {
          "output_type": "stream",
          "text": [
            "\"generated\" is created.\n"
          ],
          "name": "stdout"
        },
        {
          "output_type": "display_data",
          "data": {
            "application/vnd.jupyter.widget-view+json": {
              "model_id": "d5af4b47faf44e97901a0a11bc36bcb2",
              "version_minor": 0,
              "version_major": 2
            },
            "text/plain": [
              "HBox(children=(FloatProgress(value=0.0, max=90.0), HTML(value='')))"
            ]
          },
          "metadata": {
            "tags": []
          }
        },
        {
          "output_type": "stream",
          "text": [
            "\n"
          ],
          "name": "stdout"
        },
        {
          "output_type": "execute_result",
          "data": {
            "application/vnd.google.colaboratory.intrinsic+json": {
              "type": "string"
            },
            "text/plain": [
              "'generated/generated-lstm_model.mid'"
            ]
          },
          "metadata": {
            "tags": []
          },
          "execution_count": 19
        }
      ]
    },
    {
      "cell_type": "code",
      "metadata": {
        "id": "6IUj33BO4d0E",
        "outputId": "00d2209f-31bb-4d8e-d670-7a8329e4b692",
        "colab": {
          "base_uri": "https://localhost:8080/"
        }
      },
      "source": [
        "!rm -rf sample_data/\r\n",
        "!zip -r all.zip ."
      ],
      "execution_count": 20,
      "outputs": [
        {
          "output_type": "stream",
          "text": [
            "  adding: .config/ (stored 0%)\n",
            "  adding: .config/active_config (stored 0%)\n",
            "  adding: .config/.last_update_check.json (deflated 22%)\n",
            "  adding: .config/gce (stored 0%)\n",
            "  adding: .config/.last_survey_prompt.yaml (stored 0%)\n",
            "  adding: .config/configurations/ (stored 0%)\n",
            "  adding: .config/configurations/config_default (deflated 15%)\n",
            "  adding: .config/.last_opt_in_prompt.yaml (stored 0%)\n",
            "  adding: .config/logs/ (stored 0%)\n",
            "  adding: .config/logs/2021.01.06/ (stored 0%)\n",
            "  adding: .config/logs/2021.01.06/18.09.18.488400.log (deflated 54%)\n",
            "  adding: .config/logs/2021.01.06/18.08.59.464978.log (deflated 92%)\n",
            "  adding: .config/logs/2021.01.06/18.09.52.134983.log (deflated 54%)\n",
            "  adding: .config/logs/2021.01.06/18.09.37.271649.log (deflated 54%)\n",
            "  adding: .config/logs/2021.01.06/18.09.32.091151.log (deflated 87%)\n",
            "  adding: .config/logs/2021.01.06/18.09.52.643360.log (deflated 53%)\n",
            "  adding: .config/config_sentinel (stored 0%)\n",
            "  adding: .config/.metricsUUID (stored 0%)\n",
            "  adding: lstm_model.png (deflated 17%)\n",
            "  adding: guitar/ (stored 0%)\n",
            "  adding: guitar/10_9.mid (deflated 68%)\n",
            "  adding: guitar/10_1.mid (deflated 76%)\n",
            "  adding: guitar/5_8.mid (deflated 46%)\n",
            "  adding: guitar/6_8.mid (deflated 74%)\n",
            "  adding: guitar/7_7.mid (deflated 79%)\n",
            "  adding: guitar/1_2.mid (deflated 66%)\n",
            "  adding: guitar/3_6.mid (deflated 73%)\n",
            "  adding: guitar/5_1.mid (deflated 66%)\n",
            "  adding: guitar/8_7.mid (deflated 77%)\n",
            "  adding: guitar/6_4.mid (deflated 79%)\n",
            "  adding: guitar/7_5.mid (deflated 84%)\n",
            "  adding: guitar/4_3.mid (deflated 67%)\n",
            "  adding: guitar/6_7.mid (deflated 77%)\n",
            "  adding: guitar/9_5.mid (deflated 69%)\n",
            "  adding: guitar/10_6.mid (deflated 83%)\n",
            "  adding: guitar/8_3.mid (deflated 78%)\n",
            "  adding: guitar/10_4.mid (deflated 81%)\n",
            "  adding: guitar/6_6.mid (deflated 68%)\n",
            "  adding: guitar/2_3.mid (deflated 64%)\n",
            "  adding: guitar/3_7.mid (deflated 79%)\n",
            "  adding: guitar/2_4.mid (deflated 65%)\n",
            "  adding: guitar/2_8.mid (deflated 75%)\n",
            "  adding: guitar/7_1.mid (deflated 79%)\n",
            "  adding: guitar/4_10.mid (deflated 65%)\n",
            "  adding: guitar/8_4.mid (deflated 73%)\n",
            "  adding: guitar/6_10.mid (deflated 68%)\n",
            "  adding: guitar/8_2.mid (deflated 83%)\n",
            "  adding: guitar/3_5.mid (deflated 81%)\n",
            "  adding: guitar/5_7.mid (deflated 52%)\n",
            "  adding: guitar/9_6.mid (deflated 83%)\n",
            "  adding: guitar/5_10.mid (deflated 70%)\n",
            "  adding: guitar/1_7.mid (deflated 65%)\n",
            "  adding: guitar/4_5.mid (deflated 76%)\n",
            "  adding: guitar/5_3.mid (deflated 70%)\n",
            "  adding: guitar/3_3.mid (deflated 74%)\n",
            "  adding: guitar/7_3.mid (deflated 72%)\n",
            "  adding: guitar/3_8.mid (deflated 85%)\n",
            "  adding: guitar/1_1.mid (deflated 72%)\n",
            "  adding: guitar/7_2.mid (deflated 78%)\n",
            "  adding: guitar/10_8.mid (deflated 71%)\n",
            "  adding: guitar/2_9.mid (deflated 72%)\n",
            "  adding: guitar/5_9.mid (deflated 41%)\n",
            "  adding: guitar/9_9.mid (deflated 69%)\n",
            "  adding: guitar/3_1.mid (deflated 69%)\n",
            "  adding: guitar/2_5.mid (deflated 71%)\n",
            "  adding: guitar/2_10.mid (deflated 72%)\n",
            "  adding: guitar/10_5.mid (deflated 75%)\n",
            "  adding: guitar/6_3.mid (deflated 84%)\n",
            "  adding: guitar/7_6.mid (deflated 78%)\n",
            "  adding: guitar/9_2.mid (deflated 65%)\n",
            "  adding: guitar/9_7.mid (deflated 74%)\n",
            "  adding: guitar/7_9.mid (deflated 83%)\n",
            "  adding: guitar/8_9.mid (deflated 84%)\n",
            "  adding: guitar/9_4.mid (deflated 71%)\n",
            "  adding: guitar/6_9.mid (deflated 80%)\n",
            "  adding: guitar/4_7.mid (deflated 85%)\n",
            "  adding: guitar/7_4.mid (deflated 85%)\n",
            "  adding: guitar/6_2.mid (deflated 79%)\n",
            "  adding: guitar/3_4.mid (deflated 69%)\n",
            "  adding: guitar/4_9.mid (deflated 80%)\n",
            "  adding: guitar/7_8.mid (deflated 82%)\n",
            "  adding: guitar/6_5.mid (deflated 80%)\n",
            "  adding: guitar/3_2.mid (deflated 77%)\n",
            "  adding: guitar/3_9.mid (deflated 75%)\n",
            "  adding: guitar/4_8.mid (deflated 63%)\n",
            "  adding: guitar/8_1.mid (deflated 78%)\n",
            "  adding: guitar/10_3.mid (deflated 81%)\n",
            "  adding: guitar/1_5.mid (deflated 69%)\n",
            "  adding: guitar/2_6.mid (deflated 71%)\n",
            "  adding: guitar/10_2.mid (deflated 71%)\n",
            "  adding: guitar/8_6.mid (deflated 73%)\n",
            "  adding: guitar/4_2.mid (deflated 72%)\n",
            "  adding: guitar/1_4.mid (deflated 71%)\n",
            "  adding: guitar/2_7.mid (deflated 70%)\n",
            "  adding: guitar/4_1.mid (deflated 75%)\n",
            "  adding: guitar/5_5.mid (deflated 67%)\n",
            "  adding: guitar/7_10.mid (deflated 80%)\n",
            "  adding: guitar/9_3.mid (deflated 64%)\n",
            "  adding: guitar/5_2.mid (deflated 71%)\n",
            "  adding: guitar/8_8.mid (deflated 71%)\n",
            "  adding: guitar/10_10.mid (deflated 73%)\n",
            "  adding: guitar/9_1.mid (deflated 76%)\n",
            "  adding: guitar/9_10.mid (deflated 77%)\n",
            "  adding: guitar/9_8.mid (deflated 68%)\n",
            "  adding: guitar/5_6.mid (deflated 48%)\n",
            "  adding: guitar/5_4.mid (deflated 75%)\n",
            "  adding: guitar/2_1.mid (deflated 74%)\n",
            "  adding: guitar/2_2.mid (deflated 56%)\n",
            "  adding: guitar/1_6.mid (deflated 60%)\n",
            "  adding: guitar/1_3.mid (deflated 61%)\n",
            "  adding: guitar/4_6.mid (deflated 82%)\n",
            "  adding: guitar/4_4.mid (deflated 67%)\n",
            "  adding: guitar/1_8.mid (deflated 61%)\n",
            "  adding: guitar/6_1.mid (deflated 68%)\n",
            "  adding: guitar/8_5.mid (deflated 63%)\n",
            "  adding: guitar/10_7.mid (deflated 64%)\n",
            "  adding: model.png (deflated 18%)\n",
            "  adding: simplemodel_chord_duration.h5 (deflated 7%)\n",
            "  adding: lstmModel_chord_duration.h5 (deflated 7%)\n",
            "  adding: generated/ (stored 0%)\n",
            "  adding: generated/generated-lstm_model.mid (deflated 89%)\n"
          ],
          "name": "stdout"
        }
      ]
    }
  ]
}
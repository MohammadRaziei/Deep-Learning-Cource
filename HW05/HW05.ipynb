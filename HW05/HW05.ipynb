{
  "nbformat": 4,
  "nbformat_minor": 0,
  "metadata": {
    "kernelspec": {
      "display_name": "Python 3",
      "language": "python",
      "name": "python3"
    },
    "language_info": {
      "codemirror_mode": {
        "name": "ipython",
        "version": 3
      },
      "file_extension": ".py",
      "mimetype": "text/x-python",
      "name": "python",
      "nbconvert_exporter": "python",
      "pygments_lexer": "ipython3",
      "version": "3.7.6"
    },
    "varInspector": {
      "cols": {
        "lenName": 16,
        "lenType": 16,
        "lenVar": 40
      },
      "kernels_config": {
        "python": {
          "delete_cmd_postfix": "",
          "delete_cmd_prefix": "del ",
          "library": "var_list.py",
          "varRefreshCmd": "print(var_dic_list())"
        },
        "r": {
          "delete_cmd_postfix": ") ",
          "delete_cmd_prefix": "rm(",
          "library": "var_list.r",
          "varRefreshCmd": "cat(var_dic_list()) "
        }
      },
      "types_to_exclude": [
        "module",
        "function",
        "builtin_function_or_method",
        "instance",
        "_Feature"
      ],
      "window_display": false
    },
    "colab": {
      "name": "HW05.ipynb",
      "provenance": [],
      "toc_visible": true,
      "include_colab_link": true
    },
    "widgets": {
      "application/vnd.jupyter.widget-state+json": {
        "d766125e60204dd2885186bda86de2f2": {
          "model_module": "@jupyter-widgets/controls",
          "model_name": "HBoxModel",
          "state": {
            "_view_name": "HBoxView",
            "_dom_classes": [],
            "_model_name": "HBoxModel",
            "_view_module": "@jupyter-widgets/controls",
            "_model_module_version": "1.5.0",
            "_view_count": null,
            "_view_module_version": "1.5.0",
            "box_style": "",
            "layout": "IPY_MODEL_25d42d4e42fc4879a5a5cfd272366896",
            "_model_module": "@jupyter-widgets/controls",
            "children": [
              "IPY_MODEL_42e1fb02ae4a4287855de14e6672b4ff",
              "IPY_MODEL_0cbe6346254c4e95bb1d4aa9d65402bd"
            ]
          }
        },
        "25d42d4e42fc4879a5a5cfd272366896": {
          "model_module": "@jupyter-widgets/base",
          "model_name": "LayoutModel",
          "state": {
            "_view_name": "LayoutView",
            "grid_template_rows": null,
            "right": null,
            "justify_content": null,
            "_view_module": "@jupyter-widgets/base",
            "overflow": null,
            "_model_module_version": "1.2.0",
            "_view_count": null,
            "flex_flow": null,
            "width": null,
            "min_width": null,
            "border": null,
            "align_items": null,
            "bottom": null,
            "_model_module": "@jupyter-widgets/base",
            "top": null,
            "grid_column": null,
            "overflow_y": null,
            "overflow_x": null,
            "grid_auto_flow": null,
            "grid_area": null,
            "grid_template_columns": null,
            "flex": null,
            "_model_name": "LayoutModel",
            "justify_items": null,
            "grid_row": null,
            "max_height": null,
            "align_content": null,
            "visibility": null,
            "align_self": null,
            "height": null,
            "min_height": null,
            "padding": null,
            "grid_auto_rows": null,
            "grid_gap": null,
            "max_width": null,
            "order": null,
            "_view_module_version": "1.2.0",
            "grid_template_areas": null,
            "object_position": null,
            "object_fit": null,
            "grid_auto_columns": null,
            "margin": null,
            "display": null,
            "left": null
          }
        },
        "42e1fb02ae4a4287855de14e6672b4ff": {
          "model_module": "@jupyter-widgets/controls",
          "model_name": "FloatProgressModel",
          "state": {
            "_view_name": "ProgressView",
            "style": "IPY_MODEL_18cbae25eb154a97b1d58847bfaf4a27",
            "_dom_classes": [],
            "description": "100%",
            "_model_name": "FloatProgressModel",
            "bar_style": "success",
            "max": 10,
            "_view_module": "@jupyter-widgets/controls",
            "_model_module_version": "1.5.0",
            "value": 10,
            "_view_count": null,
            "_view_module_version": "1.5.0",
            "orientation": "horizontal",
            "min": 0,
            "description_tooltip": null,
            "_model_module": "@jupyter-widgets/controls",
            "layout": "IPY_MODEL_005209e24b7943ebba100515d708d27f"
          }
        },
        "0cbe6346254c4e95bb1d4aa9d65402bd": {
          "model_module": "@jupyter-widgets/controls",
          "model_name": "HTMLModel",
          "state": {
            "_view_name": "HTMLView",
            "style": "IPY_MODEL_4c9150063aa84fc89470c5442ac38fe2",
            "_dom_classes": [],
            "description": "",
            "_model_name": "HTMLModel",
            "placeholder": "​",
            "_view_module": "@jupyter-widgets/controls",
            "_model_module_version": "1.5.0",
            "value": " 10/10 [12:26&lt;00:00, 74.62s/it]",
            "_view_count": null,
            "_view_module_version": "1.5.0",
            "description_tooltip": null,
            "_model_module": "@jupyter-widgets/controls",
            "layout": "IPY_MODEL_931d0349117f48bb8eaada1f5592a01b"
          }
        },
        "18cbae25eb154a97b1d58847bfaf4a27": {
          "model_module": "@jupyter-widgets/controls",
          "model_name": "ProgressStyleModel",
          "state": {
            "_view_name": "StyleView",
            "_model_name": "ProgressStyleModel",
            "description_width": "initial",
            "_view_module": "@jupyter-widgets/base",
            "_model_module_version": "1.5.0",
            "_view_count": null,
            "_view_module_version": "1.2.0",
            "bar_color": null,
            "_model_module": "@jupyter-widgets/controls"
          }
        },
        "005209e24b7943ebba100515d708d27f": {
          "model_module": "@jupyter-widgets/base",
          "model_name": "LayoutModel",
          "state": {
            "_view_name": "LayoutView",
            "grid_template_rows": null,
            "right": null,
            "justify_content": null,
            "_view_module": "@jupyter-widgets/base",
            "overflow": null,
            "_model_module_version": "1.2.0",
            "_view_count": null,
            "flex_flow": null,
            "width": null,
            "min_width": null,
            "border": null,
            "align_items": null,
            "bottom": null,
            "_model_module": "@jupyter-widgets/base",
            "top": null,
            "grid_column": null,
            "overflow_y": null,
            "overflow_x": null,
            "grid_auto_flow": null,
            "grid_area": null,
            "grid_template_columns": null,
            "flex": null,
            "_model_name": "LayoutModel",
            "justify_items": null,
            "grid_row": null,
            "max_height": null,
            "align_content": null,
            "visibility": null,
            "align_self": null,
            "height": null,
            "min_height": null,
            "padding": null,
            "grid_auto_rows": null,
            "grid_gap": null,
            "max_width": null,
            "order": null,
            "_view_module_version": "1.2.0",
            "grid_template_areas": null,
            "object_position": null,
            "object_fit": null,
            "grid_auto_columns": null,
            "margin": null,
            "display": null,
            "left": null
          }
        },
        "4c9150063aa84fc89470c5442ac38fe2": {
          "model_module": "@jupyter-widgets/controls",
          "model_name": "DescriptionStyleModel",
          "state": {
            "_view_name": "StyleView",
            "_model_name": "DescriptionStyleModel",
            "description_width": "",
            "_view_module": "@jupyter-widgets/base",
            "_model_module_version": "1.5.0",
            "_view_count": null,
            "_view_module_version": "1.2.0",
            "_model_module": "@jupyter-widgets/controls"
          }
        },
        "931d0349117f48bb8eaada1f5592a01b": {
          "model_module": "@jupyter-widgets/base",
          "model_name": "LayoutModel",
          "state": {
            "_view_name": "LayoutView",
            "grid_template_rows": null,
            "right": null,
            "justify_content": null,
            "_view_module": "@jupyter-widgets/base",
            "overflow": null,
            "_model_module_version": "1.2.0",
            "_view_count": null,
            "flex_flow": null,
            "width": null,
            "min_width": null,
            "border": null,
            "align_items": null,
            "bottom": null,
            "_model_module": "@jupyter-widgets/base",
            "top": null,
            "grid_column": null,
            "overflow_y": null,
            "overflow_x": null,
            "grid_auto_flow": null,
            "grid_area": null,
            "grid_template_columns": null,
            "flex": null,
            "_model_name": "LayoutModel",
            "justify_items": null,
            "grid_row": null,
            "max_height": null,
            "align_content": null,
            "visibility": null,
            "align_self": null,
            "height": null,
            "min_height": null,
            "padding": null,
            "grid_auto_rows": null,
            "grid_gap": null,
            "max_width": null,
            "order": null,
            "_view_module_version": "1.2.0",
            "grid_template_areas": null,
            "object_position": null,
            "object_fit": null,
            "grid_auto_columns": null,
            "margin": null,
            "display": null,
            "left": null
          }
        },
        "024c916fe64643afbe26c2913af716de": {
          "model_module": "@jupyter-widgets/controls",
          "model_name": "HBoxModel",
          "state": {
            "_view_name": "HBoxView",
            "_dom_classes": [],
            "_model_name": "HBoxModel",
            "_view_module": "@jupyter-widgets/controls",
            "_model_module_version": "1.5.0",
            "_view_count": null,
            "_view_module_version": "1.5.0",
            "box_style": "",
            "layout": "IPY_MODEL_1540103d03ca4297841eddce646dab30",
            "_model_module": "@jupyter-widgets/controls",
            "children": [
              "IPY_MODEL_be99c06a60be48b89b746a9121c1ede7",
              "IPY_MODEL_ab7be31f711b45588ff8ff7d93b0a94a"
            ]
          }
        },
        "1540103d03ca4297841eddce646dab30": {
          "model_module": "@jupyter-widgets/base",
          "model_name": "LayoutModel",
          "state": {
            "_view_name": "LayoutView",
            "grid_template_rows": null,
            "right": null,
            "justify_content": null,
            "_view_module": "@jupyter-widgets/base",
            "overflow": null,
            "_model_module_version": "1.2.0",
            "_view_count": null,
            "flex_flow": null,
            "width": null,
            "min_width": null,
            "border": null,
            "align_items": null,
            "bottom": null,
            "_model_module": "@jupyter-widgets/base",
            "top": null,
            "grid_column": null,
            "overflow_y": null,
            "overflow_x": null,
            "grid_auto_flow": null,
            "grid_area": null,
            "grid_template_columns": null,
            "flex": null,
            "_model_name": "LayoutModel",
            "justify_items": null,
            "grid_row": null,
            "max_height": null,
            "align_content": null,
            "visibility": null,
            "align_self": null,
            "height": null,
            "min_height": null,
            "padding": null,
            "grid_auto_rows": null,
            "grid_gap": null,
            "max_width": null,
            "order": null,
            "_view_module_version": "1.2.0",
            "grid_template_areas": null,
            "object_position": null,
            "object_fit": null,
            "grid_auto_columns": null,
            "margin": null,
            "display": null,
            "left": null
          }
        },
        "be99c06a60be48b89b746a9121c1ede7": {
          "model_module": "@jupyter-widgets/controls",
          "model_name": "FloatProgressModel",
          "state": {
            "_view_name": "ProgressView",
            "style": "IPY_MODEL_c66e8a28336d4515b8e2d4ef42180633",
            "_dom_classes": [],
            "description": "100%",
            "_model_name": "FloatProgressModel",
            "bar_style": "success",
            "max": 96,
            "_view_module": "@jupyter-widgets/controls",
            "_model_module_version": "1.5.0",
            "value": 96,
            "_view_count": null,
            "_view_module_version": "1.5.0",
            "orientation": "horizontal",
            "min": 0,
            "description_tooltip": null,
            "_model_module": "@jupyter-widgets/controls",
            "layout": "IPY_MODEL_9412391429f14dc1a112de011561d3f2"
          }
        },
        "ab7be31f711b45588ff8ff7d93b0a94a": {
          "model_module": "@jupyter-widgets/controls",
          "model_name": "HTMLModel",
          "state": {
            "_view_name": "HTMLView",
            "style": "IPY_MODEL_95052b81d7d449c0abbbb41175ac8365",
            "_dom_classes": [],
            "description": "",
            "_model_name": "HTMLModel",
            "placeholder": "​",
            "_view_module": "@jupyter-widgets/controls",
            "_model_module_version": "1.5.0",
            "value": " 96/96 [05:28&lt;00:00,  3.42s/it]",
            "_view_count": null,
            "_view_module_version": "1.5.0",
            "description_tooltip": null,
            "_model_module": "@jupyter-widgets/controls",
            "layout": "IPY_MODEL_6f81f9d7e947427db070c48a8a42d111"
          }
        },
        "c66e8a28336d4515b8e2d4ef42180633": {
          "model_module": "@jupyter-widgets/controls",
          "model_name": "ProgressStyleModel",
          "state": {
            "_view_name": "StyleView",
            "_model_name": "ProgressStyleModel",
            "description_width": "initial",
            "_view_module": "@jupyter-widgets/base",
            "_model_module_version": "1.5.0",
            "_view_count": null,
            "_view_module_version": "1.2.0",
            "bar_color": null,
            "_model_module": "@jupyter-widgets/controls"
          }
        },
        "9412391429f14dc1a112de011561d3f2": {
          "model_module": "@jupyter-widgets/base",
          "model_name": "LayoutModel",
          "state": {
            "_view_name": "LayoutView",
            "grid_template_rows": null,
            "right": null,
            "justify_content": null,
            "_view_module": "@jupyter-widgets/base",
            "overflow": null,
            "_model_module_version": "1.2.0",
            "_view_count": null,
            "flex_flow": null,
            "width": null,
            "min_width": null,
            "border": null,
            "align_items": null,
            "bottom": null,
            "_model_module": "@jupyter-widgets/base",
            "top": null,
            "grid_column": null,
            "overflow_y": null,
            "overflow_x": null,
            "grid_auto_flow": null,
            "grid_area": null,
            "grid_template_columns": null,
            "flex": null,
            "_model_name": "LayoutModel",
            "justify_items": null,
            "grid_row": null,
            "max_height": null,
            "align_content": null,
            "visibility": null,
            "align_self": null,
            "height": null,
            "min_height": null,
            "padding": null,
            "grid_auto_rows": null,
            "grid_gap": null,
            "max_width": null,
            "order": null,
            "_view_module_version": "1.2.0",
            "grid_template_areas": null,
            "object_position": null,
            "object_fit": null,
            "grid_auto_columns": null,
            "margin": null,
            "display": null,
            "left": null
          }
        },
        "95052b81d7d449c0abbbb41175ac8365": {
          "model_module": "@jupyter-widgets/controls",
          "model_name": "DescriptionStyleModel",
          "state": {
            "_view_name": "StyleView",
            "_model_name": "DescriptionStyleModel",
            "description_width": "",
            "_view_module": "@jupyter-widgets/base",
            "_model_module_version": "1.5.0",
            "_view_count": null,
            "_view_module_version": "1.2.0",
            "_model_module": "@jupyter-widgets/controls"
          }
        },
        "6f81f9d7e947427db070c48a8a42d111": {
          "model_module": "@jupyter-widgets/base",
          "model_name": "LayoutModel",
          "state": {
            "_view_name": "LayoutView",
            "grid_template_rows": null,
            "right": null,
            "justify_content": null,
            "_view_module": "@jupyter-widgets/base",
            "overflow": null,
            "_model_module_version": "1.2.0",
            "_view_count": null,
            "flex_flow": null,
            "width": null,
            "min_width": null,
            "border": null,
            "align_items": null,
            "bottom": null,
            "_model_module": "@jupyter-widgets/base",
            "top": null,
            "grid_column": null,
            "overflow_y": null,
            "overflow_x": null,
            "grid_auto_flow": null,
            "grid_area": null,
            "grid_template_columns": null,
            "flex": null,
            "_model_name": "LayoutModel",
            "justify_items": null,
            "grid_row": null,
            "max_height": null,
            "align_content": null,
            "visibility": null,
            "align_self": null,
            "height": null,
            "min_height": null,
            "padding": null,
            "grid_auto_rows": null,
            "grid_gap": null,
            "max_width": null,
            "order": null,
            "_view_module_version": "1.2.0",
            "grid_template_areas": null,
            "object_position": null,
            "object_fit": null,
            "grid_auto_columns": null,
            "margin": null,
            "display": null,
            "left": null
          }
        }
      }
    }
  },
  "cells": [
    {
      "cell_type": "markdown",
      "metadata": {
        "id": "view-in-github",
        "colab_type": "text"
      },
      "source": [
        "<a href=\"https://colab.research.google.com/github/MohammadRaziei/Deep-Learning-Course/blob/master/HW05/HW05.ipynb\" target=\"_parent\"><img src=\"https://colab.research.google.com/assets/colab-badge.svg\" alt=\"Open In Colab\"/></a>"
      ]
    },
    {
      "cell_type": "markdown",
      "metadata": {
        "id": "VgZwNn9ZLeKF"
      },
      "source": [
        "# HW05\n",
        "\n",
        "Please check last updates and get the latest version from following link. it is more completed but it may have some updates after release it.\n",
        "\n",
        "[<img src=\"https://img.icons8.com/clouds/50/000000/github.png\"/>](https://github.com/MohammadRaziei/Deep-Learning-Course/blob/master/)  \n",
        "github link : https://github.com/MohammadRaziei/Deep-Learning-Course/blob/master/HW05"
      ]
    },
    {
      "cell_type": "markdown",
      "metadata": {
        "id": "Peek6bE8LjB1"
      },
      "source": [
        "## Preparing"
      ]
    },
    {
      "cell_type": "markdown",
      "metadata": {
        "id": "dCZe-IKGLjIC"
      },
      "source": [
        "Installing needed modules"
      ]
    },
    {
      "cell_type": "code",
      "metadata": {
        "id": "0bvUtntrLjfP",
        "outputId": "fadf8c3f-b57e-4033-f019-1d874380adc7",
        "colab": {
          "base_uri": "https://localhost:8080/"
        }
      },
      "source": [
        "!pip install music21\r\n",
        "!pip install bs4\r\n",
        "!pip install pretty_midi"
      ],
      "execution_count": 1,
      "outputs": [
        {
          "output_type": "stream",
          "text": [
            "Requirement already satisfied: music21 in /usr/local/lib/python3.6/dist-packages (5.5.0)\n",
            "Requirement already satisfied: bs4 in /usr/local/lib/python3.6/dist-packages (0.0.1)\n",
            "Requirement already satisfied: beautifulsoup4 in /usr/local/lib/python3.6/dist-packages (from bs4) (4.6.3)\n",
            "Collecting pretty_midi\n",
            "\u001b[?25l  Downloading https://files.pythonhosted.org/packages/bc/8e/63c6e39a7a64623a9cd6aec530070c70827f6f8f40deec938f323d7b1e15/pretty_midi-0.2.9.tar.gz (5.6MB)\n",
            "\u001b[K     |████████████████████████████████| 5.6MB 5.5MB/s \n",
            "\u001b[?25hRequirement already satisfied: numpy>=1.7.0 in /usr/local/lib/python3.6/dist-packages (from pretty_midi) (1.19.5)\n",
            "Collecting mido>=1.1.16\n",
            "\u001b[?25l  Downloading https://files.pythonhosted.org/packages/20/0a/81beb587b1ae832ea6a1901dc7c6faa380e8dd154e0a862f0a9f3d2afab9/mido-1.2.9-py2.py3-none-any.whl (52kB)\n",
            "\u001b[K     |████████████████████████████████| 61kB 6.1MB/s \n",
            "\u001b[?25hRequirement already satisfied: six in /usr/local/lib/python3.6/dist-packages (from pretty_midi) (1.15.0)\n",
            "Building wheels for collected packages: pretty-midi\n",
            "  Building wheel for pretty-midi (setup.py) ... \u001b[?25l\u001b[?25hdone\n",
            "  Created wheel for pretty-midi: filename=pretty_midi-0.2.9-cp36-none-any.whl size=5591954 sha256=81ff8414dc76ba934c44a751ea027a35083a18c33b850687e4e7ebf4bf5506d1\n",
            "  Stored in directory: /root/.cache/pip/wheels/4c/a1/c6/b5697841db1112c6e5866d75a6b6bf1bef73b874782556ba66\n",
            "Successfully built pretty-midi\n",
            "Installing collected packages: mido, pretty-midi\n",
            "Successfully installed mido-1.2.9 pretty-midi-0.2.9\n"
          ],
          "name": "stdout"
        }
      ]
    },
    {
      "cell_type": "code",
      "metadata": {
        "id": "_GI_RXlaL6FI"
      },
      "source": [
        "import os, shutil\r\n",
        "def create_empty_folder(folder_name, recreate=True):\r\n",
        "  try:\r\n",
        "    if recreate:\r\n",
        "      try: shutil.rmtree(folder_name)\r\n",
        "      except: pass\r\n",
        "    os.mkdir(folder_name)\r\n",
        "    print('\"%s\" is created.'%folder_name)\r\n",
        "  except Exception as e: # work on python 3.x\r\n",
        "    print('Some error! : '+ str(e))\r\n",
        "\r\n",
        "def create_empty_folders(folders_list):\r\n",
        "  for folder in folders_list:\r\n",
        "    create_empty_folder(folder)"
      ],
      "execution_count": 2,
      "outputs": []
    },
    {
      "cell_type": "markdown",
      "metadata": {
        "id": "EwH_dz5QMMfu"
      },
      "source": [
        "## Part O"
      ]
    },
    {
      "cell_type": "code",
      "metadata": {
        "id": "m9xD1xsJL_kF",
        "outputId": "8fa6271c-9a51-4583-e4b0-cd5acb571e8d",
        "colab": {
          "base_uri": "https://localhost:8080/",
          "height": 82,
          "referenced_widgets": [
            "d766125e60204dd2885186bda86de2f2",
            "25d42d4e42fc4879a5a5cfd272366896",
            "42e1fb02ae4a4287855de14e6672b4ff",
            "0cbe6346254c4e95bb1d4aa9d65402bd",
            "18cbae25eb154a97b1d58847bfaf4a27",
            "005209e24b7943ebba100515d708d27f",
            "4c9150063aa84fc89470c5442ac38fe2",
            "931d0349117f48bb8eaada1f5592a01b"
          ]
        }
      },
      "source": [
        "from urllib.request import urlopen, urlretrieve\r\n",
        "from bs4 import BeautifulSoup\r\n",
        "import time\r\n",
        "from tqdm.auto import trange\r\n",
        "\r\n",
        "\r\n",
        "selected_instrument = 'Guitar'\r\n",
        "\r\n",
        "# Define URL components\r\n",
        "url_base = 'https://www.mutopiaproject.org/cgibin/make-table.cgi?startat={}&searchingfor=&Composer=&Instrument={}&Style=&collection=&id=&solo=&recent=&timelength=&timeunit=&lilyversion=&preview='\r\n",
        "\r\n",
        "# Define save directory.\r\n",
        "save_dir = 'guitar'\r\n",
        "create_empty_folder(save_dir)\r\n",
        "\r\n",
        "# Set initial values\r\n",
        "songNumber = 0\r\n",
        "linkCount = 10\r\n",
        "\r\n",
        "lim = 10 \r\n",
        "cnt = 0\r\n",
        "\r\n",
        "# Locate and download each MIDI file\r\n",
        "for cnt in trange(lim):\r\n",
        "    cnt += 1\r\n",
        "    url = url_base.format(songNumber, selected_instrument)\r\n",
        "    html = urlopen(url)\r\n",
        "    soup = BeautifulSoup(html.read())\r\n",
        "    links = soup.find_all('a')\r\n",
        "    linkCount = 0\r\n",
        "    for link in links:\r\n",
        "        href = link['href']\r\n",
        "        if href.find('.mid') >= 0:\r\n",
        "            linkCount = linkCount + 1\r\n",
        "            urlretrieve(href, os.path.join(save_dir, \"%d_%d.mid\"%(cnt, linkCount)))\r\n",
        "    if linkCount is 0: break\r\n",
        "    songNumber += 10\r\n",
        "    time.sleep(.1)"
      ],
      "execution_count": 3,
      "outputs": [
        {
          "output_type": "stream",
          "text": [
            "\"guitar\" is created.\n"
          ],
          "name": "stdout"
        },
        {
          "output_type": "display_data",
          "data": {
            "application/vnd.jupyter.widget-view+json": {
              "model_id": "d766125e60204dd2885186bda86de2f2",
              "version_minor": 0,
              "version_major": 2
            },
            "text/plain": [
              "HBox(children=(FloatProgress(value=0.0, max=10.0), HTML(value='')))"
            ]
          },
          "metadata": {
            "tags": []
          }
        },
        {
          "output_type": "stream",
          "text": [
            "\n"
          ],
          "name": "stdout"
        }
      ]
    },
    {
      "cell_type": "code",
      "metadata": {
        "id": "eMeJCi9RMV3L"
      },
      "source": [
        "from music21 import converter, instrument, note, chord, stream, midi\r\n",
        "import pandas as pd\r\n",
        "import numpy as np\r\n",
        "\r\n",
        "\r\n",
        "# Melody-RNN Format is a sequence of 8-bit integers indicating the following:\r\n",
        "# MELODY_NOTE_ON = [0, 127] # (note on at that MIDI pitch)\r\n",
        "MELODY_NOTE_OFF = 128 # (stop playing all previous notes)\r\n",
        "MELODY_NO_EVENT = 129 # (no change from previous event)\r\n",
        "# Each element in the sequence lasts for one sixteenth note.\r\n",
        "# This can encode monophonic music only.\r\n",
        "\r\n",
        "def streamToNoteArray(stream):\r\n",
        "    \"\"\"\r\n",
        "    Convert a Music21 sequence to a numpy array of int8s into Melody-RNN format:\r\n",
        "        0-127 - note on at specified pitch\r\n",
        "        128   - note off\r\n",
        "        129   - no event\r\n",
        "    \"\"\"\r\n",
        "    # Part one, extract from stream\r\n",
        "    total_length = np.int(np.round(stream.flat.highestTime / 0.25)) # in semiquavers\r\n",
        "    stream_list = []\r\n",
        "    for element in stream.flat:\r\n",
        "        if isinstance(element, note.Note):\r\n",
        "            stream_list.append([np.round(element.offset / 0.25), np.round(element.quarterLength / 0.25), element.pitch.midi])\r\n",
        "        elif isinstance(element, chord.Chord):\r\n",
        "            stream_list.append([np.round(element.offset / 0.25), np.round(element.quarterLength / 0.25), element.sortAscending().pitches[-1].midi])\r\n",
        "    np_stream_list = np.array(stream_list, dtype=np.int)\r\n",
        "    df = pd.DataFrame({'pos': np_stream_list.T[0], 'dur': np_stream_list.T[1], 'pitch': np_stream_list.T[2]})\r\n",
        "    df = df.sort_values(['pos','pitch'], ascending=[True, False]) # sort the dataframe properly\r\n",
        "    df = df.drop_duplicates(subset=['pos']) # drop duplicate values\r\n",
        "    # part 2, convert into a sequence of note events\r\n",
        "    output = np.zeros(total_length+1, dtype=np.int16) + np.int16(MELODY_NO_EVENT)  # set array full of no events by default.\r\n",
        "    # Fill in the output list\r\n",
        "    for i in range(total_length):\r\n",
        "        if not df[df.pos==i].empty:\r\n",
        "            n = df[df.pos==i].iloc[0] # pick the highest pitch at each semiquaver\r\n",
        "            output[i] = n.pitch # set note on\r\n",
        "            output[i+n.dur] = MELODY_NOTE_OFF\r\n",
        "    return output\r\n",
        "\r\n",
        "\r\n",
        "def noteArrayToDataFrame(note_array):\r\n",
        "    \"\"\"\r\n",
        "    Convert a numpy array containing a Melody-RNN sequence into a dataframe.\r\n",
        "    \"\"\"\r\n",
        "    df = pd.DataFrame({\"code\": note_array})\r\n",
        "    df['offset'] = df.index\r\n",
        "    df['duration'] = df.index\r\n",
        "    df = df[df.code != MELODY_NO_EVENT]\r\n",
        "    df.duration = df.duration.diff(-1) * -1 * 0.25  # calculate durations and change to quarter note fractions\r\n",
        "    df = df.fillna(0.25)\r\n",
        "    return df[['code','duration']]\r\n",
        "\r\n",
        "\r\n",
        "def noteArrayToStream(note_array):\r\n",
        "    \"\"\"\r\n",
        "    Convert a numpy array containing a Melody-RNN sequence into a music21 stream.\r\n",
        "    \"\"\"\r\n",
        "    df = noteArrayToDataFrame(note_array)\r\n",
        "    melody_stream = stream.Stream()\r\n",
        "    for index, row in df.iterrows():\r\n",
        "        if row.code == MELODY_NO_EVENT:\r\n",
        "            new_note = note.Rest() # bit of an oversimplification, doesn't produce long notes.\r\n",
        "        elif row.code == MELODY_NOTE_OFF:\r\n",
        "            new_note = note.Rest()\r\n",
        "        else:\r\n",
        "            new_note = note.Note(row.code)\r\n",
        "        new_note.quarterLength = row.duration\r\n",
        "        melody_stream.append(new_note)\r\n",
        "    return melody_stream\r\n"
      ],
      "execution_count": 12,
      "outputs": []
    },
    {
      "cell_type": "code",
      "metadata": {
        "id": "um-LkbJgNs0Q",
        "outputId": "7e0799d8-a5a0-41d1-febc-7e39d2dc2755",
        "colab": {
          "base_uri": "https://localhost:8080/",
          "height": 119,
          "referenced_widgets": [
            "024c916fe64643afbe26c2913af716de",
            "1540103d03ca4297841eddce646dab30",
            "be99c06a60be48b89b746a9121c1ede7",
            "ab7be31f711b45588ff8ff7d93b0a94a",
            "c66e8a28336d4515b8e2d4ef42180633",
            "9412391429f14dc1a112de011561d3f2",
            "95052b81d7d449c0abbbb41175ac8365",
            "6f81f9d7e947427db070c48a8a42d111"
          ]
        }
      },
      "source": [
        "import glob, os\r\n",
        "import numpy as np\r\n",
        "from tqdm.auto import tqdm\r\n",
        "import time\r\n",
        "\r\n",
        "midi_files = glob.glob(os.path.join(save_dir, '*.mid'))\r\n",
        "training_arrays = []\r\n",
        "for f in tqdm(midi_files):\r\n",
        "    # start = time.perf_counter()\r\n",
        "    try:    s = converter.parse(f)\r\n",
        "    except: continue\r\n",
        "    arr = streamToNoteArray(s.parts[0]) # just extract first voice\r\n",
        "    training_arrays.append(arr)\r\n",
        "    # print(\"Converted:\", f, \"it took\", time.perf_counter() - start)\r\n",
        "\r\n",
        "training_dataset = np.array(training_arrays)\r\n",
        "np.savez('melody_training_dataset.npz', train=training_dataset)  # save data to .npz file"
      ],
      "execution_count": 14,
      "outputs": [
        {
          "output_type": "display_data",
          "data": {
            "application/vnd.jupyter.widget-view+json": {
              "model_id": "024c916fe64643afbe26c2913af716de",
              "version_minor": 0,
              "version_major": 2
            },
            "text/plain": [
              "HBox(children=(FloatProgress(value=0.0, max=96.0), HTML(value='')))"
            ]
          },
          "metadata": {
            "tags": []
          }
        },
        {
          "output_type": "stream",
          "text": [
            "\n"
          ],
          "name": "stdout"
        },
        {
          "output_type": "stream",
          "text": [
            "/usr/local/lib/python3.6/dist-packages/ipykernel_launcher.py:16: VisibleDeprecationWarning: Creating an ndarray from ragged nested sequences (which is a list-or-tuple of lists-or-tuples-or ndarrays with different lengths or shapes) is deprecated. If you meant to do this, you must specify 'dtype=object' when creating the ndarray\n",
            "  app.launch_new_instance()\n"
          ],
          "name": "stderr"
        }
      ]
    },
    {
      "cell_type": "code",
      "metadata": {
        "id": "87XNOVRZQ8SD"
      },
      "source": [
        ""
      ],
      "execution_count": null,
      "outputs": []
    },
    {
      "cell_type": "code",
      "metadata": {
        "id": "WxAmD0azQ8Vu",
        "outputId": "d2431f79-0995-47fe-d5c8-074dbe014297",
        "colab": {
          "base_uri": "https://localhost:8080/"
        }
      },
      "source": [
        "!pip install python-ly\r\n",
        "!pip install pymusicxml"
      ],
      "execution_count": 21,
      "outputs": [
        {
          "output_type": "stream",
          "text": [
            "Requirement already satisfied: python-ly in /usr/local/lib/python3.6/dist-packages (0.9.7)\n",
            "Collecting pymusicxml\n",
            "\u001b[?25l  Downloading https://files.pythonhosted.org/packages/46/bd/0c26b82bd3d01b89c37ba71a8ee6c6105ab4527ff2c853d826b0c28422c8/pymusicxml-0.5-py3-none-any.whl (66kB)\n",
            "\u001b[K     |████████████████████████████████| 71kB 3.1MB/s \n",
            "\u001b[?25hInstalling collected packages: pymusicxml\n",
            "Successfully installed pymusicxml-0.5\n"
          ],
          "name": "stdout"
        }
      ]
    },
    {
      "cell_type": "code",
      "metadata": {
        "id": "D7YEtYohOQMq",
        "outputId": "28e4d832-47e4-4e2d-a114-ff51f86925b7",
        "colab": {
          "base_uri": "https://localhost:8080/",
          "height": 229
        }
      },
      "source": [
        "\r\n",
        "## Actually Load the RNN\r\n",
        "dr\r\n",
        "\r\n",
        "# Build a decoding model (input length 1, batch size 1, stateful)\r\n",
        "model_dec = Sequential()\r\n",
        "model_dec.add(Embedding(VOCABULARY_SIZE, HIDDEN_UNITS, input_length=1, batch_input_shape=(1,1)))\r\n",
        "# LSTM part\r\n",
        "model_dec.add(LSTM(HIDDEN_UNITS, stateful=True, return_sequences=True))\r\n",
        "model_dec.add(LSTM(HIDDEN_UNITS, stateful=True))\r\n",
        "\r\n",
        "# project back to vocabulary\r\n",
        "model_dec.add(Dense(VOCABULARY_SIZE, activation='softmax'))\r\n",
        "model_dec.compile(loss='sparse_categorical_crossentropy', optimizer='adam')\r\n",
        "model_dec.summary()\r\n",
        "# set weights from training model\r\n",
        "model_dec.load_weights(\"zeldic-rnn.h5\")\r\n",
        "\r\n",
        "\r\n",
        "def sample(preds, temperature=1.0):\r\n",
        "    \"\"\" helper function to sample an index from a probability array\"\"\"\r\n",
        "    preds = np.asarray(preds).astype('float64')\r\n",
        "    preds = np.log(preds) / temperature\r\n",
        "    exp_preds = np.exp(preds)\r\n",
        "    preds = exp_preds / np.sum(exp_preds)\r\n",
        "    probas = np.random.multinomial(1, preds, 1)\r\n",
        "    return np.argmax(probas)\r\n",
        "\r\n",
        "## Sampling function\r\n",
        "\r\n",
        "def sample_model(seed, model_name, length=400, temperature=1.0):\r\n",
        "    '''Samples a musicRNN given a seed sequence.'''\r\n",
        "    generated = []  \r\n",
        "    generated.append(seed)\r\n",
        "    next_index = seed\r\n",
        "    for i in range(length):\r\n",
        "        x = np.array([next_index])\r\n",
        "        x = np.reshape(x,(1,1))\r\n",
        "        preds = model_name.predict(x, verbose=0)[0]\r\n",
        "        next_index = sample(preds, temperature)        \r\n",
        "        generated.append(next_index)\r\n",
        "    return np.array(generated)"
      ],
      "execution_count": 15,
      "outputs": [
        {
          "output_type": "error",
          "ename": "NameError",
          "evalue": "ignored",
          "traceback": [
            "\u001b[0;31m---------------------------------------------------------------------------\u001b[0m",
            "\u001b[0;31mNameError\u001b[0m                                 Traceback (most recent call last)",
            "\u001b[0;32m<ipython-input-15-a43ba80bc99c>\u001b[0m in \u001b[0;36m<module>\u001b[0;34m()\u001b[0m\n\u001b[1;32m      3\u001b[0m \u001b[0;34m\u001b[0m\u001b[0m\n\u001b[1;32m      4\u001b[0m \u001b[0;31m# Build a decoding model (input length 1, batch size 1, stateful)\u001b[0m\u001b[0;34m\u001b[0m\u001b[0;34m\u001b[0m\u001b[0;34m\u001b[0m\u001b[0m\n\u001b[0;32m----> 5\u001b[0;31m \u001b[0mmodel_dec\u001b[0m \u001b[0;34m=\u001b[0m \u001b[0mSequential\u001b[0m\u001b[0;34m(\u001b[0m\u001b[0;34m)\u001b[0m\u001b[0;34m\u001b[0m\u001b[0;34m\u001b[0m\u001b[0m\n\u001b[0m\u001b[1;32m      6\u001b[0m \u001b[0mmodel_dec\u001b[0m\u001b[0;34m.\u001b[0m\u001b[0madd\u001b[0m\u001b[0;34m(\u001b[0m\u001b[0mEmbedding\u001b[0m\u001b[0;34m(\u001b[0m\u001b[0mVOCABULARY_SIZE\u001b[0m\u001b[0;34m,\u001b[0m \u001b[0mHIDDEN_UNITS\u001b[0m\u001b[0;34m,\u001b[0m \u001b[0minput_length\u001b[0m\u001b[0;34m=\u001b[0m\u001b[0;36m1\u001b[0m\u001b[0;34m,\u001b[0m \u001b[0mbatch_input_shape\u001b[0m\u001b[0;34m=\u001b[0m\u001b[0;34m(\u001b[0m\u001b[0;36m1\u001b[0m\u001b[0;34m,\u001b[0m\u001b[0;36m1\u001b[0m\u001b[0;34m)\u001b[0m\u001b[0;34m)\u001b[0m\u001b[0;34m)\u001b[0m\u001b[0;34m\u001b[0m\u001b[0;34m\u001b[0m\u001b[0m\n\u001b[1;32m      7\u001b[0m \u001b[0;31m# LSTM part\u001b[0m\u001b[0;34m\u001b[0m\u001b[0;34m\u001b[0m\u001b[0;34m\u001b[0m\u001b[0m\n",
            "\u001b[0;31mNameError\u001b[0m: name 'Sequential' is not defined"
          ]
        }
      ]
    },
    {
      "cell_type": "code",
      "metadata": {
        "id": "4ASe0jZTORDU"
      },
      "source": [
        ""
      ],
      "execution_count": null,
      "outputs": []
    }
  ]
}
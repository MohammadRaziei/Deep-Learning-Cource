{
  "nbformat": 4,
  "nbformat_minor": 0,
  "metadata": {
    "colab": {
      "name": "HW02.ipynb",
      "provenance": [],
      "collapsed_sections": [],
      "authorship_tag": "ABX9TyNsp5ZGWX9izDdQ96HZiCLy",
      "include_colab_link": true
    },
    "kernelspec": {
      "name": "python3",
      "display_name": "Python 3"
    }
  },
  "cells": [
    {
      "cell_type": "markdown",
      "metadata": {
        "id": "view-in-github",
        "colab_type": "text"
      },
      "source": [
        "<a href=\"https://colab.research.google.com/github/MohammadRaziei/Deep-Learning-Course/blob/master/HW02.ipynb\" target=\"_parent\"><img src=\"https://colab.research.google.com/assets/colab-badge.svg\" alt=\"Open In Colab\"/></a>"
      ]
    },
    {
      "cell_type": "markdown",
      "metadata": {
        "id": "f9K8gd_krQ93"
      },
      "source": [
        "# HW02\n",
        "\n",
        "### Problem 1"
      ]
    },
    {
      "cell_type": "code",
      "metadata": {
        "colab": {
          "base_uri": "https://localhost:8080/"
        },
        "id": "9z1KLBX1rNyV",
        "outputId": "08be25f1-bd92-48df-86ef-6deeeea6e629"
      },
      "source": [
        "\n",
        "from tensorflow import keras\n",
        "import tensorflow as tf\n",
        "from tensorflow.keras.datasets import mnist\n",
        "import numpy as np\n",
        "np.random.seed(37) #dont change this line\n",
        "\n",
        "\n",
        "\n",
        "(x_train_val, y_train_val), (x_test, y_test) = mnist.load_data()\n",
        "print('train.shape: ', x_train_val.shape, '  ,test.shape: ', x_test.shape)"
      ],
      "execution_count": 1,
      "outputs": [
        {
          "output_type": "stream",
          "text": [
            "train.shape:  (60000, 28, 28)   ,test.shape:  (10000, 28, 28)\n"
          ],
          "name": "stdout"
        }
      ]
    },
    {
      "cell_type": "markdown",
      "metadata": {
        "id": "4b1D9UbJr8A7"
      },
      "source": [
        "Preprossesing"
      ]
    },
    {
      "cell_type": "code",
      "metadata": {
        "id": "Jw4x_PayrrTA"
      },
      "source": [
        "from sklearn.model_selection import train_test_split\n",
        "from sklearn.preprocessing import OneHotEncoder, StandardScaler\n",
        "\n",
        "# X_train, y_train,  x_valid, y_valid = train_test_split(x_train_val, y_train_val, test_size = 0.2) \n",
        "val_size = int(0.2*x_train_val.shape[0])\n",
        "x_train, y_train,  x_valid, y_valid = x_train_val[:val_size], y_train_val[:val_size], x_train_val[val_size:], y_train_val[val_size:]\n",
        "# del x_train_val, y_train_val\n",
        "\n",
        "onehotencoder = OneHotEncoder()\n",
        "y_train_onehot = onehotencoder.fit_transform(y_train.reshape(-1, 1)).toarray()\n",
        "y_valid_onehot = onehotencoder.transform(y_valid.reshape(-1, 1)).toarray()\n",
        "y_test_onehot = onehotencoder.transform(y_test.reshape(-1, 1)).toarray()\n",
        "\n",
        "y_train_onehot2 = 0.3+0.4*y_train_onehot\n",
        "y_valid_onehot2 = 0.3+0.4*y_valid_onehot\n",
        "y_test_onehot2  = 0.3+0.4*y_test_onehot \n",
        "\n",
        "# sc = StandardScaler()\n",
        "# xn_train = sc.fit_transform(x_train)\n",
        "# xn_test = sc.transform(x_test)\n",
        "xn_train, xn_valid, xn_test = (x_train/256. ,x_valid/256. ,x_test/256.) \n",
        "\n"
      ],
      "execution_count": 18,
      "outputs": []
    },
    {
      "cell_type": "code",
      "metadata": {
        "colab": {
          "base_uri": "https://localhost:8080/"
        },
        "id": "iZ1KqTKnry5T",
        "outputId": "032f0c67-280d-425c-d916-206432e06fb4"
      },
      "source": [
        "from tensorflow.keras import Sequential\n",
        "from tensorflow.keras.layers import InputLayer, Flatten, Dense\n",
        "from tensorflow.keras.losses import SparseCategoricalCrossentropy, BinaryCrossentropy, CategoricalCrossentropy, MeanSquaredError\n",
        "#%% for CCE\n",
        "model = Sequential([\n",
        "    Flatten(input_shape=(28, 28)),\n",
        "    Dense(784, activation='relu'),\n",
        "    Dense(60, activation='relu'),\n",
        "    Dense(10, activation='softmax')\n",
        "])\n",
        "\n",
        "\n",
        "model.compile(optimizer='adam', \n",
        "              loss=CategoricalCrossentropy(), \n",
        "              metrics=['accuracy'])\n",
        "\n",
        "history = model.fit(xn_train, \n",
        "                    y_train_onehot,\n",
        "                    batch_size=64,\n",
        "                    epochs=10,\n",
        "                    validation_data=(xn_valid, y_valid_onehot)\n",
        "                    )"
      ],
      "execution_count": 21,
      "outputs": [
        {
          "output_type": "stream",
          "text": [
            "Epoch 1/10\n",
            "188/188 [==============================] - 5s 28ms/step - loss: 0.4014 - accuracy: 0.8849 - val_loss: 0.2370 - val_accuracy: 0.9300\n",
            "Epoch 2/10\n",
            "188/188 [==============================] - 4s 23ms/step - loss: 0.1606 - accuracy: 0.9517 - val_loss: 0.1799 - val_accuracy: 0.9463\n",
            "Epoch 3/10\n",
            "188/188 [==============================] - 5s 27ms/step - loss: 0.0972 - accuracy: 0.9702 - val_loss: 0.1838 - val_accuracy: 0.9441\n",
            "Epoch 4/10\n",
            "188/188 [==============================] - 5s 26ms/step - loss: 0.0628 - accuracy: 0.9817 - val_loss: 0.1752 - val_accuracy: 0.9485\n",
            "Epoch 5/10\n",
            "188/188 [==============================] - 4s 20ms/step - loss: 0.0357 - accuracy: 0.9914 - val_loss: 0.1647 - val_accuracy: 0.9535\n",
            "Epoch 6/10\n",
            "188/188 [==============================] - 4s 20ms/step - loss: 0.0248 - accuracy: 0.9929 - val_loss: 0.1497 - val_accuracy: 0.9585\n",
            "Epoch 7/10\n",
            "188/188 [==============================] - 4s 20ms/step - loss: 0.0211 - accuracy: 0.9934 - val_loss: 0.1691 - val_accuracy: 0.9540\n",
            "Epoch 8/10\n",
            "188/188 [==============================] - 4s 20ms/step - loss: 0.0132 - accuracy: 0.9967 - val_loss: 0.1488 - val_accuracy: 0.9612\n",
            "Epoch 9/10\n",
            "188/188 [==============================] - 4s 20ms/step - loss: 0.0063 - accuracy: 0.9988 - val_loss: 0.1525 - val_accuracy: 0.9607\n",
            "Epoch 10/10\n",
            "188/188 [==============================] - 4s 20ms/step - loss: 0.0159 - accuracy: 0.9962 - val_loss: 0.2092 - val_accuracy: 0.9461\n"
          ],
          "name": "stdout"
        }
      ]
    },
    {
      "cell_type": "markdown",
      "metadata": {
        "id": "EjhFSnTHwX-W"
      },
      "source": [
        "test"
      ]
    },
    {
      "cell_type": "code",
      "metadata": {
        "colab": {
          "base_uri": "https://localhost:8080/"
        },
        "id": "mF0ZAXVcwVsY",
        "outputId": "df418865-5bbe-460f-be8a-7848ce249be3"
      },
      "source": [
        "test_loss, test_acc = model.evaluate(xn_test, y_test_onehot, verbose=2)\n",
        "print('\\nTest accuracy:', test_acc*100)\n"
      ],
      "execution_count": 22,
      "outputs": [
        {
          "output_type": "stream",
          "text": [
            "313/313 - 1s - loss: 0.2013 - accuracy: 0.9464\n",
            "\n",
            "Test accuracy: 94.6399986743927\n"
          ],
          "name": "stdout"
        }
      ]
    },
    {
      "cell_type": "markdown",
      "metadata": {
        "id": "_b_47E2G36G-"
      },
      "source": [
        "another impl"
      ]
    },
    {
      "cell_type": "code",
      "metadata": {
        "colab": {
          "base_uri": "https://localhost:8080/"
        },
        "id": "epsWUCn83uUE",
        "outputId": "7a8e312b-b45b-4174-8384-c8c0149d2619"
      },
      "source": [
        "from tensorflow.keras import Sequential\n",
        "from tensorflow.keras.layers import InputLayer, Flatten, Dense\n",
        "from tensorflow.keras.losses import SparseCategoricalCrossentropy, BinaryCrossentropy, CategoricalCrossentropy, MeanSquaredError\n",
        "#%% for BCE\n",
        "model = Sequential([\n",
        "    Flatten(input_shape=(28, 28)),\n",
        "    Dense(784, activation='relu'),\n",
        "    Dense(60, activation='relu'),\n",
        "    Dense(10, activation='sigmoid')\n",
        "])\n",
        "\n",
        "\n",
        "model.compile(optimizer='adam', \n",
        "              loss=BinaryCrossentropy(), \n",
        "              metrics=['accuracy'])\n",
        "\n",
        "history = model.fit(xn_train, \n",
        "                    y_train_onehot2,\n",
        "                    batch_size=64,\n",
        "                    epochs=10,\n",
        "                    validation_data=(xn_valid, y_valid_onehot2)\n",
        "                    )"
      ],
      "execution_count": 29,
      "outputs": [
        {
          "output_type": "stream",
          "text": [
            "Epoch 1/10\n",
            "188/188 [==============================] - 4s 22ms/step - loss: 0.6228 - accuracy: 0.8627 - val_loss: 0.6175 - val_accuracy: 0.9307\n",
            "Epoch 2/10\n",
            "188/188 [==============================] - 4s 22ms/step - loss: 0.6157 - accuracy: 0.9566 - val_loss: 0.6156 - val_accuracy: 0.9497\n",
            "Epoch 3/10\n",
            "188/188 [==============================] - 4s 21ms/step - loss: 0.6141 - accuracy: 0.9748 - val_loss: 0.6149 - val_accuracy: 0.9589\n",
            "Epoch 4/10\n",
            "188/188 [==============================] - 4s 22ms/step - loss: 0.6133 - accuracy: 0.9842 - val_loss: 0.6145 - val_accuracy: 0.9625\n",
            "Epoch 5/10\n",
            "188/188 [==============================] - 4s 21ms/step - loss: 0.6127 - accuracy: 0.9902 - val_loss: 0.6142 - val_accuracy: 0.9659\n",
            "Epoch 6/10\n",
            "188/188 [==============================] - 4s 22ms/step - loss: 0.6124 - accuracy: 0.9933 - val_loss: 0.6140 - val_accuracy: 0.9674\n",
            "Epoch 7/10\n",
            "188/188 [==============================] - 4s 22ms/step - loss: 0.6121 - accuracy: 0.9957 - val_loss: 0.6138 - val_accuracy: 0.9687\n",
            "Epoch 8/10\n",
            "188/188 [==============================] - 4s 21ms/step - loss: 0.6118 - accuracy: 0.9976 - val_loss: 0.6137 - val_accuracy: 0.9703\n",
            "Epoch 9/10\n",
            "188/188 [==============================] - 4s 22ms/step - loss: 0.6117 - accuracy: 0.9987 - val_loss: 0.6137 - val_accuracy: 0.9696\n",
            "Epoch 10/10\n",
            "188/188 [==============================] - 4s 21ms/step - loss: 0.6115 - accuracy: 0.9992 - val_loss: 0.6135 - val_accuracy: 0.9708\n"
          ],
          "name": "stdout"
        }
      ]
    },
    {
      "cell_type": "markdown",
      "metadata": {
        "id": "mxGUWjlx3_KC"
      },
      "source": [
        "test"
      ]
    },
    {
      "cell_type": "code",
      "metadata": {
        "colab": {
          "base_uri": "https://localhost:8080/"
        },
        "id": "JNcdGyiT3-l6",
        "outputId": "df811f39-d858-4978-995c-92946b615d5d"
      },
      "source": [
        "test_loss, test_acc = model.evaluate(xn_test, y_test_onehot2, verbose=2)\n",
        "print('\\nTest accuracy:', test_acc*100)\n",
        "\n"
      ],
      "execution_count": 30,
      "outputs": [
        {
          "output_type": "stream",
          "text": [
            "313/313 - 1s - loss: 0.6134 - accuracy: 0.9713\n",
            "\n",
            "Test accuracy: 97.13000059127808\n"
          ],
          "name": "stdout"
        }
      ]
    },
    {
      "cell_type": "markdown",
      "metadata": {
        "id": "qOkTX1-B1pK8"
      },
      "source": [
        "### Problem 2"
      ]
    },
    {
      "cell_type": "markdown",
      "metadata": {
        "id": "E1Nhd_Ao4t6I"
      },
      "source": [
        "Dropout(.2)"
      ]
    },
    {
      "cell_type": "code",
      "metadata": {
        "colab": {
          "base_uri": "https://localhost:8080/"
        },
        "id": "qjtpLq6J1hdn",
        "outputId": "7b7e68a5-16a2-49c8-b2f2-241c78571cc2"
      },
      "source": [
        "from tensorflow.keras import Sequential\n",
        "from tensorflow.keras.layers import InputLayer, Flatten, Dense, Dropout\n",
        "from tensorflow.keras.losses import SparseCategoricalCrossentropy, BinaryCrossentropy, CategoricalCrossentropy, MeanSquaredError\n",
        "#%% for CCE\n",
        "model = Sequential([\n",
        "    Flatten(input_shape=(28, 28)),\n",
        "    Dense(784, activation='relu'),\n",
        "    Dense(60, activation='relu'),\n",
        "    Dropout(.2),\n",
        "    Dense(10, activation='sigmoid')\n",
        "])\n",
        "\n",
        "\n",
        "model.compile(optimizer='adam', \n",
        "              loss=BinaryCrossentropy(), \n",
        "              metrics=['accuracy'])\n",
        "\n",
        "history = model.fit(xn_train, \n",
        "                    y_train_onehot2,\n",
        "                    batch_size=64,\n",
        "                    epochs=10,\n",
        "                    validation_data=(xn_valid, y_valid_onehot2)\n",
        "                   )"
      ],
      "execution_count": 37,
      "outputs": [
        {
          "output_type": "stream",
          "text": [
            "Epoch 1/10\n",
            "188/188 [==============================] - 4s 22ms/step - loss: 0.6274 - accuracy: 0.8231 - val_loss: 0.6181 - val_accuracy: 0.9348\n",
            "Epoch 2/10\n",
            "188/188 [==============================] - 4s 21ms/step - loss: 0.6196 - accuracy: 0.9473 - val_loss: 0.6158 - val_accuracy: 0.9514\n",
            "Epoch 3/10\n",
            "188/188 [==============================] - 4s 21ms/step - loss: 0.6175 - accuracy: 0.9678 - val_loss: 0.6151 - val_accuracy: 0.9580\n",
            "Epoch 4/10\n",
            "188/188 [==============================] - 4s 21ms/step - loss: 0.6164 - accuracy: 0.9788 - val_loss: 0.6147 - val_accuracy: 0.9628\n",
            "Epoch 5/10\n",
            "188/188 [==============================] - 4s 22ms/step - loss: 0.6155 - accuracy: 0.9853 - val_loss: 0.6143 - val_accuracy: 0.9649\n",
            "Epoch 6/10\n",
            "188/188 [==============================] - 4s 21ms/step - loss: 0.6149 - accuracy: 0.9899 - val_loss: 0.6142 - val_accuracy: 0.9659\n",
            "Epoch 7/10\n",
            "188/188 [==============================] - 4s 22ms/step - loss: 0.6144 - accuracy: 0.9942 - val_loss: 0.6139 - val_accuracy: 0.9682\n",
            "Epoch 8/10\n",
            "188/188 [==============================] - 4s 22ms/step - loss: 0.6141 - accuracy: 0.9955 - val_loss: 0.6137 - val_accuracy: 0.9692\n",
            "Epoch 9/10\n",
            "188/188 [==============================] - 4s 21ms/step - loss: 0.6139 - accuracy: 0.9968 - val_loss: 0.6137 - val_accuracy: 0.9693\n",
            "Epoch 10/10\n",
            "188/188 [==============================] - 4s 21ms/step - loss: 0.6137 - accuracy: 0.9970 - val_loss: 0.6136 - val_accuracy: 0.9706\n"
          ],
          "name": "stdout"
        }
      ]
    },
    {
      "cell_type": "code",
      "metadata": {
        "colab": {
          "base_uri": "https://localhost:8080/"
        },
        "id": "7EJcs8xQ3iSf",
        "outputId": "23124e3d-7632-4533-90b7-ca93aa58abf4"
      },
      "source": [
        "test_loss, test_acc = model.evaluate(xn_test, y_test_onehot2, verbose=2)\n",
        "print('\\nTest accuracy:', test_acc*100)"
      ],
      "execution_count": 38,
      "outputs": [
        {
          "output_type": "stream",
          "text": [
            "313/313 - 1s - loss: 0.6135 - accuracy: 0.9720\n",
            "\n",
            "Test accuracy: 97.2000002861023\n"
          ],
          "name": "stdout"
        }
      ]
    },
    {
      "cell_type": "markdown",
      "metadata": {
        "id": "VrmkXSl06A-6"
      },
      "source": [
        "Dropout(.6)"
      ]
    },
    {
      "cell_type": "code",
      "metadata": {
        "colab": {
          "base_uri": "https://localhost:8080/"
        },
        "id": "8vdsUa5_6D6J",
        "outputId": "33d58c1f-2003-4e07-b27e-36118809da03"
      },
      "source": [
        "from tensorflow.keras import Sequential\n",
        "from tensorflow.keras.layers import InputLayer, Flatten, Dense, Dropout\n",
        "from tensorflow.keras.losses import SparseCategoricalCrossentropy, BinaryCrossentropy, CategoricalCrossentropy, MeanSquaredError\n",
        "#%% for BCE\n",
        "model = Sequential([\n",
        "    Flatten(input_shape=(28, 28)),\n",
        "    Dense(784, activation='relu'),\n",
        "    Dense(60, activation='relu'),\n",
        "    Dropout(.6),\n",
        "    Dense(10, activation='sigmoid')\n",
        "])\n",
        "\n",
        "\n",
        "model.compile(optimizer='adam', \n",
        "              loss=BinaryCrossentropy(), \n",
        "              metrics=['accuracy'])\n",
        "\n",
        "history = model.fit(xn_train, \n",
        "                    y_train_onehot,\n",
        "                    batch_size=64,\n",
        "                    epochs=10,\n",
        "                    validation_data=(xn_valid, y_valid_onehot2)\n",
        "                   )"
      ],
      "execution_count": 39,
      "outputs": [
        {
          "output_type": "stream",
          "text": [
            "Epoch 1/10\n",
            "188/188 [==============================] - 4s 21ms/step - loss: 0.2129 - accuracy: 0.6297 - val_loss: 1.6535 - val_accuracy: 0.8992\n",
            "Epoch 2/10\n",
            "188/188 [==============================] - 4s 20ms/step - loss: 0.1015 - accuracy: 0.8574 - val_loss: 2.1324 - val_accuracy: 0.9231\n",
            "Epoch 3/10\n",
            "188/188 [==============================] - 4s 21ms/step - loss: 0.0697 - accuracy: 0.9103 - val_loss: 2.6626 - val_accuracy: 0.9371\n",
            "Epoch 4/10\n",
            "188/188 [==============================] - 4s 21ms/step - loss: 0.0539 - accuracy: 0.9323 - val_loss: 2.9198 - val_accuracy: 0.9465\n",
            "Epoch 5/10\n",
            "188/188 [==============================] - 4s 21ms/step - loss: 0.0435 - accuracy: 0.9482 - val_loss: 3.2941 - val_accuracy: 0.9510\n",
            "Epoch 6/10\n",
            "188/188 [==============================] - 4s 21ms/step - loss: 0.0354 - accuracy: 0.9589 - val_loss: 3.6271 - val_accuracy: 0.9556\n",
            "Epoch 7/10\n",
            "188/188 [==============================] - 4s 21ms/step - loss: 0.0306 - accuracy: 0.9663 - val_loss: 3.8490 - val_accuracy: 0.9557\n",
            "Epoch 8/10\n",
            "188/188 [==============================] - 4s 21ms/step - loss: 0.0265 - accuracy: 0.9719 - val_loss: 4.2900 - val_accuracy: 0.9578\n",
            "Epoch 9/10\n",
            "188/188 [==============================] - 4s 21ms/step - loss: 0.0212 - accuracy: 0.9778 - val_loss: 4.8426 - val_accuracy: 0.9592\n",
            "Epoch 10/10\n",
            "188/188 [==============================] - 4s 21ms/step - loss: 0.0185 - accuracy: 0.9820 - val_loss: 5.0352 - val_accuracy: 0.9600\n"
          ],
          "name": "stdout"
        }
      ]
    },
    {
      "cell_type": "code",
      "metadata": {
        "colab": {
          "base_uri": "https://localhost:8080/"
        },
        "id": "sNtv2-8J6dnl",
        "outputId": "1caf5b09-aea2-420c-ffb4-5e8aa6509389"
      },
      "source": [
        "test_loss, test_acc = model.evaluate(xn_test, y_test_onehot2, verbose=2)\n",
        "print('\\nTest accuracy:', test_acc*100)"
      ],
      "execution_count": 40,
      "outputs": [
        {
          "output_type": "stream",
          "text": [
            "313/313 - 1s - loss: 5.0936 - accuracy: 0.9621\n",
            "\n",
            "Test accuracy: 96.21000289916992\n"
          ],
          "name": "stdout"
        }
      ]
    }
  ]
}
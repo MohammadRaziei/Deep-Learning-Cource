{
  "nbformat": 4,
  "nbformat_minor": 0,
  "metadata": {
    "colab": {
      "name": "HW02.ipynb",
      "provenance": [],
      "collapsed_sections": [],
      "authorship_tag": "ABX9TyPBzzEN5h8E/QKD6ikO4CqD",
      "include_colab_link": true
    },
    "kernelspec": {
      "name": "python3",
      "display_name": "Python 3"
    }
  },
  "cells": [
    {
      "cell_type": "markdown",
      "metadata": {
        "id": "view-in-github",
        "colab_type": "text"
      },
      "source": [
        "<a href=\"https://colab.research.google.com/github/MohammadRaziei/Deep-Learning-Course/blob/master/HW02.ipynb\" target=\"_parent\"><img src=\"https://colab.research.google.com/assets/colab-badge.svg\" alt=\"Open In Colab\"/></a>"
      ]
    },
    {
      "cell_type": "markdown",
      "metadata": {
        "id": "f9K8gd_krQ93"
      },
      "source": [
        "# HW02\n",
        "\n",
        "### Problem 1"
      ]
    },
    {
      "cell_type": "code",
      "metadata": {
        "colab": {
          "base_uri": "https://localhost:8080/"
        },
        "id": "9z1KLBX1rNyV",
        "outputId": "08be25f1-bd92-48df-86ef-6deeeea6e629"
      },
      "source": [
        "\n",
        "from tensorflow import keras\n",
        "import tensorflow as tf\n",
        "from tensorflow.keras.datasets import mnist\n",
        "import numpy as np\n",
        "np.random.seed(37) #dont change this line\n",
        "\n",
        "\n",
        "\n",
        "(x_train_val, y_train_val), (x_test, y_test) = mnist.load_data()\n",
        "print('train.shape: ', x_train_val.shape, '  ,test.shape: ', x_test.shape)"
      ],
      "execution_count": 1,
      "outputs": [
        {
          "output_type": "stream",
          "text": [
            "train.shape:  (60000, 28, 28)   ,test.shape:  (10000, 28, 28)\n"
          ],
          "name": "stdout"
        }
      ]
    },
    {
      "cell_type": "markdown",
      "metadata": {
        "id": "4b1D9UbJr8A7"
      },
      "source": [
        "Preprossesing"
      ]
    },
    {
      "cell_type": "code",
      "metadata": {
        "id": "Jw4x_PayrrTA"
      },
      "source": [
        "from sklearn.model_selection import train_test_split\n",
        "from sklearn.preprocessing import OneHotEncoder, StandardScaler\n",
        "\n",
        "# X_train, y_train,  x_valid, y_valid = train_test_split(x_train_val, y_train_val, test_size = 0.2) \n",
        "val_size = int(0.2*x_train_val.shape[0])\n",
        "x_train, y_train,  x_valid, y_valid = x_train_val[:val_size], y_train_val[:val_size], x_train_val[val_size:], y_train_val[val_size:]\n",
        "# del x_train_val, y_train_val\n",
        "\n",
        "onehotencoder = OneHotEncoder()\n",
        "y_train_onehot = onehotencoder.fit_transform(y_train.reshape(-1, 1)).toarray()\n",
        "y_valid_onehot = onehotencoder.transform(y_valid.reshape(-1, 1)).toarray()\n",
        "y_test_onehot = onehotencoder.transform(y_test.reshape(-1, 1)).toarray()\n",
        "\n",
        "# y_train_onehot = 0.3+0.4*y_train_onehot\n",
        "# y_valid_onehot = 0.3+0.4*y_valid_onehot\n",
        "# y_test_onehot  = 0.3+0.4*y_test_onehot \n",
        "\n",
        "# sc = StandardScaler()\n",
        "# xn_train = sc.fit_transform(x_train)\n",
        "# xn_test = sc.transform(x_test)\n",
        "xn_train, xn_valid, xn_test = (x_train/256. ,x_valid/256. ,x_test/256.) \n",
        "\n"
      ],
      "execution_count": 6,
      "outputs": []
    },
    {
      "cell_type": "code",
      "metadata": {
        "colab": {
          "base_uri": "https://localhost:8080/"
        },
        "id": "iZ1KqTKnry5T",
        "outputId": "efbb984f-2988-4fae-eb44-7c6101dd769c"
      },
      "source": [
        "from tensorflow.keras import Sequential\n",
        "from tensorflow.keras.layers import InputLayer, Flatten, Dense\n",
        "from tensorflow.keras.losses import SparseCategoricalCrossentropy, BinaryCrossentropy, CategoricalCrossentropy, MeanSquaredError\n",
        "#%% for CCE\n",
        "model = Sequential([\n",
        "    Flatten(input_shape=(28, 28)),\n",
        "    Dense(128, activation='relu'),\n",
        "    Dense(128, activation='relu'),\n",
        "    Dense(10, activation='softmax')\n",
        "])\n",
        "\n",
        "\n",
        "model.compile(optimizer='adam', \n",
        "              loss=CategoricalCrossentropy(), \n",
        "              metrics=['accuracy'])\n",
        "\n",
        "history = model.fit(xn_train, \n",
        "                    y_train_onehot*0.7,\n",
        "                    batch_size=64,\n",
        "                    epochs=10,\n",
        "                    validation_data=(xn_valid, y_valid_onehot))"
      ],
      "execution_count": 7,
      "outputs": [
        {
          "output_type": "stream",
          "text": [
            "Epoch 1/10\n",
            "188/188 [==============================] - 2s 9ms/step - loss: 7.8520 - accuracy: 0.4141 - val_loss: 40.5319 - val_accuracy: 0.0996\n",
            "Epoch 2/10\n",
            "188/188 [==============================] - 1s 8ms/step - loss: 74.4170 - accuracy: 0.1133 - val_loss: 292.6527 - val_accuracy: 0.1123\n",
            "Epoch 3/10\n",
            "188/188 [==============================] - 1s 8ms/step - loss: 218.5987 - accuracy: 0.1077 - val_loss: 777.7966 - val_accuracy: 0.1039\n",
            "Epoch 4/10\n",
            "188/188 [==============================] - 1s 7ms/step - loss: 480.0787 - accuracy: 0.1036 - val_loss: 751.1138 - val_accuracy: 0.0983\n",
            "Epoch 5/10\n",
            "188/188 [==============================] - 1s 7ms/step - loss: 842.7092 - accuracy: 0.0963 - val_loss: 942.8093 - val_accuracy: 0.0983\n",
            "Epoch 6/10\n",
            "188/188 [==============================] - 1s 7ms/step - loss: 1363.1577 - accuracy: 0.1001 - val_loss: 1865.8024 - val_accuracy: 0.0983\n",
            "Epoch 7/10\n",
            "188/188 [==============================] - 1s 8ms/step - loss: 1974.0424 - accuracy: 0.1040 - val_loss: 2985.9277 - val_accuracy: 0.0983\n",
            "Epoch 8/10\n",
            "188/188 [==============================] - 2s 13ms/step - loss: 2430.2620 - accuracy: 0.0997 - val_loss: 4016.9272 - val_accuracy: 0.0911\n",
            "Epoch 9/10\n",
            "188/188 [==============================] - 2s 12ms/step - loss: 3369.0986 - accuracy: 0.0948 - val_loss: 4802.1152 - val_accuracy: 0.0981\n",
            "Epoch 10/10\n",
            "188/188 [==============================] - 2s 12ms/step - loss: 3712.3430 - accuracy: 0.0950 - val_loss: 3993.6331 - val_accuracy: 0.0981\n"
          ],
          "name": "stdout"
        }
      ]
    },
    {
      "cell_type": "markdown",
      "metadata": {
        "id": "EjhFSnTHwX-W"
      },
      "source": [
        "test"
      ]
    },
    {
      "cell_type": "code",
      "metadata": {
        "colab": {
          "base_uri": "https://localhost:8080/"
        },
        "id": "mF0ZAXVcwVsY",
        "outputId": "0c3715da-fc9b-457b-c757-720cca929798"
      },
      "source": [
        "test_loss, test_acc = model.evaluate(xn_test, y_test_onehot, verbose=2)\n",
        "print('\\nTest accuracy:', test_acc*100)\n"
      ],
      "execution_count": 8,
      "outputs": [
        {
          "output_type": "stream",
          "text": [
            "313/313 - 1s - loss: 2853.8342 - accuracy: 0.0958\n",
            "\n",
            "Test accuracy: 9.57999974489212\n"
          ],
          "name": "stdout"
        }
      ]
    }
  ]
}
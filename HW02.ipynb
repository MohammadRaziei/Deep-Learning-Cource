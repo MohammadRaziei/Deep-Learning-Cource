{
  "nbformat": 4,
  "nbformat_minor": 0,
  "metadata": {
    "colab": {
      "name": "HW02.ipynb",
      "provenance": [],
      "collapsed_sections": [],
      "authorship_tag": "ABX9TyMxigx7xXiNaWlzGUwhPoKq",
      "include_colab_link": true
    },
    "kernelspec": {
      "name": "python3",
      "display_name": "Python 3"
    }
  },
  "cells": [
    {
      "cell_type": "markdown",
      "metadata": {
        "id": "view-in-github",
        "colab_type": "text"
      },
      "source": [
        "<a href=\"https://colab.research.google.com/github/MohammadRaziei/Deep-Learning-Course/blob/master/HW02.ipynb\" target=\"_parent\"><img src=\"https://colab.research.google.com/assets/colab-badge.svg\" alt=\"Open In Colab\"/></a>"
      ]
    },
    {
      "cell_type": "markdown",
      "metadata": {
        "id": "f9K8gd_krQ93"
      },
      "source": [
        "# HW02\n",
        "\n",
        "### Problem 1"
      ]
    },
    {
      "cell_type": "code",
      "metadata": {
        "colab": {
          "base_uri": "https://localhost:8080/"
        },
        "id": "9z1KLBX1rNyV",
        "outputId": "a4e29f46-b926-4e09-802e-9175774b029a"
      },
      "source": [
        "\n",
        "from tensorflow import keras\n",
        "import tensorflow as tf\n",
        "from tensorflow.keras.datasets import mnist\n",
        "import numpy as np\n",
        "np.random.seed(37) #dont change this line\n",
        "\n",
        "\n",
        "\n",
        "(x_train_val, y_train_val), (x_test, y_test) = mnist.load_data()\n",
        "print('train.shape: ', x_train_val.shape, '  ,test.shape: ', x_test.shape)"
      ],
      "execution_count": 1,
      "outputs": [
        {
          "output_type": "stream",
          "text": [
            "Downloading data from https://storage.googleapis.com/tensorflow/tf-keras-datasets/mnist.npz\n",
            "11493376/11490434 [==============================] - 0s 0us/step\n",
            "train.shape:  (60000, 28, 28)   ,test.shape:  (10000, 28, 28)\n"
          ],
          "name": "stdout"
        }
      ]
    },
    {
      "cell_type": "markdown",
      "metadata": {
        "id": "4b1D9UbJr8A7"
      },
      "source": [
        "preprossesing"
      ]
    },
    {
      "cell_type": "code",
      "metadata": {
        "id": "Jw4x_PayrrTA"
      },
      "source": [
        "\n",
        "from sklearn.model_selection import train_test_split\n",
        "from sklearn.preprocessing import OneHotEncoder, StandardScaler\n",
        "\n",
        "X_train, y_train,  x_valid, y_valid = train_test_split(x_train_val, y_train_val, test_size = 0.2) \n",
        "\n",
        "onehotencoder = OneHotEncoder()\n",
        "y_train_onehot = onehotencoder.fit_transform(y_train.reshape(-1, 1)).toarray()\n",
        "y_test_onehot = onehotencoder.transform(y_test.reshape(-1, 1)).toarray()\n",
        "\n",
        "# sc = StandardScaler()\n",
        "# xn_train = sc.fit_transform(x_train)\n",
        "# xn_test = sc.transform(x_test)\n",
        "xn_train, xn_valid, xn_test = (x_train/256. ,x_valid/256. ,x_test/256.) \n",
        "\n"
      ],
      "execution_count": null,
      "outputs": []
    },
    {
      "cell_type": "code",
      "metadata": {
        "id": "iZ1KqTKnry5T"
      },
      "source": [
        "from tensorflow.keras import Sequential\n",
        "from tensorflow.keras.layers import InputLayer, Flatten, Dense\n",
        "from tensorflow.keras.losses import SparseCategoricalCrossentropy, BinaryCrossentropy, CategoricalCrossentropy, MeanSquaredError\n",
        "#%% for BCE\n",
        "model = Sequential([\n",
        "    Flatten(input_shape=(28, 28)),\n",
        "    Dense(128, activation='relu'),\n",
        "    Dense(128, activation='relu'),\n",
        "    Dense(10, activation='softmax')\n",
        "])\n",
        "\n",
        "\n",
        "model.compile(optimizer='adam', loss=CategoricalCrossentropy(), metrics=['accuracy'])\n",
        "\n",
        "model.fit(xn_train, y_train_onehot, epochs=10)\n",
        "# 13s 7ms/step - loss: 0.0183 - accuracy: 0.9937\n",
        "\n",
        "test_loss, test_acc = model.evaluate(xn_test, y_test_onehot, verbose=2)\n",
        "print('\\nTest accuracy:', test_acc*100)\n",
        "# Test accuracy: 97.9099988937378\n"
      ],
      "execution_count": null,
      "outputs": []
    }
  ]
}
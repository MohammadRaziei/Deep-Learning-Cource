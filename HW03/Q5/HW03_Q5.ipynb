{
  "nbformat": 4,
  "nbformat_minor": 0,
  "metadata": {
    "accelerator": "GPU",
    "colab": {
      "name": "svhn_pytorch.ipynb",
      "provenance": [],
      "collapsed_sections": [],
      "include_colab_link": true
    },
    "kernelspec": {
      "display_name": "Python 3",
      "language": "python",
      "name": "python3"
    },
    "language_info": {
      "codemirror_mode": {
        "name": "ipython",
        "version": 3
      },
      "file_extension": ".py",
      "mimetype": "text/x-python",
      "name": "python",
      "nbconvert_exporter": "python",
      "pygments_lexer": "ipython3",
      "version": "3.7.6"
    },
    "varInspector": {
      "cols": {
        "lenName": 16,
        "lenType": 16,
        "lenVar": 40
      },
      "kernels_config": {
        "python": {
          "delete_cmd_postfix": "",
          "delete_cmd_prefix": "del ",
          "library": "var_list.py",
          "varRefreshCmd": "print(var_dic_list())"
        },
        "r": {
          "delete_cmd_postfix": ") ",
          "delete_cmd_prefix": "rm(",
          "library": "var_list.r",
          "varRefreshCmd": "cat(var_dic_list()) "
        }
      },
      "types_to_exclude": [
        "module",
        "function",
        "builtin_function_or_method",
        "instance",
        "_Feature"
      ],
      "window_display": false
    }
  },
  "cells": [
    {
      "cell_type": "markdown",
      "metadata": {
        "id": "view-in-github",
        "colab_type": "text"
      },
      "source": [
        "<a href=\"https://colab.research.google.com/github/MohammadRaziei/Deep-Learning-Course/blob/master/HW03/Q5/HW03_Q5.ipynb\" target=\"_parent\"><img src=\"https://colab.research.google.com/assets/colab-badge.svg\" alt=\"Open In Colab\"/></a>"
      ]
    },
    {
      "cell_type": "code",
      "metadata": {
        "id": "m0_S11f6p0VP"
      },
      "source": [
        "import numpy as np\n",
        "import scipy.io\n",
        "import matplotlib.pyplot as plt"
      ],
      "execution_count": 1,
      "outputs": []
    },
    {
      "cell_type": "code",
      "metadata": {
        "id": "HQRg6jb9qPe-"
      },
      "source": [
        "import torch\n",
        "import torch.nn as nn\n",
        "import torch.nn.functional as F\n",
        "from torch.autograd import Variable\n",
        "from torch import optim\n",
        "from sklearn.utils import shuffle"
      ],
      "execution_count": 2,
      "outputs": []
    },
    {
      "cell_type": "code",
      "metadata": {
        "id": "67GGYtpiDPaP"
      },
      "source": [
        "class Model(nn.Module):\n",
        "  def __init__(self, size, K):\n",
        "    super(Model, self).__init__()\n",
        "    # define the layers\n",
        "    # Input channels = 3, output channels = 20, filter size = (5,5)\n",
        "    # padding=0 (valid mode), padding=4 (full mode), padding=2 (same mode)\n",
        "    self.conv1 = nn.Conv2d(3, 20, kernel_size=5, stride=1, padding=2)\n",
        "    self.conv2 = nn.Conv2d(20, 50, kernel_size=5, stride=1, padding=2)\n",
        "    self.pool = nn.MaxPool2d(kernel_size=2, stride=2)\n",
        "    self.linear1 = nn.Linear(50*8*8, size)\n",
        "    self.linear2 = nn.Linear(size, K)\n",
        "    self.dropout = nn.Dropout(0.25)\n",
        "\n",
        "  def forward(self, x):\n",
        "    x = self.pool(F.relu(self.conv1(x)))\n",
        "    x = self.pool(F.relu(self.conv2(x)))\n",
        "    x = x.view(-1, 50*8*8) ## reshaping\n",
        "    x = self.dropout(x)\n",
        "    x = F.relu(self.linear1(x))\n",
        "    x = self.dropout(x)\n",
        "    x = self.linear2(x)\n",
        "    return x\n",
        "    # Note: no final softmax!\n",
        "    # just like Tensorflow, it's included in cross-entropy function"
      ],
      "execution_count": 4,
      "outputs": []
    },
    {
      "cell_type": "code",
      "metadata": {
        "id": "MF07OulbqgEA"
      },
      "source": [
        "class CNN():\n",
        "  def __init__(self, size):\n",
        "    self.size = size\n",
        "    \n",
        "  def fit(self, Xtrain, Ytrain, Xtest, Ytest, training_epochs=5, batch_sz=500):\n",
        "    N = Xtrain.shape[0]\n",
        "    K = len(set(Ytrain))\n",
        "    \n",
        "    Xtrain, Ytrain = shuffle(Xtrain, Ytrain)\n",
        "    Xtest, Ytest = shuffle(Xtest, Ytest)\n",
        "    \n",
        "    Xtest = Xtest[-10000:]\n",
        "    Ytest = Ytest[-10000:]\n",
        "    \n",
        "    # convert the data arrays into torch tensors\n",
        "    Xtrain = torch.from_numpy(Xtrain).float()\n",
        "    Ytrain = torch.from_numpy(Ytrain).long()\n",
        "    Xtest = torch.from_numpy(Xtest).float()\n",
        "    Ytest = torch.from_numpy(Ytest).long()\n",
        "    \n",
        "    model = Model(self.size, K)\n",
        "    \n",
        "    loss = nn.CrossEntropyLoss()\n",
        "    \n",
        "    optimizer = optim.Adam(model.parameters())\n",
        "    \n",
        "    def train(model, loss, optimizer, inputs, labels):\n",
        "      # set the model to training mode\n",
        "      # because dropout has 2 different modes!\n",
        "      # we only perform dropout in train mode & not test mode\n",
        "      model.train()\n",
        "      \n",
        "      inputs = Variable(inputs, requires_grad=False)\n",
        "      labels = Variable(labels, requires_grad=False)\n",
        "      \n",
        "      optimizer.zero_grad()\n",
        "      \n",
        "      # get output from the model, given the inputs\n",
        "      logits = model.forward(inputs)\n",
        "      \n",
        "      # get loss for the predicted output\n",
        "      cost = loss.forward(logits, labels)\n",
        "      \n",
        "      # get gradients w.r.t to parameters\n",
        "      cost.backward()\n",
        "      \n",
        "      # update parameters\n",
        "      optimizer.step()\n",
        "      \n",
        "      return cost.item()\n",
        "    \n",
        "    def test(model, loss, inputs, labels):\n",
        "      model.eval()\n",
        "      \n",
        "      inputs = Variable(inputs, requires_grad=False)\n",
        "      labels = Variable(labels, requires_grad=False)\n",
        "      \n",
        "      logits = model.forward(inputs)\n",
        "      cost = loss.forward(logits, labels)\n",
        "      \n",
        "      return cost.item()\n",
        "    \n",
        "    def predict(model, inputs):\n",
        "      model.eval()\n",
        "      \n",
        "      inputs = Variable(inputs, requires_grad=False)\n",
        "      \n",
        "      logits = model.forward(inputs)\n",
        "      return logits.data.numpy().argmax(axis=1)\n",
        "    \n",
        "    n_batches = N // batch_sz\n",
        "    \n",
        "    train_costs = []\n",
        "    test_costs = []\n",
        "    train_accuracies = []\n",
        "    test_accuracies = []\n",
        "    \n",
        "    for epoch in range(training_epochs):\n",
        "      for j in range(n_batches):\n",
        "        Xbatch = Xtrain[j*batch_sz:(j*batch_sz + batch_sz)]\n",
        "        Ybatch = Ytrain[j*batch_sz:(j*batch_sz + batch_sz)]\n",
        "        \n",
        "        train_c=train(model, loss, optimizer, Xbatch, Ybatch)\n",
        "        \n",
        "        if j % 20 == 0:\n",
        "          train_costs.append(train_c)\n",
        "\n",
        "          test_c=test(model, loss, Xtest, Ytest)\n",
        "          test_costs.append(test_c)\n",
        "          \n",
        "          p_train = predict(model, Xbatch)\n",
        "          p_test = predict(model, Xtest)\n",
        "          \n",
        "          acc_train = np.mean(p_train == Ybatch.numpy())\n",
        "          train_accuracies.append(acc_train)\n",
        "\n",
        "          acc_test = np.mean(p_test == Ytest.numpy())\n",
        "          test_accuracies.append(acc_test)\n",
        "          \n",
        "          print(\"Epoch\", (epoch+1), \"Training Cost\", \"%.2f\" % train_c, \"Test cost\", \"%.2f\" % test_c, \"Training Acc\", \"%.2f\" % acc_train, \"Test Acc\", \"%.2f\" % acc_test)\n",
        "          \n",
        "    plt.plot(train_costs, label='Training Cost')\n",
        "    plt.plot(test_costs, label='Test Cost')\n",
        "    plt.legend()\n",
        "    plt.show()\n",
        "    \n",
        "    plt.plot(train_accuracies, label='Training accuracy')\n",
        "    plt.plot(test_accuracies, label='Test accuracy')\n",
        "    plt.legend()\n",
        "    plt.show()"
      ],
      "execution_count": 5,
      "outputs": []
    },
    {
      "cell_type": "code",
      "metadata": {
        "id": "nv_JO_bxb8g9",
        "outputId": "528619c2-98b5-4019-83e3-3a90c9c3399a",
        "colab": {
          "base_uri": "https://localhost:8080/"
        }
      },
      "source": [
        "\r\n"
      ],
      "execution_count": 7,
      "outputs": [
        {
          "output_type": "stream",
          "text": [
            "Collecting wget\n",
            "  Downloading https://files.pythonhosted.org/packages/47/6a/62e288da7bcda82b935ff0c6cfe542970f04e29c756b0e147251b2fb251f/wget-3.2.zip\n",
            "Building wheels for collected packages: wget\n",
            "  Building wheel for wget (setup.py) ... \u001b[?25l\u001b[?25hdone\n",
            "  Created wheel for wget: filename=wget-3.2-cp36-none-any.whl size=9681 sha256=d0d69efa7e6bf87b01a837563ea5ea1b3b8f44d770143ac1cbc4c26533484940\n",
            "  Stored in directory: /root/.cache/pip/wheels/40/15/30/7d8f7cea2902b4db79e3fea550d7d7b85ecb27ef992b618f3f\n",
            "Successfully built wget\n",
            "Installing collected packages: wget\n",
            "Successfully installed wget-3.2\n"
          ],
          "name": "stdout"
        }
      ]
    },
    {
      "cell_type": "code",
      "metadata": {
        "id": "0n1HXQ8qcIpJ",
        "outputId": "28eed168-3a05-409b-bae7-f31d93a658f0",
        "colab": {
          "base_uri": "https://localhost:8080/"
        }
      },
      "source": [
        "!pip install wget\r\n",
        "import wget, os\r\n",
        "\r\n",
        "file_path = lambda x: '{}_32x32.mat'.format(x) # x : train, test, extra\r\n",
        "file_url = lambda x: 'http://ufldl.stanford.edu/housenumbers/{}'.format(file_path(x)) # x : train, test, extra\r\n",
        "\r\n",
        "for category in ['train', 'test']:\r\n",
        "  if not os.path.exists(file_path(category)):\r\n",
        "    wget.download(file_url(category))\r\n",
        "print('ALL files is downloaded')"
      ],
      "execution_count": 22,
      "outputs": [
        {
          "output_type": "stream",
          "text": [
            "Requirement already satisfied: wget in /usr/local/lib/python3.6/dist-packages (3.2)\n",
            "ALL files is downloaded\n"
          ],
          "name": "stdout"
        }
      ]
    },
    {
      "cell_type": "code",
      "metadata": {
        "id": "kfMAvu9mqUi5"
      },
      "source": [
        "train = scipy.io.loadmat(file_path('train'))\n",
        "test = scipy.io.loadmat(file_path('test'))\n",
        "\n",
        "Xtrain = train['X']\n",
        "Ytrain = train['y']\n",
        "#print(Xtrain.shape)           (32, 32, 3, 73257)\n",
        "#print(Ytrain.shape)           (73257, 1)\n",
        "Ytrain = Ytrain.flatten() \n",
        "\n",
        "Xtest = test['X']\n",
        "Ytest = test['y']\n",
        "#print(Xtest.shape)            (32, 32, 3, 26032)\n",
        "#print(Ytest.shape)            (26032, 1)\n",
        "Ytest = Ytest.flatten() \n",
        "\n",
        "Xtrain = (Xtrain.transpose(3,2,0,1) / 255).astype(np.float32)\n",
        "Xtest = (Xtest.transpose(3,2,0,1) / 255).astype(np.float32)\n"
      ],
      "execution_count": 42,
      "outputs": []
    },
    {
      "cell_type": "code",
      "metadata": {
        "id": "wnZSpWMuemb1"
      },
      "source": [
        "import matplotlib.pyplot as plt\r\n",
        "def plot_image(img):\r\n",
        "  plt.imshow(img,cmap='gray')\r\n",
        "  plt.xticks([])\r\n",
        "  plt.yticks([])\r\n",
        "\r\n",
        "def fix_image(img):\r\n",
        "  return np.transpose(img, axes=(1,2,0))\r\n",
        "\r\n",
        "def plot_image_fix(img):\r\n",
        "  plot_image(fix_image(img))"
      ],
      "execution_count": 43,
      "outputs": []
    },
    {
      "cell_type": "code",
      "metadata": {
        "id": "dN2QknsngNwG",
        "outputId": "947db7cb-4f4c-4ff6-f1ad-7d93572a35a0",
        "colab": {
          "base_uri": "https://localhost:8080/",
          "height": 262
        }
      },
      "source": [
        "plot_image_fix(Xtest[2])\r\n",
        "plt.xlabel(Ytest[2])\r\n",
        "plt.show()"
      ],
      "execution_count": 44,
      "outputs": [
        {
          "output_type": "display_data",
          "data": {
            "image/png": "[encoded data removed]",
            "text/plain": [
              "<Figure size 432x288 with 1 Axes>"
            ]
          },
          "metadata": {
            "tags": []
          }
        }
      ]
    },
    {
      "cell_type": "code",
      "metadata": {
        "id": "D2JH9krVej0n"
      },
      "source": [
        "\r\n",
        "model = CNN(500)\r\n",
        "model.fit(Xtrain, Ytrain, Xtest, Ytest)"
      ],
      "execution_count": null,
      "outputs": []
    }
  ]
}
{
  "nbformat": 4,
  "nbformat_minor": 0,
  "metadata": {
    "colab": {
      "name": "CNN_on_CIFAR.ipynb",
      "provenance": [],
      "include_colab_link": true
    },
    "kernelspec": {
      "display_name": "Python 3",
      "language": "python",
      "name": "python3"
    },
    "language_info": {
      "codemirror_mode": {
        "name": "ipython",
        "version": 3
      },
      "file_extension": ".py",
      "mimetype": "text/x-python",
      "name": "python",
      "nbconvert_exporter": "python",
      "pygments_lexer": "ipython3",
      "version": "3.7.6"
    },
    "varInspector": {
      "cols": {
        "lenName": 16,
        "lenType": 16,
        "lenVar": 40
      },
      "kernels_config": {
        "python": {
          "delete_cmd_postfix": "",
          "delete_cmd_prefix": "del ",
          "library": "var_list.py",
          "varRefreshCmd": "print(var_dic_list())"
        },
        "r": {
          "delete_cmd_postfix": ") ",
          "delete_cmd_prefix": "rm(",
          "library": "var_list.r",
          "varRefreshCmd": "cat(var_dic_list()) "
        }
      },
      "types_to_exclude": [
        "module",
        "function",
        "builtin_function_or_method",
        "instance",
        "_Feature"
      ],
      "window_display": false
    },
    "accelerator": "GPU"
  },
  "cells": [
    {
      "cell_type": "markdown",
      "metadata": {
        "id": "view-in-github",
        "colab_type": "text"
      },
      "source": [
        "<a href=\"https://colab.research.google.com/github/MohammadRaziei/Deep-Learning-Course/blob/master/HW03/Q4/CNN%20on%20CIFAR/CNN_on_CIFAR.ipynb\" target=\"_parent\"><img src=\"https://colab.research.google.com/assets/colab-badge.svg\" alt=\"Open In Colab\"/></a>"
      ]
    },
    {
      "cell_type": "markdown",
      "metadata": {
        "id": "ruNPmyABwNlS"
      },
      "source": [
        "# EE-25620: Deep Learning"
      ]
    },
    {
      "cell_type": "markdown",
      "metadata": {
        "id": "slXaK2c-wNlW"
      },
      "source": [
        " # HW3.CNN on CIFAR (20 + 10 points)"
      ]
    },
    {
      "cell_type": "markdown",
      "metadata": {
        "id": "sBnutoDBwNlf"
      },
      "source": [
        "In this problem, we will train a CNN on CIFAR-10 database. Next, we will go through the network and visualize its layers to see what is happening there. Then, we use the trained model in a Transfer Learning approach to classifying the CIFAR-100 database."
      ]
    },
    {
      "cell_type": "markdown",
      "metadata": {
        "id": "FaG_lspJwNli"
      },
      "source": [
        "Let's start with loading data. First load the data by runing the code below:"
      ]
    },
    {
      "cell_type": "code",
      "metadata": {
        "colab": {
          "base_uri": "https://localhost:8080/",
          "height": 35
        },
        "id": "bxa9IaiF93WY",
        "outputId": "852c8a70-9a53-4af8-d92f-71dd0753ed08"
      },
      "source": [
        "%tensorflow_version 1.x"
      ],
      "execution_count": null,
      "outputs": [
        {
          "output_type": "stream",
          "text": [
            "TensorFlow 1.x selected.\n"
          ],
          "name": "stdout"
        }
      ]
    },
    {
      "cell_type": "code",
      "metadata": {
        "id": "QoQbdc3Orf-_",
        "outputId": "b97d8af3-af5d-433f-ed31-f9f79c50aa3a",
        "colab": {
          "base_uri": "https://localhost:8080/"
        }
      },
      "source": [
        "# import tensorflow as tf\r\n",
        "import tensorflow.compat.v1 as tf\r\n",
        "tf.disable_v2_behavior()\r\n",
        "import numpy as np"
      ],
      "execution_count": 4,
      "outputs": [
        {
          "output_type": "stream",
          "text": [
            "WARNING:tensorflow:From /usr/local/lib/python3.6/dist-packages/tensorflow/python/compat/v2_compat.py:96: disable_resource_variables (from tensorflow.python.ops.variable_scope) is deprecated and will be removed in a future version.\n",
            "Instructions for updating:\n",
            "non-resource variables are not supported in the long term\n"
          ],
          "name": "stdout"
        }
      ]
    },
    {
      "cell_type": "code",
      "metadata": {
        "id": "MAHWOO-Jroby",
        "outputId": "18c74f4a-2e99-4471-dd52-9f2a00127969",
        "colab": {
          "base_uri": "https://localhost:8080/"
        }
      },
      "source": [
        "!curl -LO  'https://github.com/MohammadRaziei/Deep-Learning-Course/raw/master/HW03/Q4/CNN%20on%20CIFAR/load_data.py'\r\n",
        "!curl -LO  'https://www.cs.toronto.edu/~kriz/cifar-10-python.tar.gz' \r\n",
        "!mkdir -p data\r\n",
        "!tar -xf cifar-10-python.tar.gz -C data"
      ],
      "execution_count": 4,
      "outputs": [
        {
          "output_type": "stream",
          "text": [
            "  % Total    % Received % Xferd  Average Speed   Time    Time     Time  Current\n",
            "                                 Dload  Upload   Total   Spent    Left  Speed\n",
            "100   180  100   180    0     0   1463      0 --:--:-- --:--:-- --:--:--  1463\n",
            "100  2785  100  2785    0     0  12659      0 --:--:-- --:--:-- --:--:-- 12659\n",
            "  % Total    % Received % Xferd  Average Speed   Time    Time     Time  Current\n",
            "                                 Dload  Upload   Total   Spent    Left  Speed\n",
            "100  162M  100  162M    0     0  91.8M      0  0:00:01  0:00:01 --:--:-- 91.8M\n"
          ],
          "name": "stdout"
        }
      ]
    },
    {
      "cell_type": "code",
      "metadata": {
        "id": "hqHqgh31wNln"
      },
      "source": [
        "from load_data import load_cifar10 #this function provided in the attached file loads the data of CIFAR10 database\n",
        "\n",
        "def load_cifar10_data():\n",
        "    dataset_dir = 'data/cifar-10-batches-py'\n",
        "    \n",
        "    X_train, y_train, X_test, y_test = load_cifar10(dataset_dir)\n",
        "    X_train, X_val = X_train[:45000], X_train[45000:]\n",
        "    y_train, y_val = y_train[:45000], y_train[45000:]\n",
        "    \n",
        "    return X_train, y_train, X_val, y_val, X_test, y_test"
      ],
      "execution_count": 2,
      "outputs": []
    },
    {
      "cell_type": "code",
      "metadata": {
        "id": "NdwC55CCwNl5",
        "outputId": "d43ec0be-f4d4-4516-9237-9178fc4c281f",
        "colab": {
          "base_uri": "https://localhost:8080/",
          "height": 372
        }
      },
      "source": [
        "X_train, y_train, X_val, y_val, X_test, y_test = load_cifar10_data()\n",
        "X_train, X_val, X_test = X_train/255., X_val/255., X_test/255.\n",
        "\n",
        "print('X_train shape:', X_train.shape)\n",
        "print('y_train shape:', y_train.shape)\n",
        "print('X_val shape:', X_val.shape)\n",
        "print('y_val shape:', y_val.shape)\n",
        "print('X_test shape:', X_test.shape)\n",
        "print('y_test shape:', y_test.shape)\n",
        "\n",
        "import matplotlib.pyplot as plt\n",
        "plt.imshow(X_train[0])#represnting a sample data from CIFAR-10\n",
        "plt.show()"
      ],
      "execution_count": 6,
      "outputs": [
        {
          "output_type": "stream",
          "text": [
            "X_train shape: (45000, 32, 32, 3)\n",
            "y_train shape: (45000, 1)\n",
            "X_val shape: (5000, 32, 32, 3)\n",
            "y_val shape: (5000, 1)\n",
            "X_test shape: (10000, 32, 32, 3)\n",
            "y_test shape: (10000, 1)\n"
          ],
          "name": "stdout"
        },
        {
          "output_type": "display_data",
          "data": {
            "image/png": "[encoded data removed]",
            "text/plain": [
              "<Figure size 432x288 with 1 Axes>"
            ]
          },
          "metadata": {
            "tags": [],
            "needs_background": "light"
          }
        }
      ]
    },
    {
      "cell_type": "markdown",
      "metadata": {
        "id": "aEoqTL_HwNmK"
      },
      "source": [
        "By successfully runing the above code, you have loaded the data and also you can see a sample data from CIFAR-10."
      ]
    },
    {
      "cell_type": "markdown",
      "metadata": {
        "id": "rFVsKedowNmM"
      },
      "source": [
        "The below code will convert the labels to one-hot codes which will be later used for the classification."
      ]
    },
    {
      "cell_type": "code",
      "metadata": {
        "id": "J0BonbT0wNmP"
      },
      "source": [
        "import numpy as np\n",
        "\n",
        "from sklearn.preprocessing import OneHotEncoder # this function is used to prepare one-hot encoded labels\n",
        "encoder = OneHotEncoder(sparse=False)\n",
        "\n",
        "encoder.fit(y_train)#this line will fit 'encoder' to encode the labels\n",
        "\n",
        "y_train_onehot = encoder.transform(y_train)# encoding train labels (one-hot coding)\n",
        "y_val_onehot   = encoder.transform(y_val)  # encoding train labels (one-hot coding)\n",
        "y_test_onehot  = encoder.transform(y_test) # encoding test  labels (one-hot coding)"
      ],
      "execution_count": 7,
      "outputs": []
    },
    {
      "cell_type": "markdown",
      "metadata": {
        "id": "lspoodjLwNma"
      },
      "source": [
        "The function below is for converting data to several batches which we will use in training."
      ]
    },
    {
      "cell_type": "code",
      "metadata": {
        "id": "qnOXlQ7AwNmf"
      },
      "source": [
        "def make_batches(x, y, batch_size):\n",
        "    n = len(y)\n",
        "    steps = n // batch_size\n",
        "    if n % batch_size != 0:\n",
        "        steps += 1\n",
        "    x_batches = np.array_split(x, steps)\n",
        "    y_batches = np.array_split(y, steps)\n",
        "    return x_batches, y_batches"
      ],
      "execution_count": 8,
      "outputs": []
    },
    {
      "cell_type": "markdown",
      "metadata": {
        "id": "vT6nm9pSwNmx"
      },
      "source": [
        "## Part1: Trainig a CNN (15 pts.)"
      ]
    },
    {
      "cell_type": "markdown",
      "metadata": {
        "id": "qj_vXQlIwNmz"
      },
      "source": [
        "In this part, we are going to train a Convolutional Neural Network (CNN) with the below structure:"
      ]
    },
    {
      "cell_type": "markdown",
      "metadata": {
        "id": "0cQKYzjowNm0"
      },
      "source": [
        "1. 16 * conv(5,5), activation function =ReLU\n",
        "2. 16 * conv(5,5), activation function =ReLU\n",
        "3. Max-pooling(3,3), stride=(2,2)\n",
        "4. 32 * conv(5,5), activation function =ReLU\n",
        "5. 32 * conv(5,5), activation function =ReLU\n",
        "6. Max-pooling(3,3), stride=(2,2)\n",
        "7. 64 * conv(5,5), activation function =ReLU\n",
        "8. FC(128), activation function =ReLU\n",
        "9. FC(128), activation function =ReLU\n",
        "10. FC(10), activation function =softmax"
      ]
    },
    {
      "cell_type": "markdown",
      "metadata": {
        "id": "Vclxh0QOwNm2"
      },
      "source": [
        "Let's go to implement the model in the below box. Note that using **tf.layers** is **NOT ALLOWED** in this homework."
      ]
    },
    {
      "cell_type": "code",
      "metadata": {
        "id": "ieNwpEPowNm4"
      },
      "source": [
        "import tensorflow as tf\n",
        "import tensorflow.compat.v1 as tf\n",
        "tf.disable_v2_behavior()\n",
        "\n",
        "x = tf.placeholder(tf.float32, [None, 32, 32, 3]) # placeholder for input data\n",
        "y = tf.placeholder(tf.float32, [None, 10])# placeholder for labels (one-hot encoded)\n",
        "\n",
        "init = tf.initializers.GlorotUniform()\n",
        "\n",
        "# # Define needed variables here:\n",
        "# W_conv1 = tf.Variable(tf.truncated_normal(shape=[5, 5, 3, 16], mean = 0.0, stddev = 0.01),name=\"W_conv1\")\n",
        "# B_conv1 = tf.Variable(tf.constant(0.01, shape=[16]),name=\"B_conv1\")\n",
        "# W_conv2 = tf.Variable(tf.truncated_normal(shape=[5, 5, 16, 16], mean = 0.0, stddev = 0.01),name=\"W_conv2\")\n",
        "# B_conv2 = tf.Variable(tf.constant(0.01, shape=[16]),name=\"B_conv2\")\n",
        "# W_conv3 = tf.Variable(tf.truncated_normal(shape=[5, 5, 16, 32], mean = 0.0, stddev = 0.01),name=\"W_conv3\")\n",
        "# B_conv3 = tf.Variable(tf.constant(0.01, shape=[32]),name=\"B_conv3\")\n",
        "# W_conv4 = tf.Variable(tf.truncated_normal(shape=[5, 5, 32, 32], mean = 0.0, stddev = 0.01),name=\"W_conv4\")\n",
        "# B_conv4 = tf.Variable(tf.constant(0.01, shape=[32]),name=\"B_conv4\")\n",
        "# W_conv5 = tf.Variable(tf.truncated_normal(shape=[5, 5, 32, 64], mean = 0.0, stddev = 0.01),name=\"W_conv5\")\n",
        "# B_conv5 = tf.Variable(tf.constant(0.01, shape=[64]),name=\"B_conv5\")\n",
        "\n",
        "# W_FC1 = tf.Variable(tf.truncated_normal(shape=[tf.cast(flat_conv5.shape[1],tf.int32), 128], mean = 0.0, stddev = 0.1),name=\"W_FC1\")\n",
        "# B_FC1 = tf.Variable(tf.constant(0.01, shape=[128]),name=\"B_FC1\")\n",
        "# W_FC2 = tf.Variable(tf.truncated_normal(shape=[128, 128], mean = 0.0, stddev = 0.01),name=\"W_FC2\")\n",
        "# B_FC2 = tf.Variable(tf.constant(0.01, shape=[128]),name=\"B_FC2\")\n",
        "# W_logits = tf.Variable(tf.truncated_normal(shape=[128, 10], mean = 0.0, stddev = 0.01),name=\"W_logits\")\n",
        "# B_logits = tf.Variable(tf.constant(0.01, shape=[10]),name=\"B_logits\")\n",
        "\n",
        "\n",
        "# Define needed variables here:\n",
        "W_conv1 = tf.Variable(tf.truncated_normal(shape=[5, 5, 3, 16], mean = 0.0, stddev = 0.01),name=\"W_conv1\")\n",
        "B_conv1 = tf.Variable(tf.constant(0.01, shape=[16]),name=\"B_conv1\")\n",
        "W_conv2 = tf.Variable(tf.truncated_normal(shape=[5, 5, 16, 16], mean = 0.0, stddev = 0.01),name=\"W_conv2\")\n",
        "B_conv2 = tf.Variable(tf.constant(0.01, shape=[16]),name=\"B_conv2\")\n",
        "W_conv3 = tf.Variable(tf.truncated_normal(shape=[5, 5, 16, 32], mean = 0.0, stddev = 0.01),name=\"W_conv3\")\n",
        "B_conv3 = tf.Variable(tf.constant(0.01, shape=[32]),name=\"B_conv3\")\n",
        "W_conv4 = tf.Variable(tf.truncated_normal(shape=[5, 5, 32, 32], mean = 0.0, stddev = 0.01),name=\"W_conv4\")\n",
        "B_conv4 = tf.Variable(tf.constant(0.01, shape=[32]),name=\"B_conv4\")\n",
        "W_conv5 = tf.Variable(tf.truncated_normal(shape=[5, 5, 32, 64], mean = 0.0, stddev = 0.01),name=\"W_conv5\")\n",
        "B_conv5 = tf.Variable(tf.constant(0.01, shape=[64]),name=\"B_conv5\")\n",
        "\n",
        "W_FC1 = tf.Variable(tf.truncated_normal(shape=[tf.cast(flat_conv5.shape[1],tf.int32), 128], mean = 0.0, stddev = 0.1),name=\"W_FC1\")\n",
        "B_FC1 = tf.Variable(tf.constant(0.01, shape=[128]),name=\"B_FC1\")\n",
        "W_FC2 = tf.Variable(tf.truncated_normal(shape=[128, 128], mean = 0.0, stddev = 0.01),name=\"W_FC2\")\n",
        "B_FC2 = tf.Variable(tf.constant(0.01, shape=[128]),name=\"B_FC2\")\n",
        "W_logits = tf.Variable(tf.truncated_normal(shape=[128, 10], mean = 0.0, stddev = 0.01),name=\"W_logits\")\n",
        "B_logits = tf.Variable(tf.constant(0.01, shape=[10]),name=\"B_logits\")\n",
        "\n",
        "\n",
        "# Define layers here:\n",
        "conv1 = tf.nn.conv2d(x, W_conv1, strides=[1, 1, 1, 1], padding='SAME') + B_conv1\n",
        "conv1_relu = tf.nn.relu(conv1)\n",
        "drop1 = tf.nn.dropout(conv1_relu, rate=0.5)\n",
        "conv2 = tf.nn.conv2d(drop1, W_conv2, strides=[1, 1, 1, 1], padding='SAME') + B_conv2\n",
        "conv2_relu = tf.nn.relu(conv2)\n",
        "pooling1 = tf.nn.max_pool(conv2_relu, ksize=[1, 3, 3, 1], strides=[1, 2, 2, 1], padding='SAME')\n",
        "conv3 = tf.nn.conv2d(pooling1, W_conv3, strides=[1, 1, 1, 1], padding='SAME') + B_conv3\n",
        "conv3_relu = tf.nn.relu(conv3)\n",
        "drop2 = tf.nn.dropout(conv3_relu, rate=0.5)\n",
        "conv4 = tf.nn.conv2d(drop2, W_conv4, strides=[1, 1, 1, 1], padding='SAME') + B_conv4\n",
        "conv4_relu = tf.nn.relu(conv4)\n",
        "pooling2 = tf.nn.max_pool(conv4_relu, ksize=[1, 3, 3, 1], strides=[1, 2, 2, 1], padding='SAME')\n",
        "conv5 = tf.nn.conv2d(pooling2, W_conv5, strides=[1, 1, 1, 1], padding='SAME') + B_conv5\n",
        "conv5_relu = tf.nn.relu(conv5)   \n",
        "\n",
        "flat_conv5 = tf.reshape(conv5_relu, [-1, conv5.shape[1]*conv5.shape[2]*conv5.shape[3]])\n",
        "\n",
        "FC1 = tf.matmul(flat_conv5, W_FC1) + B_FC1\n",
        "FC1_relu = tf.nn.relu(FC1)\n",
        "FC2 = tf.matmul(FC1_relu, W_FC2) + B_FC2\n",
        "FC2_relu = tf.nn.relu(FC2)\n",
        "logits = tf.matmul(FC2_relu, W_logits) + B_logits\n",
        "y_hat = tf.nn.softmax(logits)"
      ],
      "execution_count": 24,
      "outputs": []
    },
    {
      "cell_type": "markdown",
      "metadata": {
        "id": "C0sa7Vq0wNnD"
      },
      "source": [
        "Now you need to define an optimizer. You are free to use any optimizer. You can change optimizer or learning rate if you want :)"
      ]
    },
    {
      "cell_type": "code",
      "metadata": {
        "id": "0_DW15PowNnF"
      },
      "source": [
        "# Cross entropy loss:\n",
        "cross_entropy = tf.reduce_mean(tf.nn.softmax_cross_entropy_with_logits_v2(logits=logits, labels=y))\n",
        "# Note: logits in the above line is the last layer values (a 10-neuron layer) before the softmax activation function. \n",
        "#       In other words, you may have written y_hat = tf.nn.softmax(logits) in the above box in which y_hat is the output\n",
        "#       of the network.\n",
        "\n",
        "# Adam optimizer:\n",
        "lr = 1e-4 # learning rate\n",
        "optimizer = tf.train.AdamOptimizer(learning_rate=lr)\n",
        "trainer = optimizer.minimize(cross_entropy)\n",
        "\n",
        "# TODO: Implement Accuracy:\n",
        "correct_preds = tf.argmax(y, axis=1)\n",
        "accuracy = tf.reduce_mean(tf.cast(tf.equal(tf.argmax(y_hat, axis=1), correct_preds),tf.float64))\n",
        "# Note: The defined accuray does not play any role in the optimization process. However, it is a mtric which we can \n",
        "#       use as a log for mintoring training process with more metrics rather than a single loss function.\n"
      ],
      "execution_count": 25,
      "outputs": []
    },
    {
      "cell_type": "markdown",
      "metadata": {
        "id": "nGi4LigBwNnP"
      },
      "source": [
        "You can go for the rest of the job, handle the Session and go for training. \n",
        "You can use tensorboard or the code provided in the next box to plot for loss and accuracy of training and validation data.\n",
        "You are expected to achieve at least 60% accuracy on the test data after the training process. Good Luck! ;)"
      ]
    },
    {
      "cell_type": "code",
      "metadata": {
        "id": "_xQWnoDvwNnR",
        "outputId": "8baa22ef-cef0-482d-970c-a6319bb0384c",
        "colab": {
          "base_uri": "https://localhost:8080/"
        }
      },
      "source": [
        "########## Training ##########\n",
        "batch_size = 64 # You are free to change it\n",
        "x_train_batches, y_train_batches = make_batches(X_train, y_train_onehot, batch_size)\n",
        "epochs = 150  # You are free to change it\n",
        "N_Batches = len(x_train_batches)\n",
        "\n",
        "train_acc  = np.zeros(epochs)\n",
        "train_loss = np.zeros(epochs)\n",
        "val_acc  = np.zeros(epochs)\n",
        "val_loss = np.zeros(epochs)\n",
        "\n",
        "with tf.Session() as sess:\n",
        "    sess.run(tf.global_variables_initializer())\n",
        "\n",
        "    for epoch in range(epochs):\n",
        "        print()\n",
        "        print(\"*\" * 10, \"Epoch {}\".format(epoch+1), \"*\" * 10)\n",
        "\n",
        "        batch_acc = np.zeros(N_Batches)\n",
        "        batch_loss = np.zeros(N_Batches)\n",
        "        for n in range(N_Batches):\n",
        "            _, batch_acc[n], batch_loss[n] = sess.run([trainer, accuracy, cross_entropy],\n",
        "                                                      {x: x_train_batches[n], y: y_train_batches[n]})\n",
        "            #print(\"Batch %3d/%d: Acc:%0.4f , Loss:%0.4f\"%(n, N_Batches, batch_acc[n], batch_loss[n]))\n",
        "\n",
        "        train_acc[epoch] = np.mean(batch_acc)\n",
        "        train_loss[epoch] = np.mean(batch_loss)\n",
        "        print(\"Train:\\t\\tAccuracy= %0.4f \\tLoss= %0.4f\"%(train_acc[epoch], train_loss[epoch]))\n",
        "\n",
        "        ########## Validation ##########\n",
        "        val_acc[epoch], val_loss[epoch] = sess.run([accuracy, cross_entropy],\n",
        "                                                   {x: X_val, y: y_val_onehot})\n",
        "        print(\"Validation:\\tAccuracy= %0.4f \\tLoss= %0.4f\"%(val_acc[epoch], val_loss[epoch]))\n",
        "        \n",
        "    ############################################################\n",
        "    #            TODO: Implement Test Phase                    #\n",
        "    ############################################################\n",
        "    test_acc, test_loss = sess.run([accuracy, cross_entropy],{x: X_test, y: y_test_onehot})\n",
        "    print(\"Test:\\tAccuracy= %0.4f \\tLoss= %0.4f\"%(test_acc, test_loss))\n",
        "    ############################################################"
      ],
      "execution_count": 26,
      "outputs": [
        {
          "output_type": "stream",
          "text": [
            "\n",
            "********** Epoch 1 **********\n",
            "Train:\t\tAccuracy= 0.2117 \tLoss= 2.0854\n",
            "Validation:\tAccuracy= 0.2790 \tLoss= 1.9337\n",
            "\n",
            "********** Epoch 2 **********\n",
            "Train:\t\tAccuracy= 0.3088 \tLoss= 1.8651\n",
            "Validation:\tAccuracy= 0.3088 \tLoss= 1.8336\n",
            "\n",
            "********** Epoch 3 **********\n",
            "Train:\t\tAccuracy= 0.3268 \tLoss= 1.7995\n",
            "Validation:\tAccuracy= 0.3348 \tLoss= 1.7679\n",
            "\n",
            "********** Epoch 4 **********\n",
            "Train:\t\tAccuracy= 0.3502 \tLoss= 1.7381\n",
            "Validation:\tAccuracy= 0.3564 \tLoss= 1.7165\n",
            "\n",
            "********** Epoch 5 **********\n",
            "Train:\t\tAccuracy= 0.3700 \tLoss= 1.6875\n",
            "Validation:\tAccuracy= 0.3724 \tLoss= 1.6834\n",
            "\n",
            "********** Epoch 6 **********\n",
            "Train:\t\tAccuracy= 0.3875 \tLoss= 1.6465\n",
            "Validation:\tAccuracy= 0.3846 \tLoss= 1.6487\n",
            "\n",
            "********** Epoch 7 **********\n",
            "Train:\t\tAccuracy= 0.4030 \tLoss= 1.6113\n",
            "Validation:\tAccuracy= 0.4074 \tLoss= 1.6084\n",
            "\n",
            "********** Epoch 8 **********\n",
            "Train:\t\tAccuracy= 0.4160 \tLoss= 1.5798\n",
            "Validation:\tAccuracy= 0.4184 \tLoss= 1.5972\n",
            "\n",
            "********** Epoch 9 **********\n",
            "Train:\t\tAccuracy= 0.4280 \tLoss= 1.5542\n",
            "Validation:\tAccuracy= 0.4246 \tLoss= 1.5625\n",
            "\n",
            "********** Epoch 10 **********\n",
            "Train:\t\tAccuracy= 0.4350 \tLoss= 1.5311\n",
            "Validation:\tAccuracy= 0.4300 \tLoss= 1.5423\n",
            "\n",
            "********** Epoch 11 **********\n",
            "Train:\t\tAccuracy= 0.4432 \tLoss= 1.5090\n",
            "Validation:\tAccuracy= 0.4444 \tLoss= 1.5195\n",
            "\n",
            "********** Epoch 12 **********\n",
            "Train:\t\tAccuracy= 0.4524 \tLoss= 1.4891\n",
            "Validation:\tAccuracy= 0.4492 \tLoss= 1.5010\n",
            "\n",
            "********** Epoch 13 **********\n",
            "Train:\t\tAccuracy= 0.4611 \tLoss= 1.4704\n",
            "Validation:\tAccuracy= 0.4606 \tLoss= 1.4890\n",
            "\n",
            "********** Epoch 14 **********\n",
            "Train:\t\tAccuracy= 0.4670 \tLoss= 1.4486\n",
            "Validation:\tAccuracy= 0.4600 \tLoss= 1.4669\n",
            "\n",
            "********** Epoch 15 **********\n",
            "Train:\t\tAccuracy= 0.4775 \tLoss= 1.4255\n",
            "Validation:\tAccuracy= 0.4730 \tLoss= 1.4325\n",
            "\n",
            "********** Epoch 16 **********\n",
            "Train:\t\tAccuracy= 0.4848 \tLoss= 1.4034\n",
            "Validation:\tAccuracy= 0.4780 \tLoss= 1.4132\n",
            "\n",
            "********** Epoch 17 **********\n",
            "Train:\t\tAccuracy= 0.4946 \tLoss= 1.3811\n",
            "Validation:\tAccuracy= 0.4894 \tLoss= 1.3932\n",
            "\n",
            "********** Epoch 18 **********\n",
            "Train:\t\tAccuracy= 0.5020 \tLoss= 1.3596\n",
            "Validation:\tAccuracy= 0.5008 \tLoss= 1.3696\n",
            "\n",
            "********** Epoch 19 **********\n",
            "Train:\t\tAccuracy= 0.5099 \tLoss= 1.3388\n",
            "Validation:\tAccuracy= 0.5186 \tLoss= 1.3386\n",
            "\n",
            "********** Epoch 20 **********\n",
            "Train:\t\tAccuracy= 0.5181 \tLoss= 1.3174\n",
            "Validation:\tAccuracy= 0.5210 \tLoss= 1.3216\n",
            "\n",
            "********** Epoch 21 **********\n",
            "Train:\t\tAccuracy= 0.5252 \tLoss= 1.2960\n",
            "Validation:\tAccuracy= 0.5324 \tLoss= 1.3091\n",
            "\n",
            "********** Epoch 22 **********\n",
            "Train:\t\tAccuracy= 0.5356 \tLoss= 1.2752\n",
            "Validation:\tAccuracy= 0.5410 \tLoss= 1.2793\n",
            "\n",
            "********** Epoch 23 **********\n",
            "Train:\t\tAccuracy= 0.5424 \tLoss= 1.2559\n",
            "Validation:\tAccuracy= 0.5498 \tLoss= 1.2561\n",
            "\n",
            "********** Epoch 24 **********\n",
            "Train:\t\tAccuracy= 0.5487 \tLoss= 1.2387\n",
            "Validation:\tAccuracy= 0.5582 \tLoss= 1.2405\n",
            "\n",
            "********** Epoch 25 **********\n",
            "Train:\t\tAccuracy= 0.5609 \tLoss= 1.2126\n",
            "Validation:\tAccuracy= 0.5634 \tLoss= 1.2165\n",
            "\n",
            "********** Epoch 26 **********\n",
            "Train:\t\tAccuracy= 0.5646 \tLoss= 1.1946\n",
            "Validation:\tAccuracy= 0.5694 \tLoss= 1.2042\n",
            "\n",
            "********** Epoch 27 **********\n",
            "Train:\t\tAccuracy= 0.5747 \tLoss= 1.1768\n",
            "Validation:\tAccuracy= 0.5772 \tLoss= 1.1878\n",
            "\n",
            "********** Epoch 28 **********\n",
            "Train:\t\tAccuracy= 0.5791 \tLoss= 1.1592\n",
            "Validation:\tAccuracy= 0.5830 \tLoss= 1.1696\n",
            "\n",
            "********** Epoch 29 **********\n",
            "Train:\t\tAccuracy= 0.5881 \tLoss= 1.1377\n",
            "Validation:\tAccuracy= 0.5880 \tLoss= 1.1487\n",
            "\n",
            "********** Epoch 30 **********\n",
            "Train:\t\tAccuracy= 0.5974 \tLoss= 1.1183\n",
            "Validation:\tAccuracy= 0.6006 \tLoss= 1.1307\n",
            "\n",
            "********** Epoch 31 **********\n",
            "Train:\t\tAccuracy= 0.6047 \tLoss= 1.1012\n",
            "Validation:\tAccuracy= 0.5998 \tLoss= 1.1144\n",
            "\n",
            "********** Epoch 32 **********\n",
            "Train:\t\tAccuracy= 0.6119 \tLoss= 1.0841\n",
            "Validation:\tAccuracy= 0.6106 \tLoss= 1.1025\n",
            "\n",
            "********** Epoch 33 **********\n",
            "Train:\t\tAccuracy= 0.6167 \tLoss= 1.0676\n",
            "Validation:\tAccuracy= 0.6092 \tLoss= 1.0926\n",
            "\n",
            "********** Epoch 34 **********\n",
            "Train:\t\tAccuracy= 0.6219 \tLoss= 1.0526\n",
            "Validation:\tAccuracy= 0.6182 \tLoss= 1.0868\n",
            "\n",
            "********** Epoch 35 **********\n",
            "Train:\t\tAccuracy= 0.6304 \tLoss= 1.0355\n",
            "Validation:\tAccuracy= 0.6160 \tLoss= 1.0637\n",
            "\n",
            "********** Epoch 36 **********\n",
            "Train:\t\tAccuracy= 0.6335 \tLoss= 1.0246\n",
            "Validation:\tAccuracy= 0.6226 \tLoss= 1.0475\n",
            "\n",
            "********** Epoch 37 **********\n",
            "Train:\t\tAccuracy= 0.6392 \tLoss= 1.0100\n",
            "Validation:\tAccuracy= 0.6290 \tLoss= 1.0514\n",
            "\n",
            "********** Epoch 38 **********\n",
            "Train:\t\tAccuracy= 0.6426 \tLoss= 0.9955\n",
            "Validation:\tAccuracy= 0.6286 \tLoss= 1.0451\n",
            "\n",
            "********** Epoch 39 **********\n",
            "Train:\t\tAccuracy= 0.6484 \tLoss= 0.9838\n",
            "Validation:\tAccuracy= 0.6274 \tLoss= 1.0348\n",
            "\n",
            "********** Epoch 40 **********\n",
            "Train:\t\tAccuracy= 0.6520 \tLoss= 0.9689\n",
            "Validation:\tAccuracy= 0.6432 \tLoss= 1.0194\n",
            "\n",
            "********** Epoch 41 **********\n",
            "Train:\t\tAccuracy= 0.6569 \tLoss= 0.9602\n",
            "Validation:\tAccuracy= 0.6428 \tLoss= 1.0181\n",
            "\n",
            "********** Epoch 42 **********\n",
            "Train:\t\tAccuracy= 0.6623 \tLoss= 0.9417\n",
            "Validation:\tAccuracy= 0.6352 \tLoss= 1.0236\n",
            "\n",
            "********** Epoch 43 **********\n",
            "Train:\t\tAccuracy= 0.6683 \tLoss= 0.9312\n",
            "Validation:\tAccuracy= 0.6506 \tLoss= 0.9954\n",
            "\n",
            "********** Epoch 44 **********\n",
            "Train:\t\tAccuracy= 0.6701 \tLoss= 0.9225\n",
            "Validation:\tAccuracy= 0.6530 \tLoss= 0.9814\n",
            "\n",
            "********** Epoch 45 **********\n",
            "Train:\t\tAccuracy= 0.6764 \tLoss= 0.9080\n",
            "Validation:\tAccuracy= 0.6594 \tLoss= 0.9804\n",
            "\n",
            "********** Epoch 46 **********\n",
            "Train:\t\tAccuracy= 0.6784 \tLoss= 0.8963\n",
            "Validation:\tAccuracy= 0.6540 \tLoss= 0.9864\n",
            "\n",
            "********** Epoch 47 **********\n",
            "Train:\t\tAccuracy= 0.6830 \tLoss= 0.8852\n",
            "Validation:\tAccuracy= 0.6678 \tLoss= 0.9563\n",
            "\n",
            "********** Epoch 48 **********\n",
            "Train:\t\tAccuracy= 0.6866 \tLoss= 0.8743\n",
            "Validation:\tAccuracy= 0.6644 \tLoss= 0.9540\n",
            "\n",
            "********** Epoch 49 **********\n",
            "Train:\t\tAccuracy= 0.6931 \tLoss= 0.8600\n",
            "Validation:\tAccuracy= 0.6704 \tLoss= 0.9486\n",
            "\n",
            "********** Epoch 50 **********\n",
            "Train:\t\tAccuracy= 0.6971 \tLoss= 0.8512\n",
            "Validation:\tAccuracy= 0.6668 \tLoss= 0.9538\n",
            "\n",
            "********** Epoch 51 **********\n",
            "Train:\t\tAccuracy= 0.7015 \tLoss= 0.8391\n",
            "Validation:\tAccuracy= 0.6700 \tLoss= 0.9548\n",
            "\n",
            "********** Epoch 52 **********\n",
            "Train:\t\tAccuracy= 0.7044 \tLoss= 0.8267\n",
            "Validation:\tAccuracy= 0.6782 \tLoss= 0.9349\n",
            "\n",
            "********** Epoch 53 **********\n",
            "Train:\t\tAccuracy= 0.7093 \tLoss= 0.8171\n",
            "Validation:\tAccuracy= 0.6790 \tLoss= 0.9410\n",
            "\n",
            "********** Epoch 54 **********\n",
            "Train:\t\tAccuracy= 0.7138 \tLoss= 0.8065\n",
            "Validation:\tAccuracy= 0.6788 \tLoss= 0.9315\n",
            "\n",
            "********** Epoch 55 **********\n",
            "Train:\t\tAccuracy= 0.7158 \tLoss= 0.7985\n",
            "Validation:\tAccuracy= 0.6690 \tLoss= 0.9359\n",
            "\n",
            "********** Epoch 56 **********\n",
            "Train:\t\tAccuracy= 0.7200 \tLoss= 0.7869\n",
            "Validation:\tAccuracy= 0.6800 \tLoss= 0.9268\n",
            "\n",
            "********** Epoch 57 **********\n",
            "Train:\t\tAccuracy= 0.7230 \tLoss= 0.7788\n",
            "Validation:\tAccuracy= 0.6928 \tLoss= 0.8961\n",
            "\n",
            "********** Epoch 58 **********\n",
            "Train:\t\tAccuracy= 0.7276 \tLoss= 0.7663\n",
            "Validation:\tAccuracy= 0.6892 \tLoss= 0.9063\n",
            "\n",
            "********** Epoch 59 **********\n",
            "Train:\t\tAccuracy= 0.7295 \tLoss= 0.7560\n",
            "Validation:\tAccuracy= 0.6900 \tLoss= 0.9002\n",
            "\n",
            "********** Epoch 60 **********\n",
            "Train:\t\tAccuracy= 0.7367 \tLoss= 0.7451\n",
            "Validation:\tAccuracy= 0.6902 \tLoss= 0.9097\n",
            "\n",
            "********** Epoch 61 **********\n",
            "Train:\t\tAccuracy= 0.7383 \tLoss= 0.7365\n",
            "Validation:\tAccuracy= 0.6844 \tLoss= 0.9026\n",
            "\n",
            "********** Epoch 62 **********\n",
            "Train:\t\tAccuracy= 0.7425 \tLoss= 0.7226\n",
            "Validation:\tAccuracy= 0.6882 \tLoss= 0.9151\n",
            "\n",
            "********** Epoch 63 **********\n",
            "Train:\t\tAccuracy= 0.7447 \tLoss= 0.7142\n",
            "Validation:\tAccuracy= 0.6904 \tLoss= 0.8888\n",
            "\n",
            "********** Epoch 64 **********\n",
            "Train:\t\tAccuracy= 0.7498 \tLoss= 0.7051\n",
            "Validation:\tAccuracy= 0.6938 \tLoss= 0.8813\n",
            "\n",
            "********** Epoch 65 **********\n",
            "Train:\t\tAccuracy= 0.7527 \tLoss= 0.6967\n",
            "Validation:\tAccuracy= 0.6948 \tLoss= 0.8876\n",
            "\n",
            "********** Epoch 66 **********\n",
            "Train:\t\tAccuracy= 0.7555 \tLoss= 0.6883\n",
            "Validation:\tAccuracy= 0.7070 \tLoss= 0.8847\n",
            "\n",
            "********** Epoch 67 **********\n",
            "Train:\t\tAccuracy= 0.7582 \tLoss= 0.6788\n",
            "Validation:\tAccuracy= 0.6914 \tLoss= 0.9029\n",
            "\n",
            "********** Epoch 68 **********\n",
            "Train:\t\tAccuracy= 0.7633 \tLoss= 0.6705\n",
            "Validation:\tAccuracy= 0.7008 \tLoss= 0.8789\n",
            "\n",
            "********** Epoch 69 **********\n",
            "Train:\t\tAccuracy= 0.7651 \tLoss= 0.6626\n",
            "Validation:\tAccuracy= 0.7026 \tLoss= 0.8767\n",
            "\n",
            "********** Epoch 70 **********\n",
            "Train:\t\tAccuracy= 0.7712 \tLoss= 0.6502\n",
            "Validation:\tAccuracy= 0.7036 \tLoss= 0.8915\n",
            "\n",
            "********** Epoch 71 **********\n",
            "Train:\t\tAccuracy= 0.7718 \tLoss= 0.6379\n",
            "Validation:\tAccuracy= 0.7078 \tLoss= 0.8788\n",
            "\n",
            "********** Epoch 72 **********\n",
            "Train:\t\tAccuracy= 0.7769 \tLoss= 0.6331\n",
            "Validation:\tAccuracy= 0.7086 \tLoss= 0.8699\n",
            "\n",
            "********** Epoch 73 **********\n",
            "Train:\t\tAccuracy= 0.7758 \tLoss= 0.6299\n",
            "Validation:\tAccuracy= 0.7092 \tLoss= 0.8751\n",
            "\n",
            "********** Epoch 74 **********\n",
            "Train:\t\tAccuracy= 0.7806 \tLoss= 0.6159\n",
            "Validation:\tAccuracy= 0.7058 \tLoss= 0.8796\n",
            "\n",
            "********** Epoch 75 **********\n",
            "Train:\t\tAccuracy= 0.7826 \tLoss= 0.6061\n",
            "Validation:\tAccuracy= 0.7076 \tLoss= 0.8824\n",
            "\n",
            "********** Epoch 76 **********\n",
            "Train:\t\tAccuracy= 0.7886 \tLoss= 0.5931\n",
            "Validation:\tAccuracy= 0.7076 \tLoss= 0.8657\n",
            "\n",
            "********** Epoch 77 **********\n",
            "Train:\t\tAccuracy= 0.7884 \tLoss= 0.5921\n",
            "Validation:\tAccuracy= 0.7036 \tLoss= 0.8818\n",
            "\n",
            "********** Epoch 78 **********\n",
            "Train:\t\tAccuracy= 0.7921 \tLoss= 0.5824\n",
            "Validation:\tAccuracy= 0.7058 \tLoss= 0.8875\n",
            "\n",
            "********** Epoch 79 **********\n",
            "Train:\t\tAccuracy= 0.7954 \tLoss= 0.5744\n",
            "Validation:\tAccuracy= 0.7062 \tLoss= 0.8813\n",
            "\n",
            "********** Epoch 80 **********\n",
            "Train:\t\tAccuracy= 0.7984 \tLoss= 0.5669\n",
            "Validation:\tAccuracy= 0.7098 \tLoss= 0.8860\n",
            "\n",
            "********** Epoch 81 **********\n",
            "Train:\t\tAccuracy= 0.8011 \tLoss= 0.5589\n",
            "Validation:\tAccuracy= 0.7120 \tLoss= 0.8867\n",
            "\n",
            "********** Epoch 82 **********\n",
            "Train:\t\tAccuracy= 0.8038 \tLoss= 0.5519\n",
            "Validation:\tAccuracy= 0.7192 \tLoss= 0.8735\n",
            "\n",
            "********** Epoch 83 **********\n",
            "Train:\t\tAccuracy= 0.8068 \tLoss= 0.5401\n",
            "Validation:\tAccuracy= 0.7176 \tLoss= 0.8766\n",
            "\n",
            "********** Epoch 84 **********\n",
            "Train:\t\tAccuracy= 0.8081 \tLoss= 0.5350\n",
            "Validation:\tAccuracy= 0.7090 \tLoss= 0.9010\n",
            "\n",
            "********** Epoch 85 **********\n",
            "Train:\t\tAccuracy= 0.8124 \tLoss= 0.5268\n",
            "Validation:\tAccuracy= 0.7026 \tLoss= 0.8908\n",
            "\n",
            "********** Epoch 86 **********\n",
            "Train:\t\tAccuracy= 0.8155 \tLoss= 0.5179\n",
            "Validation:\tAccuracy= 0.7078 \tLoss= 0.8884\n",
            "\n",
            "********** Epoch 87 **********\n",
            "Train:\t\tAccuracy= 0.8173 \tLoss= 0.5108\n",
            "Validation:\tAccuracy= 0.7114 \tLoss= 0.8969\n",
            "\n",
            "********** Epoch 88 **********\n",
            "Train:\t\tAccuracy= 0.8196 \tLoss= 0.5032\n",
            "Validation:\tAccuracy= 0.7102 \tLoss= 0.9036\n",
            "\n",
            "********** Epoch 89 **********\n",
            "Train:\t\tAccuracy= 0.8237 \tLoss= 0.4936\n",
            "Validation:\tAccuracy= 0.7108 \tLoss= 0.9150\n",
            "\n",
            "********** Epoch 90 **********\n",
            "Train:\t\tAccuracy= 0.8250 \tLoss= 0.4865\n",
            "Validation:\tAccuracy= 0.7092 \tLoss= 0.8979\n",
            "\n",
            "********** Epoch 91 **********\n",
            "Train:\t\tAccuracy= 0.8294 \tLoss= 0.4776\n",
            "Validation:\tAccuracy= 0.7050 \tLoss= 0.9385\n",
            "\n",
            "********** Epoch 92 **********\n",
            "Train:\t\tAccuracy= 0.8318 \tLoss= 0.4725\n",
            "Validation:\tAccuracy= 0.7188 \tLoss= 0.9122\n",
            "\n",
            "********** Epoch 93 **********\n",
            "Train:\t\tAccuracy= 0.8327 \tLoss= 0.4651\n",
            "Validation:\tAccuracy= 0.7122 \tLoss= 0.9075\n",
            "\n",
            "********** Epoch 94 **********\n",
            "Train:\t\tAccuracy= 0.8354 \tLoss= 0.4596\n",
            "Validation:\tAccuracy= 0.7120 \tLoss= 0.9173\n",
            "\n",
            "********** Epoch 95 **********\n",
            "Train:\t\tAccuracy= 0.8379 \tLoss= 0.4543\n",
            "Validation:\tAccuracy= 0.7116 \tLoss= 0.9282\n",
            "\n",
            "********** Epoch 96 **********\n",
            "Train:\t\tAccuracy= 0.8421 \tLoss= 0.4421\n",
            "Validation:\tAccuracy= 0.7100 \tLoss= 0.9563\n",
            "\n",
            "********** Epoch 97 **********\n",
            "Train:\t\tAccuracy= 0.8440 \tLoss= 0.4356\n",
            "Validation:\tAccuracy= 0.7104 \tLoss= 0.9414\n",
            "\n",
            "********** Epoch 98 **********\n",
            "Train:\t\tAccuracy= 0.8463 \tLoss= 0.4283\n",
            "Validation:\tAccuracy= 0.7106 \tLoss= 0.9422\n",
            "\n",
            "********** Epoch 99 **********\n",
            "Train:\t\tAccuracy= 0.8491 \tLoss= 0.4194\n",
            "Validation:\tAccuracy= 0.7204 \tLoss= 0.9304\n",
            "\n",
            "********** Epoch 100 **********\n",
            "Train:\t\tAccuracy= 0.8472 \tLoss= 0.4188\n",
            "Validation:\tAccuracy= 0.7172 \tLoss= 0.9473\n",
            "\n",
            "********** Epoch 101 **********\n",
            "Train:\t\tAccuracy= 0.8551 \tLoss= 0.4061\n",
            "Validation:\tAccuracy= 0.7136 \tLoss= 0.9471\n",
            "\n",
            "********** Epoch 102 **********\n",
            "Train:\t\tAccuracy= 0.8543 \tLoss= 0.4029\n",
            "Validation:\tAccuracy= 0.7146 \tLoss= 0.9421\n",
            "\n",
            "********** Epoch 103 **********\n",
            "Train:\t\tAccuracy= 0.8586 \tLoss= 0.3931\n",
            "Validation:\tAccuracy= 0.7050 \tLoss= 0.9953\n",
            "\n",
            "********** Epoch 104 **********\n",
            "Train:\t\tAccuracy= 0.8583 \tLoss= 0.3903\n",
            "Validation:\tAccuracy= 0.7172 \tLoss= 0.9411\n",
            "\n",
            "********** Epoch 105 **********\n",
            "Train:\t\tAccuracy= 0.8625 \tLoss= 0.3813\n",
            "Validation:\tAccuracy= 0.7122 \tLoss= 1.0034\n",
            "\n",
            "********** Epoch 106 **********\n",
            "Train:\t\tAccuracy= 0.8633 \tLoss= 0.3793\n",
            "Validation:\tAccuracy= 0.7116 \tLoss= 0.9881\n",
            "\n",
            "********** Epoch 107 **********\n",
            "Train:\t\tAccuracy= 0.8641 \tLoss= 0.3709\n",
            "Validation:\tAccuracy= 0.7108 \tLoss= 0.9744\n",
            "\n",
            "********** Epoch 108 **********\n",
            "Train:\t\tAccuracy= 0.8710 \tLoss= 0.3625\n",
            "Validation:\tAccuracy= 0.7040 \tLoss= 1.0114\n",
            "\n",
            "********** Epoch 109 **********\n",
            "Train:\t\tAccuracy= 0.8676 \tLoss= 0.3627\n",
            "Validation:\tAccuracy= 0.7084 \tLoss= 1.0220\n",
            "\n",
            "********** Epoch 110 **********\n",
            "Train:\t\tAccuracy= 0.8721 \tLoss= 0.3526\n",
            "Validation:\tAccuracy= 0.7098 \tLoss= 1.0297\n",
            "\n",
            "********** Epoch 111 **********\n",
            "Train:\t\tAccuracy= 0.8753 \tLoss= 0.3457\n",
            "Validation:\tAccuracy= 0.7096 \tLoss= 1.0274\n",
            "\n",
            "********** Epoch 112 **********\n",
            "Train:\t\tAccuracy= 0.8771 \tLoss= 0.3405\n",
            "Validation:\tAccuracy= 0.7106 \tLoss= 1.0144\n",
            "\n",
            "********** Epoch 113 **********\n",
            "Train:\t\tAccuracy= 0.8790 \tLoss= 0.3341\n",
            "Validation:\tAccuracy= 0.7122 \tLoss= 1.0198\n",
            "\n",
            "********** Epoch 114 **********\n",
            "Train:\t\tAccuracy= 0.8798 \tLoss= 0.3272\n",
            "Validation:\tAccuracy= 0.7130 \tLoss= 1.0329\n",
            "\n",
            "********** Epoch 115 **********\n",
            "Train:\t\tAccuracy= 0.8818 \tLoss= 0.3225\n",
            "Validation:\tAccuracy= 0.7150 \tLoss= 1.0230\n",
            "\n",
            "********** Epoch 116 **********\n",
            "Train:\t\tAccuracy= 0.8803 \tLoss= 0.3259\n",
            "Validation:\tAccuracy= 0.7008 \tLoss= 1.0895\n",
            "\n",
            "********** Epoch 117 **********\n",
            "Train:\t\tAccuracy= 0.8864 \tLoss= 0.3116\n",
            "Validation:\tAccuracy= 0.7126 \tLoss= 1.0755\n",
            "\n",
            "********** Epoch 118 **********\n",
            "Train:\t\tAccuracy= 0.8876 \tLoss= 0.3105\n",
            "Validation:\tAccuracy= 0.7020 \tLoss= 1.1163\n",
            "\n",
            "********** Epoch 119 **********\n",
            "Train:\t\tAccuracy= 0.8891 \tLoss= 0.3066\n",
            "Validation:\tAccuracy= 0.7118 \tLoss= 1.0605\n",
            "\n",
            "********** Epoch 120 **********\n",
            "Train:\t\tAccuracy= 0.8913 \tLoss= 0.2999\n",
            "Validation:\tAccuracy= 0.7166 \tLoss= 1.0782\n",
            "\n",
            "********** Epoch 121 **********\n",
            "Train:\t\tAccuracy= 0.8938 \tLoss= 0.2920\n",
            "Validation:\tAccuracy= 0.6962 \tLoss= 1.1695\n",
            "\n",
            "********** Epoch 122 **********\n",
            "Train:\t\tAccuracy= 0.8944 \tLoss= 0.2914\n",
            "Validation:\tAccuracy= 0.7042 \tLoss= 1.1645\n",
            "\n",
            "********** Epoch 123 **********\n",
            "Train:\t\tAccuracy= 0.8991 \tLoss= 0.2788\n",
            "Validation:\tAccuracy= 0.7050 \tLoss= 1.1502\n",
            "\n",
            "********** Epoch 124 **********\n",
            "Train:\t\tAccuracy= 0.8980 \tLoss= 0.2785\n",
            "Validation:\tAccuracy= 0.7102 \tLoss= 1.1406\n",
            "\n",
            "********** Epoch 125 **********\n",
            "Train:\t\tAccuracy= 0.9010 \tLoss= 0.2736\n",
            "Validation:\tAccuracy= 0.7036 \tLoss= 1.1506\n",
            "\n",
            "********** Epoch 126 **********\n",
            "Train:\t\tAccuracy= 0.9012 \tLoss= 0.2714\n",
            "Validation:\tAccuracy= 0.7106 \tLoss= 1.1348\n",
            "\n",
            "********** Epoch 127 **********\n",
            "Train:\t\tAccuracy= 0.9038 \tLoss= 0.2665\n",
            "Validation:\tAccuracy= 0.7100 \tLoss= 1.1556\n",
            "\n",
            "********** Epoch 128 **********\n",
            "Train:\t\tAccuracy= 0.9056 \tLoss= 0.2586\n",
            "Validation:\tAccuracy= 0.7098 \tLoss= 1.1773\n",
            "\n",
            "********** Epoch 129 **********\n",
            "Train:\t\tAccuracy= 0.9065 \tLoss= 0.2568\n",
            "Validation:\tAccuracy= 0.7098 \tLoss= 1.1992\n",
            "\n",
            "********** Epoch 130 **********\n",
            "Train:\t\tAccuracy= 0.9067 \tLoss= 0.2548\n",
            "Validation:\tAccuracy= 0.7092 \tLoss= 1.1703\n",
            "\n",
            "********** Epoch 131 **********\n",
            "Train:\t\tAccuracy= 0.9099 \tLoss= 0.2483\n",
            "Validation:\tAccuracy= 0.7054 \tLoss= 1.2037\n",
            "\n",
            "********** Epoch 132 **********\n",
            "Train:\t\tAccuracy= 0.9124 \tLoss= 0.2410\n",
            "Validation:\tAccuracy= 0.7062 \tLoss= 1.1997\n",
            "\n",
            "********** Epoch 133 **********\n",
            "Train:\t\tAccuracy= 0.9128 \tLoss= 0.2406\n",
            "Validation:\tAccuracy= 0.7088 \tLoss= 1.2305\n",
            "\n",
            "********** Epoch 134 **********\n",
            "Train:\t\tAccuracy= 0.9153 \tLoss= 0.2353\n",
            "Validation:\tAccuracy= 0.6978 \tLoss= 1.2104\n",
            "\n",
            "********** Epoch 135 **********\n",
            "Train:\t\tAccuracy= 0.9178 \tLoss= 0.2269\n",
            "Validation:\tAccuracy= 0.7018 \tLoss= 1.2403\n",
            "\n",
            "********** Epoch 136 **********\n",
            "Train:\t\tAccuracy= 0.9177 \tLoss= 0.2263\n",
            "Validation:\tAccuracy= 0.7078 \tLoss= 1.2287\n",
            "\n",
            "********** Epoch 137 **********\n",
            "Train:\t\tAccuracy= 0.9184 \tLoss= 0.2253\n",
            "Validation:\tAccuracy= 0.7074 \tLoss= 1.2977\n",
            "\n",
            "********** Epoch 138 **********\n",
            "Train:\t\tAccuracy= 0.9193 \tLoss= 0.2224\n",
            "Validation:\tAccuracy= 0.7028 \tLoss= 1.2511\n",
            "\n",
            "********** Epoch 139 **********\n",
            "Train:\t\tAccuracy= 0.9206 \tLoss= 0.2163\n",
            "Validation:\tAccuracy= 0.7090 \tLoss= 1.2487\n",
            "\n",
            "********** Epoch 140 **********\n",
            "Train:\t\tAccuracy= 0.9194 \tLoss= 0.2207\n",
            "Validation:\tAccuracy= 0.7050 \tLoss= 1.2659\n",
            "\n",
            "********** Epoch 141 **********\n",
            "Train:\t\tAccuracy= 0.9247 \tLoss= 0.2081\n",
            "Validation:\tAccuracy= 0.7026 \tLoss= 1.2853\n",
            "\n",
            "********** Epoch 142 **********\n",
            "Train:\t\tAccuracy= 0.9241 \tLoss= 0.2085\n",
            "Validation:\tAccuracy= 0.6998 \tLoss= 1.3259\n",
            "\n",
            "********** Epoch 143 **********\n",
            "Train:\t\tAccuracy= 0.9242 \tLoss= 0.2099\n",
            "Validation:\tAccuracy= 0.6986 \tLoss= 1.3062\n",
            "\n",
            "********** Epoch 144 **********\n",
            "Train:\t\tAccuracy= 0.9277 \tLoss= 0.1991\n",
            "Validation:\tAccuracy= 0.7070 \tLoss= 1.3057\n",
            "\n",
            "********** Epoch 145 **********\n",
            "Train:\t\tAccuracy= 0.9288 \tLoss= 0.1967\n",
            "Validation:\tAccuracy= 0.7086 \tLoss= 1.3358\n",
            "\n",
            "********** Epoch 146 **********\n",
            "Train:\t\tAccuracy= 0.9276 \tLoss= 0.1985\n",
            "Validation:\tAccuracy= 0.7030 \tLoss= 1.3348\n",
            "\n",
            "********** Epoch 147 **********\n",
            "Train:\t\tAccuracy= 0.9311 \tLoss= 0.1882\n",
            "Validation:\tAccuracy= 0.6976 \tLoss= 1.3539\n",
            "\n",
            "********** Epoch 148 **********\n",
            "Train:\t\tAccuracy= 0.9286 \tLoss= 0.1937\n",
            "Validation:\tAccuracy= 0.7114 \tLoss= 1.3274\n",
            "\n",
            "********** Epoch 149 **********\n",
            "Train:\t\tAccuracy= 0.9322 \tLoss= 0.1862\n",
            "Validation:\tAccuracy= 0.6960 \tLoss= 1.3922\n",
            "\n",
            "********** Epoch 150 **********\n",
            "Train:\t\tAccuracy= 0.9353 \tLoss= 0.1807\n",
            "Validation:\tAccuracy= 0.7042 \tLoss= 1.3858\n",
            "Test:\tAccuracy= 0.6925 \tLoss= 1.4505\n"
          ],
          "name": "stdout"
        }
      ]
    },
    {
      "cell_type": "markdown",
      "metadata": {
        "id": "cY2Xy-T-wNnY"
      },
      "source": [
        "### Training Diagram"
      ]
    },
    {
      "cell_type": "code",
      "metadata": {
        "id": "YPhA7yJZwNnb",
        "outputId": "135a37e0-a0e5-453b-cb8a-e851e1b2a8b2",
        "colab": {
          "base_uri": "https://localhost:8080/",
          "height": 573
        }
      },
      "source": [
        "########## Plot metrics #########################\n",
        "fig = plt.figure()\n",
        "plt.plot(range(epochs), train_acc, label='Train')\n",
        "plt.plot(range(epochs), val_acc, label='Validation')\n",
        "plt.title(\"Training and Validation Accuracy\")\n",
        "plt.xlabel(\"epoch\")\n",
        "plt.ylabel(\"Accuracy\")\n",
        "plt.grid(True)\n",
        "plt.legend(loc=0)\n",
        "plt.show()\n",
        "\n",
        "fig = plt.figure()\n",
        "plt.plot(range(epochs), train_loss, label='Train')\n",
        "plt.plot(range(epochs), val_loss, label='Validation')\n",
        "plt.title(\"Training and Validation Loss\")\n",
        "plt.xlabel(\"epoch\")\n",
        "plt.ylabel(\"Cross entropy\")\n",
        "plt.grid(True)\n",
        "plt.legend(loc=0)\n",
        "plt.show()"
      ],
      "execution_count": 27,
      "outputs": [
        {
          "output_type": "display_data",
          "data": {
            "image/png": "[encoded data removed]",
            "text/plain": [
              "<Figure size 432x288 with 1 Axes>"
            ]
          },
          "metadata": {
            "tags": [],
            "needs_background": "light"
          }
        },
        {
          "output_type": "display_data",
          "data": {
            "image/png": "[encoded data removed]",
            "text/plain": [
              "<Figure size 432x288 with 1 Axes>"
            ]
          },
          "metadata": {
            "tags": [],
            "needs_background": "light"
          }
        }
      ]
    },
    {
      "cell_type": "markdown",
      "metadata": {
        "id": "YcSWtBZ4wNnk"
      },
      "source": [
        "## Part2: Visualizing the Network (5 pts.)"
      ]
    },
    {
      "cell_type": "markdown",
      "metadata": {
        "id": "_CD6vEwAwNnm"
      },
      "source": [
        "Now, we want to check the weights to see how the network realy works and what it does. Consider the wieghts of the first convolutional layer, find its weights values and print the values of 2 arbitrary filters:"
      ]
    },
    {
      "cell_type": "code",
      "metadata": {
        "id": "5PKw60njwNno"
      },
      "source": [
        "##########################################################################\n",
        "# TODO                                                                   #\n",
        "# Note: To retrieve the values of the weight-variables from TensorFlow,  #\n",
        "#       feed-dict is not necessary because                               #\n",
        "#       nothing is calculated.                                           #\n",
        "#       e.g., w = sess.run(weights)                                      #\n",
        "##########################################################################\n",
        "\n",
        "##########################################################################"
      ],
      "execution_count": null,
      "outputs": []
    },
    {
      "cell_type": "markdown",
      "metadata": {
        "id": "nSLbR5Q1wNn0"
      },
      "source": [
        "### Question: Try to interpret what they are doing?"
      ]
    },
    {
      "cell_type": "markdown",
      "metadata": {
        "id": "6h85uRFMwNn1"
      },
      "source": [
        "### Answer: "
      ]
    },
    {
      "cell_type": "markdown",
      "metadata": {
        "id": "8RcGEiiywNn3"
      },
      "source": [
        "Type your answer here..."
      ]
    },
    {
      "cell_type": "markdown",
      "metadata": {
        "id": "1F5plv_9wNn5"
      },
      "source": [
        "Now let's visualize the filters of the first conv layer. There are lots of ways to code for visualization. You are free to choose any way you want. However below is function which is provided for you to plot the weights."
      ]
    },
    {
      "cell_type": "code",
      "metadata": {
        "id": "priYSH0CwNn8"
      },
      "source": [
        "import math\n",
        "def plot_conv_weights(w, input_channel=0):\n",
        "    # The argument w is a 4-dim array.(e.g. weights_conv1 with the shape of [5,5,3,64])\n",
        "    # The argument input_channel shows the specified channel of all filters.\n",
        "    \n",
        "    # Get the lowest and highest values for the weights.\n",
        "    # This is used to correct the colour intensity across\n",
        "    # the images so they can be compared with each other.\n",
        "    w_min = np.min(w)\n",
        "    w_max = np.max(w)\n",
        "    abs_max = max(abs(w_min), abs(w_max))\n",
        "\n",
        "    # Number of filters used in the conv. layer.\n",
        "    num_filters = w.shape[3]\n",
        "\n",
        "    # Number of grids to plot.\n",
        "    # Rounded-up, square-root of the number of filters.\n",
        "    num_grids = math.ceil(math.sqrt(num_filters))\n",
        "    \n",
        "    # Create figure with a grid of sub-plots.\n",
        "    fig, axes = plt.subplots(num_grids, num_grids)\n",
        "\n",
        "    # Plot all the filter-weights.\n",
        "    for i, ax in enumerate(axes.flat):\n",
        "        # Only plot the valid filter-weights.\n",
        "        if i<num_filters:\n",
        "            # Get the weights for the i'th filter of the input channel.\n",
        "            # The format of this 4-dim tensor is determined by the\n",
        "            # TensorFlow API. See Tutorial #02 for more details.\n",
        "            img = w[:, :, input_channel, i]\n",
        "\n",
        "            # Plot image.\n",
        "            ax.imshow(img, vmin=-abs_max, vmax=abs_max,\n",
        "                      interpolation='nearest', cmap='seismic')\n",
        "        \n",
        "        # Remove ticks from the plot.\n",
        "        ax.set_xticks([])\n",
        "        ax.set_yticks([])\n",
        "    \n",
        "    # Ensure the plot is shown correctly with multiple plots\n",
        "    # in a single Notebook cell.\n",
        "    plt.show()\n",
        "\n",
        "    \n",
        "##########################################################################\n",
        "# TODO: call the function above or use your own way here                 #\n",
        "##########################################################################\n",
        "\n",
        "\n",
        "##########################################################################\n"
      ],
      "execution_count": null,
      "outputs": []
    },
    {
      "cell_type": "markdown",
      "metadata": {
        "id": "G6LJu4qlwNoG"
      },
      "source": [
        "### Question: Try to interpret what they are doing?"
      ]
    },
    {
      "cell_type": "markdown",
      "metadata": {
        "id": "WfjpQ2IEwNoK"
      },
      "source": [
        "### Answer: "
      ]
    },
    {
      "cell_type": "markdown",
      "metadata": {
        "id": "GOLl7wOXwNoO"
      },
      "source": [
        "Type your answer here..."
      ]
    },
    {
      "cell_type": "markdown",
      "metadata": {
        "id": "KQ9mr6m4wNoO"
      },
      "source": [
        "## Part3: Transfer Learning (+10 pts. - optional)"
      ]
    },
    {
      "cell_type": "markdown",
      "metadata": {
        "id": "hI4qprZWwNoP"
      },
      "source": [
        "In all the machine learning problems we need data to train our models. However, the volume of the data might not be sufficient for the considered model. In such cases, we may use a model which is trained on a similar dataset probably for a different objective. Then we transfer to the main problem and fine- tune or replace some parts of the network. "
      ]
    },
    {
      "cell_type": "markdown",
      "metadata": {
        "id": "ngn_5xKiwNoW"
      },
      "source": [
        "In this exercise, we are going to implement the transfer learning concept on CNN. For this purpose, we use the network that you have trained on Part 1 of this homework (above) to classify three new classes (i.e. bee, elephant, and fox) on CIFAR-100 dataset. Let's first load the data:"
      ]
    },
    {
      "cell_type": "code",
      "metadata": {
        "id": "GpInK4wUwNoY"
      },
      "source": [
        "from load_data import load_cifar100 #this function provided in the attached file loads the data of CIFAR100 database\n",
        "\n",
        "def load_cifar100_data():\n",
        "    dataset_dir = 'data/cifar-100-python'\n",
        "    \n",
        "    X_train, y_train, X_test, y_test = load_cifar100(dataset_dir)\n",
        "    \n",
        "    return X_train, y_train, X_test, y_test"
      ],
      "execution_count": null,
      "outputs": []
    },
    {
      "cell_type": "code",
      "metadata": {
        "id": "y99GcOb2wNoo"
      },
      "source": [
        "X_train, y_train, X_test, y_test = load_cifar100_data()\n",
        "\n",
        "print('X_train shape:', X_train.shape)\n",
        "print('y_train shape:', y_train.shape)\n",
        "print('X_test shape:', X_test.shape)\n",
        "print('y_test shape:', y_test.shape)\n",
        "\n",
        "import matplotlib.pyplot as plt\n",
        "plt.imshow(X_train[1])#represnting a sample data from CIFAR-100\n",
        "plt.show()"
      ],
      "execution_count": null,
      "outputs": []
    },
    {
      "cell_type": "markdown",
      "metadata": {
        "id": "JoycoB9GwNov"
      },
      "source": [
        "By successfully runing the above code, you have loaded the data and also you can see a sample data from CIFAR-100. The below code will seprate the specified classes (i.e. bee(6), elephant(31), and fox(34)) for the new classification problem."
      ]
    },
    {
      "cell_type": "code",
      "metadata": {
        "id": "bhIVSCujwNox"
      },
      "source": [
        "selected_images_train = np.zeros([1,32,32,3])\n",
        "selected_labels_train = np.zeros([1,1])\n",
        "for i in range(50000):\n",
        "    label = y_train[i]\n",
        "    if label==6 or label==31 or label==34:\n",
        "        selected_images_train = np.append(selected_images_train,np.reshape(X_train[i,:,:,:],[1,32,32,3]),axis=0)\n",
        "        selected_labels_train = np.append(selected_labels_train,np.reshape(label,[1,1]),axis=0)\n",
        "selected_images_train = selected_images_train[1:]# to remove the first defined np..zeros data\n",
        "selected_labels_train = selected_labels_train[1:]# to remove the first defined np..zeros data\n",
        "\n",
        "\n",
        "selected_images_test = np.zeros([1,32,32,3])\n",
        "selected_labels_test = np.zeros([1,1])\n",
        "for i in range(10000):\n",
        "    label = y_test[i]\n",
        "    if label==6 or label==31 or label==34:\n",
        "        selected_images_test = np.append(selected_images_test,np.reshape(X_test[i,:,:,:],[1,32,32,3]),axis=0)\n",
        "        selected_labels_test = np.append(selected_labels_test,np.reshape(label,[1,1]),axis=0)\n",
        "selected_images_test = selected_images_test[1:]# to remove the first defined np..zeros data\n",
        "selected_labels_test = selected_labels_test[1:]# to remove the first defined np..zeros data"
      ],
      "execution_count": null,
      "outputs": []
    },
    {
      "cell_type": "code",
      "metadata": {
        "id": "s0mSOnFcwNo9"
      },
      "source": [
        "images_train = selected_images_train[:int(selected_images_train.shape[0]*0.8),:,:,:]\n",
        "labels_train = selected_labels_train[:int(selected_images_train.shape[0]*0.8),:]\n",
        "\n",
        "images_validation = selected_images_train[int(selected_images_train.shape[0]*0.8):,:,:,:]\n",
        "labels_validation = selected_labels_train[int(selected_images_train.shape[0]*0.8):,:]\n",
        "\n",
        "images_test = selected_images_test\n",
        "labels_test = selected_labels_test\n",
        "\n",
        "\n",
        "print('images_train shape:', images_train.shape)\n",
        "print('labels_train shape:', labels_train.shape)\n",
        "\n",
        "print('images_validation shape:', images_validation.shape)\n",
        "print('labels_validation shape:', labels_validation.shape)\n",
        "\n",
        "print('images_test shape:', images_test.shape)\n",
        "print('labels_test shape:', labels_test.shape)"
      ],
      "execution_count": null,
      "outputs": []
    },
    {
      "cell_type": "code",
      "metadata": {
        "id": "E8egfyjNwNpD"
      },
      "source": [
        "import numpy as np\n",
        "\n",
        "from sklearn.preprocessing import OneHotEncoder # this function is used to prepare one-hot encoded labels\n",
        "encoder = OneHotEncoder(sparse=False)\n",
        "\n",
        "encoder.fit(selected_labels_train)#this line will fit 'encoder' to encode the labels\n",
        "\n",
        "labels_train_onehot = encoder.transform(labels_train)# encoding train labels (one-hot coding)\n",
        "labels_val_onehot   = encoder.transform(labels_validation)  # encoding train labels (one-hot coding)\n",
        "labels_test_onehot  = encoder.transform(labels_test) # encoding test  labels (one-hot coding)"
      ],
      "execution_count": null,
      "outputs": []
    },
    {
      "cell_type": "markdown",
      "metadata": {
        "id": "_eLHY2PJwNpS"
      },
      "source": [
        "To implement the transfer learning, we need to use the previous model and transfer it to the new problem. For this end, you need to freeze the convolution layers and also the first fully connected layer which means that they should not be updated in the new training process. For the last two fully connected layers, we want to fine-tune the values. However, you should replace the last layer (output layer) with a 3-neuron layer to represent the score for each class."
      ]
    },
    {
      "cell_type": "markdown",
      "metadata": {
        "id": "CWPBi-VxwNpU"
      },
      "source": [
        "There are several methods that you can implement the discussed process with TensorFlow. You are free to do any way you want.\n",
        "The below code redefine the network and use the weights of the network trained on CIFAR-10. Then, the frozen weights can be defined as either constant or non-trainable variables. Besides, the fine-tuning weights are also defined as variables with their previous weights in the definition. Anyway, since there are other ways to implement this job, you can do it with your own method."
      ]
    },
    {
      "cell_type": "code",
      "metadata": {
        "id": "QMrb7EyGwNpV"
      },
      "source": [
        "############################################################\n",
        "#            TODO: Implement Accuracy Part                 #\n",
        "############################################################\n",
        "\n",
        "# get the weights form previous network:\n",
        "# e.g., w_conv1_CIFAR10 = sess.run(W_conv1)\n",
        "\n",
        "\n",
        "tf.reset_default_graph()\n",
        "\n",
        "x = tf.placeholder(tf.float32, [None, 32, 32, 3]) # placeholder for input data\n",
        "y_new = tf.placeholder(tf.float32, [None, 3])# placeholder for labels (one-hot encoded)\n",
        "\n",
        "# Re-define the convolutional layers\n",
        "\n",
        "\n",
        "# Define weights for the second FC layer (fc1 is already defined in the previous model)\n",
        "W_fc2_new = \n",
        "B_fc2_new = \n",
        "# Define based on the first fully connected layer.\n",
        "fc2_new = \n",
        "\n",
        "W_fc3_new = \n",
        "B_fc3_new = \n",
        "# Define based on the second fully connected layer (fc2_new).\n",
        "logit = tf.matmul(fc2_new, W_fc3_new) + B_fc3_new\n",
        "\n",
        "y_hat = \n",
        "\n",
        "#############################################################\n",
        "\n",
        "########## Cross entropy loss ##########\n",
        "new_cross_entropy = tf.reduce_mean(tf.nn.softmax_cross_entropy_with_logits_v2(logits=logit, labels=y))\n",
        "\n",
        "############################################################\n",
        "#            TODO: Implement the optimizer so that only    #\n",
        "#                  variales defined above are updated.     #\n",
        "############################################################\n",
        "lr = 1e-4\n",
        "new_optimizer = tf.train.AdamOptimizer(learning_rate=lr)\n",
        "new_trainer = new_optimizer.minimize(cross_ent, var_list=[...])\n",
        "############################################################\n",
        "\n",
        "############################################################\n",
        "#            TODO: Implement Accuracy                      #\n",
        "############################################################\n",
        "correct_preds = \n",
        "new_accuracy  = \n",
        "############################################################"
      ],
      "execution_count": null,
      "outputs": []
    },
    {
      "cell_type": "markdown",
      "metadata": {
        "id": "eH2_ztPAwNpb"
      },
      "source": [
        "Now, go for the rest of the job and start training:"
      ]
    },
    {
      "cell_type": "code",
      "metadata": {
        "id": "IpTeXoq3wNpc"
      },
      "source": [
        "########## Training ##########\n",
        "batch_size = 64 # You are free to change it\n",
        "x_train_batches, y_train_batches = make_batches(images_train, labels_train_onehot, batch_size)\n",
        "epochs = 30  # You are free to change it\n",
        "N_Batches = len(x_train_batches)\n",
        "\n",
        "train_acc  = np.zeros(epochs)\n",
        "train_loss = np.zeros(epochs)\n",
        "val_acc  = np.zeros(epochs)\n",
        "val_loss = np.zeros(epochs)\n",
        "\n",
        "with tf.Session() as sess:\n",
        "    sess.run(tf.global_variables_initializer())\n",
        "    for epoch in range(epochs):\n",
        "        print()\n",
        "        print(\"*\" * 10, \"Epoch %3i\"%epoch, \"*\" * 10)\n",
        "\n",
        "        batch_acc = np.zeros(N_Batches)\n",
        "        batch_loss = np.zeros(N_Batches)\n",
        "        for n in range(N_Batches):\n",
        "            _, batch_acc[n], batch_loss[n] = sess.run([new_trainer, new_accuracy, new_cross_entropy],\n",
        "                                                      {x: x_train_batches[n], y: y_train_batches[n]})\n",
        "            #print(\"Batch %3d/%d: Acc:%0.4f , Loss:%0.4f\"%(n, N_Batches, batch_acc[n], batch_loss[n]))\n",
        "\n",
        "        train_acc[epoch] = np.mean(batch_acc)\n",
        "        train_loss[epoch] = np.mean(batch_loss)\n",
        "        print(\"Train:\\t\\tAccuracy= %0.4f \\tLoss= %0.4f\"%(train_acc[epoch], train_loss[epoch]))\n",
        "\n",
        "        ########## Validation ##########\n",
        "        val_acc[epoch], val_loss[epoch] = sess.run([new_accuracy, new_cross_entropy],\n",
        "                                                   {x: images_validation, y: labels_val_onehot})\n",
        "        print(\"Validation:\\tAccuracy= %0.4f \\tLoss= %0.4f\"%(val_acc[epoch], val_loss[epoch]))\n",
        "        \n",
        "############################################################\n",
        "#            TODO: Implement Test Phase                    #\n",
        "############################################################\n",
        "...\n",
        "print(\"Test:\\tAccuracy= %0.4f \\tLoss= %0.4f\"%(test_acc, test_loss))\n",
        "############################################################"
      ],
      "execution_count": null,
      "outputs": []
    },
    {
      "cell_type": "markdown",
      "metadata": {
        "id": "20qg-TgTwNpt"
      },
      "source": [
        "You can use tensorboard or the code provided in the next box to plot for loss and accuracy of training and validation data. You are expected to achieve at least 80% accuracy on the test data after training. Good Luck! ;)"
      ]
    },
    {
      "cell_type": "markdown",
      "metadata": {
        "id": "OEWgypXhwNpv"
      },
      "source": [
        "### Training Diagram"
      ]
    },
    {
      "cell_type": "code",
      "metadata": {
        "id": "zVq_NQTfwNpx"
      },
      "source": [
        "########## Plot metrics #########################\n",
        "fig = plt.figure()\n",
        "plt.plot(range(epochs), train_acc, label='Train')\n",
        "plt.plot(range(epochs), val_acc, label='Validation')\n",
        "plt.title(\"Training and Validation Accuracy\")\n",
        "plt.xlabel(\"epoch\")\n",
        "plt.ylabel(\"Accuracy\")\n",
        "plt.grid(True)\n",
        "plt.legend(loc=0)\n",
        "plt.show()\n",
        "\n",
        "fig = plt.figure()\n",
        "plt.plot(range(epochs), train_loss, label='Train')\n",
        "plt.plot(range(epochs), val_loss, label='Validation')\n",
        "plt.title(\"Training and Validation Loss\")\n",
        "plt.xlabel(\"epoch\")\n",
        "plt.ylabel(\"Cross entropy\")\n",
        "plt.grid(True)\n",
        "plt.legend(loc=0)\n",
        "plt.show()"
      ],
      "execution_count": null,
      "outputs": []
    }
  ]
}
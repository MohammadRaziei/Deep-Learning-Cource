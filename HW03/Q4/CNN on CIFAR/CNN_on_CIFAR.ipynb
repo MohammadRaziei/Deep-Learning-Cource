{
  "nbformat": 4,
  "nbformat_minor": 0,
  "metadata": {
    "colab": {
      "name": "CNN_on_CIFAR.ipynb",
      "provenance": [],
      "include_colab_link": true
    },
    "kernelspec": {
      "display_name": "Python 3",
      "language": "python",
      "name": "python3"
    },
    "language_info": {
      "codemirror_mode": {
        "name": "ipython",
        "version": 3
      },
      "file_extension": ".py",
      "mimetype": "text/x-python",
      "name": "python",
      "nbconvert_exporter": "python",
      "pygments_lexer": "ipython3",
      "version": "3.7.6"
    },
    "varInspector": {
      "cols": {
        "lenName": 16,
        "lenType": 16,
        "lenVar": 40
      },
      "kernels_config": {
        "python": {
          "delete_cmd_postfix": "",
          "delete_cmd_prefix": "del ",
          "library": "var_list.py",
          "varRefreshCmd": "print(var_dic_list())"
        },
        "r": {
          "delete_cmd_postfix": ") ",
          "delete_cmd_prefix": "rm(",
          "library": "var_list.r",
          "varRefreshCmd": "cat(var_dic_list()) "
        }
      },
      "types_to_exclude": [
        "module",
        "function",
        "builtin_function_or_method",
        "instance",
        "_Feature"
      ],
      "window_display": false
    },
    "accelerator": "GPU"
  },
  "cells": [
    {
      "cell_type": "markdown",
      "metadata": {
        "id": "view-in-github",
        "colab_type": "text"
      },
      "source": [
        "<a href=\"https://colab.research.google.com/github/MohammadRaziei/Deep-Learning-Course/blob/master/HW03/Q4/CNN%20on%20CIFAR/CNN_on_CIFAR.ipynb\" target=\"_parent\"><img src=\"https://colab.research.google.com/assets/colab-badge.svg\" alt=\"Open In Colab\"/></a>"
      ]
    },
    {
      "cell_type": "markdown",
      "metadata": {
        "id": "ruNPmyABwNlS"
      },
      "source": [
        "# EE-25620: Deep Learning"
      ]
    },
    {
      "cell_type": "markdown",
      "metadata": {
        "id": "slXaK2c-wNlW"
      },
      "source": [
        " # HW3.CNN on CIFAR (20 + 10 points)"
      ]
    },
    {
      "cell_type": "markdown",
      "metadata": {
        "id": "sBnutoDBwNlf"
      },
      "source": [
        "In this problem, we will train a CNN on CIFAR-10 database. Next, we will go through the network and visualize its layers to see what is happening there. Then, we use the trained model in a Transfer Learning approach to classifying the CIFAR-100 database."
      ]
    },
    {
      "cell_type": "markdown",
      "metadata": {
        "id": "FaG_lspJwNli"
      },
      "source": [
        "Let's start with loading data. First load the data by runing the code below:"
      ]
    },
    {
      "cell_type": "code",
      "metadata": {
        "colab": {
          "base_uri": "https://localhost:8080/",
          "height": 35
        },
        "id": "bxa9IaiF93WY",
        "outputId": "852c8a70-9a53-4af8-d92f-71dd0753ed08"
      },
      "source": [
        "%tensorflow_version 1.x"
      ],
      "execution_count": null,
      "outputs": [
        {
          "output_type": "stream",
          "text": [
            "TensorFlow 1.x selected.\n"
          ],
          "name": "stdout"
        }
      ]
    },
    {
      "cell_type": "code",
      "metadata": {
        "colab": {
          "base_uri": "https://localhost:8080/"
        },
        "id": "QoQbdc3Orf-_",
        "outputId": "c7baa5ea-12ed-46bb-b947-87fa47a8a2ea"
      },
      "source": [
        "# import tensorflow as tf\r\n",
        "import tensorflow.compat.v1 as tf\r\n",
        "tf.disable_v2_behavior()\r\n",
        "import numpy as np"
      ],
      "execution_count": 1,
      "outputs": [
        {
          "output_type": "stream",
          "text": [
            "WARNING:tensorflow:From /usr/local/lib/python3.6/dist-packages/tensorflow/python/compat/v2_compat.py:96: disable_resource_variables (from tensorflow.python.ops.variable_scope) is deprecated and will be removed in a future version.\n",
            "Instructions for updating:\n",
            "non-resource variables are not supported in the long term\n"
          ],
          "name": "stdout"
        }
      ]
    },
    {
      "cell_type": "code",
      "metadata": {
        "colab": {
          "base_uri": "https://localhost:8080/"
        },
        "id": "MAHWOO-Jroby",
        "outputId": "18c74f4a-2e99-4471-dd52-9f2a00127969"
      },
      "source": [
        "!curl -LO  'https://github.com/MohammadRaziei/Deep-Learning-Course/raw/master/HW03/Q4/CNN%20on%20CIFAR/load_data.py'\r\n",
        "!curl -LO  'https://www.cs.toronto.edu/~kriz/cifar-10-python.tar.gz' \r\n",
        "!mkdir -p data\r\n",
        "!tar -xf cifar-10-python.tar.gz -C data"
      ],
      "execution_count": 4,
      "outputs": [
        {
          "output_type": "stream",
          "text": [
            "  % Total    % Received % Xferd  Average Speed   Time    Time     Time  Current\n",
            "                                 Dload  Upload   Total   Spent    Left  Speed\n",
            "100   180  100   180    0     0   1463      0 --:--:-- --:--:-- --:--:--  1463\n",
            "100  2785  100  2785    0     0  12659      0 --:--:-- --:--:-- --:--:-- 12659\n",
            "  % Total    % Received % Xferd  Average Speed   Time    Time     Time  Current\n",
            "                                 Dload  Upload   Total   Spent    Left  Speed\n",
            "100  162M  100  162M    0     0  91.8M      0  0:00:01  0:00:01 --:--:-- 91.8M\n"
          ],
          "name": "stdout"
        }
      ]
    },
    {
      "cell_type": "code",
      "metadata": {
        "id": "hqHqgh31wNln"
      },
      "source": [
        "from load_data import load_cifar10 #this function provided in the attached file loads the data of CIFAR10 database\n",
        "\n",
        "def load_cifar10_data():\n",
        "    dataset_dir = 'data/cifar-10-batches-py'\n",
        "    \n",
        "    X_train, y_train, X_test, y_test = load_cifar10(dataset_dir)\n",
        "    X_train, X_val = X_train[:45000], X_train[45000:]\n",
        "    y_train, y_val = y_train[:45000], y_train[45000:]\n",
        "    \n",
        "    return X_train, y_train, X_val, y_val, X_test, y_test"
      ],
      "execution_count": 2,
      "outputs": []
    },
    {
      "cell_type": "code",
      "metadata": {
        "id": "NdwC55CCwNl5",
        "colab": {
          "base_uri": "https://localhost:8080/",
          "height": 372
        },
        "outputId": "79379ab2-8dc9-4ff2-e79d-00ba7fcde2ba"
      },
      "source": [
        "X_train, y_train, X_val, y_val, X_test, y_test = load_cifar10_data()\n",
        "X_train, X_val, X_test = X_train/255., X_val/255., X_test/255.\n",
        "\n",
        "print('X_train shape:', X_train.shape)\n",
        "print('y_train shape:', y_train.shape)\n",
        "print('X_val shape:', X_val.shape)\n",
        "print('y_val shape:', y_val.shape)\n",
        "print('X_test shape:', X_test.shape)\n",
        "print('y_test shape:', y_test.shape)\n",
        "\n",
        "import matplotlib.pyplot as plt\n",
        "plt.imshow(X_train[0])#represnting a sample data from CIFAR-10\n",
        "plt.show()"
      ],
      "execution_count": 3,
      "outputs": [
        {
          "output_type": "stream",
          "text": [
            "X_train shape: (45000, 32, 32, 3)\n",
            "y_train shape: (45000, 1)\n",
            "X_val shape: (5000, 32, 32, 3)\n",
            "y_val shape: (5000, 1)\n",
            "X_test shape: (10000, 32, 32, 3)\n",
            "y_test shape: (10000, 1)\n"
          ],
          "name": "stdout"
        },
        {
          "output_type": "display_data",
          "data": {
            "image/png": "[encoded data removed]",
            "text/plain": [
              "<Figure size 432x288 with 1 Axes>"
            ]
          },
          "metadata": {
            "tags": [],
            "needs_background": "light"
          }
        }
      ]
    },
    {
      "cell_type": "markdown",
      "metadata": {
        "id": "aEoqTL_HwNmK"
      },
      "source": [
        "By successfully runing the above code, you have loaded the data and also you can see a sample data from CIFAR-10."
      ]
    },
    {
      "cell_type": "markdown",
      "metadata": {
        "id": "rFVsKedowNmM"
      },
      "source": [
        "The below code will convert the labels to one-hot codes which will be later used for the classification."
      ]
    },
    {
      "cell_type": "code",
      "metadata": {
        "id": "J0BonbT0wNmP"
      },
      "source": [
        "import numpy as np\n",
        "\n",
        "from sklearn.preprocessing import OneHotEncoder # this function is used to prepare one-hot encoded labels\n",
        "encoder = OneHotEncoder(sparse=False)\n",
        "\n",
        "encoder.fit(y_train)#this line will fit 'encoder' to encode the labels\n",
        "\n",
        "y_train_onehot = encoder.transform(y_train)# encoding train labels (one-hot coding)\n",
        "y_val_onehot   = encoder.transform(y_val)  # encoding train labels (one-hot coding)\n",
        "y_test_onehot  = encoder.transform(y_test) # encoding test  labels (one-hot coding)"
      ],
      "execution_count": 4,
      "outputs": []
    },
    {
      "cell_type": "markdown",
      "metadata": {
        "id": "lspoodjLwNma"
      },
      "source": [
        "The function below is for converting data to several batches which we will use in training."
      ]
    },
    {
      "cell_type": "code",
      "metadata": {
        "id": "qnOXlQ7AwNmf"
      },
      "source": [
        "def make_batches(x, y, batch_size):\n",
        "    n = len(y)\n",
        "    steps = n // batch_size\n",
        "    if n % batch_size != 0:\n",
        "        steps += 1\n",
        "    x_batches = np.array_split(x, steps)\n",
        "    y_batches = np.array_split(y, steps)\n",
        "    return x_batches, y_batches"
      ],
      "execution_count": 5,
      "outputs": []
    },
    {
      "cell_type": "markdown",
      "metadata": {
        "id": "vT6nm9pSwNmx"
      },
      "source": [
        "## Part1: Trainig a CNN (15 pts.)"
      ]
    },
    {
      "cell_type": "markdown",
      "metadata": {
        "id": "qj_vXQlIwNmz"
      },
      "source": [
        "In this part, we are going to train a Convolutional Neural Network (CNN) with the below structure:"
      ]
    },
    {
      "cell_type": "markdown",
      "metadata": {
        "id": "0cQKYzjowNm0"
      },
      "source": [
        "1. 16 * conv(5,5), activation function =ReLU\n",
        "2. 16 * conv(5,5), activation function =ReLU\n",
        "3. Max-pooling(3,3), stride=(2,2)\n",
        "4. 32 * conv(5,5), activation function =ReLU\n",
        "5. 32 * conv(5,5), activation function =ReLU\n",
        "6. Max-pooling(3,3), stride=(2,2)\n",
        "7. 64 * conv(5,5), activation function =ReLU\n",
        "8. FC(128), activation function =ReLU\n",
        "9. FC(128), activation function =ReLU\n",
        "10. FC(10), activation function =softmax"
      ]
    },
    {
      "cell_type": "markdown",
      "metadata": {
        "id": "Vclxh0QOwNm2"
      },
      "source": [
        "Let's go to implement the model in the below box. Note that using **tf.layers** is **NOT ALLOWED** in this homework."
      ]
    },
    {
      "cell_type": "code",
      "metadata": {
        "id": "ieNwpEPowNm4"
      },
      "source": [
        "import tensorflow as tf\n",
        "import tensorflow.compat.v1 as tf\n",
        "tf.disable_v2_behavior()\n",
        "\n",
        "x = tf.placeholder(tf.float32, [None, 32, 32, 3]) # placeholder for input data\n",
        "y = tf.placeholder(tf.float32, [None, 10])# placeholder for labels (one-hot encoded)\n",
        "\n",
        "init = lambda shape: tf.truncated_normal(shape=shape, mean = 0.0, stddev = 0.01)\n",
        "\n",
        "# Define needed variables here:\n",
        "W_conv1 = tf.Variable(init(shape=[5, 5, 3, 16]),name=\"W_conv1\")\n",
        "B_conv1 = tf.Variable(init(shape=[16]),name=\"B_conv1\")\n",
        "W_conv2 = tf.Variable(init(shape=[5, 5, 16, 16]),name=\"W_conv2\")\n",
        "B_conv2 = tf.Variable(init(shape=[16]),name=\"B_conv2\")\n",
        "W_conv3 = tf.Variable(init(shape=[5, 5, 16, 32]),name=\"W_conv3\")\n",
        "B_conv3 = tf.Variable(init(shape=[32]),name=\"B_conv3\")\n",
        "W_conv4 = tf.Variable(init(shape=[5, 5, 32, 32]),name=\"W_conv4\")\n",
        "B_conv4 = tf.Variable(init(shape=[32]),name=\"B_conv4\")\n",
        "W_conv5 = tf.Variable(init(shape=[5, 5, 32, 64]),name=\"W_conv5\")\n",
        "B_conv5 = tf.Variable(init(shape=[64]),name=\"B_conv5\")\n",
        "\n",
        "# W_FC1 = tf.Variable(init(shape=[tf.math.reduce_prod(conv5.shape[1:]), 128]),name=\"W_FC1\")\n",
        "W_FC1 = tf.Variable(init(shape=[4096, 128]),name=\"W_FC1\")\n",
        "B_FC1 = tf.Variable(init(shape=[128]),name=\"B_FC1\")\n",
        "W_FC2 = tf.Variable(init(shape=[128, 128]),name=\"W_FC2\")\n",
        "B_FC2 = tf.Variable(init(shape=[128]),name=\"B_FC2\")\n",
        "W_logits = tf.Variable(init(shape=[128, 10]),name=\"W_logits\")\n",
        "B_logits = tf.Variable(init(shape=[10]),name=\"B_logits\")\n",
        "\n",
        "O_BN1 = tf.Variable(init(shape=[32]))\n",
        "S_BN1 = tf.Variable(init(shape=[32]))\n",
        "\n",
        "# Define layers here:\n",
        "conv1 = tf.nn.conv2d(x, W_conv1, strides=[1, 1, 1, 1], padding='SAME') + B_conv1\n",
        "conv1_relu = tf.nn.relu(conv1)\n",
        "drop1 = tf.nn.dropout(conv1_relu, rate=0.5)\n",
        "conv2 = tf.nn.conv2d(drop1, W_conv2, strides=[1, 1, 1, 1], padding='SAME') + B_conv2\n",
        "conv2_relu = tf.nn.relu(conv2)\n",
        "pooling1 = tf.nn.max_pool(conv2_relu, ksize=[1, 3, 3, 1], strides=[1, 2, 2, 1], padding='SAME')\n",
        "conv3 = tf.nn.conv2d(pooling1, W_conv3, strides=[1, 1, 1, 1], padding='SAME') + B_conv3\n",
        "conv3_relu = tf.nn.relu(conv3)\n",
        "drop2 = tf.nn.dropout(conv3_relu, rate=0.5)\n",
        "bn1 = tf.nn.batch_normalization(drop2,mean=tf.reduce_mean(drop2),variance=tf.math.reduce_variance(drop2),offset=O_BN1, scale=S_BN1, variance_epsilon=0.01)\n",
        "conv4 = tf.nn.conv2d(bn1, W_conv4, strides=[1, 1, 1, 1], padding='SAME') + B_conv4\n",
        "conv4_relu = tf.nn.relu(conv4)\n",
        "pooling2 = tf.nn.max_pool(conv4_relu, ksize=[1, 3, 3, 1], strides=[1, 2, 2, 1], padding='SAME')\n",
        "conv5 = tf.nn.conv2d(pooling2, W_conv5, strides=[1, 1, 1, 1], padding='SAME') + B_conv5\n",
        "conv5_relu = tf.nn.relu(conv5)   \n",
        "\n",
        "flat_conv5 = tf.reshape(conv5_relu, [-1, conv5.shape[1]*conv5.shape[2]*conv5.shape[3]])\n",
        "\n",
        "FC1 = tf.matmul(flat_conv5, W_FC1) + B_FC1\n",
        "FC1_relu = tf.nn.relu(FC1)\n",
        "FC2 = tf.matmul(FC1_relu, W_FC2) + B_FC2\n",
        "FC2_relu = tf.nn.relu(FC2)\n",
        "logits = tf.matmul(FC2_relu, W_logits) + B_logits\n",
        "y_hat = tf.nn.softmax(logits)"
      ],
      "execution_count": 9,
      "outputs": []
    },
    {
      "cell_type": "markdown",
      "metadata": {
        "id": "C0sa7Vq0wNnD"
      },
      "source": [
        "Now you need to define an optimizer. You are free to use any optimizer. You can change optimizer or learning rate if you want :)"
      ]
    },
    {
      "cell_type": "code",
      "metadata": {
        "id": "0_DW15PowNnF"
      },
      "source": [
        "# Cross entropy loss:\n",
        "cross_entropy = tf.reduce_mean(tf.nn.softmax_cross_entropy_with_logits_v2(logits=logits, labels=y))\n",
        "# Note: logits in the above line is the last layer values (a 10-neuron layer) before the softmax activation function. \n",
        "#       In other words, you may have written y_hat = tf.nn.softmax(logits) in the above box in which y_hat is the output\n",
        "#       of the network.\n",
        "\n",
        "# Adam optimizer:\n",
        "lr = 1e-4 # learning rate\n",
        "optimizer = tf.train.AdamOptimizer(learning_rate=lr)\n",
        "trainer = optimizer.minimize(cross_entropy)\n",
        "\n",
        "# TODO: Implement Accuracy:\n",
        "correct_preds = tf.argmax(y, axis=1)\n",
        "accuracy = tf.reduce_mean(tf.cast(tf.equal(tf.argmax(y_hat, axis=1), correct_preds),tf.float64))\n",
        "# Note: The defined accuray does not play any role in the optimization process. However, it is a mtric which we can \n",
        "#       use as a log for mintoring training process with more metrics rather than a single loss function.\n"
      ],
      "execution_count": 10,
      "outputs": []
    },
    {
      "cell_type": "markdown",
      "metadata": {
        "id": "nGi4LigBwNnP"
      },
      "source": [
        "You can go for the rest of the job, handle the Session and go for training. \n",
        "You can use tensorboard or the code provided in the next box to plot for loss and accuracy of training and validation data.\n",
        "You are expected to achieve at least 60% accuracy on the test data after the training process. Good Luck! ;)"
      ]
    },
    {
      "cell_type": "code",
      "metadata": {
        "id": "_xQWnoDvwNnR",
        "colab": {
          "base_uri": "https://localhost:8080/"
        },
        "outputId": "148dc092-9971-4e3d-e3de-47c3b4d66da3"
      },
      "source": [
        "########## Training ##########\n",
        "batch_size = 64 # You are free to change it\n",
        "x_train_batches, y_train_batches = make_batches(X_train, y_train_onehot, batch_size)\n",
        "epochs = 100  # You are free to change it\n",
        "N_Batches = len(x_train_batches)\n",
        "\n",
        "train_acc  = np.zeros(epochs)\n",
        "train_loss = np.zeros(epochs)\n",
        "val_acc  = np.zeros(epochs)\n",
        "val_loss = np.zeros(epochs)\n",
        "\n",
        "with tf.Session() as sess:\n",
        "    sess.run(tf.global_variables_initializer())\n",
        "\n",
        "    for epoch in range(epochs):\n",
        "        print()\n",
        "        print(\"*\" * 10, \"Epoch {}\".format(epoch+1), \"*\" * 10)\n",
        "\n",
        "        batch_acc = np.zeros(N_Batches)\n",
        "        batch_loss = np.zeros(N_Batches)\n",
        "        for n in range(N_Batches):\n",
        "            _, batch_acc[n], batch_loss[n] = sess.run([trainer, accuracy, cross_entropy],\n",
        "                                                      {x: x_train_batches[n], y: y_train_batches[n]})\n",
        "            #print(\"Batch %3d/%d: Acc:%0.4f , Loss:%0.4f\"%(n, N_Batches, batch_acc[n], batch_loss[n]))\n",
        "\n",
        "        train_acc[epoch] = np.mean(batch_acc)\n",
        "        train_loss[epoch] = np.mean(batch_loss)\n",
        "        print(\"Train:\\t\\tAccuracy= %0.4f \\tLoss= %0.4f\"%(train_acc[epoch], train_loss[epoch]))\n",
        "\n",
        "        ########## Validation ##########\n",
        "        val_acc[epoch], val_loss[epoch] = sess.run([accuracy, cross_entropy],\n",
        "                                                   {x: X_val, y: y_val_onehot})\n",
        "        print(\"Validation:\\tAccuracy= %0.4f \\tLoss= %0.4f\"%(val_acc[epoch], val_loss[epoch]))\n",
        "        \n",
        "    ############################################################\n",
        "    #            TODO: Implement Test Phase                    #\n",
        "    ############################################################\n",
        "    test_acc, test_loss = sess.run([accuracy, cross_entropy],{x: X_test, y: y_test_onehot})\n",
        "    print(\"Test:\\tAccuracy= %0.4f \\tLoss= %0.4f\"%(test_acc, test_loss))\n",
        "    ############################################################\n",
        "    "
      ],
      "execution_count": 14,
      "outputs": [
        {
          "output_type": "stream",
          "text": [
            "\n",
            "********** Epoch 1 **********\n",
            "Train:\t\tAccuracy= 0.1005 \tLoss= 2.3026\n",
            "Validation:\tAccuracy= 0.0958 \tLoss= 2.3027\n",
            "\n",
            "********** Epoch 2 **********\n",
            "Train:\t\tAccuracy= 0.1005 \tLoss= 2.3026\n",
            "Validation:\tAccuracy= 0.0958 \tLoss= 2.3027\n",
            "\n",
            "********** Epoch 3 **********\n",
            "Train:\t\tAccuracy= 0.2178 \tLoss= 2.0462\n",
            "Validation:\tAccuracy= 0.2616 \tLoss= 1.9195\n",
            "\n",
            "********** Epoch 4 **********\n",
            "Train:\t\tAccuracy= 0.2834 \tLoss= 1.8756\n",
            "Validation:\tAccuracy= 0.3034 \tLoss= 1.8352\n",
            "\n",
            "********** Epoch 5 **********\n",
            "Train:\t\tAccuracy= 0.3081 \tLoss= 1.8065\n",
            "Validation:\tAccuracy= 0.3156 \tLoss= 1.7694\n",
            "\n",
            "********** Epoch 6 **********\n",
            "Train:\t\tAccuracy= 0.3307 \tLoss= 1.7520\n",
            "Validation:\tAccuracy= 0.3368 \tLoss= 1.7252\n",
            "\n",
            "********** Epoch 7 **********\n",
            "Train:\t\tAccuracy= 0.3427 \tLoss= 1.7162\n",
            "Validation:\tAccuracy= 0.3438 \tLoss= 1.7011\n",
            "\n",
            "********** Epoch 8 **********\n",
            "Train:\t\tAccuracy= 0.3562 \tLoss= 1.6893\n",
            "Validation:\tAccuracy= 0.3558 \tLoss= 1.6820\n",
            "\n",
            "********** Epoch 9 **********\n",
            "Train:\t\tAccuracy= 0.3708 \tLoss= 1.6615\n",
            "Validation:\tAccuracy= 0.3696 \tLoss= 1.6516\n",
            "\n",
            "********** Epoch 10 **********\n",
            "Train:\t\tAccuracy= 0.3839 \tLoss= 1.6337\n",
            "Validation:\tAccuracy= 0.3820 \tLoss= 1.6232\n",
            "\n",
            "********** Epoch 11 **********\n",
            "Train:\t\tAccuracy= 0.3959 \tLoss= 1.6061\n",
            "Validation:\tAccuracy= 0.4058 \tLoss= 1.5940\n",
            "\n",
            "********** Epoch 12 **********\n",
            "Train:\t\tAccuracy= 0.4110 \tLoss= 1.5777\n",
            "Validation:\tAccuracy= 0.4096 \tLoss= 1.5757\n",
            "\n",
            "********** Epoch 13 **********\n",
            "Train:\t\tAccuracy= 0.4241 \tLoss= 1.5479\n",
            "Validation:\tAccuracy= 0.4242 \tLoss= 1.5522\n",
            "\n",
            "********** Epoch 14 **********\n",
            "Train:\t\tAccuracy= 0.4377 \tLoss= 1.5160\n",
            "Validation:\tAccuracy= 0.4374 \tLoss= 1.5304\n",
            "\n",
            "********** Epoch 15 **********\n",
            "Train:\t\tAccuracy= 0.4485 \tLoss= 1.4888\n",
            "Validation:\tAccuracy= 0.4472 \tLoss= 1.4978\n",
            "\n",
            "********** Epoch 16 **********\n",
            "Train:\t\tAccuracy= 0.4577 \tLoss= 1.4641\n",
            "Validation:\tAccuracy= 0.4570 \tLoss= 1.4636\n",
            "\n",
            "********** Epoch 17 **********\n",
            "Train:\t\tAccuracy= 0.4653 \tLoss= 1.4433\n",
            "Validation:\tAccuracy= 0.4678 \tLoss= 1.4583\n",
            "\n",
            "********** Epoch 18 **********\n",
            "Train:\t\tAccuracy= 0.4749 \tLoss= 1.4229\n",
            "Validation:\tAccuracy= 0.4826 \tLoss= 1.4129\n",
            "\n",
            "********** Epoch 19 **********\n",
            "Train:\t\tAccuracy= 0.4803 \tLoss= 1.4034\n",
            "Validation:\tAccuracy= 0.4932 \tLoss= 1.4050\n",
            "\n",
            "********** Epoch 20 **********\n",
            "Train:\t\tAccuracy= 0.4869 \tLoss= 1.3879\n",
            "Validation:\tAccuracy= 0.4886 \tLoss= 1.3957\n",
            "\n",
            "********** Epoch 21 **********\n",
            "Train:\t\tAccuracy= 0.4932 \tLoss= 1.3742\n",
            "Validation:\tAccuracy= 0.4998 \tLoss= 1.3817\n",
            "\n",
            "********** Epoch 22 **********\n",
            "Train:\t\tAccuracy= 0.4989 \tLoss= 1.3609\n",
            "Validation:\tAccuracy= 0.5152 \tLoss= 1.3391\n",
            "\n",
            "********** Epoch 23 **********\n",
            "Train:\t\tAccuracy= 0.5071 \tLoss= 1.3448\n",
            "Validation:\tAccuracy= 0.5132 \tLoss= 1.3306\n",
            "\n",
            "********** Epoch 24 **********\n",
            "Train:\t\tAccuracy= 0.5114 \tLoss= 1.3327\n",
            "Validation:\tAccuracy= 0.5184 \tLoss= 1.3345\n",
            "\n",
            "********** Epoch 25 **********\n",
            "Train:\t\tAccuracy= 0.5167 \tLoss= 1.3192\n",
            "Validation:\tAccuracy= 0.5188 \tLoss= 1.3196\n",
            "\n",
            "********** Epoch 26 **********\n",
            "Train:\t\tAccuracy= 0.5219 \tLoss= 1.3108\n",
            "Validation:\tAccuracy= 0.5256 \tLoss= 1.3028\n",
            "\n",
            "********** Epoch 27 **********\n",
            "Train:\t\tAccuracy= 0.5268 \tLoss= 1.2946\n",
            "Validation:\tAccuracy= 0.5222 \tLoss= 1.3069\n",
            "\n",
            "********** Epoch 28 **********\n",
            "Train:\t\tAccuracy= 0.5340 \tLoss= 1.2824\n",
            "Validation:\tAccuracy= 0.5284 \tLoss= 1.2923\n",
            "\n",
            "********** Epoch 29 **********\n",
            "Train:\t\tAccuracy= 0.5364 \tLoss= 1.2734\n",
            "Validation:\tAccuracy= 0.5408 \tLoss= 1.2691\n",
            "\n",
            "********** Epoch 30 **********\n",
            "Train:\t\tAccuracy= 0.5389 \tLoss= 1.2662\n",
            "Validation:\tAccuracy= 0.5488 \tLoss= 1.2565\n",
            "\n",
            "********** Epoch 31 **********\n",
            "Train:\t\tAccuracy= 0.5451 \tLoss= 1.2508\n",
            "Validation:\tAccuracy= 0.5544 \tLoss= 1.2376\n",
            "\n",
            "********** Epoch 32 **********\n",
            "Train:\t\tAccuracy= 0.5509 \tLoss= 1.2409\n",
            "Validation:\tAccuracy= 0.5528 \tLoss= 1.2334\n",
            "\n",
            "********** Epoch 33 **********\n",
            "Train:\t\tAccuracy= 0.5546 \tLoss= 1.2272\n",
            "Validation:\tAccuracy= 0.5602 \tLoss= 1.2228\n",
            "\n",
            "********** Epoch 34 **********\n",
            "Train:\t\tAccuracy= 0.5612 \tLoss= 1.2151\n",
            "Validation:\tAccuracy= 0.5598 \tLoss= 1.2265\n",
            "\n",
            "********** Epoch 35 **********\n",
            "Train:\t\tAccuracy= 0.5655 \tLoss= 1.2044\n",
            "Validation:\tAccuracy= 0.5716 \tLoss= 1.1955\n",
            "\n",
            "********** Epoch 36 **********\n",
            "Train:\t\tAccuracy= 0.5706 \tLoss= 1.1894\n",
            "Validation:\tAccuracy= 0.5682 \tLoss= 1.1812\n",
            "\n",
            "********** Epoch 37 **********\n",
            "Train:\t\tAccuracy= 0.5725 \tLoss= 1.1818\n",
            "Validation:\tAccuracy= 0.5746 \tLoss= 1.1799\n",
            "\n",
            "********** Epoch 38 **********\n",
            "Train:\t\tAccuracy= 0.5778 \tLoss= 1.1687\n",
            "Validation:\tAccuracy= 0.5680 \tLoss= 1.1764\n",
            "\n",
            "********** Epoch 39 **********\n",
            "Train:\t\tAccuracy= 0.5847 \tLoss= 1.1528\n",
            "Validation:\tAccuracy= 0.5824 \tLoss= 1.1541\n",
            "\n",
            "********** Epoch 40 **********\n",
            "Train:\t\tAccuracy= 0.5856 \tLoss= 1.1435\n",
            "Validation:\tAccuracy= 0.5948 \tLoss= 1.1364\n",
            "\n",
            "********** Epoch 41 **********\n",
            "Train:\t\tAccuracy= 0.5951 \tLoss= 1.1264\n",
            "Validation:\tAccuracy= 0.5942 \tLoss= 1.1255\n",
            "\n",
            "********** Epoch 42 **********\n",
            "Train:\t\tAccuracy= 0.5939 \tLoss= 1.1207\n",
            "Validation:\tAccuracy= 0.5942 \tLoss= 1.1262\n",
            "\n",
            "********** Epoch 43 **********\n",
            "Train:\t\tAccuracy= 0.6033 \tLoss= 1.1075\n",
            "Validation:\tAccuracy= 0.5996 \tLoss= 1.1035\n",
            "\n",
            "********** Epoch 44 **********\n",
            "Train:\t\tAccuracy= 0.6066 \tLoss= 1.0941\n",
            "Validation:\tAccuracy= 0.5988 \tLoss= 1.1026\n",
            "\n",
            "********** Epoch 45 **********\n",
            "Train:\t\tAccuracy= 0.6096 \tLoss= 1.0867\n",
            "Validation:\tAccuracy= 0.6088 \tLoss= 1.0939\n",
            "\n",
            "********** Epoch 46 **********\n",
            "Train:\t\tAccuracy= 0.6123 \tLoss= 1.0786\n",
            "Validation:\tAccuracy= 0.6124 \tLoss= 1.0820\n",
            "\n",
            "********** Epoch 47 **********\n",
            "Train:\t\tAccuracy= 0.6132 \tLoss= 1.0722\n",
            "Validation:\tAccuracy= 0.6144 \tLoss= 1.0829\n",
            "\n",
            "********** Epoch 48 **********\n",
            "Train:\t\tAccuracy= 0.6205 \tLoss= 1.0582\n",
            "Validation:\tAccuracy= 0.6266 \tLoss= 1.0680\n",
            "\n",
            "********** Epoch 49 **********\n",
            "Train:\t\tAccuracy= 0.6217 \tLoss= 1.0488\n",
            "Validation:\tAccuracy= 0.6204 \tLoss= 1.0716\n",
            "\n",
            "********** Epoch 50 **********\n",
            "Train:\t\tAccuracy= 0.6261 \tLoss= 1.0383\n",
            "Validation:\tAccuracy= 0.6236 \tLoss= 1.0472\n",
            "\n",
            "********** Epoch 51 **********\n",
            "Train:\t\tAccuracy= 0.6321 \tLoss= 1.0295\n",
            "Validation:\tAccuracy= 0.6264 \tLoss= 1.0417\n",
            "\n",
            "********** Epoch 52 **********\n",
            "Train:\t\tAccuracy= 0.6298 \tLoss= 1.0242\n",
            "Validation:\tAccuracy= 0.6314 \tLoss= 1.0344\n",
            "\n",
            "********** Epoch 53 **********\n",
            "Train:\t\tAccuracy= 0.6343 \tLoss= 1.0176\n",
            "Validation:\tAccuracy= 0.6368 \tLoss= 1.0260\n",
            "\n",
            "********** Epoch 54 **********\n",
            "Train:\t\tAccuracy= 0.6386 \tLoss= 1.0054\n",
            "Validation:\tAccuracy= 0.6342 \tLoss= 1.0296\n",
            "\n",
            "********** Epoch 55 **********\n",
            "Train:\t\tAccuracy= 0.6416 \tLoss= 0.9979\n",
            "Validation:\tAccuracy= 0.6438 \tLoss= 1.0110\n",
            "\n",
            "********** Epoch 56 **********\n",
            "Train:\t\tAccuracy= 0.6481 \tLoss= 0.9865\n",
            "Validation:\tAccuracy= 0.6404 \tLoss= 1.0116\n",
            "\n",
            "********** Epoch 57 **********\n",
            "Train:\t\tAccuracy= 0.6481 \tLoss= 0.9839\n",
            "Validation:\tAccuracy= 0.6450 \tLoss= 1.0022\n",
            "\n",
            "********** Epoch 58 **********\n",
            "Train:\t\tAccuracy= 0.6516 \tLoss= 0.9770\n",
            "Validation:\tAccuracy= 0.6500 \tLoss= 1.0025\n",
            "\n",
            "********** Epoch 59 **********\n",
            "Train:\t\tAccuracy= 0.6537 \tLoss= 0.9684\n",
            "Validation:\tAccuracy= 0.6482 \tLoss= 0.9985\n",
            "\n",
            "********** Epoch 60 **********\n",
            "Train:\t\tAccuracy= 0.6536 \tLoss= 0.9608\n",
            "Validation:\tAccuracy= 0.6514 \tLoss= 0.9847\n",
            "\n",
            "********** Epoch 61 **********\n",
            "Train:\t\tAccuracy= 0.6581 \tLoss= 0.9524\n",
            "Validation:\tAccuracy= 0.6544 \tLoss= 0.9893\n",
            "\n",
            "********** Epoch 62 **********\n",
            "Train:\t\tAccuracy= 0.6611 \tLoss= 0.9469\n",
            "Validation:\tAccuracy= 0.6618 \tLoss= 0.9684\n",
            "\n",
            "********** Epoch 63 **********\n",
            "Train:\t\tAccuracy= 0.6656 \tLoss= 0.9366\n",
            "Validation:\tAccuracy= 0.6522 \tLoss= 0.9775\n",
            "\n",
            "********** Epoch 64 **********\n",
            "Train:\t\tAccuracy= 0.6675 \tLoss= 0.9286\n",
            "Validation:\tAccuracy= 0.6586 \tLoss= 0.9669\n",
            "\n",
            "********** Epoch 65 **********\n",
            "Train:\t\tAccuracy= 0.6688 \tLoss= 0.9230\n",
            "Validation:\tAccuracy= 0.6566 \tLoss= 0.9712\n",
            "\n",
            "********** Epoch 66 **********\n",
            "Train:\t\tAccuracy= 0.6721 \tLoss= 0.9174\n",
            "Validation:\tAccuracy= 0.6598 \tLoss= 0.9659\n",
            "\n",
            "********** Epoch 67 **********\n",
            "Train:\t\tAccuracy= 0.6742 \tLoss= 0.9087\n",
            "Validation:\tAccuracy= 0.6576 \tLoss= 0.9753\n",
            "\n",
            "********** Epoch 68 **********\n",
            "Train:\t\tAccuracy= 0.6759 \tLoss= 0.9047\n",
            "Validation:\tAccuracy= 0.6634 \tLoss= 0.9518\n",
            "\n",
            "********** Epoch 69 **********\n",
            "Train:\t\tAccuracy= 0.6786 \tLoss= 0.8975\n",
            "Validation:\tAccuracy= 0.6666 \tLoss= 0.9482\n",
            "\n",
            "********** Epoch 70 **********\n",
            "Train:\t\tAccuracy= 0.6811 \tLoss= 0.8881\n",
            "Validation:\tAccuracy= 0.6654 \tLoss= 0.9487\n",
            "\n",
            "********** Epoch 71 **********\n",
            "Train:\t\tAccuracy= 0.6833 \tLoss= 0.8869\n",
            "Validation:\tAccuracy= 0.6694 \tLoss= 0.9508\n",
            "\n",
            "********** Epoch 72 **********\n",
            "Train:\t\tAccuracy= 0.6867 \tLoss= 0.8776\n",
            "Validation:\tAccuracy= 0.6704 \tLoss= 0.9434\n",
            "\n",
            "********** Epoch 73 **********\n",
            "Train:\t\tAccuracy= 0.6891 \tLoss= 0.8702\n",
            "Validation:\tAccuracy= 0.6766 \tLoss= 0.9266\n",
            "\n",
            "********** Epoch 74 **********\n",
            "Train:\t\tAccuracy= 0.6917 \tLoss= 0.8648\n",
            "Validation:\tAccuracy= 0.6718 \tLoss= 0.9425\n",
            "\n",
            "********** Epoch 75 **********\n",
            "Train:\t\tAccuracy= 0.6920 \tLoss= 0.8627\n",
            "Validation:\tAccuracy= 0.6792 \tLoss= 0.9205\n",
            "\n",
            "********** Epoch 76 **********\n",
            "Train:\t\tAccuracy= 0.6961 \tLoss= 0.8504\n",
            "Validation:\tAccuracy= 0.6700 \tLoss= 0.9312\n",
            "\n",
            "********** Epoch 77 **********\n",
            "Train:\t\tAccuracy= 0.6967 \tLoss= 0.8486\n",
            "Validation:\tAccuracy= 0.6806 \tLoss= 0.9190\n",
            "\n",
            "********** Epoch 78 **********\n",
            "Train:\t\tAccuracy= 0.7022 \tLoss= 0.8384\n",
            "Validation:\tAccuracy= 0.6858 \tLoss= 0.9060\n",
            "\n",
            "********** Epoch 79 **********\n",
            "Train:\t\tAccuracy= 0.7038 \tLoss= 0.8345\n",
            "Validation:\tAccuracy= 0.6754 \tLoss= 0.9304\n",
            "\n",
            "********** Epoch 80 **********\n",
            "Train:\t\tAccuracy= 0.7065 \tLoss= 0.8262\n",
            "Validation:\tAccuracy= 0.6900 \tLoss= 0.8932\n",
            "\n",
            "********** Epoch 81 **********\n",
            "Train:\t\tAccuracy= 0.7074 \tLoss= 0.8210\n",
            "Validation:\tAccuracy= 0.6814 \tLoss= 0.9117\n",
            "\n",
            "********** Epoch 82 **********\n",
            "Train:\t\tAccuracy= 0.7074 \tLoss= 0.8183\n",
            "Validation:\tAccuracy= 0.6820 \tLoss= 0.9051\n",
            "\n",
            "********** Epoch 83 **********\n",
            "Train:\t\tAccuracy= 0.7103 \tLoss= 0.8150\n",
            "Validation:\tAccuracy= 0.6878 \tLoss= 0.8989\n",
            "\n",
            "********** Epoch 84 **********\n",
            "Train:\t\tAccuracy= 0.7127 \tLoss= 0.8067\n",
            "Validation:\tAccuracy= 0.6862 \tLoss= 0.9015\n",
            "\n",
            "********** Epoch 85 **********\n",
            "Train:\t\tAccuracy= 0.7159 \tLoss= 0.8012\n",
            "Validation:\tAccuracy= 0.6972 \tLoss= 0.8827\n",
            "\n",
            "********** Epoch 86 **********\n",
            "Train:\t\tAccuracy= 0.7166 \tLoss= 0.7958\n",
            "Validation:\tAccuracy= 0.6948 \tLoss= 0.8872\n",
            "\n",
            "********** Epoch 87 **********\n",
            "Train:\t\tAccuracy= 0.7187 \tLoss= 0.7891\n",
            "Validation:\tAccuracy= 0.6982 \tLoss= 0.8843\n",
            "\n",
            "********** Epoch 88 **********\n",
            "Train:\t\tAccuracy= 0.7206 \tLoss= 0.7839\n",
            "Validation:\tAccuracy= 0.6900 \tLoss= 0.8923\n",
            "\n",
            "********** Epoch 89 **********\n",
            "Train:\t\tAccuracy= 0.7226 \tLoss= 0.7770\n",
            "Validation:\tAccuracy= 0.6924 \tLoss= 0.8805\n",
            "\n",
            "********** Epoch 90 **********\n",
            "Train:\t\tAccuracy= 0.7245 \tLoss= 0.7748\n",
            "Validation:\tAccuracy= 0.6920 \tLoss= 0.8842\n",
            "\n",
            "********** Epoch 91 **********\n",
            "Train:\t\tAccuracy= 0.7297 \tLoss= 0.7633\n",
            "Validation:\tAccuracy= 0.6990 \tLoss= 0.8773\n",
            "\n",
            "********** Epoch 92 **********\n",
            "Train:\t\tAccuracy= 0.7312 \tLoss= 0.7622\n",
            "Validation:\tAccuracy= 0.6960 \tLoss= 0.8863\n",
            "\n",
            "********** Epoch 93 **********\n",
            "Train:\t\tAccuracy= 0.7315 \tLoss= 0.7570\n",
            "Validation:\tAccuracy= 0.6874 \tLoss= 0.8940\n",
            "\n",
            "********** Epoch 94 **********\n",
            "Train:\t\tAccuracy= 0.7314 \tLoss= 0.7520\n",
            "Validation:\tAccuracy= 0.7004 \tLoss= 0.8683\n",
            "\n",
            "********** Epoch 95 **********\n",
            "Train:\t\tAccuracy= 0.7342 \tLoss= 0.7457\n",
            "Validation:\tAccuracy= 0.6956 \tLoss= 0.8724\n",
            "\n",
            "********** Epoch 96 **********\n",
            "Train:\t\tAccuracy= 0.7392 \tLoss= 0.7386\n",
            "Validation:\tAccuracy= 0.6950 \tLoss= 0.9000\n",
            "\n",
            "********** Epoch 97 **********\n",
            "Train:\t\tAccuracy= 0.7390 \tLoss= 0.7343\n",
            "Validation:\tAccuracy= 0.7062 \tLoss= 0.8623\n",
            "\n",
            "********** Epoch 98 **********\n",
            "Train:\t\tAccuracy= 0.7401 \tLoss= 0.7313\n",
            "Validation:\tAccuracy= 0.6882 \tLoss= 0.9008\n",
            "\n",
            "********** Epoch 99 **********\n",
            "Train:\t\tAccuracy= 0.7434 \tLoss= 0.7237\n",
            "Validation:\tAccuracy= 0.6930 \tLoss= 0.8956\n",
            "\n",
            "********** Epoch 100 **********\n",
            "Train:\t\tAccuracy= 0.7449 \tLoss= 0.7172\n",
            "Validation:\tAccuracy= 0.6914 \tLoss= 0.8869\n",
            "Test:\tAccuracy= 0.6816 \tLoss= 0.9176\n"
          ],
          "name": "stdout"
        }
      ]
    },
    {
      "cell_type": "markdown",
      "metadata": {
        "id": "cY2Xy-T-wNnY"
      },
      "source": [
        "### Training Diagram"
      ]
    },
    {
      "cell_type": "code",
      "metadata": {
        "id": "YPhA7yJZwNnb",
        "colab": {
          "base_uri": "https://localhost:8080/",
          "height": 573
        },
        "outputId": "a9bb7b4f-8c21-49dc-d4ee-0963ccaef00a"
      },
      "source": [
        "########## Plot metrics #########################\n",
        "fig = plt.figure()\n",
        "plt.plot(range(epochs), train_acc, label='Train')\n",
        "plt.plot(range(epochs), val_acc, label='Validation')\n",
        "plt.title(\"Training and Validation Accuracy\")\n",
        "plt.xlabel(\"epoch\")\n",
        "plt.ylabel(\"Accuracy\")\n",
        "plt.grid(True)\n",
        "plt.legend(loc=0)\n",
        "plt.show()\n",
        "\n",
        "fig = plt.figure()\n",
        "plt.plot(range(epochs), train_loss, label='Train')\n",
        "plt.plot(range(epochs), val_loss, label='Validation')\n",
        "plt.title(\"Training and Validation Loss\")\n",
        "plt.xlabel(\"epoch\")\n",
        "plt.ylabel(\"Cross entropy\")\n",
        "plt.grid(True)\n",
        "plt.legend(loc=0)\n",
        "plt.show()"
      ],
      "execution_count": 15,
      "outputs": [
        {
          "output_type": "display_data",
          "data": {
            "image/png": "[encoded data removed]",
            "text/plain": [
              "<Figure size 432x288 with 1 Axes>"
            ]
          },
          "metadata": {
            "tags": [],
            "needs_background": "light"
          }
        },
        {
          "output_type": "display_data",
          "data": {
            "image/png": "[encoded data removed]",
            "text/plain": [
              "<Figure size 432x288 with 1 Axes>"
            ]
          },
          "metadata": {
            "tags": [],
            "needs_background": "light"
          }
        }
      ]
    },
    {
      "cell_type": "markdown",
      "metadata": {
        "id": "YcSWtBZ4wNnk"
      },
      "source": [
        "## Part2: Visualizing the Network (5 pts.)"
      ]
    },
    {
      "cell_type": "markdown",
      "metadata": {
        "id": "_CD6vEwAwNnm"
      },
      "source": [
        "Now, we want to check the weights to see how the network realy works and what it does. Consider the wieghts of the first convolutional layer, find its weights values and print the values of 2 arbitrary filters:"
      ]
    },
    {
      "cell_type": "code",
      "metadata": {
        "id": "5PKw60njwNno",
        "colab": {
          "base_uri": "https://localhost:8080/"
        },
        "outputId": "5c069839-192a-4b28-8be4-87a324d0919c"
      },
      "source": [
        "##########################################################################\n",
        "# TODO                                                                   #\n",
        "# Note: To retrieve the values of the weight-variables from TensorFlow,  #\n",
        "#       feed-dict is not necessary because                               #\n",
        "#       nothing is calculated.                                           #\n",
        "#       e.g., w = sess.run(weights)                                      #\n",
        "##########################################################################\n",
        "\n",
        "with tf.Session() as sess:\n",
        "    sess.run(tf.global_variables_initializer())\n",
        "    w1 = sess.run(W_conv1)\n",
        "    print(w1)\n",
        "    w2 = sess.run(W_conv5)\n",
        "    print(w2)\n",
        "##########################################################################"
      ],
      "execution_count": 16,
      "outputs": [
        {
          "output_type": "stream",
          "text": [
            "[[[[-1.04067065e-02  1.25288439e-03  2.08075950e-03 ... -6.31039822e-03\n",
            "     7.34447408e-03 -6.98217843e-03]\n",
            "   [-1.76182701e-04  3.38691846e-03  3.14599107e-04 ...  4.02315799e-03\n",
            "     1.15948487e-02  1.11809922e-02]\n",
            "   [ 7.32803345e-03 -4.09529544e-03  2.17887602e-04 ...  4.52842750e-03\n",
            "     2.59729940e-03  4.27989755e-03]]\n",
            "\n",
            "  [[ 9.99654760e-04  1.30748162e-02 -1.42263519e-02 ... -1.89452227e-02\n",
            "    -2.43292958e-03  5.79107879e-03]\n",
            "   [-3.93735198e-03 -8.63881491e-04  5.68772957e-04 ... -9.23504820e-04\n",
            "    -1.18311644e-02  1.15020107e-03]\n",
            "   [-6.39614242e-04  5.84293110e-03  4.69530094e-03 ...  1.79022532e-02\n",
            "     1.90226510e-02 -5.68374759e-04]]\n",
            "\n",
            "  [[ 3.66364443e-03  1.22114886e-02  4.77758795e-03 ... -8.69363919e-03\n",
            "     1.35442726e-02  1.03113828e-02]\n",
            "   [ 3.73552321e-03 -2.09587533e-03  8.14392697e-05 ...  6.79840241e-03\n",
            "    -8.09038710e-03  7.05219479e-03]\n",
            "   [-1.17678763e-02 -2.31644604e-03  1.73195987e-03 ... -1.23595316e-02\n",
            "    -3.29367747e-03  1.52285974e-02]]\n",
            "\n",
            "  [[ 6.52889954e-03  5.70635265e-03 -1.76272057e-02 ...  1.49725555e-02\n",
            "     1.67371938e-03 -6.18854165e-03]\n",
            "   [-6.02075877e-03 -1.29819475e-02  1.54331280e-02 ...  4.81468253e-03\n",
            "     1.06289424e-02 -1.85676645e-02]\n",
            "   [ 6.18132530e-03  6.33991603e-03  3.62674473e-03 ... -5.00916131e-03\n",
            "    -9.11138672e-03 -3.51267424e-03]]\n",
            "\n",
            "  [[-1.06828105e-04  5.77438110e-03 -2.32228776e-03 ...  9.17699095e-03\n",
            "     1.74009870e-03 -1.13125276e-02]\n",
            "   [ 8.23438354e-03 -9.08393040e-03 -9.01315827e-03 ... -4.71794512e-03\n",
            "    -1.54314563e-02  1.00196535e-02]\n",
            "   [ 1.48571488e-02 -3.08705354e-03  1.41190481e-03 ... -1.97573006e-03\n",
            "    -1.05170691e-02  9.24782548e-03]]]\n",
            "\n",
            "\n",
            " [[[-1.01501867e-03 -2.78985221e-03 -1.03064217e-02 ... -1.25937099e-02\n",
            "     5.56973927e-03  1.40925441e-02]\n",
            "   [-1.63189799e-03  3.18168011e-03  1.27366865e-02 ... -1.40243582e-03\n",
            "     1.48651795e-03 -1.09633629e-03]\n",
            "   [-9.25076136e-04 -1.07027898e-02  5.70579479e-03 ...  1.66790355e-02\n",
            "     3.50750471e-03  1.58331785e-02]]\n",
            "\n",
            "  [[-1.06135923e-02  3.88891692e-03 -6.33566128e-03 ... -4.56444127e-03\n",
            "    -1.15576526e-02 -6.24198839e-03]\n",
            "   [ 1.17541887e-02  9.31158476e-03 -5.58087649e-03 ...  1.00022946e-02\n",
            "     2.16965491e-04  4.40619793e-03]\n",
            "   [ 4.70131263e-03  7.06544844e-03  3.60923912e-03 ...  7.25649623e-03\n",
            "    -2.61433190e-03  2.03946629e-03]]\n",
            "\n",
            "  [[ 7.57694663e-03  2.64538615e-03  5.82672516e-03 ... -2.14154413e-03\n",
            "    -2.93020089e-03  2.96772900e-03]\n",
            "   [ 6.56421250e-03 -7.18673505e-03  5.26204379e-03 ... -1.80279580e-03\n",
            "     9.37096891e-04 -1.38841532e-02]\n",
            "   [ 1.00567387e-02 -1.30650830e-02  4.45788400e-03 ... -4.39098012e-03\n",
            "     8.50401167e-03 -7.00592250e-03]]\n",
            "\n",
            "  [[-1.35412496e-02 -1.50713092e-02  1.69455202e-03 ... -6.72785154e-06\n",
            "     1.65920164e-02 -1.63611583e-02]\n",
            "   [ 8.37257039e-03 -1.93700334e-03 -4.20461269e-03 ...  1.83002707e-02\n",
            "    -1.98261486e-03  7.86518585e-03]\n",
            "   [ 1.05207525e-02  1.30268428e-02  1.85741782e-02 ...  3.49822891e-04\n",
            "    -2.43457360e-03  5.07654948e-03]]\n",
            "\n",
            "  [[-3.42767627e-04 -4.35714191e-03 -6.32569427e-05 ... -4.70414851e-03\n",
            "    -1.24060065e-02  9.23295971e-03]\n",
            "   [-9.16205067e-03  1.19856084e-02 -2.68988986e-03 ...  8.11761897e-03\n",
            "     3.10825161e-03  3.90653918e-03]\n",
            "   [ 3.72119527e-03 -5.98696060e-03  1.46474550e-02 ... -4.14743042e-03\n",
            "    -9.11676791e-03  5.24585121e-05]]]\n",
            "\n",
            "\n",
            " [[[ 2.15031370e-03 -1.04502486e-02  1.05653489e-02 ...  4.91138408e-03\n",
            "     1.03664678e-03 -4.62287664e-03]\n",
            "   [-2.79029296e-03  5.02404012e-03 -5.39689930e-03 ...  5.72505500e-03\n",
            "     1.59891285e-02 -3.68837896e-03]\n",
            "   [ 9.15382989e-03  6.35292195e-03 -1.09810075e-02 ...  1.49877379e-02\n",
            "     1.84275990e-03  6.80549024e-03]]\n",
            "\n",
            "  [[ 2.02388200e-03  3.08504864e-03  1.78288929e-02 ... -1.31398225e-02\n",
            "    -6.74031349e-03  4.90760256e-04]\n",
            "   [ 2.48953234e-03 -4.76932060e-03 -1.34227157e-03 ...  8.38471577e-03\n",
            "    -1.53789483e-02  8.84968974e-03]\n",
            "   [ 1.70503817e-02 -8.13506631e-06  1.20680183e-02 ... -9.55162477e-03\n",
            "     1.94074325e-02  2.69716326e-03]]\n",
            "\n",
            "  [[-1.35177262e-02  1.26980739e-02 -8.56708828e-03 ...  7.88834877e-03\n",
            "    -8.60064849e-03  7.96167704e-04]\n",
            "   [ 9.17435996e-03  3.87252937e-03 -8.51157494e-03 ...  8.97992682e-03\n",
            "     1.22860326e-02  6.61379378e-03]\n",
            "   [ 1.60514098e-03 -8.96597281e-03  3.50065576e-03 ...  2.81664822e-03\n",
            "     6.46121847e-03  3.70852556e-03]]\n",
            "\n",
            "  [[ 1.42281437e-02 -2.19474453e-03  1.08865998e-03 ...  1.74936038e-02\n",
            "     7.19927764e-03  4.02817386e-06]\n",
            "   [-1.10828346e-02 -8.00520927e-03  8.70803278e-03 ... -4.39325674e-03\n",
            "     2.00733705e-03 -1.02564925e-03]\n",
            "   [ 1.22257613e-03 -5.16877323e-03 -3.49347340e-03 ...  1.67980470e-04\n",
            "     1.25922058e-02 -1.03978300e-02]]\n",
            "\n",
            "  [[ 3.77516658e-03  6.60015270e-04 -1.43997427e-02 ...  1.18605411e-02\n",
            "     1.76976970e-03 -4.90913074e-03]\n",
            "   [ 5.30449394e-03 -9.36329924e-03 -3.60333384e-03 ... -4.39619739e-03\n",
            "    -1.22998259e-03  1.09311678e-02]\n",
            "   [ 2.96928198e-03 -1.22561818e-02 -5.53601002e-03 ... -1.46737648e-02\n",
            "     9.68560483e-03 -1.57100684e-03]]]\n",
            "\n",
            "\n",
            " [[[-1.08218165e-02 -5.73800178e-03  9.67648067e-03 ...  1.42274401e-03\n",
            "     8.29574466e-03 -1.19327446e-02]\n",
            "   [-6.96156407e-03 -1.40287681e-02 -1.52868149e-03 ...  1.31096682e-02\n",
            "     3.32086626e-03 -3.49785481e-03]\n",
            "   [ 6.22750493e-04 -1.96405854e-02  5.54131204e-03 ... -5.70267020e-03\n",
            "     9.97578446e-03 -1.24359298e-02]]\n",
            "\n",
            "  [[-8.28975253e-03  6.55591581e-03 -7.34933373e-03 ... -1.93497282e-03\n",
            "    -1.03749568e-03 -4.66433819e-03]\n",
            "   [ 4.01400262e-03 -5.88352885e-03  4.42812219e-03 ...  1.51573988e-02\n",
            "     3.89330997e-03  1.38217770e-02]\n",
            "   [-1.41223716e-02  3.52381449e-03 -7.07753329e-03 ...  1.29580423e-02\n",
            "    -3.04910424e-03  1.28080631e-02]]\n",
            "\n",
            "  [[ 1.98911745e-02 -3.00261920e-04 -1.03323313e-03 ... -3.25528672e-03\n",
            "     1.51627921e-02  1.12173159e-03]\n",
            "   [ 1.41544295e-02  2.10800860e-03  1.34266960e-02 ...  9.44873504e-03\n",
            "    -5.55558177e-03 -9.26057622e-03]\n",
            "   [-7.62693491e-03  9.56352614e-03  9.51717701e-03 ... -4.24574921e-03\n",
            "     6.89067459e-03  4.26276820e-03]]\n",
            "\n",
            "  [[ 7.14416848e-03 -1.02699278e-02 -2.54635233e-03 ... -7.10858824e-03\n",
            "     1.03017008e-02 -6.80151023e-03]\n",
            "   [-3.24005814e-04 -6.45411760e-03  1.10687446e-02 ... -2.25776806e-03\n",
            "     1.26741044e-02 -1.87355485e-02]\n",
            "   [-1.46664977e-02  5.19162416e-03  4.14386997e-03 ... -8.40788987e-03\n",
            "     9.48980823e-03  7.48094684e-03]]\n",
            "\n",
            "  [[-4.76010656e-03 -2.08517211e-03 -1.77257098e-02 ...  1.92190928e-03\n",
            "     6.73634885e-03  1.03992196e-02]\n",
            "   [ 1.22693600e-03 -1.71781722e-02 -9.65411402e-03 ...  1.95693760e-03\n",
            "     3.35162459e-03 -4.50114207e-03]\n",
            "   [-1.03119481e-02 -7.94037059e-03  4.53856867e-03 ... -5.48218284e-03\n",
            "    -3.78859718e-03  1.07059712e-02]]]\n",
            "\n",
            "\n",
            " [[[-8.40756949e-03  1.15975104e-02 -8.60905182e-03 ...  4.35618800e-04\n",
            "    -7.59106036e-03  1.89260871e-03]\n",
            "   [ 6.56757271e-03 -1.87794548e-02 -6.10811170e-03 ...  1.83365832e-03\n",
            "     1.29759014e-02 -4.12989029e-04]\n",
            "   [ 2.91741989e-03 -6.65214751e-03  3.24533996e-03 ...  1.55104231e-03\n",
            "     9.63317137e-03  6.70182472e-03]]\n",
            "\n",
            "  [[ 8.90407804e-03 -1.09883305e-02 -5.62053919e-03 ...  1.08451070e-02\n",
            "     9.46941786e-03 -9.87413060e-03]\n",
            "   [ 1.44634219e-02 -6.56916667e-03 -5.29310619e-03 ...  5.33778174e-03\n",
            "    -2.09001708e-03  4.52960888e-03]\n",
            "   [ 1.94540694e-02 -1.88003723e-02 -6.99702417e-03 ... -5.34371426e-03\n",
            "    -1.15356445e-02  7.54882162e-03]]\n",
            "\n",
            "  [[ 2.16167723e-03 -8.22378229e-03  4.21568006e-03 ... -7.24843843e-03\n",
            "     1.40879564e-02  1.13557447e-02]\n",
            "   [ 3.18338838e-03 -5.98149747e-03 -3.53978109e-03 ... -5.12398256e-04\n",
            "    -6.31348137e-03  8.11246596e-03]\n",
            "   [-1.17998775e-02  7.82268494e-03 -1.65534746e-02 ... -3.82230571e-03\n",
            "    -1.56403072e-02  5.02884388e-03]]\n",
            "\n",
            "  [[-1.96628807e-05  4.27196920e-03 -5.29178988e-06 ... -1.62722189e-02\n",
            "     6.93618739e-03 -6.28571259e-03]\n",
            "   [ 5.61863044e-03  1.60869453e-02  1.49469785e-02 ...  8.07806477e-03\n",
            "     4.67297528e-03  1.69764031e-02]\n",
            "   [-8.85757897e-03  5.19965170e-03  1.00983959e-02 ... -5.17083518e-03\n",
            "     2.88671028e-04 -5.64380689e-03]]\n",
            "\n",
            "  [[-1.29236560e-02 -4.93636681e-03  1.68797225e-02 ... -1.31260359e-03\n",
            "     1.05256094e-02 -7.02497642e-03]\n",
            "   [-1.50473965e-02 -2.10669101e-03 -1.45745669e-02 ... -5.49653824e-03\n",
            "    -1.56988204e-02 -6.13382203e-04]\n",
            "   [-6.11124700e-03  5.91845158e-03 -1.85365677e-02 ...  1.05029996e-02\n",
            "     3.15586943e-03  1.00111135e-03]]]]\n",
            "[[[[ 1.18801114e-03  1.79707184e-02  9.00958478e-03 ... -4.96079167e-03\n",
            "    -6.13863673e-03 -1.04587683e-02]\n",
            "   [ 1.09511064e-02 -1.90124922e-02  8.94070324e-03 ... -9.81818535e-04\n",
            "    -1.12922415e-02 -4.06182185e-03]\n",
            "   [ 2.56388471e-03 -9.51553788e-03  9.14927199e-03 ...  9.39990114e-03\n",
            "    -1.52510833e-02  1.51756918e-02]\n",
            "   ...\n",
            "   [ 4.46159393e-03  2.14143856e-05  3.10782716e-03 ...  5.00928517e-03\n",
            "     7.69201666e-04 -4.05226508e-03]\n",
            "   [ 6.19482575e-03 -1.39077948e-02 -7.43764918e-04 ... -6.56642835e-04\n",
            "    -2.70714285e-03 -1.10760434e-02]\n",
            "   [-4.24257247e-03  3.27690947e-03  1.15004536e-02 ...  1.12585779e-02\n",
            "     6.47090003e-03 -1.04197701e-02]]\n",
            "\n",
            "  [[-1.47926481e-03 -1.40266865e-02 -5.86061599e-03 ... -6.87062507e-03\n",
            "     1.05205236e-03  1.20983245e-02]\n",
            "   [ 9.95067414e-03 -1.26725566e-02  1.51896439e-02 ...  2.25283881e-03\n",
            "     5.21836849e-03 -2.94387876e-03]\n",
            "   [-6.54199207e-03 -9.46540013e-03 -4.14165854e-03 ...  2.68426654e-03\n",
            "    -7.25839473e-03  4.59317397e-03]\n",
            "   ...\n",
            "   [ 1.81313232e-02  4.42097429e-03 -8.97855964e-03 ...  1.00238516e-03\n",
            "    -1.08082136e-02 -9.32557043e-04]\n",
            "   [-4.47147759e-03 -1.06812920e-02  1.45012587e-02 ... -1.19432807e-02\n",
            "    -5.60158398e-04 -1.75690278e-03]\n",
            "   [-3.02137225e-04 -1.46240543e-03 -4.18595085e-03 ...  5.22467727e-03\n",
            "     1.38418432e-02 -9.50450357e-03]]\n",
            "\n",
            "  [[-2.04003905e-03 -1.47841615e-03 -3.92627530e-03 ...  2.40146459e-04\n",
            "    -3.77683691e-03  1.22217676e-02]\n",
            "   [ 7.04091182e-03 -1.35210075e-03  4.42280853e-03 ... -1.57492235e-02\n",
            "     3.74062895e-03  5.14554139e-03]\n",
            "   [ 3.50985164e-03  3.06229014e-03  1.40990792e-02 ...  1.49825383e-02\n",
            "    -7.09760608e-03 -1.42276669e-02]\n",
            "   ...\n",
            "   [-9.04197711e-03  2.37772212e-04 -5.97191509e-04 ...  2.87111313e-03\n",
            "    -7.26475101e-03  3.98910698e-03]\n",
            "   [ 1.98965836e-02 -4.31169011e-03 -1.06162217e-03 ... -7.97400065e-03\n",
            "     1.84897445e-02 -4.38100134e-04]\n",
            "   [-6.05632318e-04  4.35642694e-04 -6.57675136e-03 ...  7.98062049e-03\n",
            "     9.74549167e-03 -9.66517907e-03]]\n",
            "\n",
            "  [[-1.43803339e-02  1.54100743e-03  3.91620648e-04 ...  1.28722563e-03\n",
            "     4.15275991e-03  4.63531213e-03]\n",
            "   [ 7.76627520e-03  1.23149212e-02  9.96255409e-03 ...  1.49654290e-02\n",
            "    -7.54715828e-03  1.31460568e-02]\n",
            "   [-1.20512014e-02  1.37599446e-02  1.31862424e-02 ...  1.29658962e-02\n",
            "    -1.40552474e-02  1.53662032e-02]\n",
            "   ...\n",
            "   [-2.23336997e-03  2.39967229e-03 -9.50823480e-04 ... -5.88401745e-04\n",
            "    -5.33085084e-03 -5.27360477e-03]\n",
            "   [-2.51476164e-03 -1.32185612e-02  1.07829403e-02 ... -4.20400593e-03\n",
            "     3.13032744e-03  7.15646707e-03]\n",
            "   [ 2.23819588e-04  1.07674522e-03 -4.98296879e-03 ... -1.07708073e-03\n",
            "     1.66404452e-02 -7.28972303e-03]]\n",
            "\n",
            "  [[ 4.26046737e-03 -8.30313750e-03  3.64958332e-03 ... -1.15305756e-03\n",
            "    -7.27114221e-03 -6.84537878e-03]\n",
            "   [ 5.50080696e-03 -1.24039315e-02  9.45043843e-03 ... -6.55350508e-03\n",
            "     7.88991456e-04 -3.32948472e-03]\n",
            "   [-1.12608802e-02 -8.27499665e-03 -8.63641407e-03 ... -2.29029916e-03\n",
            "     4.04396909e-04  5.21310512e-03]\n",
            "   ...\n",
            "   [-2.67682080e-05  1.97343435e-02  5.10279695e-03 ...  3.94587312e-03\n",
            "     8.64668563e-03 -1.43816452e-02]\n",
            "   [ 4.58043162e-03 -3.09653068e-03 -1.70766395e-02 ...  1.42386490e-02\n",
            "     5.83184883e-03 -6.08539907e-04]\n",
            "   [-3.26615479e-03  5.89813059e-03  9.46130417e-03 ... -3.30881914e-03\n",
            "     5.91410603e-03  1.53390318e-02]]]\n",
            "\n",
            "\n",
            " [[[-1.58947911e-02 -8.23047850e-03 -1.35944635e-02 ...  1.13767404e-02\n",
            "     1.95825603e-02  4.41158365e-04]\n",
            "   [-1.07451517e-03 -3.10981087e-03 -1.86276007e-02 ... -1.27566522e-02\n",
            "     6.36290759e-04 -6.89442270e-03]\n",
            "   [-1.39904814e-02  2.07660021e-03 -6.94301957e-03 ...  2.06612493e-03\n",
            "    -3.52682313e-03 -1.64105967e-02]\n",
            "   ...\n",
            "   [ 7.41088483e-03 -3.24958912e-03 -3.01475707e-03 ... -1.33689176e-02\n",
            "    -5.80054382e-03 -7.88404839e-04]\n",
            "   [ 2.95742205e-03 -6.35466259e-03  3.95921897e-03 ... -7.29250256e-03\n",
            "     3.79720121e-03  3.40990559e-03]\n",
            "   [ 8.51773005e-03 -1.48995770e-02  3.66948661e-03 ...  3.29906843e-03\n",
            "    -6.42652577e-03  7.38628348e-03]]\n",
            "\n",
            "  [[-5.81198512e-03  1.11854216e-03 -1.43491023e-03 ...  4.00749408e-03\n",
            "     8.50953441e-03 -4.32739267e-03]\n",
            "   [ 1.90959312e-03 -4.97120293e-03 -5.52565465e-03 ... -2.35687569e-03\n",
            "     3.07950284e-03 -3.14357196e-04]\n",
            "   [ 7.39373779e-03  1.00133638e-03 -3.32589028e-03 ... -1.33086997e-03\n",
            "     1.40058026e-02  1.75989443e-03]\n",
            "   ...\n",
            "   [ 9.28757712e-03 -4.31937166e-03 -2.27091368e-03 ...  4.98599652e-03\n",
            "    -1.13162142e-03  1.17467949e-03]\n",
            "   [ 1.01497555e-02  2.85728648e-03 -3.75577644e-03 ...  4.27602325e-03\n",
            "     9.99548566e-03 -4.45407722e-03]\n",
            "   [-2.46432726e-03 -1.69850476e-02 -1.15738492e-02 ... -4.74936282e-03\n",
            "     6.23912364e-03  9.36513394e-03]]\n",
            "\n",
            "  [[-5.82871353e-03  6.10832125e-03 -2.97767762e-03 ...  5.19180065e-03\n",
            "    -9.54701565e-03 -1.65598281e-03]\n",
            "   [-7.48777250e-03 -6.96614478e-03 -4.46711667e-03 ... -6.58985646e-03\n",
            "     4.42702556e-03  6.82810904e-04]\n",
            "   [ 1.19929807e-03  1.12049803e-02  4.97550890e-03 ...  1.80316046e-02\n",
            "     2.98256124e-03 -2.91020027e-03]\n",
            "   ...\n",
            "   [-9.61806253e-03 -7.22305570e-03  2.49258685e-03 ... -8.05694517e-03\n",
            "     2.22929893e-03 -2.76198657e-03]\n",
            "   [ 1.06938500e-02 -7.08320178e-03  6.21348526e-03 ... -2.68576061e-03\n",
            "     2.63148744e-04 -2.58677383e-03]\n",
            "   [ 6.77314820e-03  3.96195659e-03 -7.85791257e-04 ...  1.04651432e-02\n",
            "     6.37709955e-03  1.22973341e-02]]\n",
            "\n",
            "  [[ 4.75447625e-03 -7.52674788e-03 -4.84941108e-03 ... -4.98976791e-03\n",
            "    -1.10833356e-02  1.05237616e-02]\n",
            "   [-1.67388227e-02 -2.55095959e-03 -1.03318403e-02 ...  4.62572183e-03\n",
            "     1.03439612e-03  1.25432843e-02]\n",
            "   [-1.41569730e-02 -7.27647217e-03  4.25013895e-05 ... -1.25493882e-02\n",
            "     1.95028132e-03 -3.79642542e-03]\n",
            "   ...\n",
            "   [ 1.79509236e-03 -7.88514968e-03 -6.80374121e-03 ... -2.03066040e-03\n",
            "     1.28700742e-02 -5.21437358e-03]\n",
            "   [ 9.90823191e-03  3.31395888e-03  1.64723606e-03 ...  1.00122113e-02\n",
            "    -5.28153172e-03 -1.94672044e-04]\n",
            "   [ 8.16447381e-03 -5.90514252e-03  7.71795632e-03 ...  1.35461446e-02\n",
            "     1.31037682e-02 -1.64851930e-03]]\n",
            "\n",
            "  [[-6.74448302e-03  1.79311205e-02 -3.15202307e-03 ...  8.71283002e-03\n",
            "    -1.18469978e-02 -4.87310608e-04]\n",
            "   [ 1.03861019e-02 -4.90722526e-03 -1.51329953e-02 ...  4.75395471e-03\n",
            "    -1.33308209e-03  1.86163187e-03]\n",
            "   [-5.33120614e-03  1.03592938e-02  1.01048527e-02 ... -6.69137202e-03\n",
            "     1.15298219e-02  4.38358309e-03]\n",
            "   ...\n",
            "   [-6.95148157e-03 -7.47442245e-03 -7.84012582e-03 ... -1.59560181e-02\n",
            "     1.23827802e-02 -1.62497945e-02]\n",
            "   [-7.62873702e-03  2.00736034e-03  1.19256508e-02 ... -1.06990170e-02\n",
            "    -3.53914802e-04 -6.54908130e-04]\n",
            "   [ 1.50884017e-02  1.96952224e-02 -1.60584264e-02 ...  8.33084900e-03\n",
            "    -7.33022462e-04  6.05058763e-03]]]\n",
            "\n",
            "\n",
            " [[[-1.29904151e-02 -4.96628508e-03  1.47343595e-02 ... -6.98524702e-04\n",
            "    -3.77968536e-03  3.21642193e-03]\n",
            "   [ 1.05117606e-02 -4.66907863e-03  6.97194017e-04 ... -5.30227274e-03\n",
            "    -5.49990823e-03  2.42638262e-03]\n",
            "   [-1.19662303e-02 -1.81729859e-03  8.42580944e-03 ... -8.58451426e-03\n",
            "     2.76288926e-03 -1.41891213e-02]\n",
            "   ...\n",
            "   [-6.68120431e-03  7.35807559e-03  1.25586493e-02 ...  5.20957448e-03\n",
            "    -9.73649602e-03  3.64954141e-03]\n",
            "   [ 8.87070131e-03  1.31812021e-02 -6.73011597e-03 ...  5.15238987e-03\n",
            "    -1.18204057e-02  5.08919777e-03]\n",
            "   [-1.27048204e-02 -5.29577304e-03 -1.78244505e-02 ... -4.53646574e-03\n",
            "     1.01280343e-02 -1.61032798e-03]]\n",
            "\n",
            "  [[ 1.38811054e-04  5.43070165e-03 -1.01370981e-03 ...  8.33301153e-03\n",
            "    -2.29619982e-04  1.69044957e-02]\n",
            "   [-4.46772762e-03 -9.59394593e-03  4.47707204e-03 ...  6.78546494e-03\n",
            "    -3.15940217e-03  1.60848442e-02]\n",
            "   [ 1.24076358e-03 -8.80019926e-03  3.13011766e-03 ... -2.82695564e-03\n",
            "     6.09670766e-03 -1.67465732e-02]\n",
            "   ...\n",
            "   [-1.70990732e-02 -2.29126133e-04 -1.04251364e-03 ... -1.61030814e-02\n",
            "     5.76220453e-03 -1.49207516e-03]\n",
            "   [-6.97258767e-03  9.30261449e-04  1.31191704e-02 ... -5.20357583e-03\n",
            "    -8.62038042e-03  1.73100899e-03]\n",
            "   [ 6.79379515e-03  4.25640680e-03  1.99974906e-02 ...  3.54704284e-03\n",
            "    -1.18934130e-02  7.49010127e-03]]\n",
            "\n",
            "  [[ 8.94618500e-03 -7.86911231e-03 -5.32627990e-03 ...  2.92548141e-03\n",
            "    -4.34482191e-03 -8.93933291e-04]\n",
            "   [-2.22108513e-03  1.27772558e-02  1.50996810e-02 ... -1.14579136e-02\n",
            "     5.14092576e-03  4.73259995e-03]\n",
            "   [-1.50218243e-02 -2.45751627e-03 -8.58925283e-03 ... -8.78371764e-03\n",
            "     4.08606743e-03 -4.21769731e-03]\n",
            "   ...\n",
            "   [-1.82474814e-02 -1.34444032e-02  6.75397739e-03 ...  5.36426809e-03\n",
            "     3.04045854e-03  2.08391971e-03]\n",
            "   [ 9.99373384e-03  1.33194663e-02  1.66989621e-02 ...  3.87800741e-03\n",
            "     1.15079843e-02 -2.32222630e-03]\n",
            "   [-1.34185911e-03 -5.71806636e-03 -1.70452090e-03 ... -1.77201407e-04\n",
            "     4.98000719e-03  1.01458905e-02]]\n",
            "\n",
            "  [[ 1.28480494e-02  3.78668122e-03  5.47949318e-03 ... -3.80524923e-03\n",
            "    -1.82345859e-03 -4.32091719e-03]\n",
            "   [ 1.32544781e-03 -3.67022061e-04  2.52100849e-03 ... -1.57953368e-03\n",
            "    -4.08400688e-03 -8.06185883e-03]\n",
            "   [-6.48720330e-03  6.85648946e-03 -1.46033810e-02 ...  4.18678438e-03\n",
            "    -1.53282448e-03  1.72137818e-03]\n",
            "   ...\n",
            "   [-7.34353531e-03 -4.72295936e-03 -1.19844079e-02 ... -4.87277471e-03\n",
            "     3.00887693e-03 -7.74591370e-03]\n",
            "   [ 8.89311638e-03  1.02493418e-02  3.88817303e-03 ... -4.87559196e-03\n",
            "     1.35001668e-03 -4.59165924e-04]\n",
            "   [-1.28735567e-03  9.41671245e-03  1.42169427e-02 ... -9.52140149e-03\n",
            "    -3.44832730e-03 -4.60581342e-03]]\n",
            "\n",
            "  [[ 1.53741357e-03 -1.18441964e-02  4.19378327e-03 ... -2.95003946e-03\n",
            "    -1.26191400e-04 -1.79401338e-02]\n",
            "   [ 3.54415679e-04 -2.87607731e-03  1.24809574e-02 ... -1.26127489e-02\n",
            "    -7.99403433e-03 -5.18860854e-03]\n",
            "   [ 3.04018729e-03 -8.14347994e-03 -1.74081437e-02 ...  3.20278312e-04\n",
            "    -1.36591671e-02  6.55497843e-03]\n",
            "   ...\n",
            "   [-6.21178839e-03 -3.91080789e-03 -4.43169056e-03 ... -7.06225226e-04\n",
            "     6.37862179e-03  3.12589342e-03]\n",
            "   [-2.97336420e-03 -5.93087776e-03  4.91599599e-03 ... -5.11781499e-03\n",
            "    -1.23874201e-02  6.05789060e-03]\n",
            "   [-4.92398674e-03  4.61730221e-03  9.63192899e-03 ...  9.54339653e-03\n",
            "     1.06920656e-02  5.40554337e-03]]]\n",
            "\n",
            "\n",
            " [[[ 1.44292582e-02 -7.92864431e-03 -5.56577975e-03 ...  5.93610527e-03\n",
            "     1.09502217e-02  8.66384059e-03]\n",
            "   [-1.29522225e-02  1.17787942e-02  6.45821309e-03 ...  1.47618186e-02\n",
            "    -1.17497463e-02  1.77119989e-02]\n",
            "   [ 1.32805537e-02  6.12195116e-03 -7.58538907e-03 ...  2.00501457e-03\n",
            "     1.46718370e-02 -6.30096486e-03]\n",
            "   ...\n",
            "   [ 5.89772826e-03  6.32767053e-03 -1.36957569e-02 ... -5.76689467e-03\n",
            "     8.99582170e-03  1.84843596e-02]\n",
            "   [ 1.02315927e-02  1.03853323e-04 -9.55620874e-03 ... -8.77063815e-03\n",
            "    -2.03160755e-03 -9.09603294e-03]\n",
            "   [-2.44630780e-03  4.52530058e-03 -1.93812605e-02 ...  5.75506967e-03\n",
            "    -9.53494513e-04  1.45388711e-02]]\n",
            "\n",
            "  [[ 7.60029349e-03 -3.63362604e-03  1.73300356e-02 ... -7.89768342e-03\n",
            "    -1.79882981e-02 -1.05328690e-02]\n",
            "   [ 5.17508946e-04  1.05617391e-02  9.51314718e-03 ... -8.77191033e-03\n",
            "    -6.87626016e-04 -7.97590148e-03]\n",
            "   [-6.71615405e-03 -3.90605442e-03  8.22350383e-03 ... -4.18481743e-03\n",
            "     1.11731549e-03 -4.68382984e-03]\n",
            "   ...\n",
            "   [-1.36692877e-04 -2.10383860e-03  3.43890861e-05 ...  1.15134418e-02\n",
            "    -1.53179197e-02  1.40850442e-02]\n",
            "   [ 5.72643196e-03  1.42524252e-04  2.99208355e-03 ... -2.34962627e-03\n",
            "    -5.49895037e-03  1.73151251e-02]\n",
            "   [ 1.20858643e-02 -2.79955938e-03 -1.52292131e-02 ... -5.78693440e-03\n",
            "    -8.70936271e-03 -2.42987392e-03]]\n",
            "\n",
            "  [[-6.08579395e-03  2.49135261e-03  8.98270123e-03 ...  1.83103029e-02\n",
            "     1.61407832e-02  5.87960053e-03]\n",
            "   [-1.22306359e-04 -3.58148245e-03 -1.73780916e-03 ... -9.12697613e-03\n",
            "    -9.27705041e-05  9.39269923e-03]\n",
            "   [ 4.56530601e-03 -9.91494308e-05 -5.70492866e-03 ...  4.10193810e-03\n",
            "    -2.65322230e-03  1.56924594e-02]\n",
            "   ...\n",
            "   [ 1.17133008e-02  1.03310626e-02 -1.96047500e-02 ... -4.19312064e-03\n",
            "     2.81792250e-03 -1.92668550e-02]\n",
            "   [ 6.65446511e-03  2.66336673e-03  8.77277553e-03 ... -8.07864778e-03\n",
            "     1.55120213e-02  7.31155416e-03]\n",
            "   [ 1.98153853e-02 -5.19082998e-04 -3.16668721e-03 ...  1.09551102e-02\n",
            "     7.79449649e-04 -7.66274380e-03]]\n",
            "\n",
            "  [[ 2.54324637e-03  1.89665463e-02 -1.57582667e-02 ...  6.66719908e-03\n",
            "    -5.24833216e-04 -2.89254566e-03]\n",
            "   [-5.59017528e-03 -5.91755193e-03 -1.10999354e-04 ... -1.00028943e-02\n",
            "    -1.16525767e-02 -1.68289635e-02]\n",
            "   [-2.95266346e-03 -6.25316345e-04  2.94113299e-03 ...  1.19212852e-03\n",
            "     9.78750922e-03 -4.48729424e-03]\n",
            "   ...\n",
            "   [-2.53529311e-03  1.56831846e-03  2.47238087e-03 ... -1.21611850e-02\n",
            "     2.72660493e-03 -5.95084764e-03]\n",
            "   [ 3.96292331e-03  1.28273368e-02 -1.81742245e-04 ... -3.63300275e-03\n",
            "     5.84328780e-04  7.97930732e-03]\n",
            "   [-4.72511258e-03  1.31248599e-02 -5.63073251e-03 ...  7.38144806e-03\n",
            "     3.31066287e-04  6.96553104e-03]]\n",
            "\n",
            "  [[ 6.18966110e-03  7.63511402e-04  1.65887140e-02 ...  1.62402038e-02\n",
            "    -2.95915338e-03 -1.81641895e-02]\n",
            "   [-1.49863935e-03  4.39376058e-03  8.09210073e-03 ... -1.04118569e-03\n",
            "    -7.74406735e-03 -1.02353597e-03]\n",
            "   [ 2.53095804e-03 -1.64400376e-02  7.10005313e-03 ...  1.28110044e-03\n",
            "     9.83650144e-03  1.85736828e-02]\n",
            "   ...\n",
            "   [-7.48405559e-03 -5.50729921e-03  1.67578110e-03 ... -4.56868624e-03\n",
            "     1.24099441e-02 -1.02295829e-02]\n",
            "   [ 1.03959311e-02  3.50936642e-03 -1.43115660e-02 ...  1.30996164e-02\n",
            "    -2.00771075e-03  9.57063492e-03]\n",
            "   [-2.73325085e-03 -1.87282898e-02  1.17268162e-02 ... -1.07737947e-02\n",
            "    -9.86171141e-03  3.18493159e-03]]]\n",
            "\n",
            "\n",
            " [[[ 1.79002061e-02 -1.00930417e-02  7.24718114e-03 ... -7.54355639e-03\n",
            "    -2.70796916e-03 -1.27812335e-02]\n",
            "   [-2.65707436e-04 -1.38641626e-03 -9.27377399e-03 ... -6.00629464e-05\n",
            "    -9.97784175e-03 -6.64082763e-04]\n",
            "   [-4.33907658e-03  1.13847004e-02  7.27832830e-03 ...  3.01725977e-05\n",
            "    -5.92865096e-03 -5.86132170e-04]\n",
            "   ...\n",
            "   [ 5.43798413e-03 -4.90798242e-03 -2.63978168e-03 ... -1.63807080e-03\n",
            "     1.13844071e-02  4.86314949e-03]\n",
            "   [-1.79831951e-03  5.01347007e-03  1.96695118e-03 ... -7.35917129e-03\n",
            "    -7.50278879e-04 -5.50187938e-03]\n",
            "   [ 7.45547982e-03  1.85499024e-02  4.26791701e-03 ...  2.17950111e-03\n",
            "    -8.48441012e-03  2.63145403e-03]]\n",
            "\n",
            "  [[-5.91010833e-03 -8.49448610e-03  1.34520407e-03 ...  3.62193375e-03\n",
            "    -8.52732453e-03 -1.09209353e-02]\n",
            "   [ 7.74609810e-03  2.14313436e-03 -4.35587158e-03 ...  3.41350422e-03\n",
            "     2.75815837e-05  1.53537793e-03]\n",
            "   [ 1.74183620e-03 -9.09228437e-03  7.92835467e-03 ...  1.37168234e-02\n",
            "     1.49309612e-03  7.69915618e-03]\n",
            "   ...\n",
            "   [ 1.39181374e-03 -2.44579394e-04  5.22419997e-03 ... -4.54073364e-04\n",
            "    -1.05258962e-03  4.02244693e-03]\n",
            "   [-7.91547541e-03  1.88347641e-02  7.81188346e-03 ... -8.17704108e-03\n",
            "     4.59117861e-03 -3.46688763e-03]\n",
            "   [-6.39768608e-04  8.75060039e-04 -1.63824775e-03 ... -1.04572996e-02\n",
            "     5.24855359e-03 -5.07825171e-04]]\n",
            "\n",
            "  [[-7.13325385e-03  1.04107428e-02 -2.03902693e-03 ... -1.13292756e-02\n",
            "    -9.80319921e-03 -1.40552474e-02]\n",
            "   [-4.07186337e-03 -4.61219763e-03  2.90152035e-03 ... -9.49578825e-03\n",
            "     7.97291938e-03  1.27189625e-02]\n",
            "   [-2.35647243e-03  8.68260022e-03 -1.50939566e-03 ...  1.97944394e-03\n",
            "     1.24446023e-02  1.58035650e-03]\n",
            "   ...\n",
            "   [-4.55810921e-03  2.23231385e-03 -1.56278554e-02 ... -5.68125583e-03\n",
            "    -3.35141551e-03 -1.86921866e-03]\n",
            "   [-8.39258637e-03  1.56704690e-02 -7.28589809e-03 ...  3.21362494e-03\n",
            "     7.30477832e-03 -1.39670295e-03]\n",
            "   [ 4.80712485e-03 -2.38529197e-03 -8.49173404e-03 ... -4.07431042e-03\n",
            "     2.47490546e-03 -5.04274014e-03]]\n",
            "\n",
            "  [[-5.73244528e-04  3.82204284e-03  7.31752440e-03 ... -8.56582168e-03\n",
            "    -9.89658013e-03  1.20893428e-02]\n",
            "   [-9.02670217e-05 -9.36945900e-04  1.55732092e-02 ... -3.12761724e-04\n",
            "     8.24256334e-03 -1.72361149e-03]\n",
            "   [ 1.64132705e-03 -1.09371683e-03 -6.86394807e-04 ...  1.56118153e-02\n",
            "    -1.01334844e-02  7.30740279e-03]\n",
            "   ...\n",
            "   [ 5.48419356e-03 -7.98835512e-03 -3.29523068e-03 ...  9.95822949e-04\n",
            "     1.79972220e-02  8.48691072e-03]\n",
            "   [-8.96704383e-03 -1.29376799e-02 -1.30804824e-02 ... -1.76021568e-02\n",
            "    -1.87985953e-02  1.09257763e-02]\n",
            "   [ 2.16934737e-03  2.09860597e-03  6.01674430e-03 ...  1.55920594e-03\n",
            "    -1.30976420e-02  5.47420233e-03]]\n",
            "\n",
            "  [[-1.42739899e-02  7.46074598e-03 -5.18231513e-03 ...  1.81629900e-02\n",
            "     1.89640112e-02 -1.14335371e-02]\n",
            "   [-1.87790417e-03 -6.56232750e-03  2.42758379e-03 ...  5.87835163e-03\n",
            "     2.63901777e-04  4.72527137e-03]\n",
            "   [ 5.19487448e-03  3.95204988e-05  1.96097931e-03 ...  1.86944921e-02\n",
            "    -8.59279279e-03 -7.92232528e-03]\n",
            "   ...\n",
            "   [-1.13444282e-02  4.81398311e-03 -1.21497316e-02 ... -5.73096005e-03\n",
            "    -8.18762369e-03 -9.13330261e-03]\n",
            "   [ 1.24754608e-02  1.43156750e-02  1.07079586e-02 ...  4.68479609e-03\n",
            "    -1.19934017e-02 -1.97784081e-02]\n",
            "   [-2.46957038e-03  5.02358424e-04  3.72652919e-03 ...  8.60516541e-03\n",
            "     1.29454443e-02 -1.12742400e-02]]]]\n"
          ],
          "name": "stdout"
        }
      ]
    },
    {
      "cell_type": "markdown",
      "metadata": {
        "id": "nSLbR5Q1wNn0"
      },
      "source": [
        "### Question: Try to interpret what they are doing?"
      ]
    },
    {
      "cell_type": "markdown",
      "metadata": {
        "id": "6h85uRFMwNn1"
      },
      "source": [
        "### Answer: "
      ]
    },
    {
      "cell_type": "markdown",
      "metadata": {
        "id": "8RcGEiiywNn3"
      },
      "source": [
        "> These weights can demostrate whether feature is important or not."
      ]
    },
    {
      "cell_type": "markdown",
      "metadata": {
        "id": "1F5plv_9wNn5"
      },
      "source": [
        "Now let's visualize the filters of the first conv layer. There are lots of ways to code for visualization. You are free to choose any way you want. However below is function which is provided for you to plot the weights."
      ]
    },
    {
      "cell_type": "code",
      "metadata": {
        "id": "priYSH0CwNn8",
        "colab": {
          "base_uri": "https://localhost:8080/",
          "height": 252
        },
        "outputId": "b42c0b36-c4b0-46b1-ef31-3388a330c808"
      },
      "source": [
        "import math\n",
        "def plot_conv_weights(w, input_channel=0):\n",
        "    # The argument w is a 4-dim array.(e.g. weights_conv1 with the shape of [5,5,3,64])\n",
        "    # The argument input_channel shows the specified channel of all filters.\n",
        "    \n",
        "    # Get the lowest and highest values for the weights.\n",
        "    # This is used to correct the colour intensity across\n",
        "    # the images so they can be compared with each other.\n",
        "    w_min = np.min(w)\n",
        "    w_max = np.max(w)\n",
        "    abs_max = max(abs(w_min), abs(w_max))\n",
        "\n",
        "    # Number of filters used in the conv. layer.\n",
        "    num_filters = w.shape[3]\n",
        "\n",
        "    # Number of grids to plot.\n",
        "    # Rounded-up, square-root of the number of filters.\n",
        "    num_grids = math.ceil(math.sqrt(num_filters))\n",
        "    \n",
        "    # Create figure with a grid of sub-plots.\n",
        "    fig, axes = plt.subplots(num_grids, num_grids)\n",
        "\n",
        "    # Plot all the filter-weights.\n",
        "    for i, ax in enumerate(axes.flat):\n",
        "        # Only plot the valid filter-weights.\n",
        "        if i<num_filters:\n",
        "            # Get the weights for the i'th filter of the input channel.\n",
        "            # The format of this 4-dim tensor is determined by the\n",
        "            # TensorFlow API. See Tutorial #02 for more details.\n",
        "            img = w[:, :, input_channel, i]\n",
        "\n",
        "            # Plot image.\n",
        "            ax.imshow(img, vmin=-abs_max, vmax=abs_max,\n",
        "                      interpolation='nearest', cmap='seismic')\n",
        "        \n",
        "        # Remove ticks from the plot.\n",
        "        ax.set_xticks([])\n",
        "        ax.set_yticks([])\n",
        "    \n",
        "    # Ensure the plot is shown correctly with multiple plots\n",
        "    # in a single Notebook cell.\n",
        "    plt.show()\n",
        "\n",
        "    \n",
        "##########################################################################\n",
        "# TODO: call the function above or use your own way here                 #\n",
        "##########################################################################\n",
        "\n",
        "plot_conv_weights(w1, 0)\n",
        "\n",
        "##########################################################################\n"
      ],
      "execution_count": 17,
      "outputs": [
        {
          "output_type": "display_data",
          "data": {
            "image/png": "[encoded data removed]",
            "text/plain": [
              "<Figure size 432x288 with 16 Axes>"
            ]
          },
          "metadata": {
            "tags": []
          }
        }
      ]
    },
    {
      "cell_type": "markdown",
      "metadata": {
        "id": "G6LJu4qlwNoG"
      },
      "source": [
        "### Question: Try to interpret what they are doing?"
      ]
    },
    {
      "cell_type": "markdown",
      "metadata": {
        "id": "WfjpQ2IEwNoK"
      },
      "source": [
        "### Answer: "
      ]
    },
    {
      "cell_type": "markdown",
      "metadata": {
        "id": "GOLl7wOXwNoO"
      },
      "source": [
        "> It's a visualization for filters to make more sense for its job in neural net and it is show high and low pass filters in that."
      ]
    },
    {
      "cell_type": "markdown",
      "metadata": {
        "id": "KQ9mr6m4wNoO"
      },
      "source": [
        "## Part3: Transfer Learning (+10 pts. - optional)"
      ]
    },
    {
      "cell_type": "markdown",
      "metadata": {
        "id": "hI4qprZWwNoP"
      },
      "source": [
        "In all the machine learning problems we need data to train our models. However, the volume of the data might not be sufficient for the considered model. In such cases, we may use a model which is trained on a similar dataset probably for a different objective. Then we transfer to the main problem and fine- tune or replace some parts of the network. "
      ]
    },
    {
      "cell_type": "markdown",
      "metadata": {
        "id": "ngn_5xKiwNoW"
      },
      "source": [
        "In this exercise, we are going to implement the transfer learning concept on CNN. For this purpose, we use the network that you have trained on Part 1 of this homework (above) to classify three new classes (i.e. bee, elephant, and fox) on CIFAR-100 dataset. Let's first load the data:"
      ]
    },
    {
      "cell_type": "code",
      "metadata": {
        "colab": {
          "base_uri": "https://localhost:8080/"
        },
        "id": "nEtsruAiS9iq",
        "outputId": "624e8c65-b8d6-41ef-e49d-75c2b618d960"
      },
      "source": [
        "!curl -LO  'https://www.cs.toronto.edu/~kriz/cifar-100-python.tar.gz' \r\n",
        "!mkdir -p data\r\n",
        "!tar -xf cifar-100-python.tar.gz -C data"
      ],
      "execution_count": 61,
      "outputs": [
        {
          "output_type": "stream",
          "text": [
            "  % Total    % Received % Xferd  Average Speed   Time    Time     Time  Current\n",
            "                                 Dload  Upload   Total   Spent    Left  Speed\n",
            "100  161M  100  161M    0     0  95.0M      0  0:00:01  0:00:01 --:--:-- 95.0M\n"
          ],
          "name": "stdout"
        }
      ]
    },
    {
      "cell_type": "code",
      "metadata": {
        "id": "GpInK4wUwNoY"
      },
      "source": [
        "from load_data import load_cifar100 #this function provided in the attached file loads the data of CIFAR100 database\n",
        "\n",
        "def load_cifar100_data():\n",
        "    dataset_dir = 'data/cifar-100-python'\n",
        "    \n",
        "    X_train, y_train, X_test, y_test = load_cifar100(dataset_dir)\n",
        "    \n",
        "    return X_train, y_train, X_test, y_test"
      ],
      "execution_count": 23,
      "outputs": []
    },
    {
      "cell_type": "code",
      "metadata": {
        "id": "y99GcOb2wNoo",
        "colab": {
          "base_uri": "https://localhost:8080/",
          "height": 337
        },
        "outputId": "830cb693-00e9-446f-f881-0eff274fed7b"
      },
      "source": [
        "X_train, y_train, X_test, y_test = load_cifar100_data()\n",
        "X_train, X_test = X_train/255., X_test/255.\n",
        "\n",
        "print('X_train shape:', X_train.shape)\n",
        "print('y_train shape:', y_train.shape)\n",
        "print('X_test shape:', X_test.shape)\n",
        "print('y_test shape:', y_test.shape)\n",
        "\n",
        "import matplotlib.pyplot as plt\n",
        "plt.imshow(X_train[1])#represnting a sample data from CIFAR-100\n",
        "plt.show()"
      ],
      "execution_count": 24,
      "outputs": [
        {
          "output_type": "stream",
          "text": [
            "X_train shape: (50000, 32, 32, 3)\n",
            "y_train shape: (50000, 1)\n",
            "X_test shape: (10000, 32, 32, 3)\n",
            "y_test shape: (10000, 1)\n"
          ],
          "name": "stdout"
        },
        {
          "output_type": "display_data",
          "data": {
            "image/png": "[encoded data removed]",
            "text/plain": [
              "<Figure size 432x288 with 1 Axes>"
            ]
          },
          "metadata": {
            "tags": [],
            "needs_background": "light"
          }
        }
      ]
    },
    {
      "cell_type": "markdown",
      "metadata": {
        "id": "JoycoB9GwNov"
      },
      "source": [
        "By successfully runing the above code, you have loaded the data and also you can see a sample data from CIFAR-100. The below code will seprate the specified classes (i.e. bee(6), elephant(31), and fox(34)) for the new classification problem."
      ]
    },
    {
      "cell_type": "code",
      "metadata": {
        "id": "bhIVSCujwNox"
      },
      "source": [
        "selected_images_train = np.zeros([1,32,32,3])\n",
        "selected_labels_train = np.zeros([1,1])\n",
        "for i in range(50000):\n",
        "    label = y_train[i]\n",
        "    if label==6 or label==31 or label==34:\n",
        "        selected_images_train = np.append(selected_images_train,np.reshape(X_train[i,:,:,:],[1,32,32,3]),axis=0)\n",
        "        selected_labels_train = np.append(selected_labels_train,np.reshape(label,[1,1]),axis=0)\n",
        "selected_images_train = selected_images_train[1:]# to remove the first defined np..zeros data\n",
        "selected_labels_train = selected_labels_train[1:]# to remove the first defined np..zeros data\n",
        "\n",
        "\n",
        "selected_images_test = np.zeros([1,32,32,3])\n",
        "selected_labels_test = np.zeros([1,1])\n",
        "for i in range(10000):\n",
        "    label = y_test[i]\n",
        "    if label==6 or label==31 or label==34:\n",
        "        selected_images_test = np.append(selected_images_test,np.reshape(X_test[i,:,:,:],[1,32,32,3]),axis=0)\n",
        "        selected_labels_test = np.append(selected_labels_test,np.reshape(label,[1,1]),axis=0)\n",
        "selected_images_test = selected_images_test[1:]# to remove the first defined np..zeros data\n",
        "selected_labels_test = selected_labels_test[1:]# to remove the first defined np..zeros data"
      ],
      "execution_count": 25,
      "outputs": []
    },
    {
      "cell_type": "code",
      "metadata": {
        "id": "s0mSOnFcwNo9",
        "colab": {
          "base_uri": "https://localhost:8080/"
        },
        "outputId": "1dc3525f-957e-4323-e465-14ae7677e524"
      },
      "source": [
        "images_train = selected_images_train[:int(selected_images_train.shape[0]*0.8),:,:,:]\n",
        "labels_train = selected_labels_train[:int(selected_images_train.shape[0]*0.8),:]\n",
        "\n",
        "images_validation = selected_images_train[int(selected_images_train.shape[0]*0.8):,:,:,:]\n",
        "labels_validation = selected_labels_train[int(selected_images_train.shape[0]*0.8):,:]\n",
        "\n",
        "images_test = selected_images_test\n",
        "labels_test = selected_labels_test\n",
        "\n",
        "\n",
        "print('images_train shape:', images_train.shape)\n",
        "print('labels_train shape:', labels_train.shape)\n",
        "\n",
        "print('images_validation shape:', images_validation.shape)\n",
        "print('labels_validation shape:', labels_validation.shape)\n",
        "\n",
        "print('images_test shape:', images_test.shape)\n",
        "print('labels_test shape:', labels_test.shape)"
      ],
      "execution_count": 26,
      "outputs": [
        {
          "output_type": "stream",
          "text": [
            "images_train shape: (1200, 32, 32, 3)\n",
            "labels_train shape: (1200, 1)\n",
            "images_validation shape: (300, 32, 32, 3)\n",
            "labels_validation shape: (300, 1)\n",
            "images_test shape: (300, 32, 32, 3)\n",
            "labels_test shape: (300, 1)\n"
          ],
          "name": "stdout"
        }
      ]
    },
    {
      "cell_type": "code",
      "metadata": {
        "id": "E8egfyjNwNpD"
      },
      "source": [
        "import numpy as np\n",
        "\n",
        "from sklearn.preprocessing import OneHotEncoder # this function is used to prepare one-hot encoded labels\n",
        "encoder = OneHotEncoder(sparse=False)\n",
        "\n",
        "encoder.fit(selected_labels_train)#this line will fit 'encoder' to encode the labels\n",
        "\n",
        "labels_train_onehot = encoder.transform(labels_train)# encoding train labels (one-hot coding)\n",
        "labels_val_onehot   = encoder.transform(labels_validation)  # encoding train labels (one-hot coding)\n",
        "labels_test_onehot  = encoder.transform(labels_test) # encoding test  labels (one-hot coding)"
      ],
      "execution_count": 67,
      "outputs": []
    },
    {
      "cell_type": "markdown",
      "metadata": {
        "id": "_eLHY2PJwNpS"
      },
      "source": [
        "To implement the transfer learning, we need to use the previous model and transfer it to the new problem. For this end, you need to freeze the convolution layers and also the first fully connected layer which means that they should not be updated in the new training process. For the last two fully connected layers, we want to fine-tune the values. However, you should replace the last layer (output layer) with a 3-neuron layer to represent the score for each class."
      ]
    },
    {
      "cell_type": "markdown",
      "metadata": {
        "id": "CWPBi-VxwNpU"
      },
      "source": [
        "There are several methods that you can implement the discussed process with TensorFlow. You are free to do any way you want.\n",
        "The below code redefine the network and use the weights of the network trained on CIFAR-10. Then, the frozen weights can be defined as either constant or non-trainable variables. Besides, the fine-tuning weights are also defined as variables with their previous weights in the definition. Anyway, since there are other ways to implement this job, you can do it with your own method."
      ]
    },
    {
      "cell_type": "code",
      "metadata": {
        "id": "QMrb7EyGwNpV"
      },
      "source": [
        "############################################################\n",
        "#            TODO: Implement Accuracy Part                 #\n",
        "############################################################\n",
        "\n",
        "# get the weights form previous network:\n",
        "# e.g., w_conv1_CIFAR10 = sess.run(W_conv1)\n",
        "\n",
        "with tf.Session() as sess:\n",
        "\tsess.run(tf.global_variables_initializer())\n",
        "\n",
        "\tW_conv1_CIFAR10  = sess.run(W_conv1 )\n",
        "\tB_conv1_CIFAR10  = sess.run(B_conv1 )\n",
        "\tW_conv2_CIFAR10  = sess.run(W_conv2 )\n",
        "\tB_conv2_CIFAR10  = sess.run(B_conv2 )\n",
        "\tW_conv3_CIFAR10  = sess.run(W_conv3 )\n",
        "\tB_conv3_CIFAR10  = sess.run(B_conv3 )\n",
        "\tW_conv4_CIFAR10  = sess.run(W_conv4 )\n",
        "\tB_conv4_CIFAR10  = sess.run(B_conv4 )\n",
        "\tW_conv5_CIFAR10  = sess.run(W_conv5 )\n",
        "\tB_conv5_CIFAR10  = sess.run(B_conv5 )\n",
        "\n",
        "\tW_FC1_CIFAR10    = sess.run(W_FC1   )\n",
        "\tB_FC1_CIFAR10    = sess.run(B_FC1   )\n",
        "\tW_FC2_CIFAR10    = sess.run(W_FC2   )\n",
        "\tB_FC2_CIFAR10    = sess.run(B_FC2   )\n",
        "\tW_logits_CIFAR10 = sess.run(W_logits)\n",
        "\tB_logits_CIFAR10 = sess.run(B_logits)\n",
        "\n",
        "\tO_BN1_CIFAR10    = sess.run(O_BN1   )\n",
        "\tS_BN1_CIFAR10    = sess.run(S_BN1   )\n",
        " \n",
        "\n",
        "# tf.reset_default_graph()\n",
        "\n",
        "x_new = tf.placeholder(tf.float32, [None, 32, 32, 3]) # placeholder for input data\n",
        "y_new = tf.placeholder(tf.float32, [None, 3])# placeholder for labels (one-hot encoded)\n",
        "\n",
        "# Re-define the convolutional layers\n",
        "conv1_CIFAR100 = tf.nn.conv2d(x_new, W_conv1_CIFAR10, strides=[1, 1, 1, 1], padding='SAME') + B_conv1_CIFAR10\n",
        "conv1_relu_CIFAR100 = tf.nn.relu(conv1_CIFAR100)\n",
        "drop1_CIFAR100 = tf.nn.dropout(conv1_relu_CIFAR100, rate=0.5)\n",
        "conv2_CIFAR100 = tf.nn.conv2d(drop1_CIFAR100, W_conv2_CIFAR10, strides=[1, 1, 1, 1], padding='SAME') + B_conv2_CIFAR10\n",
        "conv2_relu_CIFAR100 = tf.nn.relu(conv2_CIFAR100)\n",
        "pooling1_CIFAR100 = tf.nn.max_pool(conv2_relu_CIFAR100, ksize=[1, 3, 3, 1], strides=[1, 2, 2, 1], padding='SAME')\n",
        "conv3_CIFAR100 = tf.nn.conv2d(pooling1_CIFAR100, W_conv3_CIFAR10, strides=[1, 1, 1, 1], padding='SAME') + B_conv3_CIFAR10\n",
        "conv3_relu_CIFAR100 = tf.nn.relu(conv3_CIFAR100)\n",
        "drop2_CIFAR100 = tf.nn.dropout(conv3_relu_CIFAR100, rate=0.5)\n",
        "bn1_CIFAR100 = tf.nn.batch_normalization(drop2_CIFAR100,mean=tf.reduce_mean(drop2_CIFAR100),variance=tf.math.reduce_variance(drop2_CIFAR100),offset=O_BN1_CIFAR10, scale=S_BN1_CIFAR10, variance_epsilon=0.01)\n",
        "conv4_CIFAR100 = tf.nn.conv2d(bn1_CIFAR100, W_conv4_CIFAR10, strides=[1, 1, 1, 1], padding='SAME') + B_conv4_CIFAR10\n",
        "conv4_relu_CIFAR100 = tf.nn.relu(conv4_CIFAR100)\n",
        "pooling2_CIFAR100 = tf.nn.max_pool(conv4_relu_CIFAR100, ksize=[1, 3, 3, 1], strides=[1, 2, 2, 1], padding='SAME')\n",
        "conv5_CIFAR100 = tf.nn.conv2d(pooling2_CIFAR100, W_conv5_CIFAR10, strides=[1, 1, 1, 1], padding='SAME') + B_conv5_CIFAR10\n",
        "conv5_relu_CIFAR100 = tf.nn.relu(conv5_CIFAR100)   \n",
        "\n",
        "flat_conv5_CIFAR100 = tf.reshape(conv5_relu_CIFAR100, [-1, tf.math.reduce_prod(conv5_relu_CIFAR100.shape[1:])])\n",
        "\n",
        "FC1_CIFAR100 = tf.matmul(flat_conv5_CIFAR100, W_FC1_CIFAR10) + B_FC1_CIFAR10\n",
        "FC1_relu_CIFAR100 = tf.nn.relu(FC1_CIFAR100)\n",
        "\n",
        "\n",
        "\n",
        "\n",
        "\n",
        "#############################################################\n",
        "# Define weights for the second FC layer (fc1 is already defined in the previous model)\n",
        "init = lambda shape: tf.truncated_normal(shape=shape, mean = 0.0, stddev = 0.5)\n",
        "\n",
        "W_fc2_new = tf.Variable(init(shape=[128, 128]),name=\"W_fc2_new\")\n",
        "B_fc2_new = tf.Variable(init(shape=[128]),name=\"B_fc2_new\")\n",
        "W_fc3_new = tf.Variable(init(shape=[128, 3]),name=\"W_fc3_new\")\n",
        "B_fc3_new = tf.Variable(init(shape=[3]),name=\"B_fc3_new\")\n",
        "\n",
        "# Define based on the first fully connected layer.\n",
        "fc2_new = tf.nn.relu(tf.matmul(FC1_relu_CIFAR100, W_fc2_new) + B_fc2_new)\n",
        "\n",
        "# Define based on the second fully connected layer (fc2_new).\n",
        "logit = tf.matmul(fc2_new, W_fc3_new) + B_fc3_new\n",
        "y_hat = tf.nn.softmax(logit)\n",
        "\n",
        "########## Cross entropy loss ##########\n",
        "new_cross_entropy = tf.reduce_mean(tf.nn.softmax_cross_entropy_with_logits_v2(logits=logit, labels=y_new))\n",
        "regularizers = tf.nn.l2_loss(W_fc3_new) + tf.nn.l2_loss(W_fc2_new)\n",
        "beta=0.00001\n",
        "new_cross_entropy += regularizers * beta\n",
        "############################################################\n",
        "#            TODO: Implement the optimizer so that only    #\n",
        "#                  variales defined above are updated.     #\n",
        "############################################################\n",
        "lr = 5e-3\n",
        "new_optimizer = tf.train.AdamOptimizer(learning_rate=lr)\n",
        "new_trainer = new_optimizer.minimize(new_cross_entropy, var_list=[W_fc2_new, B_fc2_new, B_fc3_new, B_fc3_new])\n",
        "############################################################\n",
        "\n",
        "############################################################\n",
        "#            TODO: Implement Accuracy                      #\n",
        "############################################################\n",
        "correct_preds = tf.argmax(y_new, axis=1)\n",
        "new_accuracy = tf.reduce_mean(tf.cast(tf.equal(tf.argmax(y_hat, axis=1), correct_preds),tf.float64)) \n",
        "############################################################\n"
      ],
      "execution_count": 21,
      "outputs": []
    },
    {
      "cell_type": "markdown",
      "metadata": {
        "id": "eH2_ztPAwNpb"
      },
      "source": [
        "Now, go for the rest of the job and start training:"
      ]
    },
    {
      "cell_type": "code",
      "metadata": {
        "id": "IpTeXoq3wNpc",
        "colab": {
          "base_uri": "https://localhost:8080/",
          "height": 238
        },
        "outputId": "1438f508-185d-4d31-9032-ca79442c24c6"
      },
      "source": [
        "########## Training ##########\n",
        "batch_size = 64 # You are free to change it\n",
        "x_train_batches, y_train_batches = make_batches(images_train, labels_train_onehot, batch_size)\n",
        "epochs = 30  # You are free to change it\n",
        "N_Batches = len(x_train_batches)\n",
        "\n",
        "train_acc  = np.zeros(epochs)\n",
        "train_loss = np.zeros(epochs)\n",
        "val_acc  = np.zeros(epochs)\n",
        "val_loss = np.zeros(epochs)\n",
        "\n",
        "with tf.Session() as sess:\n",
        "    sess.run(tf.global_variables_initializer())\n",
        "    for epoch in range(epochs):\n",
        "        print()\n",
        "        print(\"*\" * 10, \"Epoch %3i\"%epoch, \"*\" * 10)\n",
        "\n",
        "        batch_acc = np.zeros(N_Batches)\n",
        "        batch_loss = np.zeros(N_Batches)\n",
        "        for n in range(N_Batches):\n",
        "            _, batch_acc[n], batch_loss[n] = sess.run([new_trainer, new_accuracy, new_cross_entropy],\n",
        "                                                      {x: x_train_batches[n], y: y_train_batches[n]})\n",
        "            #print(\"Batch %3d/%d: Acc:%0.4f , Loss:%0.4f\"%(n, N_Batches, batch_acc[n], batch_loss[n]))\n",
        "\n",
        "        train_acc[epoch] = np.mean(batch_acc)\n",
        "        train_loss[epoch] = np.mean(batch_loss)\n",
        "        print(\"Train:\\t\\tAccuracy= %0.4f \\tLoss= %0.4f\"%(train_acc[epoch], train_loss[epoch]))\n",
        "\n",
        "        ########## Validation ##########\n",
        "        val_acc[epoch], val_loss[epoch] = sess.run([new_accuracy, new_cross_entropy],\n",
        "                                                   {x: images_validation, y: labels_val_onehot})\n",
        "        print(\"Validation:\\tAccuracy= %0.4f \\tLoss= %0.4f\"%(val_acc[epoch], val_loss[epoch]))\n",
        "        \n",
        "############################################################\n",
        "#            TODO: Implement Test Phase                    #\n",
        "############################################################\n",
        "...\n",
        "print(\"Test:\\tAccuracy= %0.4f \\tLoss= %0.4f\"%(test_acc, test_loss))\n",
        "############################################################"
      ],
      "execution_count": 22,
      "outputs": [
        {
          "output_type": "error",
          "ename": "NameError",
          "evalue": "ignored",
          "traceback": [
            "\u001b[0;31m---------------------------------------------------------------------------\u001b[0m",
            "\u001b[0;31mNameError\u001b[0m                                 Traceback (most recent call last)",
            "\u001b[0;32m<ipython-input-22-836338d901ad>\u001b[0m in \u001b[0;36m<module>\u001b[0;34m()\u001b[0m\n\u001b[1;32m      1\u001b[0m \u001b[0;31m########## Training ##########\u001b[0m\u001b[0;34m\u001b[0m\u001b[0;34m\u001b[0m\u001b[0;34m\u001b[0m\u001b[0m\n\u001b[1;32m      2\u001b[0m \u001b[0mbatch_size\u001b[0m \u001b[0;34m=\u001b[0m \u001b[0;36m64\u001b[0m \u001b[0;31m# You are free to change it\u001b[0m\u001b[0;34m\u001b[0m\u001b[0;34m\u001b[0m\u001b[0m\n\u001b[0;32m----> 3\u001b[0;31m \u001b[0mx_train_batches\u001b[0m\u001b[0;34m,\u001b[0m \u001b[0my_train_batches\u001b[0m \u001b[0;34m=\u001b[0m \u001b[0mmake_batches\u001b[0m\u001b[0;34m(\u001b[0m\u001b[0mimages_train\u001b[0m\u001b[0;34m,\u001b[0m \u001b[0mlabels_train_onehot\u001b[0m\u001b[0;34m,\u001b[0m \u001b[0mbatch_size\u001b[0m\u001b[0;34m)\u001b[0m\u001b[0;34m\u001b[0m\u001b[0;34m\u001b[0m\u001b[0m\n\u001b[0m\u001b[1;32m      4\u001b[0m \u001b[0mepochs\u001b[0m \u001b[0;34m=\u001b[0m \u001b[0;36m30\u001b[0m  \u001b[0;31m# You are free to change it\u001b[0m\u001b[0;34m\u001b[0m\u001b[0;34m\u001b[0m\u001b[0m\n\u001b[1;32m      5\u001b[0m \u001b[0mN_Batches\u001b[0m \u001b[0;34m=\u001b[0m \u001b[0mlen\u001b[0m\u001b[0;34m(\u001b[0m\u001b[0mx_train_batches\u001b[0m\u001b[0;34m)\u001b[0m\u001b[0;34m\u001b[0m\u001b[0;34m\u001b[0m\u001b[0m\n",
            "\u001b[0;31mNameError\u001b[0m: name 'images_train' is not defined"
          ]
        }
      ]
    },
    {
      "cell_type": "markdown",
      "metadata": {
        "id": "20qg-TgTwNpt"
      },
      "source": [
        "You can use tensorboard or the code provided in the next box to plot for loss and accuracy of training and validation data. You are expected to achieve at least 80% accuracy on the test data after training. Good Luck! ;)"
      ]
    },
    {
      "cell_type": "markdown",
      "metadata": {
        "id": "OEWgypXhwNpv"
      },
      "source": [
        "### Training Diagram"
      ]
    },
    {
      "cell_type": "code",
      "metadata": {
        "id": "zVq_NQTfwNpx"
      },
      "source": [
        "########## Plot metrics #########################\n",
        "fig = plt.figure()\n",
        "plt.plot(range(epochs), train_acc, label='Train')\n",
        "plt.plot(range(epochs), val_acc, label='Validation')\n",
        "plt.title(\"Training and Validation Accuracy\")\n",
        "plt.xlabel(\"epoch\")\n",
        "plt.ylabel(\"Accuracy\")\n",
        "plt.grid(True)\n",
        "plt.legend(loc=0)\n",
        "plt.show()\n",
        "\n",
        "fig = plt.figure()\n",
        "plt.plot(range(epochs), train_loss, label='Train')\n",
        "plt.plot(range(epochs), val_loss, label='Validation')\n",
        "plt.title(\"Training and Validation Loss\")\n",
        "plt.xlabel(\"epoch\")\n",
        "plt.ylabel(\"Cross entropy\")\n",
        "plt.grid(True)\n",
        "plt.legend(loc=0)\n",
        "plt.show()"
      ],
      "execution_count": null,
      "outputs": []
    }
  ]
}
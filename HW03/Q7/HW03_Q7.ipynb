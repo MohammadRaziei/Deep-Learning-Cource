{
  "nbformat": 4,
  "nbformat_minor": 0,
  "metadata": {
    "kernelspec": {
      "display_name": "Python 3",
      "language": "python",
      "name": "python3"
    },
    "language_info": {
      "codemirror_mode": {
        "name": "ipython",
        "version": 3
      },
      "file_extension": ".py",
      "mimetype": "text/x-python",
      "name": "python",
      "nbconvert_exporter": "python",
      "pygments_lexer": "ipython3",
      "version": "3.7.6"
    },
    "varInspector": {
      "cols": {
        "lenName": 16,
        "lenType": 16,
        "lenVar": 40
      },
      "kernels_config": {
        "python": {
          "delete_cmd_postfix": "",
          "delete_cmd_prefix": "del ",
          "library": "var_list.py",
          "varRefreshCmd": "print(var_dic_list())"
        },
        "r": {
          "delete_cmd_postfix": ") ",
          "delete_cmd_prefix": "rm(",
          "library": "var_list.r",
          "varRefreshCmd": "cat(var_dic_list()) "
        }
      },
      "types_to_exclude": [
        "module",
        "function",
        "builtin_function_or_method",
        "instance",
        "_Feature"
      ],
      "window_display": false
    },
    "colab": {
      "name": "HW03_Q7.ipynb",
      "provenance": [],
      "toc_visible": true,
      "include_colab_link": true
    },
    "accelerator": "GPU"
  },
  "cells": [
    {
      "cell_type": "markdown",
      "metadata": {
        "id": "view-in-github",
        "colab_type": "text"
      },
      "source": [
        "<a href=\"https://colab.research.google.com/github/MohammadRaziei/Deep-Learning-Course/blob/master/HW03/Q7/HW03_Q7.ipynb\" target=\"_parent\"><img src=\"https://colab.research.google.com/assets/colab-badge.svg\" alt=\"Open In Colab\"/></a>"
      ]
    },
    {
      "cell_type": "markdown",
      "metadata": {
        "id": "079v9k9uWD8c"
      },
      "source": [
        "# HW03 - Problem 7"
      ]
    },
    {
      "cell_type": "markdown",
      "metadata": {
        "id": "ipaWI4BjZlDL"
      },
      "source": [
        "## Preprocessing"
      ]
    },
    {
      "cell_type": "code",
      "metadata": {
        "id": "ZVsdF53PZflY"
      },
      "source": [
        "from tensorflow import keras\r\n",
        "import tensorflow as tf\r\n",
        "from tensorflow.keras.datasets import mnist\r\n",
        "import numpy as np\r\n",
        "import pandas as pd\r\n",
        "import os\r\n",
        "import matplotlib.pyplot as plt\r\n",
        "from keras.preprocessing.image import load_img\r\n",
        "from sklearn.model_selection import train_test_split\r\n",
        "\r\n",
        "\r\n",
        "def plot_image(img, method=None):\r\n",
        "    plt.xticks([])\r\n",
        "    plt.yticks([])\r\n",
        "    plt.grid(False)\r\n",
        "    plt.imshow(img, cmap=plt.cm.binary)\r\n"
      ],
      "execution_count": 1,
      "outputs": []
    },
    {
      "cell_type": "markdown",
      "metadata": {
        "id": "W9ENqHhFZBnu"
      },
      "source": [
        "## Part A"
      ]
    },
    {
      "cell_type": "markdown",
      "metadata": {
        "id": "A_xbL0HWYuil"
      },
      "source": [
        "load data \r\n",
        "> I uploaded this dataset to my github repo to download easily!"
      ]
    },
    {
      "cell_type": "code",
      "metadata": {
        "colab": {
          "base_uri": "https://localhost:8080/"
        },
        "id": "FG4ILt1cWA6o",
        "outputId": "ff900c85-9ecc-4a69-ff51-aabc4486f2f9"
      },
      "source": [
        "!wget https://github.com/MohammadRaziei/DataSetsArchive/raw/master/sign_mnist.zip\r\n",
        "!unzip -o sign_mnist -d sign_mnist "
      ],
      "execution_count": 2,
      "outputs": [
        {
          "output_type": "stream",
          "text": [
            "--2020-12-11 22:56:44--  https://github.com/MohammadRaziei/DataSetsArchive/raw/master/sign_mnist.zip\n",
            "Resolving github.com (github.com)... 192.30.255.112\n",
            "Connecting to github.com (github.com)|192.30.255.112|:443... connected.\n",
            "HTTP request sent, awaiting response... 302 Found\n",
            "Location: https://raw.githubusercontent.com/MohammadRaziei/DataSetsArchive/master/sign_mnist.zip [following]\n",
            "--2020-12-11 22:56:45--  https://raw.githubusercontent.com/MohammadRaziei/DataSetsArchive/master/sign_mnist.zip\n",
            "Resolving raw.githubusercontent.com (raw.githubusercontent.com)... 151.101.0.133, 151.101.64.133, 151.101.128.133, ...\n",
            "Connecting to raw.githubusercontent.com (raw.githubusercontent.com)|151.101.0.133|:443... connected.\n",
            "HTTP request sent, awaiting response... 200 OK\n",
            "Length: 65633206 (63M) [application/zip]\n",
            "Saving to: ‘sign_mnist.zip.7’\n",
            "\n",
            "sign_mnist.zip.7    100%[===================>]  62.59M   192MB/s    in 0.3s    \n",
            "\n",
            "2020-12-11 22:56:45 (192 MB/s) - ‘sign_mnist.zip.7’ saved [65633206/65633206]\n",
            "\n",
            "Archive:  sign_mnist.zip\n",
            "  inflating: sign_mnist/amer_sign2.png  \n",
            "  inflating: sign_mnist/amer_sign3.png  \n",
            "  inflating: sign_mnist/american_sign_language.PNG  \n",
            "  inflating: sign_mnist/sign_mnist_test.csv  \n",
            "  inflating: sign_mnist/sign_mnist_test/sign_mnist_test.csv  \n",
            "  inflating: sign_mnist/sign_mnist_train.csv  \n",
            "  inflating: sign_mnist/sign_mnist_train/sign_mnist_train.csv  \n"
          ],
          "name": "stdout"
        }
      ]
    },
    {
      "cell_type": "markdown",
      "metadata": {
        "id": "BtzUYoJWZJtY"
      },
      "source": [
        "## Part B"
      ]
    },
    {
      "cell_type": "code",
      "metadata": {
        "colab": {
          "base_uri": "https://localhost:8080/",
          "height": 419
        },
        "id": "04GPWBKpZKMl",
        "outputId": "c865bbb8-0cdc-4cf2-c110-3f8da05c6269"
      },
      "source": [
        "class sign_mnist:\r\n",
        "    label_set = [0, 1, 2, 3, 4, 5, 6, 7, 8, 10, 11, 12, 13, 14, 15, 16, 17, 18, 19, 20, 21, 22, 23, 24]\r\n",
        "    def load_data(root = 'sign_mnist', shape = (28,28)):\r\n",
        "        filename_train = os.path.join(root,'sign_mnist_train.csv')\r\n",
        "        csv_train = pd.read_csv(filename_train,sep=',')\r\n",
        "        y_train = np.array(csv_train['label'], dtype=np.int32)\r\n",
        "        x_train = np.array(csv_train.iloc[:,1:], dtype=np.float32)\r\n",
        "        if shape is not None:\r\n",
        "          x_train = x_train.reshape(-1,*shape)\r\n",
        "        del csv_train\r\n",
        "        filename_test = os.path.join(root,'sign_mnist_test.csv')\r\n",
        "        csv_test = pd.read_csv(filename_test,sep=',')\r\n",
        "        y_test = np.array(csv_test['label'], dtype=np.int32)\r\n",
        "        x_test = np.array(csv_test.iloc[:,1:], dtype=np.float32)\r\n",
        "        if shape is not None:\r\n",
        "          x_test = x_test.reshape(-1,*shape)\r\n",
        "        del csv_test\r\n",
        "        return (x_train, y_train), (x_test, y_test)\r\n",
        "\r\n",
        "    def interpret_label(label):\r\n",
        "        if type(label) is int or type(label) is np.int32:\r\n",
        "          return chr(ord('a')+ label) \r\n",
        "        if type(label) is np.ndarray:\r\n",
        "          return np.array([chr(ord('a')+ int(i)) for i in label.squeeze().tolist()])\r\n",
        "        return [chr(ord('a')+ i) for i in label]\r\n",
        "\r\n",
        "\r\n",
        "# show table\r\n",
        "pd.read_csv('sign_mnist/sign_mnist_train.csv', sep=',')"
      ],
      "execution_count": 3,
      "outputs": [
        {
          "output_type": "execute_result",
          "data": {
            "text/html": [
              "<div>\n",
              "<style scoped>\n",
              "    .dataframe tbody tr th:only-of-type {\n",
              "        vertical-align: middle;\n",
              "    }\n",
              "\n",
              "    .dataframe tbody tr th {\n",
              "        vertical-align: top;\n",
              "    }\n",
              "\n",
              "    .dataframe thead th {\n",
              "        text-align: right;\n",
              "    }\n",
              "</style>\n",
              "<table border=\"1\" class=\"dataframe\">\n",
              "  <thead>\n",
              "    <tr style=\"text-align: right;\">\n",
              "      <th></th>\n",
              "      <th>label</th>\n",
              "      <th>pixel1</th>\n",
              "      <th>pixel2</th>\n",
              "      <th>pixel3</th>\n",
              "      <th>pixel4</th>\n",
              "      <th>pixel5</th>\n",
              "      <th>pixel6</th>\n",
              "      <th>pixel7</th>\n",
              "      <th>pixel8</th>\n",
              "      <th>pixel9</th>\n",
              "      <th>pixel10</th>\n",
              "      <th>pixel11</th>\n",
              "      <th>pixel12</th>\n",
              "      <th>pixel13</th>\n",
              "      <th>pixel14</th>\n",
              "      <th>pixel15</th>\n",
              "      <th>pixel16</th>\n",
              "      <th>pixel17</th>\n",
              "      <th>pixel18</th>\n",
              "      <th>pixel19</th>\n",
              "      <th>pixel20</th>\n",
              "      <th>pixel21</th>\n",
              "      <th>pixel22</th>\n",
              "      <th>pixel23</th>\n",
              "      <th>pixel24</th>\n",
              "      <th>pixel25</th>\n",
              "      <th>pixel26</th>\n",
              "      <th>pixel27</th>\n",
              "      <th>pixel28</th>\n",
              "      <th>pixel29</th>\n",
              "      <th>pixel30</th>\n",
              "      <th>pixel31</th>\n",
              "      <th>pixel32</th>\n",
              "      <th>pixel33</th>\n",
              "      <th>pixel34</th>\n",
              "      <th>pixel35</th>\n",
              "      <th>pixel36</th>\n",
              "      <th>pixel37</th>\n",
              "      <th>pixel38</th>\n",
              "      <th>pixel39</th>\n",
              "      <th>...</th>\n",
              "      <th>pixel745</th>\n",
              "      <th>pixel746</th>\n",
              "      <th>pixel747</th>\n",
              "      <th>pixel748</th>\n",
              "      <th>pixel749</th>\n",
              "      <th>pixel750</th>\n",
              "      <th>pixel751</th>\n",
              "      <th>pixel752</th>\n",
              "      <th>pixel753</th>\n",
              "      <th>pixel754</th>\n",
              "      <th>pixel755</th>\n",
              "      <th>pixel756</th>\n",
              "      <th>pixel757</th>\n",
              "      <th>pixel758</th>\n",
              "      <th>pixel759</th>\n",
              "      <th>pixel760</th>\n",
              "      <th>pixel761</th>\n",
              "      <th>pixel762</th>\n",
              "      <th>pixel763</th>\n",
              "      <th>pixel764</th>\n",
              "      <th>pixel765</th>\n",
              "      <th>pixel766</th>\n",
              "      <th>pixel767</th>\n",
              "      <th>pixel768</th>\n",
              "      <th>pixel769</th>\n",
              "      <th>pixel770</th>\n",
              "      <th>pixel771</th>\n",
              "      <th>pixel772</th>\n",
              "      <th>pixel773</th>\n",
              "      <th>pixel774</th>\n",
              "      <th>pixel775</th>\n",
              "      <th>pixel776</th>\n",
              "      <th>pixel777</th>\n",
              "      <th>pixel778</th>\n",
              "      <th>pixel779</th>\n",
              "      <th>pixel780</th>\n",
              "      <th>pixel781</th>\n",
              "      <th>pixel782</th>\n",
              "      <th>pixel783</th>\n",
              "      <th>pixel784</th>\n",
              "    </tr>\n",
              "  </thead>\n",
              "  <tbody>\n",
              "    <tr>\n",
              "      <th>0</th>\n",
              "      <td>3</td>\n",
              "      <td>107</td>\n",
              "      <td>118</td>\n",
              "      <td>127</td>\n",
              "      <td>134</td>\n",
              "      <td>139</td>\n",
              "      <td>143</td>\n",
              "      <td>146</td>\n",
              "      <td>150</td>\n",
              "      <td>153</td>\n",
              "      <td>156</td>\n",
              "      <td>158</td>\n",
              "      <td>160</td>\n",
              "      <td>163</td>\n",
              "      <td>165</td>\n",
              "      <td>159</td>\n",
              "      <td>166</td>\n",
              "      <td>168</td>\n",
              "      <td>170</td>\n",
              "      <td>170</td>\n",
              "      <td>171</td>\n",
              "      <td>171</td>\n",
              "      <td>171</td>\n",
              "      <td>172</td>\n",
              "      <td>171</td>\n",
              "      <td>171</td>\n",
              "      <td>170</td>\n",
              "      <td>170</td>\n",
              "      <td>169</td>\n",
              "      <td>111</td>\n",
              "      <td>121</td>\n",
              "      <td>129</td>\n",
              "      <td>135</td>\n",
              "      <td>141</td>\n",
              "      <td>144</td>\n",
              "      <td>148</td>\n",
              "      <td>151</td>\n",
              "      <td>154</td>\n",
              "      <td>157</td>\n",
              "      <td>160</td>\n",
              "      <td>...</td>\n",
              "      <td>205</td>\n",
              "      <td>206</td>\n",
              "      <td>206</td>\n",
              "      <td>207</td>\n",
              "      <td>207</td>\n",
              "      <td>206</td>\n",
              "      <td>206</td>\n",
              "      <td>204</td>\n",
              "      <td>205</td>\n",
              "      <td>204</td>\n",
              "      <td>203</td>\n",
              "      <td>202</td>\n",
              "      <td>142</td>\n",
              "      <td>151</td>\n",
              "      <td>160</td>\n",
              "      <td>172</td>\n",
              "      <td>196</td>\n",
              "      <td>188</td>\n",
              "      <td>188</td>\n",
              "      <td>190</td>\n",
              "      <td>135</td>\n",
              "      <td>96</td>\n",
              "      <td>86</td>\n",
              "      <td>77</td>\n",
              "      <td>77</td>\n",
              "      <td>79</td>\n",
              "      <td>176</td>\n",
              "      <td>205</td>\n",
              "      <td>207</td>\n",
              "      <td>207</td>\n",
              "      <td>207</td>\n",
              "      <td>207</td>\n",
              "      <td>207</td>\n",
              "      <td>207</td>\n",
              "      <td>206</td>\n",
              "      <td>206</td>\n",
              "      <td>206</td>\n",
              "      <td>204</td>\n",
              "      <td>203</td>\n",
              "      <td>202</td>\n",
              "    </tr>\n",
              "    <tr>\n",
              "      <th>1</th>\n",
              "      <td>6</td>\n",
              "      <td>155</td>\n",
              "      <td>157</td>\n",
              "      <td>156</td>\n",
              "      <td>156</td>\n",
              "      <td>156</td>\n",
              "      <td>157</td>\n",
              "      <td>156</td>\n",
              "      <td>158</td>\n",
              "      <td>158</td>\n",
              "      <td>157</td>\n",
              "      <td>158</td>\n",
              "      <td>156</td>\n",
              "      <td>154</td>\n",
              "      <td>154</td>\n",
              "      <td>153</td>\n",
              "      <td>152</td>\n",
              "      <td>151</td>\n",
              "      <td>149</td>\n",
              "      <td>149</td>\n",
              "      <td>148</td>\n",
              "      <td>147</td>\n",
              "      <td>146</td>\n",
              "      <td>144</td>\n",
              "      <td>142</td>\n",
              "      <td>143</td>\n",
              "      <td>138</td>\n",
              "      <td>92</td>\n",
              "      <td>108</td>\n",
              "      <td>158</td>\n",
              "      <td>159</td>\n",
              "      <td>159</td>\n",
              "      <td>159</td>\n",
              "      <td>160</td>\n",
              "      <td>160</td>\n",
              "      <td>160</td>\n",
              "      <td>160</td>\n",
              "      <td>160</td>\n",
              "      <td>160</td>\n",
              "      <td>160</td>\n",
              "      <td>...</td>\n",
              "      <td>100</td>\n",
              "      <td>78</td>\n",
              "      <td>120</td>\n",
              "      <td>157</td>\n",
              "      <td>168</td>\n",
              "      <td>107</td>\n",
              "      <td>99</td>\n",
              "      <td>121</td>\n",
              "      <td>133</td>\n",
              "      <td>97</td>\n",
              "      <td>95</td>\n",
              "      <td>120</td>\n",
              "      <td>135</td>\n",
              "      <td>116</td>\n",
              "      <td>95</td>\n",
              "      <td>79</td>\n",
              "      <td>69</td>\n",
              "      <td>86</td>\n",
              "      <td>139</td>\n",
              "      <td>173</td>\n",
              "      <td>200</td>\n",
              "      <td>185</td>\n",
              "      <td>175</td>\n",
              "      <td>198</td>\n",
              "      <td>124</td>\n",
              "      <td>118</td>\n",
              "      <td>94</td>\n",
              "      <td>140</td>\n",
              "      <td>133</td>\n",
              "      <td>84</td>\n",
              "      <td>69</td>\n",
              "      <td>149</td>\n",
              "      <td>128</td>\n",
              "      <td>87</td>\n",
              "      <td>94</td>\n",
              "      <td>163</td>\n",
              "      <td>175</td>\n",
              "      <td>103</td>\n",
              "      <td>135</td>\n",
              "      <td>149</td>\n",
              "    </tr>\n",
              "    <tr>\n",
              "      <th>2</th>\n",
              "      <td>2</td>\n",
              "      <td>187</td>\n",
              "      <td>188</td>\n",
              "      <td>188</td>\n",
              "      <td>187</td>\n",
              "      <td>187</td>\n",
              "      <td>186</td>\n",
              "      <td>187</td>\n",
              "      <td>188</td>\n",
              "      <td>187</td>\n",
              "      <td>186</td>\n",
              "      <td>185</td>\n",
              "      <td>185</td>\n",
              "      <td>185</td>\n",
              "      <td>184</td>\n",
              "      <td>184</td>\n",
              "      <td>184</td>\n",
              "      <td>181</td>\n",
              "      <td>181</td>\n",
              "      <td>179</td>\n",
              "      <td>179</td>\n",
              "      <td>179</td>\n",
              "      <td>178</td>\n",
              "      <td>178</td>\n",
              "      <td>109</td>\n",
              "      <td>52</td>\n",
              "      <td>66</td>\n",
              "      <td>77</td>\n",
              "      <td>83</td>\n",
              "      <td>188</td>\n",
              "      <td>189</td>\n",
              "      <td>189</td>\n",
              "      <td>188</td>\n",
              "      <td>188</td>\n",
              "      <td>189</td>\n",
              "      <td>188</td>\n",
              "      <td>188</td>\n",
              "      <td>188</td>\n",
              "      <td>188</td>\n",
              "      <td>187</td>\n",
              "      <td>...</td>\n",
              "      <td>203</td>\n",
              "      <td>204</td>\n",
              "      <td>203</td>\n",
              "      <td>201</td>\n",
              "      <td>200</td>\n",
              "      <td>200</td>\n",
              "      <td>199</td>\n",
              "      <td>198</td>\n",
              "      <td>196</td>\n",
              "      <td>195</td>\n",
              "      <td>194</td>\n",
              "      <td>193</td>\n",
              "      <td>198</td>\n",
              "      <td>166</td>\n",
              "      <td>132</td>\n",
              "      <td>114</td>\n",
              "      <td>89</td>\n",
              "      <td>74</td>\n",
              "      <td>79</td>\n",
              "      <td>77</td>\n",
              "      <td>74</td>\n",
              "      <td>78</td>\n",
              "      <td>132</td>\n",
              "      <td>188</td>\n",
              "      <td>210</td>\n",
              "      <td>209</td>\n",
              "      <td>206</td>\n",
              "      <td>205</td>\n",
              "      <td>204</td>\n",
              "      <td>203</td>\n",
              "      <td>202</td>\n",
              "      <td>201</td>\n",
              "      <td>200</td>\n",
              "      <td>199</td>\n",
              "      <td>198</td>\n",
              "      <td>199</td>\n",
              "      <td>198</td>\n",
              "      <td>195</td>\n",
              "      <td>194</td>\n",
              "      <td>195</td>\n",
              "    </tr>\n",
              "    <tr>\n",
              "      <th>3</th>\n",
              "      <td>2</td>\n",
              "      <td>211</td>\n",
              "      <td>211</td>\n",
              "      <td>212</td>\n",
              "      <td>212</td>\n",
              "      <td>211</td>\n",
              "      <td>210</td>\n",
              "      <td>211</td>\n",
              "      <td>210</td>\n",
              "      <td>210</td>\n",
              "      <td>211</td>\n",
              "      <td>209</td>\n",
              "      <td>207</td>\n",
              "      <td>208</td>\n",
              "      <td>207</td>\n",
              "      <td>206</td>\n",
              "      <td>203</td>\n",
              "      <td>202</td>\n",
              "      <td>201</td>\n",
              "      <td>200</td>\n",
              "      <td>198</td>\n",
              "      <td>197</td>\n",
              "      <td>195</td>\n",
              "      <td>192</td>\n",
              "      <td>197</td>\n",
              "      <td>171</td>\n",
              "      <td>51</td>\n",
              "      <td>52</td>\n",
              "      <td>54</td>\n",
              "      <td>212</td>\n",
              "      <td>213</td>\n",
              "      <td>215</td>\n",
              "      <td>215</td>\n",
              "      <td>212</td>\n",
              "      <td>212</td>\n",
              "      <td>213</td>\n",
              "      <td>212</td>\n",
              "      <td>212</td>\n",
              "      <td>211</td>\n",
              "      <td>211</td>\n",
              "      <td>...</td>\n",
              "      <td>247</td>\n",
              "      <td>242</td>\n",
              "      <td>233</td>\n",
              "      <td>231</td>\n",
              "      <td>230</td>\n",
              "      <td>229</td>\n",
              "      <td>227</td>\n",
              "      <td>225</td>\n",
              "      <td>223</td>\n",
              "      <td>221</td>\n",
              "      <td>220</td>\n",
              "      <td>216</td>\n",
              "      <td>58</td>\n",
              "      <td>51</td>\n",
              "      <td>49</td>\n",
              "      <td>50</td>\n",
              "      <td>57</td>\n",
              "      <td>60</td>\n",
              "      <td>17</td>\n",
              "      <td>15</td>\n",
              "      <td>18</td>\n",
              "      <td>17</td>\n",
              "      <td>19</td>\n",
              "      <td>1</td>\n",
              "      <td>159</td>\n",
              "      <td>255</td>\n",
              "      <td>237</td>\n",
              "      <td>239</td>\n",
              "      <td>237</td>\n",
              "      <td>236</td>\n",
              "      <td>235</td>\n",
              "      <td>234</td>\n",
              "      <td>233</td>\n",
              "      <td>231</td>\n",
              "      <td>230</td>\n",
              "      <td>226</td>\n",
              "      <td>225</td>\n",
              "      <td>222</td>\n",
              "      <td>229</td>\n",
              "      <td>163</td>\n",
              "    </tr>\n",
              "    <tr>\n",
              "      <th>4</th>\n",
              "      <td>13</td>\n",
              "      <td>164</td>\n",
              "      <td>167</td>\n",
              "      <td>170</td>\n",
              "      <td>172</td>\n",
              "      <td>176</td>\n",
              "      <td>179</td>\n",
              "      <td>180</td>\n",
              "      <td>184</td>\n",
              "      <td>185</td>\n",
              "      <td>186</td>\n",
              "      <td>188</td>\n",
              "      <td>189</td>\n",
              "      <td>189</td>\n",
              "      <td>190</td>\n",
              "      <td>191</td>\n",
              "      <td>189</td>\n",
              "      <td>190</td>\n",
              "      <td>190</td>\n",
              "      <td>187</td>\n",
              "      <td>190</td>\n",
              "      <td>192</td>\n",
              "      <td>193</td>\n",
              "      <td>191</td>\n",
              "      <td>191</td>\n",
              "      <td>192</td>\n",
              "      <td>192</td>\n",
              "      <td>194</td>\n",
              "      <td>194</td>\n",
              "      <td>166</td>\n",
              "      <td>169</td>\n",
              "      <td>172</td>\n",
              "      <td>174</td>\n",
              "      <td>177</td>\n",
              "      <td>180</td>\n",
              "      <td>182</td>\n",
              "      <td>185</td>\n",
              "      <td>186</td>\n",
              "      <td>187</td>\n",
              "      <td>190</td>\n",
              "      <td>...</td>\n",
              "      <td>90</td>\n",
              "      <td>77</td>\n",
              "      <td>88</td>\n",
              "      <td>117</td>\n",
              "      <td>123</td>\n",
              "      <td>127</td>\n",
              "      <td>129</td>\n",
              "      <td>134</td>\n",
              "      <td>145</td>\n",
              "      <td>152</td>\n",
              "      <td>156</td>\n",
              "      <td>179</td>\n",
              "      <td>105</td>\n",
              "      <td>106</td>\n",
              "      <td>105</td>\n",
              "      <td>104</td>\n",
              "      <td>104</td>\n",
              "      <td>104</td>\n",
              "      <td>175</td>\n",
              "      <td>199</td>\n",
              "      <td>178</td>\n",
              "      <td>152</td>\n",
              "      <td>136</td>\n",
              "      <td>130</td>\n",
              "      <td>136</td>\n",
              "      <td>150</td>\n",
              "      <td>118</td>\n",
              "      <td>92</td>\n",
              "      <td>85</td>\n",
              "      <td>76</td>\n",
              "      <td>92</td>\n",
              "      <td>105</td>\n",
              "      <td>105</td>\n",
              "      <td>108</td>\n",
              "      <td>133</td>\n",
              "      <td>163</td>\n",
              "      <td>157</td>\n",
              "      <td>163</td>\n",
              "      <td>164</td>\n",
              "      <td>179</td>\n",
              "    </tr>\n",
              "    <tr>\n",
              "      <th>...</th>\n",
              "      <td>...</td>\n",
              "      <td>...</td>\n",
              "      <td>...</td>\n",
              "      <td>...</td>\n",
              "      <td>...</td>\n",
              "      <td>...</td>\n",
              "      <td>...</td>\n",
              "      <td>...</td>\n",
              "      <td>...</td>\n",
              "      <td>...</td>\n",
              "      <td>...</td>\n",
              "      <td>...</td>\n",
              "      <td>...</td>\n",
              "      <td>...</td>\n",
              "      <td>...</td>\n",
              "      <td>...</td>\n",
              "      <td>...</td>\n",
              "      <td>...</td>\n",
              "      <td>...</td>\n",
              "      <td>...</td>\n",
              "      <td>...</td>\n",
              "      <td>...</td>\n",
              "      <td>...</td>\n",
              "      <td>...</td>\n",
              "      <td>...</td>\n",
              "      <td>...</td>\n",
              "      <td>...</td>\n",
              "      <td>...</td>\n",
              "      <td>...</td>\n",
              "      <td>...</td>\n",
              "      <td>...</td>\n",
              "      <td>...</td>\n",
              "      <td>...</td>\n",
              "      <td>...</td>\n",
              "      <td>...</td>\n",
              "      <td>...</td>\n",
              "      <td>...</td>\n",
              "      <td>...</td>\n",
              "      <td>...</td>\n",
              "      <td>...</td>\n",
              "      <td>...</td>\n",
              "      <td>...</td>\n",
              "      <td>...</td>\n",
              "      <td>...</td>\n",
              "      <td>...</td>\n",
              "      <td>...</td>\n",
              "      <td>...</td>\n",
              "      <td>...</td>\n",
              "      <td>...</td>\n",
              "      <td>...</td>\n",
              "      <td>...</td>\n",
              "      <td>...</td>\n",
              "      <td>...</td>\n",
              "      <td>...</td>\n",
              "      <td>...</td>\n",
              "      <td>...</td>\n",
              "      <td>...</td>\n",
              "      <td>...</td>\n",
              "      <td>...</td>\n",
              "      <td>...</td>\n",
              "      <td>...</td>\n",
              "      <td>...</td>\n",
              "      <td>...</td>\n",
              "      <td>...</td>\n",
              "      <td>...</td>\n",
              "      <td>...</td>\n",
              "      <td>...</td>\n",
              "      <td>...</td>\n",
              "      <td>...</td>\n",
              "      <td>...</td>\n",
              "      <td>...</td>\n",
              "      <td>...</td>\n",
              "      <td>...</td>\n",
              "      <td>...</td>\n",
              "      <td>...</td>\n",
              "      <td>...</td>\n",
              "      <td>...</td>\n",
              "      <td>...</td>\n",
              "      <td>...</td>\n",
              "      <td>...</td>\n",
              "      <td>...</td>\n",
              "    </tr>\n",
              "    <tr>\n",
              "      <th>27450</th>\n",
              "      <td>13</td>\n",
              "      <td>189</td>\n",
              "      <td>189</td>\n",
              "      <td>190</td>\n",
              "      <td>190</td>\n",
              "      <td>192</td>\n",
              "      <td>193</td>\n",
              "      <td>193</td>\n",
              "      <td>193</td>\n",
              "      <td>193</td>\n",
              "      <td>194</td>\n",
              "      <td>193</td>\n",
              "      <td>193</td>\n",
              "      <td>194</td>\n",
              "      <td>194</td>\n",
              "      <td>195</td>\n",
              "      <td>195</td>\n",
              "      <td>196</td>\n",
              "      <td>194</td>\n",
              "      <td>195</td>\n",
              "      <td>196</td>\n",
              "      <td>196</td>\n",
              "      <td>197</td>\n",
              "      <td>196</td>\n",
              "      <td>197</td>\n",
              "      <td>197</td>\n",
              "      <td>196</td>\n",
              "      <td>195</td>\n",
              "      <td>195</td>\n",
              "      <td>189</td>\n",
              "      <td>190</td>\n",
              "      <td>192</td>\n",
              "      <td>192</td>\n",
              "      <td>193</td>\n",
              "      <td>194</td>\n",
              "      <td>195</td>\n",
              "      <td>196</td>\n",
              "      <td>196</td>\n",
              "      <td>196</td>\n",
              "      <td>193</td>\n",
              "      <td>...</td>\n",
              "      <td>115</td>\n",
              "      <td>92</td>\n",
              "      <td>132</td>\n",
              "      <td>173</td>\n",
              "      <td>118</td>\n",
              "      <td>84</td>\n",
              "      <td>53</td>\n",
              "      <td>135</td>\n",
              "      <td>253</td>\n",
              "      <td>213</td>\n",
              "      <td>219</td>\n",
              "      <td>208</td>\n",
              "      <td>82</td>\n",
              "      <td>82</td>\n",
              "      <td>84</td>\n",
              "      <td>85</td>\n",
              "      <td>85</td>\n",
              "      <td>87</td>\n",
              "      <td>84</td>\n",
              "      <td>87</td>\n",
              "      <td>78</td>\n",
              "      <td>113</td>\n",
              "      <td>216</td>\n",
              "      <td>189</td>\n",
              "      <td>172</td>\n",
              "      <td>175</td>\n",
              "      <td>155</td>\n",
              "      <td>131</td>\n",
              "      <td>116</td>\n",
              "      <td>93</td>\n",
              "      <td>132</td>\n",
              "      <td>165</td>\n",
              "      <td>99</td>\n",
              "      <td>77</td>\n",
              "      <td>52</td>\n",
              "      <td>200</td>\n",
              "      <td>234</td>\n",
              "      <td>200</td>\n",
              "      <td>222</td>\n",
              "      <td>225</td>\n",
              "    </tr>\n",
              "    <tr>\n",
              "      <th>27451</th>\n",
              "      <td>23</td>\n",
              "      <td>151</td>\n",
              "      <td>154</td>\n",
              "      <td>157</td>\n",
              "      <td>158</td>\n",
              "      <td>160</td>\n",
              "      <td>161</td>\n",
              "      <td>163</td>\n",
              "      <td>164</td>\n",
              "      <td>166</td>\n",
              "      <td>167</td>\n",
              "      <td>169</td>\n",
              "      <td>169</td>\n",
              "      <td>169</td>\n",
              "      <td>169</td>\n",
              "      <td>169</td>\n",
              "      <td>169</td>\n",
              "      <td>169</td>\n",
              "      <td>169</td>\n",
              "      <td>169</td>\n",
              "      <td>167</td>\n",
              "      <td>167</td>\n",
              "      <td>167</td>\n",
              "      <td>166</td>\n",
              "      <td>165</td>\n",
              "      <td>164</td>\n",
              "      <td>164</td>\n",
              "      <td>163</td>\n",
              "      <td>162</td>\n",
              "      <td>153</td>\n",
              "      <td>156</td>\n",
              "      <td>159</td>\n",
              "      <td>160</td>\n",
              "      <td>162</td>\n",
              "      <td>163</td>\n",
              "      <td>164</td>\n",
              "      <td>165</td>\n",
              "      <td>167</td>\n",
              "      <td>169</td>\n",
              "      <td>172</td>\n",
              "      <td>...</td>\n",
              "      <td>199</td>\n",
              "      <td>200</td>\n",
              "      <td>199</td>\n",
              "      <td>199</td>\n",
              "      <td>198</td>\n",
              "      <td>199</td>\n",
              "      <td>198</td>\n",
              "      <td>197</td>\n",
              "      <td>196</td>\n",
              "      <td>195</td>\n",
              "      <td>195</td>\n",
              "      <td>194</td>\n",
              "      <td>66</td>\n",
              "      <td>67</td>\n",
              "      <td>65</td>\n",
              "      <td>62</td>\n",
              "      <td>61</td>\n",
              "      <td>41</td>\n",
              "      <td>32</td>\n",
              "      <td>37</td>\n",
              "      <td>33</td>\n",
              "      <td>30</td>\n",
              "      <td>28</td>\n",
              "      <td>38</td>\n",
              "      <td>187</td>\n",
              "      <td>202</td>\n",
              "      <td>199</td>\n",
              "      <td>199</td>\n",
              "      <td>199</td>\n",
              "      <td>199</td>\n",
              "      <td>198</td>\n",
              "      <td>198</td>\n",
              "      <td>198</td>\n",
              "      <td>198</td>\n",
              "      <td>198</td>\n",
              "      <td>196</td>\n",
              "      <td>195</td>\n",
              "      <td>195</td>\n",
              "      <td>195</td>\n",
              "      <td>194</td>\n",
              "    </tr>\n",
              "    <tr>\n",
              "      <th>27452</th>\n",
              "      <td>18</td>\n",
              "      <td>174</td>\n",
              "      <td>174</td>\n",
              "      <td>174</td>\n",
              "      <td>174</td>\n",
              "      <td>174</td>\n",
              "      <td>175</td>\n",
              "      <td>175</td>\n",
              "      <td>174</td>\n",
              "      <td>173</td>\n",
              "      <td>173</td>\n",
              "      <td>173</td>\n",
              "      <td>172</td>\n",
              "      <td>171</td>\n",
              "      <td>171</td>\n",
              "      <td>171</td>\n",
              "      <td>170</td>\n",
              "      <td>169</td>\n",
              "      <td>168</td>\n",
              "      <td>166</td>\n",
              "      <td>166</td>\n",
              "      <td>165</td>\n",
              "      <td>165</td>\n",
              "      <td>163</td>\n",
              "      <td>162</td>\n",
              "      <td>161</td>\n",
              "      <td>160</td>\n",
              "      <td>158</td>\n",
              "      <td>156</td>\n",
              "      <td>178</td>\n",
              "      <td>178</td>\n",
              "      <td>177</td>\n",
              "      <td>176</td>\n",
              "      <td>177</td>\n",
              "      <td>177</td>\n",
              "      <td>177</td>\n",
              "      <td>176</td>\n",
              "      <td>176</td>\n",
              "      <td>176</td>\n",
              "      <td>175</td>\n",
              "      <td>...</td>\n",
              "      <td>110</td>\n",
              "      <td>85</td>\n",
              "      <td>90</td>\n",
              "      <td>166</td>\n",
              "      <td>205</td>\n",
              "      <td>207</td>\n",
              "      <td>205</td>\n",
              "      <td>203</td>\n",
              "      <td>202</td>\n",
              "      <td>201</td>\n",
              "      <td>200</td>\n",
              "      <td>198</td>\n",
              "      <td>217</td>\n",
              "      <td>217</td>\n",
              "      <td>217</td>\n",
              "      <td>218</td>\n",
              "      <td>218</td>\n",
              "      <td>211</td>\n",
              "      <td>203</td>\n",
              "      <td>200</td>\n",
              "      <td>189</td>\n",
              "      <td>171</td>\n",
              "      <td>157</td>\n",
              "      <td>145</td>\n",
              "      <td>136</td>\n",
              "      <td>129</td>\n",
              "      <td>128</td>\n",
              "      <td>125</td>\n",
              "      <td>101</td>\n",
              "      <td>77</td>\n",
              "      <td>121</td>\n",
              "      <td>196</td>\n",
              "      <td>209</td>\n",
              "      <td>208</td>\n",
              "      <td>206</td>\n",
              "      <td>204</td>\n",
              "      <td>203</td>\n",
              "      <td>202</td>\n",
              "      <td>200</td>\n",
              "      <td>200</td>\n",
              "    </tr>\n",
              "    <tr>\n",
              "      <th>27453</th>\n",
              "      <td>17</td>\n",
              "      <td>177</td>\n",
              "      <td>181</td>\n",
              "      <td>184</td>\n",
              "      <td>185</td>\n",
              "      <td>187</td>\n",
              "      <td>189</td>\n",
              "      <td>190</td>\n",
              "      <td>191</td>\n",
              "      <td>191</td>\n",
              "      <td>190</td>\n",
              "      <td>191</td>\n",
              "      <td>193</td>\n",
              "      <td>192</td>\n",
              "      <td>191</td>\n",
              "      <td>191</td>\n",
              "      <td>191</td>\n",
              "      <td>191</td>\n",
              "      <td>190</td>\n",
              "      <td>190</td>\n",
              "      <td>189</td>\n",
              "      <td>187</td>\n",
              "      <td>186</td>\n",
              "      <td>184</td>\n",
              "      <td>183</td>\n",
              "      <td>182</td>\n",
              "      <td>181</td>\n",
              "      <td>179</td>\n",
              "      <td>177</td>\n",
              "      <td>179</td>\n",
              "      <td>182</td>\n",
              "      <td>185</td>\n",
              "      <td>187</td>\n",
              "      <td>189</td>\n",
              "      <td>190</td>\n",
              "      <td>192</td>\n",
              "      <td>192</td>\n",
              "      <td>192</td>\n",
              "      <td>192</td>\n",
              "      <td>194</td>\n",
              "      <td>...</td>\n",
              "      <td>190</td>\n",
              "      <td>173</td>\n",
              "      <td>140</td>\n",
              "      <td>80</td>\n",
              "      <td>28</td>\n",
              "      <td>60</td>\n",
              "      <td>70</td>\n",
              "      <td>61</td>\n",
              "      <td>61</td>\n",
              "      <td>78</td>\n",
              "      <td>100</td>\n",
              "      <td>86</td>\n",
              "      <td>136</td>\n",
              "      <td>135</td>\n",
              "      <td>135</td>\n",
              "      <td>135</td>\n",
              "      <td>132</td>\n",
              "      <td>132</td>\n",
              "      <td>136</td>\n",
              "      <td>136</td>\n",
              "      <td>137</td>\n",
              "      <td>144</td>\n",
              "      <td>103</td>\n",
              "      <td>120</td>\n",
              "      <td>197</td>\n",
              "      <td>200</td>\n",
              "      <td>195</td>\n",
              "      <td>196</td>\n",
              "      <td>170</td>\n",
              "      <td>149</td>\n",
              "      <td>119</td>\n",
              "      <td>56</td>\n",
              "      <td>27</td>\n",
              "      <td>58</td>\n",
              "      <td>102</td>\n",
              "      <td>79</td>\n",
              "      <td>47</td>\n",
              "      <td>64</td>\n",
              "      <td>87</td>\n",
              "      <td>93</td>\n",
              "    </tr>\n",
              "    <tr>\n",
              "      <th>27454</th>\n",
              "      <td>23</td>\n",
              "      <td>179</td>\n",
              "      <td>180</td>\n",
              "      <td>180</td>\n",
              "      <td>180</td>\n",
              "      <td>182</td>\n",
              "      <td>181</td>\n",
              "      <td>182</td>\n",
              "      <td>183</td>\n",
              "      <td>182</td>\n",
              "      <td>182</td>\n",
              "      <td>182</td>\n",
              "      <td>181</td>\n",
              "      <td>181</td>\n",
              "      <td>182</td>\n",
              "      <td>181</td>\n",
              "      <td>181</td>\n",
              "      <td>181</td>\n",
              "      <td>181</td>\n",
              "      <td>179</td>\n",
              "      <td>178</td>\n",
              "      <td>178</td>\n",
              "      <td>176</td>\n",
              "      <td>177</td>\n",
              "      <td>178</td>\n",
              "      <td>159</td>\n",
              "      <td>47</td>\n",
              "      <td>30</td>\n",
              "      <td>39</td>\n",
              "      <td>180</td>\n",
              "      <td>182</td>\n",
              "      <td>183</td>\n",
              "      <td>183</td>\n",
              "      <td>183</td>\n",
              "      <td>183</td>\n",
              "      <td>185</td>\n",
              "      <td>184</td>\n",
              "      <td>185</td>\n",
              "      <td>183</td>\n",
              "      <td>184</td>\n",
              "      <td>...</td>\n",
              "      <td>97</td>\n",
              "      <td>97</td>\n",
              "      <td>95</td>\n",
              "      <td>90</td>\n",
              "      <td>92</td>\n",
              "      <td>101</td>\n",
              "      <td>125</td>\n",
              "      <td>160</td>\n",
              "      <td>191</td>\n",
              "      <td>202</td>\n",
              "      <td>213</td>\n",
              "      <td>215</td>\n",
              "      <td>96</td>\n",
              "      <td>88</td>\n",
              "      <td>109</td>\n",
              "      <td>216</td>\n",
              "      <td>208</td>\n",
              "      <td>207</td>\n",
              "      <td>203</td>\n",
              "      <td>178</td>\n",
              "      <td>151</td>\n",
              "      <td>112</td>\n",
              "      <td>87</td>\n",
              "      <td>80</td>\n",
              "      <td>76</td>\n",
              "      <td>80</td>\n",
              "      <td>86</td>\n",
              "      <td>97</td>\n",
              "      <td>102</td>\n",
              "      <td>103</td>\n",
              "      <td>108</td>\n",
              "      <td>132</td>\n",
              "      <td>170</td>\n",
              "      <td>194</td>\n",
              "      <td>214</td>\n",
              "      <td>203</td>\n",
              "      <td>197</td>\n",
              "      <td>205</td>\n",
              "      <td>209</td>\n",
              "      <td>215</td>\n",
              "    </tr>\n",
              "  </tbody>\n",
              "</table>\n",
              "<p>27455 rows × 785 columns</p>\n",
              "</div>"
            ],
            "text/plain": [
              "       label  pixel1  pixel2  pixel3  ...  pixel781  pixel782  pixel783  pixel784\n",
              "0          3     107     118     127  ...       206       204       203       202\n",
              "1          6     155     157     156  ...       175       103       135       149\n",
              "2          2     187     188     188  ...       198       195       194       195\n",
              "3          2     211     211     212  ...       225       222       229       163\n",
              "4         13     164     167     170  ...       157       163       164       179\n",
              "...      ...     ...     ...     ...  ...       ...       ...       ...       ...\n",
              "27450     13     189     189     190  ...       234       200       222       225\n",
              "27451     23     151     154     157  ...       195       195       195       194\n",
              "27452     18     174     174     174  ...       203       202       200       200\n",
              "27453     17     177     181     184  ...        47        64        87        93\n",
              "27454     23     179     180     180  ...       197       205       209       215\n",
              "\n",
              "[27455 rows x 785 columns]"
            ]
          },
          "metadata": {
            "tags": []
          },
          "execution_count": 3
        }
      ]
    },
    {
      "cell_type": "code",
      "metadata": {
        "colab": {
          "base_uri": "https://localhost:8080/"
        },
        "id": "Cd_B1ZHDZHf_",
        "outputId": "48aa1f95-8ef5-4da4-ba8f-e2813284cfb1"
      },
      "source": [
        "(x_train, y_train), (x_test, y_test) = sign_mnist.load_data()\r\n",
        "print('x_train.shape: ', x_train.shape, '  ,y_train.shape: ', y_train.shape)\r\n",
        "print('x_test.shape:  ', x_test.shape, '   ,y_test.shape:  ', y_test.shape)\r\n",
        "print('Data is loaded successfully :)')"
      ],
      "execution_count": 4,
      "outputs": [
        {
          "output_type": "stream",
          "text": [
            "x_train.shape:  (27455, 28, 28)   ,y_train.shape:  (27455,)\n",
            "x_test.shape:   (7172, 28, 28)    ,y_test.shape:   (7172,)\n",
            "Data is loaded successfully :)\n"
          ],
          "name": "stdout"
        }
      ]
    },
    {
      "cell_type": "markdown",
      "metadata": {
        "id": "O1eun7F3qLab"
      },
      "source": [
        "## Part C"
      ]
    },
    {
      "cell_type": "code",
      "metadata": {
        "colab": {
          "base_uri": "https://localhost:8080/",
          "height": 341
        },
        "id": "hN-JNQ2ojf_9",
        "outputId": "5ac7a34e-cb24-4d95-8709-182084d31048"
      },
      "source": [
        "fig = plt.figure(figsize=(15,5))\r\n",
        "# fig.tight_layout()\r\n",
        "fig.subplots_adjust(hspace=0.5)\r\n",
        "\r\n",
        "ax = plt.subplot(211)\r\n",
        "plt.hist(y_train, density=False, bins=np.arange(26)-0.5, edgecolor='black')  # `density=False` would make counts\r\n",
        "plt.ylabel('Counts')\r\n",
        "plt.title('Train', fontdict={'fontsize':20})\r\n",
        "plt.xticks(np.arange(26))\r\n",
        "ax.set_xticklabels(sign_mnist.interpret_label(np.arange(26)), fontdict={'color':'black'})\r\n",
        "ax.set_xlim(-0.5,25.5)\r\n",
        "\r\n",
        "ax = plt.subplot(212)\r\n",
        "plt.hist(y_test, density=False, bins=np.arange(26)-0.5, edgecolor='black')  # `density=False` would make counts\r\n",
        "plt.ylabel('Counts')\r\n",
        "plt.title('Test', fontdict={'fontsize':20})\r\n",
        "plt.xticks(np.arange(26))\r\n",
        "ax.set_xticklabels(sign_mnist.interpret_label(np.arange(26)), fontdict={'color':'black'})\r\n",
        "ax.set_xlim(-0.5,25.5)\r\n",
        "\r\n",
        "plt.show()"
      ],
      "execution_count": 5,
      "outputs": [
        {
          "output_type": "display_data",
          "data": {
            "image/png": "[encoded data removed]",
            "text/plain": [
              "<Figure size 1080x360 with 2 Axes>"
            ]
          },
          "metadata": {
            "tags": [],
            "needs_background": "light"
          }
        }
      ]
    },
    {
      "cell_type": "markdown",
      "metadata": {
        "id": "PzysQ_fD0Zr6"
      },
      "source": [
        "> train-set is more ballanced "
      ]
    },
    {
      "cell_type": "markdown",
      "metadata": {
        "id": "xqggJ1tUzqzs"
      },
      "source": [
        "## Part D"
      ]
    },
    {
      "cell_type": "code",
      "metadata": {
        "colab": {
          "base_uri": "https://localhost:8080/",
          "height": 0
        },
        "id": "NQDXIIINqn4b",
        "outputId": "8523ed8e-235a-43fd-e7e6-de945c70a96f"
      },
      "source": [
        "plt.figure(figsize=(10,10))\r\n",
        "for i in range(25):\r\n",
        "    plt.subplot(5,5,i+1)\r\n",
        "    plot_image(x_train[i])\r\n",
        "    plt.xlabel('label: {}'.format(sign_mnist.interpret_label(y_train[i])), fontdict={'fontsize':16})\r\n",
        "plt.show()\r\n"
      ],
      "execution_count": 6,
      "outputs": [
        {
          "output_type": "display_data",
          "data": {
            "image/png": "[encoded data removed]",
            "text/plain": [
              "<Figure size 720x720 with 25 Axes>"
            ]
          },
          "metadata": {
            "tags": []
          }
        }
      ]
    },
    {
      "cell_type": "markdown",
      "metadata": {
        "id": "IaRbv5KizvWU"
      },
      "source": [
        "## Part E"
      ]
    },
    {
      "cell_type": "code",
      "metadata": {
        "colab": {
          "base_uri": "https://localhost:8080/"
        },
        "id": "eqGGgEtFzx8i",
        "outputId": "b745ac63-250a-4b03-9e86-5f9c66bf05fc"
      },
      "source": [
        "x_subtrain, x_valid, y_subtrain, y_valid = train_test_split(x_train, y_train, test_size = 0.2) \r\n",
        "print('x_subtrain.shape: ', x_subtrain.shape, '  ,y_subtrain.shape: ', y_subtrain.shape)\r\n",
        "print('x_valid.shape:    ', x_test.shape, '    ,y_valid.shape:   ', y_valid.shape)"
      ],
      "execution_count": 7,
      "outputs": [
        {
          "output_type": "stream",
          "text": [
            "x_subtrain.shape:  (21964, 28, 28)   ,y_subtrain.shape:  (21964,)\n",
            "x_valid.shape:     (7172, 28, 28)     ,y_valid.shape:    (5491,)\n"
          ],
          "name": "stdout"
        }
      ]
    },
    {
      "cell_type": "markdown",
      "metadata": {
        "id": "20tQ0-GW2BIP"
      },
      "source": [
        "Normalize:"
      ]
    },
    {
      "cell_type": "code",
      "metadata": {
        "id": "YhxqSuzp1dM0"
      },
      "source": [
        "X_subtrain = x_subtrain.reshape(*x_subtrain.shape,1) / 255.\r\n",
        "X_valid = x_valid.reshape(*x_valid.shape,1) / 255.\r\n",
        "X_test = x_test.reshape(*x_test.shape,1) / 255."
      ],
      "execution_count": 8,
      "outputs": []
    },
    {
      "cell_type": "markdown",
      "metadata": {
        "id": "2Mzww7Ud4BmI"
      },
      "source": [
        "## Part F"
      ]
    },
    {
      "cell_type": "markdown",
      "metadata": {
        "id": "3dzWZBWz3-7R"
      },
      "source": [
        "One-hot transform labels\r\n"
      ]
    },
    {
      "cell_type": "code",
      "metadata": {
        "id": "SSaAJMLt18q4"
      },
      "source": [
        "from sklearn.preprocessing import OneHotEncoder, StandardScaler\r\n",
        "onehotencoder = OneHotEncoder()\r\n",
        "y_subtrain_onehot = onehotencoder.fit_transform(y_subtrain.reshape(-1, 1)).toarray()\r\n",
        "y_valid_onehot = onehotencoder.transform(y_valid.reshape(-1, 1)).toarray()\r\n",
        "y_test_onehot = onehotencoder.transform(y_test.reshape(-1, 1)).toarray()\r\n"
      ],
      "execution_count": 9,
      "outputs": []
    },
    {
      "cell_type": "code",
      "metadata": {
        "colab": {
          "base_uri": "https://localhost:8080/"
        },
        "id": "r202sBs24MN6",
        "outputId": "f5cce069-2043-46c6-ea29-c4a970bd1894"
      },
      "source": [
        "y_subtrain_onehot[1]"
      ],
      "execution_count": 10,
      "outputs": [
        {
          "output_type": "execute_result",
          "data": {
            "text/plain": [
              "array([0., 0., 0., 0., 0., 0., 0., 0., 0., 0., 0., 0., 0., 0., 0., 0., 0.,\n",
              "       0., 0., 1., 0., 0., 0., 0.])"
            ]
          },
          "metadata": {
            "tags": []
          },
          "execution_count": 10
        }
      ]
    },
    {
      "cell_type": "code",
      "metadata": {
        "colab": {
          "base_uri": "https://localhost:8080/"
        },
        "id": "1VZ_2Oa94_Q5",
        "outputId": "65d79ebd-7f4a-4674-c740-cb779e17bda2"
      },
      "source": [
        "y_subtrain_onehot.shape"
      ],
      "execution_count": 14,
      "outputs": [
        {
          "output_type": "execute_result",
          "data": {
            "text/plain": [
              "(21964, 24)"
            ]
          },
          "metadata": {
            "tags": []
          },
          "execution_count": 14
        }
      ]
    },
    {
      "cell_type": "markdown",
      "metadata": {
        "id": "Y6G-we1O8hsL"
      },
      "source": [
        "## Part G"
      ]
    },
    {
      "cell_type": "code",
      "metadata": {
        "id": "L04PzOpc8gWX"
      },
      "source": [
        "from tensorflow.keras import Sequential\r\n",
        "from tensorflow.keras.layers import Input, Flatten, Dense, Dropout, Conv2D, BatchNormalization, MaxPooling2D\r\n",
        "from tensorflow.keras.losses import BinaryCrossentropy, CategoricalCrossentropy, MeanSquaredError"
      ],
      "execution_count": 15,
      "outputs": []
    },
    {
      "cell_type": "code",
      "metadata": {
        "colab": {
          "base_uri": "https://localhost:8080/",
          "height": 1000
        },
        "id": "RDU_S9tS81AV",
        "outputId": "b57fc7cd-6708-45f9-ccf2-0ad240491420"
      },
      "source": [
        "model = Sequential(\r\n",
        "    [\r\n",
        "     Input(shape=X_subtrain.shape[1:], name='Input'), # shape: (28,28,1)\r\n",
        "     Conv2D(16, (3,3), activation='relu', name='Conv1'),\r\n",
        "     MaxPooling2D((2,2), name='MaxPool1'),\r\n",
        "     Conv2D(32, (3,3), activation='relu', name='Conv2'),\r\n",
        "     MaxPooling2D((2,2), name='MaxPool2'),     \r\n",
        "     Conv2D(64, (3,3), activation='relu', name='Conv3'),\r\n",
        "     MaxPooling2D((2,2), name='MaxPool3'),\r\n",
        "     Flatten(name='Flatten'),\r\n",
        "     Dense(128, activation='relu', name='FC'),\r\n",
        "     Dropout(0.2, name='DropOut'),\r\n",
        "     Dense(24, activation='softmax', name='Output')\r\n",
        "    ]\r\n",
        ", name='Model2')\r\n",
        "\r\n",
        "model.summary()\r\n",
        "keras.utils.plot_model(model,'model.png', show_shapes=True)"
      ],
      "execution_count": 21,
      "outputs": [
        {
          "output_type": "stream",
          "text": [
            "Model: \"Model2\"\n",
            "_________________________________________________________________\n",
            "Layer (type)                 Output Shape              Param #   \n",
            "=================================================================\n",
            "Conv1 (Conv2D)               (None, 26, 26, 16)        160       \n",
            "_________________________________________________________________\n",
            "MaxPool1 (MaxPooling2D)      (None, 13, 13, 16)        0         \n",
            "_________________________________________________________________\n",
            "Conv2 (Conv2D)               (None, 11, 11, 32)        4640      \n",
            "_________________________________________________________________\n",
            "MaxPool2 (MaxPooling2D)      (None, 5, 5, 32)          0         \n",
            "_________________________________________________________________\n",
            "Conv3 (Conv2D)               (None, 3, 3, 64)          18496     \n",
            "_________________________________________________________________\n",
            "MaxPool3 (MaxPooling2D)      (None, 1, 1, 64)          0         \n",
            "_________________________________________________________________\n",
            "Flatten (Flatten)            (None, 64)                0         \n",
            "_________________________________________________________________\n",
            "FC (Dense)                   (None, 128)               8320      \n",
            "_________________________________________________________________\n",
            "DropOut (Dropout)            (None, 128)               0         \n",
            "_________________________________________________________________\n",
            "Output (Dense)               (None, 24)                3096      \n",
            "=================================================================\n",
            "Total params: 34,712\n",
            "Trainable params: 34,712\n",
            "Non-trainable params: 0\n",
            "_________________________________________________________________\n"
          ],
          "name": "stdout"
        },
        {
          "output_type": "execute_result",
          "data": {
            "image/png": "[encoded data removed]",
            "text/plain": [
              "<IPython.core.display.Image object>"
            ]
          },
          "metadata": {
            "tags": []
          },
          "execution_count": 21
        }
      ]
    },
    {
      "cell_type": "markdown",
      "metadata": {
        "id": "UE3pc7RZEFER"
      },
      "source": [
        "## Part H"
      ]
    },
    {
      "cell_type": "code",
      "metadata": {
        "id": "y8Bi3PdHECBd"
      },
      "source": [
        "model.compile(optimizer='adam', loss=CategoricalCrossentropy(), metrics=['accuracy'])"
      ],
      "execution_count": null,
      "outputs": []
    },
    {
      "cell_type": "code",
      "metadata": {
        "colab": {
          "base_uri": "https://localhost:8080/"
        },
        "id": "zrFocWVd9tav",
        "outputId": "8f9a1f60-79aa-4122-ee13-5c23d50966ce"
      },
      "source": [
        "history = model.fit(X_subtrain,\r\n",
        "                    y_subtrain_onehot,\r\n",
        "                    epochs=20,\r\n",
        "                    verbose=2,\r\n",
        "                    validation_data=(X_valid, y_valid_onehot),\r\n",
        "                    batch_size=128\r\n",
        "                    )"
      ],
      "execution_count": 24,
      "outputs": [
        {
          "output_type": "stream",
          "text": [
            "Epoch 1/20\n",
            "172/172 - 1s - loss: 0.7010 - accuracy: 0.7655 - val_loss: 0.5318 - val_accuracy: 0.8310\n",
            "Epoch 2/20\n",
            "172/172 - 1s - loss: 0.5143 - accuracy: 0.8282 - val_loss: 0.3824 - val_accuracy: 0.8771\n",
            "Epoch 3/20\n",
            "172/172 - 1s - loss: 0.3813 - accuracy: 0.8751 - val_loss: 0.2807 - val_accuracy: 0.9126\n",
            "Epoch 4/20\n",
            "172/172 - 1s - loss: 0.2925 - accuracy: 0.9050 - val_loss: 0.1774 - val_accuracy: 0.9512\n",
            "Epoch 5/20\n",
            "172/172 - 1s - loss: 0.2133 - accuracy: 0.9323 - val_loss: 0.1571 - val_accuracy: 0.9537\n",
            "Epoch 6/20\n",
            "172/172 - 1s - loss: 0.1693 - accuracy: 0.9478 - val_loss: 0.0911 - val_accuracy: 0.9845\n",
            "Epoch 7/20\n",
            "172/172 - 1s - loss: 0.1335 - accuracy: 0.9588 - val_loss: 0.0731 - val_accuracy: 0.9840\n",
            "Epoch 8/20\n",
            "172/172 - 1s - loss: 0.1064 - accuracy: 0.9698 - val_loss: 0.0508 - val_accuracy: 0.9931\n",
            "Epoch 9/20\n",
            "172/172 - 1s - loss: 0.0881 - accuracy: 0.9755 - val_loss: 0.0375 - val_accuracy: 0.9938\n",
            "Epoch 10/20\n",
            "172/172 - 1s - loss: 0.0653 - accuracy: 0.9822 - val_loss: 0.0320 - val_accuracy: 0.9947\n",
            "Epoch 11/20\n",
            "172/172 - 1s - loss: 0.0544 - accuracy: 0.9868 - val_loss: 0.0216 - val_accuracy: 0.9976\n",
            "Epoch 12/20\n",
            "172/172 - 1s - loss: 0.0470 - accuracy: 0.9878 - val_loss: 0.0184 - val_accuracy: 0.9980\n",
            "Epoch 13/20\n",
            "172/172 - 1s - loss: 0.0429 - accuracy: 0.9882 - val_loss: 0.0175 - val_accuracy: 0.9976\n",
            "Epoch 14/20\n",
            "172/172 - 1s - loss: 0.0395 - accuracy: 0.9892 - val_loss: 0.0389 - val_accuracy: 0.9903\n",
            "Epoch 15/20\n",
            "172/172 - 1s - loss: 0.0293 - accuracy: 0.9929 - val_loss: 0.0098 - val_accuracy: 0.9993\n",
            "Epoch 16/20\n",
            "172/172 - 1s - loss: 0.0303 - accuracy: 0.9921 - val_loss: 0.0097 - val_accuracy: 0.9996\n",
            "Epoch 17/20\n",
            "172/172 - 1s - loss: 0.0268 - accuracy: 0.9931 - val_loss: 0.0071 - val_accuracy: 0.9989\n",
            "Epoch 18/20\n",
            "172/172 - 1s - loss: 0.0203 - accuracy: 0.9953 - val_loss: 0.0057 - val_accuracy: 0.9995\n",
            "Epoch 19/20\n",
            "172/172 - 1s - loss: 0.0155 - accuracy: 0.9963 - val_loss: 0.0039 - val_accuracy: 1.0000\n",
            "Epoch 20/20\n",
            "172/172 - 1s - loss: 0.0214 - accuracy: 0.9938 - val_loss: 0.0041 - val_accuracy: 0.9998\n"
          ],
          "name": "stdout"
        }
      ]
    },
    {
      "cell_type": "markdown",
      "metadata": {
        "id": "WdNzQaLOCk24"
      },
      "source": [
        "## Part I"
      ]
    },
    {
      "cell_type": "markdown",
      "metadata": {
        "id": "h7ClpxOoDKaF"
      },
      "source": [
        "#####  Plot Loss"
      ]
    },
    {
      "cell_type": "code",
      "metadata": {
        "colab": {
          "base_uri": "https://localhost:8080/",
          "height": 320
        },
        "id": "K5b4rpWZBYHW",
        "outputId": "0333510a-32bd-46d6-b0ae-9169b6df2c43"
      },
      "source": [
        "plt.figure(figsize=(8,5))\r\n",
        "plt.plot(history.history['loss'], label='train')\r\n",
        "plt.plot(history.history['val_loss'], label='test')\r\n",
        "plt.ylabel('Loss')\r\n",
        "plt.legend()\r\n",
        "plt.show()"
      ],
      "execution_count": 27,
      "outputs": [
        {
          "output_type": "display_data",
          "data": {
            "image/png": "[encoded data removed]",
            "text/plain": [
              "<Figure size 576x360 with 1 Axes>"
            ]
          },
          "metadata": {
            "tags": [],
            "needs_background": "light"
          }
        }
      ]
    },
    {
      "cell_type": "markdown",
      "metadata": {
        "id": "a5n1MIV2EQln"
      },
      "source": [
        "#### Plot Accuracy"
      ]
    },
    {
      "cell_type": "code",
      "metadata": {
        "colab": {
          "base_uri": "https://localhost:8080/",
          "height": 320
        },
        "id": "_MXxatf_DRm7",
        "outputId": "6ab05766-c9a9-4706-e7f1-9914c747bffb"
      },
      "source": [
        "plt.figure(figsize=(8,5))\r\n",
        "plt.plot(history.history['accuracy'], label='train')\r\n",
        "plt.plot(history.history['val_accuracy'], label='test')\r\n",
        "plt.ylabel('Accuracy')\r\n",
        "plt.legend()\r\n",
        "plt.show()"
      ],
      "execution_count": 31,
      "outputs": [
        {
          "output_type": "display_data",
          "data": {
            "image/png": "[encoded data removed]",
            "text/plain": [
              "<Figure size 576x360 with 1 Axes>"
            ]
          },
          "metadata": {
            "tags": [],
            "needs_background": "light"
          }
        }
      ]
    },
    {
      "cell_type": "code",
      "metadata": {
        "colab": {
          "base_uri": "https://localhost:8080/"
        },
        "id": "yc7cMuhUDYUM",
        "outputId": "20aa433c-15b3-4311-c894-0d303b29574a"
      },
      "source": [
        ""
      ],
      "execution_count": 30,
      "outputs": [
        {
          "output_type": "execute_result",
          "data": {
            "text/plain": [
              "dict_keys(['loss', 'accuracy', 'val_loss', 'val_accuracy'])"
            ]
          },
          "metadata": {
            "tags": []
          },
          "execution_count": 30
        }
      ]
    }
  ]
}